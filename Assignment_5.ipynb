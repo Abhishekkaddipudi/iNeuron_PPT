{
 "cells": [
  {
   "cell_type": "markdown",
   "id": "693c99a8",
   "metadata": {},
   "source": [
    "<aside>\n",
    "    \n",
    "💡 **Question 1**\n",
    "\n",
    "Convert 1D Array Into 2D Array\n",
    "\n",
    "You are given a **0-indexed** 1-dimensional (1D) integer array original, and two integers, m and n. You are tasked with creating a 2-dimensional (2D) array with  m rows and n columns using **all** the elements from original.\n",
    "\n",
    "The elements from indices 0 to n - 1 (**inclusive**) of original should form the first row of the constructed 2D array, the elements from indices n to 2 * n - 1 (**inclusive**) should form the second row of the constructed 2D array, and so on.\n",
    "\n",
    "Return *an* m x n *2D array constructed according to the above procedure, or an empty 2D array if it is impossible*.\n",
    "\n",
    "**Example 1:**\n",
    "    \n",
    "    \n",
    "<img src =\"https://pwskills.notion.site/image/https%3A%2F%2Fs3-us-west-2.amazonaws.com%2Fsecure.notion-static.com%2Fde7ec927-9e60-4545-9475-f3ee31116192%2FScreenshot_2023-05-29_004311.png?id=371a0653-5ed2-4a22-a9de-00d4d4c3479d&table=block&spaceId=6fae2e0f-dedc-48e9-bc59-af2654c78209&width=1410&userId=&cache=v2\" width=500 height=500>\n",
    "\n",
    "    \n",
    "**Input:** original = [1,2,3,4], m = 2, n = 2\n",
    "\n",
    "**Output:** [[1,2],[3,4]]\n",
    "\n",
    "**Explanation:** The constructed 2D array should contain 2 rows and 2 columns.\n",
    "\n",
    "The first group of n=2 elements in original, [1,2], becomes the first row in the constructed 2D array.\n",
    "\n",
    "The second group of n=2 elements in original, [3,4], becomes the second row in the constructed 2D array.\n",
    "</aside>"
   ]
  },
  {
   "cell_type": "code",
   "execution_count": 2,
   "id": "45f8c237",
   "metadata": {},
   "outputs": [],
   "source": [
    "\"\"\"\n",
    "Algorithm\n",
    "\n",
    "First, we check if the product of m and n is equal to the length of the original 1D array. If it's not equal, it means it's impossible to create an mxn 2D array using all the elements, so we return an empty 2D array.\n",
    "\n",
    "If the lengths match, we proceed to construct the 2D array. We initialize an empty list called result to store the rows of the 2D array.\n",
    "\n",
    "We iterate i from 0 to m-1, which represents the row index. In each iteration, we extract a slice of the original array starting from i * n and ending at (i + 1) * n. This ensures that we extract n elements for each row.\n",
    "\n",
    "We append the extracted slice as a row to the result list.\n",
    "\n",
    "Finally, we return the result list, which represents the constructed 2D array.\n",
    "\n",
    "TC : O(n)\n",
    "SC : O(n)\n",
    "\n",
    "\"\"\"\n",
    "\n",
    "\n",
    "def convert_1d_to_2d(original, m, n):\n",
    "    \"\"\"\n",
    "    Convert 1D Array Into 2D Array.\n",
    "\n",
    "    Given a 1-dimensional (1D) integer array, original, and two integers, m and n, this function creates a 2-dimensional\n",
    "    (2D) array with m rows and n columns using all the elements from original.\n",
    "\n",
    "    The elements from indices 0 to n - 1 (inclusive) of original form the first row of the constructed 2D array,\n",
    "    the elements from indices n to 2 * n - 1 (inclusive) form the second row, and so on.\n",
    "\n",
    "    Args:\n",
    "        original (List[int]): The 1D array.\n",
    "        m (int): The number of rows in the 2D array.\n",
    "        n (int): The number of columns in the 2D array.\n",
    "\n",
    "    Returns:\n",
    "        List[List[int]]: The constructed 2D array or an empty 2D array if impossible.\n",
    "\n",
    "    \"\"\"\n",
    "    if m * n != len(original):\n",
    "        return []\n",
    "\n",
    "    result = []\n",
    "    for i in range(m):\n",
    "        row = original[i * n : (i + 1) * n]\n",
    "        result.append(row)\n",
    "\n",
    "    return result"
   ]
  },
  {
   "cell_type": "markdown",
   "id": "11b28897",
   "metadata": {},
   "source": [
    "<aside>\n",
    "    \n",
    "💡 **Question 2**\n",
    "    \n",
    "You have n coins and you want to build a staircase with these coins. The staircase consists of k rows where the ith row has exactly i coins. The last row of the staircase **may be** incomplete.\n",
    "\n",
    "Given the integer n, return *the number of **complete rows** of the staircase you will build*.\n",
    "\n",
    "</aside>\n",
    "<img src=\"https://pwskills.notion.site/image/https%3A%2F%2Fs3-us-west-2.amazonaws.com%2Fsecure.notion-static.com%2F4bd91cfa-d2b1-47b3-8197-a72e8dcfff4b%2Fv2.jpg?id=011c94c5-b725-4954-8821-3900e6c08ab4&table=block&spaceId=6fae2e0f-dedc-48e9-bc59-af2654c78209&width=510&userId=&cache=v2\" width=\"100\" height=\"100\" style=\"margin:0\">\n",
    "\n",
    "**Input:** n = 5\n",
    "\n",
    "**Output:** 2\n",
    "\n",
    "**Explanation:** Because the 3rd row is incomplete, we return 2."
   ]
  },
  {
   "cell_type": "code",
   "execution_count": 5,
   "id": "a661fd67",
   "metadata": {},
   "outputs": [],
   "source": [
    "\"\"\"\n",
    "Algorithm Explanation:\n",
    "\n",
    "The number of complete rows in a staircase can be calculated using the formula:\n",
    "        rows = int((2 * n + 0.25) ** 0.5 - 0.5)\n",
    "        \n",
    "Return the calculated number of complete rows.\n",
    "\n",
    "TC : O(1)\n",
    "SC : O(1)\n",
    "\n",
    "\"\"\"\n",
    "\n",
    "\n",
    "def count_complete_rows(n):\n",
    "    \"\"\"\n",
    "    Returns the number of complete rows in a staircase built with n coins.\n",
    "\n",
    "    Args:\n",
    "        n (int): The number of coins.\n",
    "\n",
    "    Returns:\n",
    "        int: The number of complete rows.\n",
    "    \"\"\"\n",
    "    return int(((2 * n + 0.25) ** 0.5) - 0.5)\n"
   ]
  },
  {
   "cell_type": "code",
   "execution_count": 4,
   "id": "0eec7080",
   "metadata": {},
   "outputs": [
    {
     "data": {
      "text/plain": [
       "14"
      ]
     },
     "execution_count": 4,
     "metadata": {},
     "output_type": "execute_result"
    }
   ],
   "source": [
    "n = 110\n",
    "count_complete_rows(n)"
   ]
  },
  {
   "cell_type": "code",
   "execution_count": 6,
   "id": "c8ffbcb5",
   "metadata": {},
   "outputs": [
    {
     "data": {
      "text/plain": [
       "2"
      ]
     },
     "execution_count": 6,
     "metadata": {},
     "output_type": "execute_result"
    }
   ],
   "source": [
    "n = 5\n",
    "count_complete_rows(n)"
   ]
  },
  {
   "cell_type": "markdown",
   "id": "d80f34ed",
   "metadata": {},
   "source": [
    "<aside>\n",
    "    \n",
    "💡 **Question 3**\n",
    "    \n",
    "Given an integer array nums sorted in **non-decreasing** order, return *an array of **the squares of each number** sorted in non-decreasing order*.\n",
    "\n",
    "**Example 1:**\n",
    "\n",
    "Input: nums = [-4,-1,0,3,10]\n",
    "\n",
    "Output: [0,1,9,16,100]\n",
    "\n",
    "**Explanation:** After squaring, the array becomes [16,1,0,9,100].\n",
    "After sorting, it becomes [0,1,9,16,100]\n",
    "\n",
    "</aside>"
   ]
  },
  {
   "cell_type": "code",
   "execution_count": 8,
   "id": "2df197ff",
   "metadata": {},
   "outputs": [],
   "source": [
    "\"\"\"\n",
    "Algorithm Explanation:\n",
    "\n",
    "Create a new list comprehension that squares each number in nums and stores the squared values.\n",
    "Sort the squared values in non-decreasing order using the sorted() function.\n",
    "Return the sorted list of squared values.\n",
    "\n",
    "TC : O(n log n)\n",
    "SC :O(n)\n",
    "\n",
    "\"\"\"\n",
    "\n",
    "def square_and_sort(nums):\n",
    "    \"\"\"\n",
    "    Returns an array of the squares of each number in nums, sorted in non-decreasing order.\n",
    "\n",
    "    Args:\n",
    "        nums (List[int]): The input array of integers.\n",
    "\n",
    "    Returns:\n",
    "        List[int]: The array of squared numbers sorted in non-decreasing order.\n",
    "    \"\"\"\n",
    "    return sorted(num * num for num in nums)\n"
   ]
  },
  {
   "cell_type": "code",
   "execution_count": 61,
   "id": "e6b1d014",
   "metadata": {},
   "outputs": [
    {
     "data": {
      "text/plain": [
       "[0, 1, 9, 16, 100]"
      ]
     },
     "execution_count": 61,
     "metadata": {},
     "output_type": "execute_result"
    }
   ],
   "source": [
    "nums = [-4,-1,0,3,10]\n",
    "square_and_sort(nums)"
   ]
  },
  {
   "cell_type": "markdown",
   "id": "a8777984",
   "metadata": {},
   "source": [
    "<aside>\n",
    "    \n",
    "💡 **Question 4**\n",
    "\n",
    "Given two **0-indexed** integer arrays nums1 and nums2, return *a list* answer *of size* 2 *where:*\n",
    "\n",
    "- answer[0] *is a list of all **distinct** integers in* nums1 *which are **not** present in* nums2*.*\n",
    "- answer[1] *is a list of all **distinct** integers in* nums2 *which are **not** present in* nums1.\n",
    "\n",
    "**Note** that the integers in the lists may be returned in **any** order.\n",
    "\n",
    "**Example 1:**\n",
    "\n",
    "**Input:** nums1 = [1,2,3], nums2 = [2,4,6]\n",
    "\n",
    "**Output:** [[1,3],[4,6]]\n",
    "\n",
    "**Explanation:**\n",
    "\n",
    "For nums1, nums1[1] = 2 is present at index 0 of nums2, whereas nums1[0] = 1 and nums1[2] = 3 are not present in nums2. Therefore, answer[0] = [1,3].\n",
    "\n",
    "For nums2, nums2[0] = 2 is present at index 1 of nums1, whereas nums2[1] = 4 and nums2[2] = 6 are not present in nums2. Therefore, answer[1] = [4,6].\n",
    "\n",
    "</aside>"
   ]
  },
  {
   "cell_type": "code",
   "execution_count": 10,
   "id": "1fd01619",
   "metadata": {},
   "outputs": [],
   "source": [
    "\"\"\"\n",
    "Algorithm Explanation:\n",
    "\n",
    "Convert nums1 and nums2 to sets to remove duplicates.\n",
    "Find the set difference between nums1 and nums2 to get distinct elements in nums1 that are not present in nums2.\n",
    "Find the set difference between nums2 and nums1 to get distinct elements in nums2 that are not present in nums1.\n",
    "Convert the resulting sets back to lists.\n",
    "Return the list containing the two lists of distinct elements.\n",
    "\n",
    "\n",
    "TC : O(n)\n",
    "SC : O(n)\n",
    "\"\"\"\n",
    "\n",
    "\n",
    "def find_distinct_elements(nums1, nums2):\n",
    "    \"\"\"\n",
    "    Returns a list of distinct integers in nums1 that are not present in nums2,\n",
    "    and a list of distinct integers in nums2 that are not present in nums1.\n",
    "\n",
    "    Args:\n",
    "        nums1 (List[int]): The first integer array.\n",
    "        nums2 (List[int]): The second integer array.\n",
    "\n",
    "    Returns:\n",
    "        List[List[int]]: A list containing two lists, each representing the distinct\n",
    "        integers in nums1 and nums2 that are not present in the other array.\n",
    "    \"\"\"\n",
    "    distinct_nums1 = list(set(nums1) - set(nums2))\n",
    "    distinct_nums2 = list(set(nums2) - set(nums1))\n",
    "    \n",
    "    return [distinct_nums1, distinct_nums2]\n"
   ]
  },
  {
   "cell_type": "code",
   "execution_count": 11,
   "id": "decd1d0c",
   "metadata": {},
   "outputs": [
    {
     "data": {
      "text/plain": [
       "[[1, 3], [4, 6]]"
      ]
     },
     "execution_count": 11,
     "metadata": {},
     "output_type": "execute_result"
    }
   ],
   "source": [
    "nums1 = [1,2,3]\n",
    "nums2 = [2,4,6]\n",
    "\n",
    "find_distinct_elements(nums1,nums2)"
   ]
  },
  {
   "cell_type": "markdown",
   "id": "47b7e032",
   "metadata": {},
   "source": [
    "<aside>\n",
    "    \n",
    "💡 **Question 5**\n",
    "\n",
    "Given two integer arrays arr1 and arr2, and the integer d, *return the distance value between the two arrays*.\n",
    "\n",
    "The distance value is defined as the number of elements arr1[i] such that there is not any element arr2[j] where |arr1[i]-arr2[j]| <= d.\n",
    "\n",
    "**Example 1:**\n",
    "\n",
    "**Input:** arr1 = [4,5,8], arr2 = [10,9,1,8], d = 2\n",
    "\n",
    "**Output:** 2\n",
    "\n",
    "**Explanation:**\n",
    "\n",
    "For arr1[0]=4 we have:\n",
    "\n",
    "|4-10|=6 > d=2\n",
    "\n",
    "|4-9|=5 > d=2\n",
    "\n",
    "|4-1|=3 > d=2\n",
    "\n",
    "|4-8|=4 > d=2\n",
    "\n",
    "For arr1[1]=5 we have:\n",
    "\n",
    "|5-10|=5 > d=2\n",
    "\n",
    "|5-9|=4 > d=2\n",
    "\n",
    "|5-1|=4 > d=2\n",
    "\n",
    "|5-8|=3 > d=2\n",
    "\n",
    "For arr1[2]=8 we have:\n",
    "\n",
    "**|8-10|=2 <= d=2**\n",
    "\n",
    "**|8-9|=1 <= d=2**\n",
    "\n",
    "|8-1|=7 > d=2\n",
    "\n",
    "**|8-8|=0 <= d=2**\n",
    "\n",
    "</aside>"
   ]
  },
  {
   "cell_type": "code",
   "execution_count": 25,
   "id": "15667589",
   "metadata": {},
   "outputs": [],
   "source": [
    "\"\"\"\n",
    "Algorithm\n",
    "\n",
    "We initialize a variable distance to keep track of the number of elements in arr1 that satisfy the distance condition.\n",
    "\n",
    "We iterate through each element num1 in arr1.\n",
    "\n",
    "For each num1, we iterate through each element num2 in arr2 to check if the absolute difference between num1 and num2 is less than or equal to the threshold d.\n",
    "\n",
    "If we find any num2 such that |num1 - num2| <= d, we mark the element as invalid and break out of the inner loop.\n",
    "\n",
    "After checking all elements in arr2, if the element num1 is still marked as valid, we increment the distance by 1.\n",
    "\n",
    "We repeat steps 2-5 for all elements in arr1.\n",
    "\n",
    "Finally, we return the distance value, which represents the number of elements in arr1 that satisfy the distance condition.\n",
    "\n",
    "TC : o(n^2)\n",
    "SC : o(1)\n",
    "\n",
    "\"\"\"\n",
    "\n",
    "\n",
    "def distance_value(arr1, arr2, d):\n",
    "    \"\"\"\n",
    "    Calculate Distance Value Between Two Arrays.\n",
    "\n",
    "    Given two integer arrays, arr1 and arr2, and an integer d, this function returns the distance value between the two\n",
    "    arrays. The distance value is defined as the number of elements arr1[i] such that there is not any element arr2[j]\n",
    "    where |arr1[i] - arr2[j]| <= d.\n",
    "\n",
    "    Args:\n",
    "        arr1 (List[int]): The first input array.\n",
    "        arr2 (List[int]): The second input array.\n",
    "        d (int): The threshold distance.\n",
    "\n",
    "    Returns:\n",
    "        int: The distance value.\n",
    "\n",
    "\n",
    "    \"\"\"\n",
    "    distance = 0\n",
    "\n",
    "    for num1 in arr1:\n",
    "        valid = True\n",
    "\n",
    "        for num2 in arr2:\n",
    "            if abs(num1 - num2) <= d:\n",
    "                valid = False\n",
    "                break\n",
    "\n",
    "        if valid:\n",
    "            distance += 1\n",
    "\n",
    "    return distance\n"
   ]
  },
  {
   "cell_type": "code",
   "execution_count": 26,
   "id": "65836286",
   "metadata": {},
   "outputs": [
    {
     "data": {
      "text/plain": [
       "2"
      ]
     },
     "execution_count": 26,
     "metadata": {},
     "output_type": "execute_result"
    }
   ],
   "source": [
    "arr1 = [4,5,8]\n",
    "arr2 = [10,9,1,8]\n",
    "d = 2\n",
    "distance_value(arr1,arr2,d)"
   ]
  },
  {
   "cell_type": "code",
   "execution_count": 27,
   "id": "0de4bf9a",
   "metadata": {},
   "outputs": [],
   "source": [
    "\n",
    "\"\"\"\n",
    "Algorithm\n",
    "\n",
    "We create a set set_arr2 from arr2, which provides constant-time membership checks.\n",
    "\n",
    "We iterate through each element num1 in arr1.\n",
    "\n",
    "For each num1, instead of checking each element in arr2, we iterate through the range -d to d (inclusive) to generate the possible differences.\n",
    "\n",
    "We check if num1 + diff exists in set_arr2. If it does, we know that there is an element in arr2 that satisfies the distance condition, so we mark the element as invalid and break out of the loop.\n",
    "\n",
    "After checking all possible differences, if the element num1 is still marked as valid, we increment the distance by 1.\n",
    "\n",
    "We repeat steps 2-5 for all elements in arr1.\n",
    "\n",
    "Finally, we return the distance value, which represents the number of elements in arr1 that satisfy the distance condition.\n",
    "\n",
    "TC : O(n) using set  \n",
    "SC : O(1)\n",
    "\n",
    "\n",
    "\"\"\"\n",
    "\n",
    "def distance_value(arr1, arr2, d):\n",
    "\n",
    "    distance = 0\n",
    "\n",
    "    set_arr2 = set(arr2)\n",
    "\n",
    "    for num1 in arr1:\n",
    "        valid = True\n",
    "\n",
    "        for diff in range(-d, d+1):\n",
    "            if num1+diff in set_arr2:\n",
    "                valid = False\n",
    "                break\n",
    "\n",
    "        if valid:\n",
    "            distance += 1\n",
    "\n",
    "    return distance"
   ]
  },
  {
   "cell_type": "markdown",
   "id": "32cf486b",
   "metadata": {},
   "source": [
    "<aside>\n",
    "\n",
    "💡 **Question 6**\n",
    "\n",
    "Given an integer array nums of length n where all the integers of nums are in the range [1, n] and each integer appears **once** or **twice**, return *an array of all the integers that appears **twice***.\n",
    "\n",
    "You must write an algorithm that runs in O(n) time and uses only constant extra space.\n",
    "\n",
    "**Example 1:**\n",
    "\n",
    "**Input:** nums = [4,3,2,7,8,2,3,1]\n",
    "\n",
    "**Output:**\n",
    "\n",
    "[2,3]\n",
    "\n",
    "</aside>"
   ]
  },
  {
   "cell_type": "code",
   "execution_count": 31,
   "id": "76d759d0",
   "metadata": {},
   "outputs": [],
   "source": [
    "\"\"\"\n",
    "Algorithm\n",
    "\n",
    "Import the Counter class from the collections module, which allows us to count the occurrences of each number in the nums array.\n",
    "\n",
    "Create an empty list called list1 to store the integers that appear twice.\n",
    "\n",
    "Use the Counter class to create a dictionary dp that counts the occurrences of each number in nums.\n",
    "\n",
    "Iterate through each key-value pair in the dp dictionary.\n",
    "\n",
    "For each key-value pair, check if the value is equal to 2. If it is, it means the number appears twice, so append the key (the number) to the list1.\n",
    "\n",
    "Repeat steps 4-5 for all key-value pairs in the dp dictionary.\n",
    "\n",
    "Finally, return the list1, which contains the integers that appear twice.\n",
    "\n",
    "TC : O(n)\n",
    "SC : O(n)\n",
    "\n",
    "\"\"\"\n",
    "\n",
    "\n",
    "from collections import Counter\n",
    "\n",
    "def find_duplicates(nums):\n",
    "    \"\"\"\n",
    "    Find Duplicates in an Array.\n",
    "\n",
    "    Given an integer array nums where all the integers of nums are in the range [1, n] and each integer appears once\n",
    "    or twice, this function returns an array of all the integers that appear twice. The algorithm uses the Counter\n",
    "    class from the collections module to count the occurrences of each number, and then selects the numbers that have\n",
    "    a count of 2.\n",
    "\n",
    "    Args:\n",
    "        nums (List[int]): The input array.\n",
    "\n",
    "    Returns:\n",
    "        List[int]: The array of integers that appear twice.\n",
    "\n",
    "\n",
    "    \"\"\"\n",
    "    dp = Counter(nums)\n",
    "    list1 = []\n",
    "\n",
    "    for key, val in dp.items():\n",
    "        if val == 2:\n",
    "            list1.append(key)\n",
    "\n",
    "    return list1\n"
   ]
  },
  {
   "cell_type": "code",
   "execution_count": 32,
   "id": "f006314d",
   "metadata": {},
   "outputs": [
    {
     "data": {
      "text/plain": [
       "[3, 2]"
      ]
     },
     "execution_count": 32,
     "metadata": {},
     "output_type": "execute_result"
    }
   ],
   "source": [
    "nums = [4,3,2,7,8,2,3,1]\n",
    "find_duplicates(nums)"
   ]
  },
  {
   "cell_type": "markdown",
   "id": "607a2198",
   "metadata": {},
   "source": [
    "<aside>\n",
    "\n",
    "💡 **Question 7**\n",
    "\n",
    "Suppose an array of length n sorted in ascending order is **rotated** between 1 and n times. For example, the array nums = [0,1,2,4,5,6,7] might become:\n",
    "\n",
    "- [4,5,6,7,0,1,2] if it was rotated 4 times.\n",
    "- [0,1,2,4,5,6,7] if it was rotated 7 times.\n",
    "\n",
    "Notice that **rotating** an array [a[0], a[1], a[2], ..., a[n-1]] 1 time results in the array [a[n-1], a[0], a[1], a[2], ..., a[n-2]].\n",
    "\n",
    "Given the sorted rotated array nums of **unique** elements, return *the minimum element of this array*.\n",
    "\n",
    "You must write an algorithm that runs in O(log n) time.\n",
    "\n",
    "**Example 1:**\n",
    "\n",
    "**Input:** nums = [3,4,5,1,2]\n",
    "\n",
    "**Output:** 1\n",
    "\n",
    "**Explanation:**\n",
    "\n",
    "The original array was [1,2,3,4,5] rotated 3 times.\n",
    "\n",
    "</aside>"
   ]
  },
  {
   "cell_type": "code",
   "execution_count": 33,
   "id": "2d627431",
   "metadata": {},
   "outputs": [],
   "source": [
    "def find_minimum(nums):\n",
    "    \"\"\"\n",
    "    Find Minimum in Rotated Sorted Array.\n",
    "\n",
    "    Given a sorted rotated array nums of unique elements, this function returns the minimum element in the array. The\n",
    "    algorithm uses a modified binary search approach to find the pivot point where the rotation occurred, and the\n",
    "    minimum element is the element immediately after the pivot.\n",
    "\n",
    "    Args:\n",
    "        nums (List[int]): The input array.\n",
    "\n",
    "    Returns:\n",
    "        int: The minimum element in the array.\n",
    "\n",
    "    \"\"\"\n",
    "    left = 0\n",
    "    right = len(nums) - 1\n",
    "\n",
    "    if nums[left] < nums[right]:\n",
    "        return nums[left]\n",
    "\n",
    "    while left < right:\n",
    "        mid = left + (right - left) // 2\n",
    "\n",
    "        if nums[mid] > nums[mid + 1]:\n",
    "            return nums[mid + 1]\n",
    "\n",
    "        if nums[mid] < nums[mid - 1]:\n",
    "            return nums[mid]\n",
    "        if nums[mid] > nums[left]:\n",
    "            left = mid + 1\n",
    "\n",
    "        else:\n",
    "            right = mid - 1\n",
    "    return nums[left]\n"
   ]
  },
  {
   "cell_type": "code",
   "execution_count": 34,
   "id": "9ff70c02",
   "metadata": {},
   "outputs": [
    {
     "data": {
      "text/plain": [
       "1"
      ]
     },
     "execution_count": 34,
     "metadata": {},
     "output_type": "execute_result"
    }
   ],
   "source": [
    "nums = [3,4,5,1,2]\n",
    "find_minimum(nums)"
   ]
  },
  {
   "cell_type": "code",
   "execution_count": 35,
   "id": "c24b129f",
   "metadata": {},
   "outputs": [
    {
     "data": {
      "text/plain": [
       "0"
      ]
     },
     "execution_count": 35,
     "metadata": {},
     "output_type": "execute_result"
    }
   ],
   "source": [
    "nums= [4,5,6,7,0,1,2]\n",
    "find_minimum(nums)"
   ]
  },
  {
   "cell_type": "markdown",
   "id": "77e61b9b",
   "metadata": {},
   "source": [
    "<aside>\n",
    "\n",
    "💡 **Question 8**\n",
    "\n",
    "An integer array original is transformed into a **doubled** array changed by appending **twice the value** of every element in original, and then randomly **shuffling** the resulting array.\n",
    "\n",
    "Given an array changed, return original *if* changed *is a **doubled** array. If* changed *is not a **doubled** array, return an empty array. The elements in* original *may be returned in **any** order*.\n",
    "\n",
    "**Example 1:**\n",
    "\n",
    "**Input:** changed = [1,3,4,2,6,8]\n",
    "\n",
    "**Output:** [1,3,4]\n",
    "\n",
    "**Explanation:** One possible original array could be [1,3,4]:\n",
    "\n",
    "- Twice the value of 1 is 1 * 2 = 2.\n",
    "- Twice the value of 3 is 3 * 2 = 6.\n",
    "- Twice the value of 4 is 4 * 2 = 8.\n",
    "\n",
    "Other original arrays could be [4,3,1] or [3,1,4].\n",
    "\n",
    "</aside>"
   ]
  },
  {
   "cell_type": "code",
   "execution_count": 39,
   "id": "5b485a99",
   "metadata": {},
   "outputs": [],
   "source": [
    "\"\"\"\n",
    "Algorithm\n",
    "\n",
    "Initialize an empty list called original to store the reconstructed original array.\n",
    "\n",
    "Initialize a defaultdict called count to keep track of the count of each element in the changed array.\n",
    "\n",
    "Iterate through each element num in the changed array and increment its count in the count dictionary.\n",
    "\n",
    "Sort the changed array to process elements in ascending order.\n",
    "\n",
    "For each element num in the sorted changed array, perform the following checks:\n",
    "\n",
    "If the count of num is 0, skip to the next element.\n",
    "If the count of num * 2 is greater than or equal to the count of num, it means the doubled value exists with a sufficient count. In this case, add num to the original array, reduce the count of num * 2 by the count of num, and set the count of num to 0.\n",
    "After processing all elements in the changed array, check if the sum of counts in the count dictionary is 0. If it is, it means all elements passed the checks and the original array can be reconstructed. In this case, return the original array.\n",
    "\n",
    "If the sum of counts in the count dictionary is not 0, it means at least one element did not pass the checks, and the changed array is not a doubled array. Return an empty array.\n",
    "\n",
    "TC :O(n log n)\n",
    "SC : O(n)\n",
    "\"\"\"\n",
    "\n",
    "\n",
    "from collections import defaultdict\n",
    "\n",
    "def find_original_array(changed):\n",
    "    \"\"\"\n",
    "    Find Original Array from Doubled Array.\n",
    "\n",
    "    Given an array changed that is obtained by appending twice the value of every element in the original array and\n",
    "    randomly shuffling the resulting array, this function returns the original array if changed is a doubled array.\n",
    "    If changed is not a doubled array, an empty array is returned. The elements in the original array may be returned\n",
    "    in any order.\n",
    "\n",
    "    Args:\n",
    "        changed (List[int]): The input array.\n",
    "\n",
    "    Returns:\n",
    "        List[int]: The original array, or an empty array if changed is not a doubled array.\n",
    "\n",
    "    \"\"\"\n",
    "    original = []\n",
    "    count = defaultdict(int)\n",
    "\n",
    "    for num in changed:\n",
    "        count[num] += 1\n",
    "\n",
    "    for num in sorted(changed):\n",
    "        if count[num] == 0:\n",
    "            continue\n",
    "\n",
    "        if count[num * 2] >= count[num]:\n",
    "            original.extend([num] * count[num])\n",
    "            count[num * 2] -= count[num]\n",
    "            count[num] = 0\n",
    "\n",
    "    if sum(count.values()) == 0:\n",
    "        return original\n",
    "\n",
    "    return []\n"
   ]
  },
  {
   "cell_type": "code",
   "execution_count": 40,
   "id": "0d8578ad",
   "metadata": {},
   "outputs": [
    {
     "data": {
      "text/plain": [
       "[1, 3, 4]"
      ]
     },
     "execution_count": 40,
     "metadata": {},
     "output_type": "execute_result"
    }
   ],
   "source": [
    "changed = [1,3,4,2,6,8]\n",
    "find_original_array(changed)"
   ]
  },
  {
   "cell_type": "code",
   "execution_count": null,
   "id": "199b8b25",
   "metadata": {},
   "outputs": [],
   "source": []
  }
 ],
 "metadata": {
  "kernelspec": {
   "display_name": "Python 3 (ipykernel)",
   "language": "python",
   "name": "python3"
  },
  "language_info": {
   "codemirror_mode": {
    "name": "ipython",
    "version": 3
   },
   "file_extension": ".py",
   "mimetype": "text/x-python",
   "name": "python",
   "nbconvert_exporter": "python",
   "pygments_lexer": "ipython3",
   "version": "3.9.12"
  }
 },
 "nbformat": 4,
 "nbformat_minor": 5
}
