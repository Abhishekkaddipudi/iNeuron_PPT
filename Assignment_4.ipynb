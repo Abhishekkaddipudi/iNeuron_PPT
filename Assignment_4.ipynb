{
 "cells": [
  {
   "cell_type": "markdown",
   "id": "24260833",
   "metadata": {},
   "source": [
    "<aside>\n",
    "    \n",
    "💡 **Question 1**\n",
    "    \n",
    "Given three integer arrays arr1, arr2 and arr3 **sorted** in **strictly increasing** order, return a sorted array of **only** the integers that appeared in **all** three arrays.\n",
    "\n",
    "**Example 1:**\n",
    "\n",
    "Input: arr1 = [1,2,3,4,5], arr2 = [1,2,5,7,9], arr3 = [1,3,4,5,8]\n",
    "\n",
    "Output: [1,5]\n",
    "\n",
    "**Explanation:** Only 1 and 5 appeared in the three arrays.\n",
    "\n",
    "</aside>"
   ]
  },
  {
   "cell_type": "code",
   "execution_count": 14,
   "id": "4b5feab3",
   "metadata": {},
   "outputs": [],
   "source": [
    "\"\"\"\n",
    "Algorithm Explanation:\n",
    "\n",
    "Initialize three pointers, i, j, and k, to the beginning of each input array, respectively.\n",
    "Iterate until any pointer reaches the end of its respective array.\n",
    "Compare the values at the current positions of the three pointers.\n",
    "If they are equal, add the value to the common_elements list and increment all three pointers.\n",
    "If the value at arr1[i] is less than the value at arr2[j], increment i.\n",
    "If the value at arr2[j] is less than the value at arr3[k], increment j.\n",
    "Otherwise, increment k.\n",
    "Return the common_elements list.\n",
    "\n",
    "TC : O(n)\n",
    "SC : \n",
    "\"\"\"\n",
    "\n",
    "def find_common_elements(arr1, arr2, arr3):\n",
    "    \"\"\"\n",
    "    Returns a sorted array of integers that appear in all three input arrays.\n",
    "\n",
    "    Args:\n",
    "        arr1 (List[int]): The first sorted array.\n",
    "        arr2 (List[int]): The second sorted array.\n",
    "        arr3 (List[int]): The third sorted array.\n",
    "\n",
    "    Returns:\n",
    "        List[int]: A sorted array of integers that appear in all three arrays.\n",
    "    \"\"\"\n",
    "    i = 0\n",
    "    j = 0\n",
    "    k = 0\n",
    "    common_elements = []\n",
    "    \n",
    "    while i < len(arr1) and j < len(arr2) and k < len(arr3):\n",
    "        if (arr1[i] == arr2[j] == arr3[k]):\n",
    "     \n",
    "            common_elements.append(arr1[i])\n",
    "            i += 1\n",
    "            j += 1\n",
    "            k += 1\n",
    "        elif arr1[i] < arr2[j]:\n",
    "            i += 1\n",
    "        elif arr2[j] < arr3[k]:\n",
    "            j += 1\n",
    "        else:\n",
    "            k += 1\n",
    "    \n",
    "    return common_elements\n"
   ]
  },
  {
   "cell_type": "code",
   "execution_count": 17,
   "id": "f0824f4d",
   "metadata": {},
   "outputs": [
    {
     "data": {
      "text/plain": [
       "[1, 5]"
      ]
     },
     "execution_count": 17,
     "metadata": {},
     "output_type": "execute_result"
    }
   ],
   "source": [
    "arr1 = [1,2,3,4,5]\n",
    "arr2 = [1,2,5,7,9]\n",
    "arr3 = [1,3,4,5,8]\n",
    "find_common_elements(arr1,arr2,arr3)"
   ]
  },
  {
   "cell_type": "markdown",
   "id": "a8777984",
   "metadata": {},
   "source": [
    "<aside>\n",
    "    \n",
    "💡 **Question 2**\n",
    "\n",
    "Given two **0-indexed** integer arrays nums1 and nums2, return *a list* answer *of size* 2 *where:*\n",
    "\n",
    "- answer[0] *is a list of all **distinct** integers in* nums1 *which are **not** present in* nums2*.*\n",
    "- answer[1] *is a list of all **distinct** integers in* nums2 *which are **not** present in* nums1.\n",
    "\n",
    "**Note** that the integers in the lists may be returned in **any** order.\n",
    "\n",
    "**Example 1:**\n",
    "\n",
    "**Input:** nums1 = [1,2,3], nums2 = [2,4,6]\n",
    "\n",
    "**Output:** [[1,3],[4,6]]\n",
    "\n",
    "**Explanation:**\n",
    "\n",
    "For nums1, nums1[1] = 2 is present at index 0 of nums2, whereas nums1[0] = 1 and nums1[2] = 3 are not present in nums2. Therefore, answer[0] = [1,3].\n",
    "\n",
    "For nums2, nums2[0] = 2 is present at index 1 of nums1, whereas nums2[1] = 4 and nums2[2] = 6 are not present in nums2. Therefore, answer[1] = [4,6].\n",
    "\n",
    "</aside>"
   ]
  },
  {
   "cell_type": "code",
   "execution_count": 18,
   "id": "1fd01619",
   "metadata": {},
   "outputs": [],
   "source": [
    "\"\"\"\n",
    "Algorithm Explanation:\n",
    "\n",
    "Convert nums1 and nums2 to sets to remove duplicates.\n",
    "Find the set difference between nums1 and nums2 to get distinct elements in nums1 that are not present in nums2.\n",
    "Find the set difference between nums2 and nums1 to get distinct elements in nums2 that are not present in nums1.\n",
    "Convert the resulting sets back to lists.\n",
    "Return the list containing the two lists of distinct elements.\n",
    "\n",
    "\n",
    "TC : O(n)\n",
    "SC : O(n)\n",
    "\"\"\"\n",
    "\n",
    "\n",
    "def find_distinct_elements(nums1, nums2):\n",
    "    \"\"\"\n",
    "    Returns a list of distinct integers in nums1 that are not present in nums2,\n",
    "    and a list of distinct integers in nums2 that are not present in nums1.\n",
    "\n",
    "    Args:\n",
    "        nums1 (List[int]): The first integer array.\n",
    "        nums2 (List[int]): The second integer array.\n",
    "\n",
    "    Returns:\n",
    "        List[List[int]]: A list containing two lists, each representing the distinct\n",
    "        integers in nums1 and nums2 that are not present in the other array.\n",
    "    \"\"\"\n",
    "    distinct_nums1 = list(set(nums1) - set(nums2))\n",
    "    distinct_nums2 = list(set(nums2) - set(nums1))\n",
    "    \n",
    "    return [distinct_nums1, distinct_nums2]\n"
   ]
  },
  {
   "cell_type": "code",
   "execution_count": 19,
   "id": "decd1d0c",
   "metadata": {},
   "outputs": [
    {
     "data": {
      "text/plain": [
       "[[1, 3], [4, 6]]"
      ]
     },
     "execution_count": 19,
     "metadata": {},
     "output_type": "execute_result"
    }
   ],
   "source": [
    "nums1 = [1,2,3]\n",
    "nums2 = [2,4,6]\n",
    "\n",
    "find_distinct_elements(nums1,nums2)"
   ]
  },
  {
   "cell_type": "markdown",
   "id": "5bc49522",
   "metadata": {},
   "source": [
    "<aside>\n",
    "    \n",
    "💡 **Question 3**\n",
    "    \n",
    "Given a 2D integer array matrix, return *the **transpose** of* matrix.\n",
    "\n",
    "The **transpose** of a matrix is the matrix flipped over its main diagonal, switching the matrix's row and column indices.\n",
    "\n",
    "**Example 1:**\n",
    "\n",
    "Input: matrix = [[1,2,3],[4,5,6],[7,8,9]]\n",
    "\n",
    "Output: [[1,4,7],[2,5,8],[3,6,9]]\n",
    "\n",
    "</aside>\n",
    "\n",
    "<img src = \"https://pwskills.notion.site/image/https%3A%2F%2Fs3-us-west-2.amazonaws.com%2Fsecure.notion-static.com%2Fa54805f4-c9b5-491c-a900-8e8a94062c79%2Fiamge_v3.png?id=a588d9bb-578d-4c0f-b2fe-813f5225886b&table=block&spaceId=6fae2e0f-dedc-48e9-bc59-af2654c78209&width=1020&userId=&cache=v2\" width=\"500\" height=\"600\">"
   ]
  },
  {
   "cell_type": "code",
   "execution_count": 21,
   "id": "d0278527",
   "metadata": {},
   "outputs": [],
   "source": [
    "\n",
    "\"\"\"\n",
    "Algorithm Explanation:\n",
    "\n",
    "Get the number of rows and columns in the input matrix.\n",
    "Create a new matrix transposed_matrix with dimensions cols x rows, filled with zeros.\n",
    "Iterate over each element in the input matrix and assign it to the corresponding position in the transposed_matrix.\n",
    "The row index becomes the column index, and the column index becomes the row index.\n",
    "Return the transposed_matrix.\n",
    "\n",
    "\n",
    "TC : O(n^2)\n",
    "SC : O(1)\n",
    "\"\"\"\n",
    "\n",
    "def transpose_matrix(matrix):\n",
    "    \"\"\"\n",
    "    Returns the transpose of a given matrix.\n",
    "\n",
    "    Args:\n",
    "        matrix (List[List[int]]): The input matrix.\n",
    "\n",
    "    Returns:\n",
    "        List[List[int]]: The transpose of the input matrix.\n",
    "    \"\"\"\n",
    "    rows = len(matrix)\n",
    "    cols = len(matrix[0])\n",
    "    \n",
    "    transposed_matrix = [[0] * rows for _ in range(cols)]\n",
    "    \n",
    "    for i in range(rows):\n",
    "        for j in range(cols):\n",
    "            transposed_matrix[j][i] = matrix[i][j]\n",
    "    \n",
    "    return transposed_matrix\n"
   ]
  },
  {
   "cell_type": "markdown",
   "id": "3ec4802c",
   "metadata": {},
   "source": [
    "<aside>\n",
    "    \n",
    "💡 **Question 4**\n",
    "    \n",
    "Given an integer array nums of 2n integers, group these integers into n pairs (a1, b1), (a2, b2), ..., (an, bn) such that the sum of min(ai, bi) for all i is **maximized**. Return *the maximized sum*.\n",
    "\n",
    "**Example 1:**\n",
    "\n",
    "Input: nums = [1,4,3,2]\n",
    "\n",
    "Output: 4\n",
    "\n",
    "**Explanation:** All possible pairings (ignoring the ordering of elements) are:\n",
    "\n",
    "1. (1, 4), (2, 3) -> min(1, 4) + min(2, 3) = 1 + 2 = 3\n",
    "\n",
    "2. (1, 3), (2, 4) -> min(1, 3) + min(2, 4) = 1 + 2 = 3\n",
    "\n",
    "3. (1, 2), (3, 4) -> min(1, 2) + min(3, 4) = 1 + 3 = 4\n",
    "\n",
    "So the maximum possible sum is 4.\n",
    "\n",
    "</aside>"
   ]
  },
  {
   "cell_type": "code",
   "execution_count": 28,
   "id": "02198b40",
   "metadata": {},
   "outputs": [],
   "source": [
    "\"\"\"\n",
    "Algorithm Explanation:\n",
    "\n",
    "Sort the input array nums in non-decreasing order.\n",
    "Initialize max_sum to 0.\n",
    "Iterate over nums in steps of 2 to consider pairs of elements.\n",
    "Add the minimum value of each pair to max_sum.\n",
    "Return max_sum.\n",
    "\n",
    "TC : O(n/2)\n",
    "SC : o(1)\n",
    "\n",
    "\"\"\"\n",
    "\n",
    "\n",
    "def max_pair_sum(nums):\n",
    "    \"\"\"\n",
    "    Returns the maximum possible sum of the minimum values of pairs in the input array.\n",
    "\n",
    "    Args:\n",
    "        nums (List[int]): The input array of integers.\n",
    "\n",
    "    Returns:\n",
    "        int: The maximum possible sum.\n",
    "    \"\"\"\n",
    "    nums.sort()\n",
    "    max_sum = 0\n",
    "    \n",
    "    for i in range(0, len(nums), 2):\n",
    "        max_sum += nums[i]\n",
    "    \n",
    "    return max_sum\n"
   ]
  },
  {
   "cell_type": "code",
   "execution_count": 29,
   "id": "4f50ff43",
   "metadata": {},
   "outputs": [
    {
     "data": {
      "text/plain": [
       "4"
      ]
     },
     "execution_count": 29,
     "metadata": {},
     "output_type": "execute_result"
    }
   ],
   "source": [
    "nums = [1,4,3,2]\n",
    "max_pair_sum(nums)"
   ]
  },
  {
   "cell_type": "markdown",
   "id": "11b28897",
   "metadata": {},
   "source": [
    "<aside>\n",
    "    \n",
    "💡 **Question 5**\n",
    "    \n",
    "You have n coins and you want to build a staircase with these coins. The staircase consists of k rows where the ith row has exactly i coins. The last row of the staircase **may be** incomplete.\n",
    "\n",
    "Given the integer n, return *the number of **complete rows** of the staircase you will build*.\n",
    "\n",
    "</aside>\n",
    "<img src=\"https://pwskills.notion.site/image/https%3A%2F%2Fs3-us-west-2.amazonaws.com%2Fsecure.notion-static.com%2F4bd91cfa-d2b1-47b3-8197-a72e8dcfff4b%2Fv2.jpg?id=011c94c5-b725-4954-8821-3900e6c08ab4&table=block&spaceId=6fae2e0f-dedc-48e9-bc59-af2654c78209&width=510&userId=&cache=v2\" width=\"100\" height=\"100\" style=\"margin:0\">\n",
    "\n",
    "**Input:** n = 5\n",
    "\n",
    "**Output:** 2\n",
    "\n",
    "**Explanation:** Because the 3rd row is incomplete, we return 2."
   ]
  },
  {
   "cell_type": "code",
   "execution_count": 50,
   "id": "a661fd67",
   "metadata": {},
   "outputs": [],
   "source": [
    "\"\"\"\n",
    "Algorithm Explanation:\n",
    "\n",
    "The number of complete rows in a staircase can be calculated using the formula:\n",
    "        rows = int((2 * n + 0.25) ** 0.5 - 0.5)\n",
    "        \n",
    "Return the calculated number of complete rows.\n",
    "\n",
    "TC : O(1)\n",
    "SC : O(1)\n",
    "\n",
    "\"\"\"\n",
    "\n",
    "\n",
    "def count_complete_rows(n):\n",
    "    \"\"\"\n",
    "    Returns the number of complete rows in a staircase built with n coins.\n",
    "\n",
    "    Args:\n",
    "        n (int): The number of coins.\n",
    "\n",
    "    Returns:\n",
    "        int: The number of complete rows.\n",
    "    \"\"\"\n",
    "    return int(((2 * n + 0.25) ** 0.5) - 0.5)\n"
   ]
  },
  {
   "cell_type": "code",
   "execution_count": 51,
   "id": "e4b9d65d",
   "metadata": {},
   "outputs": [
    {
     "data": {
      "text/plain": [
       "2"
      ]
     },
     "execution_count": 51,
     "metadata": {},
     "output_type": "execute_result"
    }
   ],
   "source": [
    "n = 5\n",
    "count_complete_rows(n)"
   ]
  },
  {
   "cell_type": "code",
   "execution_count": 52,
   "id": "0eec7080",
   "metadata": {},
   "outputs": [
    {
     "data": {
      "text/plain": [
       "14"
      ]
     },
     "execution_count": 52,
     "metadata": {},
     "output_type": "execute_result"
    }
   ],
   "source": [
    "n = 110\n",
    "count_complete_rows(n)"
   ]
  },
  {
   "cell_type": "markdown",
   "id": "d80f34ed",
   "metadata": {},
   "source": [
    "<aside>\n",
    "    \n",
    "💡 **Question 6**\n",
    "    \n",
    "Given an integer array nums sorted in **non-decreasing** order, return *an array of **the squares of each number** sorted in non-decreasing order*.\n",
    "\n",
    "**Example 1:**\n",
    "\n",
    "Input: nums = [-4,-1,0,3,10]\n",
    "\n",
    "Output: [0,1,9,16,100]\n",
    "\n",
    "**Explanation:** After squaring, the array becomes [16,1,0,9,100].\n",
    "After sorting, it becomes [0,1,9,16,100]\n",
    "\n",
    "</aside>"
   ]
  },
  {
   "cell_type": "code",
   "execution_count": 54,
   "id": "2df197ff",
   "metadata": {},
   "outputs": [],
   "source": [
    "\"\"\"\n",
    "Algorithm Explanation:\n",
    "\n",
    "Create a new list comprehension that squares each number in nums and stores the squared values.\n",
    "Sort the squared values in non-decreasing order using the sorted() function.\n",
    "Return the sorted list of squared values.\n",
    "\n",
    "TC : O(n log n)\n",
    "SC :O(n)\n",
    "\n",
    "\"\"\"\n",
    "\n",
    "def square_and_sort(nums):\n",
    "    \"\"\"\n",
    "    Returns an array of the squares of each number in nums, sorted in non-decreasing order.\n",
    "\n",
    "    Args:\n",
    "        nums (List[int]): The input array of integers.\n",
    "\n",
    "    Returns:\n",
    "        List[int]: The array of squared numbers sorted in non-decreasing order.\n",
    "    \"\"\"\n",
    "    return sorted(num * num for num in nums)\n"
   ]
  },
  {
   "cell_type": "code",
   "execution_count": 61,
   "id": "e6b1d014",
   "metadata": {},
   "outputs": [
    {
     "data": {
      "text/plain": [
       "[0, 1, 9, 16, 100]"
      ]
     },
     "execution_count": 61,
     "metadata": {},
     "output_type": "execute_result"
    }
   ],
   "source": [
    "nums = [-4,-1,0,3,10]\n",
    "square_and_sort(nums)"
   ]
  },
  {
   "cell_type": "markdown",
   "id": "26747aef",
   "metadata": {},
   "source": [
    "<aside>\n",
    "\n",
    "💡 **Question 7**\n",
    "\n",
    "You are given an m x n matrix M initialized with all 0's and an array of operations ops, where ops[i] = [ai, bi] means M[x][y] should be incremented by one for all 0 <= x < ai and 0 <= y < bi.\n",
    "\n",
    "Count and return *the number of maximum integers in the matrix after performing all the operations*\n",
    "\n",
    "**Example 1:**\n",
    "    \n",
    "** **\n",
    "    \n",
    " <img src = \"https://pwskills.notion.site/image/https%3A%2F%2Fs3-us-west-2.amazonaws.com%2Fsecure.notion-static.com%2F4d0890d0-7bc7-4f59-be8e-352d9f3c1c52%2Fq4.jpg?id=90aeb3cb-54bb-4240-9291-1fce694e3fe9&table=block&spaceId=6fae2e0f-dedc-48e9-bc59-af2654c78209&width=1020&userId=&cache=v2\" width=\"400\" height=\"400\" style=\"margin:0\">\n",
    "\n",
    "    \n",
    "**Input:** m = 3, n = 3, ops = [[2,2],[3,3]]\n",
    "\n",
    "**Output:** 4\n",
    "\n",
    "**Explanation:** The maximum integer in M is 2, and there are four of it in M. So return 4.\n",
    "</aside>"
   ]
  },
  {
   "cell_type": "code",
   "execution_count": 56,
   "id": "9bd542f5",
   "metadata": {},
   "outputs": [],
   "source": [
    "\"\"\"\n",
    "Algorithm Explanation:\n",
    "\n",
    "If the list of operations ops is empty, the matrix remains unchanged, so the count of maximum integers is m * n.\n",
    "Otherwise, find the minimum value for the row and column indices from all the operations.\n",
    "This represents the dimensions of the rectangle formed by the overlapping operations.\n",
    "The number of maximum integers in the matrix is equal to the product of the minimum row and column indices.\n",
    "\n",
    "TC : O(n)\n",
    "SC : O(1)\n",
    "\"\"\"\n",
    "\n",
    "def count_max_integers(m, n, ops):\n",
    "    \"\"\"\n",
    "    Returns the number of maximum integers in a matrix after performing all the given operations.\n",
    "\n",
    "    Args:\n",
    "        m (int): The number of rows in the matrix.\n",
    "        n (int): The number of columns in the matrix.\n",
    "        ops (List[List[int]]): The list of operations to perform.\n",
    "\n",
    "    Returns:\n",
    "        int: The count of maximum integers in the matrix.\n",
    "    \"\"\"\n",
    "    if not ops:\n",
    "        return m * n\n",
    "    \n",
    "    min_row = min(op[0] for op in ops)\n",
    "    min_col = min(op[1] for op in ops)\n",
    "    \n",
    "    return min_row * min_col\n"
   ]
  },
  {
   "cell_type": "code",
   "execution_count": 57,
   "id": "286c69fe",
   "metadata": {},
   "outputs": [
    {
     "data": {
      "text/plain": [
       "4"
      ]
     },
     "execution_count": 57,
     "metadata": {},
     "output_type": "execute_result"
    }
   ],
   "source": [
    "m = 3\n",
    "n = 3 \n",
    "ops = [[2,2],[3,3]]\n",
    "count_max_integers(m,n,ops)"
   ]
  },
  {
   "cell_type": "code",
   "execution_count": 58,
   "id": "a822af15",
   "metadata": {},
   "outputs": [
    {
     "data": {
      "text/plain": [
       "4"
      ]
     },
     "execution_count": 58,
     "metadata": {},
     "output_type": "execute_result"
    }
   ],
   "source": [
    "m = 3\n",
    "n = 3\n",
    "ops = [[2,2],[3,3],[3,3],[3,3],[2,2],[3,3],[3,3],[3,3],[2,2],[3,3],[3,3],[3,3]]\n",
    "count_max_integers(m,n,ops)"
   ]
  },
  {
   "cell_type": "code",
   "execution_count": 60,
   "id": "fd3631c8",
   "metadata": {},
   "outputs": [
    {
     "data": {
      "text/plain": [
       "9"
      ]
     },
     "execution_count": 60,
     "metadata": {},
     "output_type": "execute_result"
    }
   ],
   "source": [
    "m = 3\n",
    "n = 3\n",
    "ops = []\n",
    "count_max_integers(m,n,ops)"
   ]
  },
  {
   "cell_type": "markdown",
   "id": "7d8afa89",
   "metadata": {},
   "source": [
    "<aside>\n",
    "\n",
    "💡 **Question 8**\n",
    "\n",
    "Given the array nums consisting of 2n elements in the form [x1,x2,...,xn,y1,y2,...,yn].\n",
    "\n",
    "*Return the array in the form* [x1,y1,x2,y2,...,xn,yn].\n",
    "\n",
    "**Example 1:**\n",
    "\n",
    "**Input:** nums = [2,5,1,3,4,7], n = 3\n",
    "\n",
    "**Output:** [2,3,5,4,1,7]\n",
    "\n",
    "**Explanation:** Since x1=2, x2=5, x3=1, y1=3, y2=4, y3=7 then the answer is [2,3,5,4,1,7].\n",
    "\n",
    "</aside>"
   ]
  },
  {
   "cell_type": "code",
   "execution_count": 62,
   "id": "c51b2edb",
   "metadata": {},
   "outputs": [],
   "source": [
    "\"\"\"\n",
    "Algorithm Explanation:\n",
    "\n",
    "Create an empty list rearranged_nums to store the rearranged elements.\n",
    "Iterate n times to process each pair of elements.\n",
    "For each iteration, add the element at index i and the element at index i + n to rearranged_nums.\n",
    "Return the rearranged_nums list.\n",
    "\n",
    "\"\"\"\n",
    "\n",
    "\n",
    "def rearrange_array(nums, n):\n",
    "    \"\"\"\n",
    "    Rearranges the elements in the input array according to the given pattern.\n",
    "\n",
    "    Args:\n",
    "        nums (List[int]): The input array of elements.\n",
    "        n (int): The number of pairs of elements.\n",
    "\n",
    "    Returns:\n",
    "        List[int]: The rearranged array.\n",
    "    \"\"\"\n",
    "    rearranged_nums = []\n",
    "    \n",
    "    for i in range(n):\n",
    "        rearranged_nums.append(nums[i])\n",
    "        rearranged_nums.append(nums[i + n])\n",
    "    \n",
    "    return rearranged_nums\n"
   ]
  },
  {
   "cell_type": "code",
   "execution_count": 63,
   "id": "488949b4",
   "metadata": {},
   "outputs": [
    {
     "data": {
      "text/plain": [
       "[2, 3, 5, 4, 1, 7]"
      ]
     },
     "execution_count": 63,
     "metadata": {},
     "output_type": "execute_result"
    }
   ],
   "source": [
    "nums = [2,5,1,3,4,7]\n",
    "n = 3\n",
    "rearrange_array(nums,n)"
   ]
  }
 ],
 "metadata": {
  "kernelspec": {
   "display_name": "Python 3 (ipykernel)",
   "language": "python",
   "name": "python3"
  },
  "language_info": {
   "codemirror_mode": {
    "name": "ipython",
    "version": 3
   },
   "file_extension": ".py",
   "mimetype": "text/x-python",
   "name": "python",
   "nbconvert_exporter": "python",
   "pygments_lexer": "ipython3",
   "version": "3.9.12"
  }
 },
 "nbformat": 4,
 "nbformat_minor": 5
}
