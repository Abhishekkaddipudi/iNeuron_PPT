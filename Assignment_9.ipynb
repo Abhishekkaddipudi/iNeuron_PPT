{
 "cells": [
  {
   "cell_type": "markdown",
   "id": "0978226a",
   "metadata": {},
   "source": [
    "<aside>\n",
    "\n",
    "💡 **Question 1**\n",
    "\n",
    "Given an integer `n`, return *`true` if it is a power of two. Otherwise, return `false`*.\n",
    "\n",
    "An integer `n` is a power of two, if there exists an integer `x` such that `n == 2x`.\n",
    "\n",
    "**Example 1:**\n",
    "Input: n = 1 \n",
    "\n",
    "Output: true\n",
    "\n",
    "**Example 2:**\n",
    "Input: n = 16 \n",
    "\n",
    "Output: true\n",
    "\n",
    "**Example 3:**\n",
    "Input: n = 3 \n",
    "\n",
    "Output: false\n",
    "\n",
    "</aside>"
   ]
  },
  {
   "cell_type": "code",
   "execution_count": 2,
   "id": "cc14f469",
   "metadata": {},
   "outputs": [],
   "source": [
    "def isPowerOfTwo(n):\n",
    "    \"\"\"\n",
    "    Check if the given number is a power of two.\n",
    "\n",
    "    Args:\n",
    "        n (int): The input number.\n",
    "\n",
    "    Returns:\n",
    "        bool: True if n is a power of two, False otherwise.\n",
    "\n",
    "    \"\"\"\n",
    "\n",
    "    if n <= 0:\n",
    "        return False\n",
    "\n",
    "    return n & (n - 1) == 0\n"
   ]
  },
  {
   "cell_type": "code",
   "execution_count": 4,
   "id": "09522da4",
   "metadata": {},
   "outputs": [
    {
     "data": {
      "text/plain": [
       "False"
      ]
     },
     "execution_count": 4,
     "metadata": {},
     "output_type": "execute_result"
    }
   ],
   "source": [
    "n = 3\n",
    "isPowerOfTwo(n)"
   ]
  },
  {
   "cell_type": "code",
   "execution_count": 5,
   "id": "ff921885",
   "metadata": {},
   "outputs": [
    {
     "data": {
      "text/plain": [
       "True"
      ]
     },
     "execution_count": 5,
     "metadata": {},
     "output_type": "execute_result"
    }
   ],
   "source": [
    "n = 16\n",
    "isPowerOfTwo(n)"
   ]
  },
  {
   "cell_type": "markdown",
   "id": "47a211f4",
   "metadata": {},
   "source": [
    "<aside>\n",
    "\n",
    "💡 **Question 2**\n",
    "\n",
    "Given a number n, find the sum of the first natural numbers.\n",
    "\n",
    "**Example 1:**\n",
    "\n",
    "Input: n = 3 \n",
    "\n",
    "Output: 6\n",
    "\n",
    "**Example 2:**\n",
    "\n",
    "Input  : 5 \n",
    "\n",
    "Output : 15\n",
    "\n",
    "</aside>"
   ]
  },
  {
   "cell_type": "code",
   "execution_count": 7,
   "id": "0c1a906f",
   "metadata": {},
   "outputs": [],
   "source": [
    "def sumOfNaturalNumbers(n):\n",
    "    \"\"\"\n",
    "    Find the sum of the first n natural numbers.\n",
    "\n",
    "    Args:\n",
    "        n (int): The input number.\n",
    "\n",
    "    Returns:\n",
    "        int: The sum of the first n natural numbers.\n",
    "\n",
    "    \"\"\"\n",
    "\n",
    "    return (n * (n + 1)) // 2\n"
   ]
  },
  {
   "cell_type": "code",
   "execution_count": 8,
   "id": "23186fd7",
   "metadata": {},
   "outputs": [
    {
     "data": {
      "text/plain": [
       "6"
      ]
     },
     "execution_count": 8,
     "metadata": {},
     "output_type": "execute_result"
    }
   ],
   "source": [
    "sumOfNaturalNumbers(3)"
   ]
  },
  {
   "cell_type": "code",
   "execution_count": 9,
   "id": "c774210c",
   "metadata": {},
   "outputs": [
    {
     "data": {
      "text/plain": [
       "15"
      ]
     },
     "execution_count": 9,
     "metadata": {},
     "output_type": "execute_result"
    }
   ],
   "source": [
    "sumOfNaturalNumbers(5)"
   ]
  },
  {
   "cell_type": "markdown",
   "id": "e5185e3a",
   "metadata": {},
   "source": [
    "<aside>\n",
    "    \n",
    "💡 **Question 3**\n",
    "\n",
    "****Given a positive integer, N. Find the factorial of N.****\n",
    "\n",
    "**Example 1:**\n",
    "\n",
    "Input: N = 5 \n",
    "\n",
    "Output: 120\n",
    "\n",
    "**Example 2:**\n",
    "\n",
    "Input: N = 4\n",
    "\n",
    "Output: 24\n",
    "\n",
    "</aside>"
   ]
  },
  {
   "cell_type": "code",
   "execution_count": 10,
   "id": "057ce83a",
   "metadata": {},
   "outputs": [],
   "source": [
    "def factorial(n):\n",
    "    \"\"\"\n",
    "    Find the factorial of the given number.\n",
    "\n",
    "    Args:\n",
    "        n (int): The input number.\n",
    "\n",
    "    Returns:\n",
    "        int: The factorial of n.\n",
    "\n",
    "    \"\"\"\n",
    "\n",
    "    if n == 0:\n",
    "        return 1\n",
    "\n",
    "    return n * factorial(n - 1)\n"
   ]
  },
  {
   "cell_type": "code",
   "execution_count": 11,
   "id": "cd1218a8",
   "metadata": {},
   "outputs": [
    {
     "data": {
      "text/plain": [
       "24"
      ]
     },
     "execution_count": 11,
     "metadata": {},
     "output_type": "execute_result"
    }
   ],
   "source": [
    "factorial(4)"
   ]
  },
  {
   "cell_type": "code",
   "execution_count": 12,
   "id": "56cf5672",
   "metadata": {},
   "outputs": [
    {
     "data": {
      "text/plain": [
       "120"
      ]
     },
     "execution_count": 12,
     "metadata": {},
     "output_type": "execute_result"
    }
   ],
   "source": [
    "factorial(5)"
   ]
  },
  {
   "cell_type": "markdown",
   "id": "9daefa96",
   "metadata": {},
   "source": [
    "<aside>\n",
    "\n",
    "💡 **Question 4**\n",
    "\n",
    "Given a number N and a power P, the task is to find the exponent of this number raised to the given power, i.e. N^P.\n",
    "\n",
    "**Example 1 :** \n",
    "\n",
    "Input: N = 5, P = 2\n",
    "\n",
    "Output: 25\n",
    "\n",
    "**Example 2 :**\n",
    "Input: N = 2, P = 5\n",
    "\n",
    "Output: 32\n",
    "\n",
    "</aside>"
   ]
  },
  {
   "cell_type": "code",
   "execution_count": 14,
   "id": "d6ceb8dd",
   "metadata": {},
   "outputs": [],
   "source": [
    "def powerOfNumber(N, P):\n",
    "    \"\"\"\n",
    "    Find N raised to the power of P.\n",
    "\n",
    "    Args:\n",
    "        N (int): The base number.\n",
    "        P (int): The exponent.\n",
    "\n",
    "    Returns:\n",
    "        int: The result of N^P.\n",
    "\n",
    "    \"\"\"\n",
    "\n",
    "    return N ** P\n"
   ]
  },
  {
   "cell_type": "code",
   "execution_count": 15,
   "id": "45cf74db",
   "metadata": {},
   "outputs": [
    {
     "data": {
      "text/plain": [
       "25"
      ]
     },
     "execution_count": 15,
     "metadata": {},
     "output_type": "execute_result"
    }
   ],
   "source": [
    "powerOfNumber(5,2)"
   ]
  },
  {
   "cell_type": "code",
   "execution_count": 16,
   "id": "18e7e2dc",
   "metadata": {},
   "outputs": [
    {
     "data": {
      "text/plain": [
       "32"
      ]
     },
     "execution_count": 16,
     "metadata": {},
     "output_type": "execute_result"
    }
   ],
   "source": [
    "powerOfNumber(2,5)"
   ]
  },
  {
   "cell_type": "markdown",
   "id": "58a35d96",
   "metadata": {},
   "source": [
    "<aside>\n",
    "\n",
    "💡 **Question 5**\n",
    "\n",
    "Given an array of integers **arr**, the task is to find maximum element of that array using recursion.\n",
    "\n",
    "**Example 1:**\n",
    "\n",
    "Input: arr = {1, 4, 3, -5, -4, 8, 6};\n",
    "Output: 8\n",
    "\n",
    "**Example 2:**\n",
    "\n",
    "Input: arr = {1, 4, 45, 6, 10, -8};\n",
    "Output: 45\n",
    "\n",
    "</aside>"
   ]
  },
  {
   "cell_type": "code",
   "execution_count": 18,
   "id": "9a1cbe94",
   "metadata": {},
   "outputs": [],
   "source": [
    "def maxElement(arr):\n",
    "    \"\"\"\n",
    "    Find the maximum element in the given array.\n",
    "\n",
    "    Args:\n",
    "        arr (List[int]): The input array of integers.\n",
    "\n",
    "    Returns:\n",
    "        int: The maximum element in the array.\n",
    "\n",
    "    \"\"\"\n",
    "\n",
    "    if len(arr) == 1:\n",
    "        return arr[0]\n",
    "\n",
    "    return max(arr[0], maxElement(arr[1:]))\n"
   ]
  },
  {
   "cell_type": "code",
   "execution_count": 19,
   "id": "7bd1a0b6",
   "metadata": {},
   "outputs": [
    {
     "data": {
      "text/plain": [
       "8"
      ]
     },
     "execution_count": 19,
     "metadata": {},
     "output_type": "execute_result"
    }
   ],
   "source": [
    "maxElement([1,4,3,-5,-4,8,6])"
   ]
  },
  {
   "cell_type": "code",
   "execution_count": 20,
   "id": "5a8b6f05",
   "metadata": {},
   "outputs": [
    {
     "data": {
      "text/plain": [
       "45"
      ]
     },
     "execution_count": 20,
     "metadata": {},
     "output_type": "execute_result"
    }
   ],
   "source": [
    "maxElement([1,4,45,6,10,-8])"
   ]
  },
  {
   "cell_type": "markdown",
   "id": "3dcc9660",
   "metadata": {},
   "source": [
    "<aside>\n",
    "\n",
    "💡 **Question 6**\n",
    "\n",
    "Given first term (a), common difference (d) and a integer N of the Arithmetic Progression series, the task is to find Nth term of the series.\n",
    "\n",
    "**Example 1:**\n",
    "\n",
    "Input : a = 2 d = 1 N = 5\n",
    "Output : 6\n",
    "The 5th term of the series is : 6\n",
    "\n",
    "**Example 2:**\n",
    "\n",
    "Input : a = 5 d = 2 N = 10\n",
    "Output : 23\n",
    "The 10th term of the series is : 23\n",
    "\n",
    "</aside>"
   ]
  },
  {
   "cell_type": "code",
   "execution_count": 21,
   "id": "0541c595",
   "metadata": {},
   "outputs": [],
   "source": [
    " def nthTermOfAP(a, d, N):\n",
    "    \"\"\"\n",
    "    Find the Nth term of an Arithmetic Progression series.\n",
    "\n",
    "    Args:\n",
    "        a (int): The first term of the series.\n",
    "        d (int): The common difference of the series.\n",
    "        N (int): The integer representing the position of the term.\n",
    "\n",
    "    Returns:\n",
    "        int: The Nth term of the series.\n",
    "\n",
    "    \"\"\"\n",
    "\n",
    "    return a + (N - 1) * d\n"
   ]
  },
  {
   "cell_type": "code",
   "execution_count": 25,
   "id": "e8bb9055",
   "metadata": {},
   "outputs": [
    {
     "data": {
      "text/plain": [
       "6"
      ]
     },
     "execution_count": 25,
     "metadata": {},
     "output_type": "execute_result"
    }
   ],
   "source": [
    "nthTermOfAP(2,1,5)"
   ]
  },
  {
   "cell_type": "code",
   "execution_count": 26,
   "id": "bafef9ca",
   "metadata": {},
   "outputs": [
    {
     "data": {
      "text/plain": [
       "23"
      ]
     },
     "execution_count": 26,
     "metadata": {},
     "output_type": "execute_result"
    }
   ],
   "source": [
    "nthTermOfAP(5,2,10)"
   ]
  },
  {
   "cell_type": "markdown",
   "id": "06f33ed9",
   "metadata": {},
   "source": [
    "<aside>\n",
    "\n",
    "💡 **Question 7**\n",
    "\n",
    "Given a string S, the task is to write a program to print all permutations of a given string.\n",
    "\n",
    "**Example 1:**\n",
    "\n",
    "***Input:***\n",
    "\n",
    "*S = “ABC”*\n",
    "\n",
    "***Output:***\n",
    "\n",
    "*“ABC”, “ACB”, “BAC”, “BCA”, “CBA”, “CAB”*\n",
    "\n",
    "**Example 2:**\n",
    "\n",
    "***Input:***\n",
    "\n",
    "*S = “XY”*\n",
    "\n",
    "***Output:***\n",
    "\n",
    "*“XY”, “YX”*\n",
    "\n",
    "</aside>"
   ]
  },
  {
   "cell_type": "code",
   "execution_count": 27,
   "id": "a1968eaa",
   "metadata": {},
   "outputs": [],
   "source": [
    "def permutations(S):\n",
    "    \"\"\"\n",
    "    Find all permutations of a given string.\n",
    "\n",
    "    Args:\n",
    "        S (str): The input string.\n",
    "\n",
    "    Returns:\n",
    "        List[str]: The list of all permutations.\n",
    "\n",
    "    \"\"\"\n",
    "\n",
    "    if len(S) <= 1:\n",
    "        return [S]\n",
    "\n",
    "    perms = []\n",
    "    for i in range(len(S)):\n",
    "        char = S[i]\n",
    "        remaining = S[:i] + S[i+1:]\n",
    "        for perm in permutations(remaining):\n",
    "            perms.append(char + perm)\n",
    "\n",
    "    return perms\n"
   ]
  },
  {
   "cell_type": "code",
   "execution_count": 28,
   "id": "0e41021c",
   "metadata": {},
   "outputs": [
    {
     "data": {
      "text/plain": [
       "['ABC', 'ACB', 'BAC', 'BCA', 'CAB', 'CBA']"
      ]
     },
     "execution_count": 28,
     "metadata": {},
     "output_type": "execute_result"
    }
   ],
   "source": [
    "permutations(\"ABC\")"
   ]
  },
  {
   "cell_type": "code",
   "execution_count": 29,
   "id": "2092fa89",
   "metadata": {},
   "outputs": [
    {
     "data": {
      "text/plain": [
       "['XY', 'YX']"
      ]
     },
     "execution_count": 29,
     "metadata": {},
     "output_type": "execute_result"
    }
   ],
   "source": [
    "permutations(\"XY\")"
   ]
  },
  {
   "cell_type": "markdown",
   "id": "b8930129",
   "metadata": {},
   "source": [
    "<aside>\n",
    "\n",
    "💡 **Question 8**\n",
    "\n",
    "Given an array, find a product of all array elements.\n",
    "\n",
    "**Example 1:**\n",
    "\n",
    "Input  : arr[] = {1, 2, 3, 4, 5}\n",
    "Output : 120\n",
    "**Example 2:**\n",
    "\n",
    "Input  : arr[] = {1, 6, 3}\n",
    "Output : 18\n",
    "\n",
    "</aside>"
   ]
  },
  {
   "cell_type": "code",
   "execution_count": 30,
   "id": "67eac68a",
   "metadata": {},
   "outputs": [],
   "source": [
    "def productOfArray(arr):\n",
    "    \"\"\"\n",
    "    Find the product of all elements in the array.\n",
    "\n",
    "    Args:\n",
    "        arr (List[int]): The input array.\n",
    "\n",
    "    Returns:\n",
    "        int: The product of all elements in the array.\n",
    "\n",
    "    \"\"\"\n",
    "\n",
    "    if len(arr) == 1:\n",
    "        return arr[0]\n",
    "\n",
    "    return arr[0] * productOfArray(arr[1:])\n"
   ]
  },
  {
   "cell_type": "code",
   "execution_count": 31,
   "id": "2f1d2693",
   "metadata": {},
   "outputs": [
    {
     "data": {
      "text/plain": [
       "120"
      ]
     },
     "execution_count": 31,
     "metadata": {},
     "output_type": "execute_result"
    }
   ],
   "source": [
    "productOfArray([1,2,3,4,5])"
   ]
  },
  {
   "cell_type": "code",
   "execution_count": 32,
   "id": "c1dcc6f2",
   "metadata": {},
   "outputs": [
    {
     "data": {
      "text/plain": [
       "18"
      ]
     },
     "execution_count": 32,
     "metadata": {},
     "output_type": "execute_result"
    }
   ],
   "source": [
    "productOfArray([1,6,3])"
   ]
  }
 ],
 "metadata": {
  "kernelspec": {
   "display_name": "Python 3 (ipykernel)",
   "language": "python",
   "name": "python3"
  },
  "language_info": {
   "codemirror_mode": {
    "name": "ipython",
    "version": 3
   },
   "file_extension": ".py",
   "mimetype": "text/x-python",
   "name": "python",
   "nbconvert_exporter": "python",
   "pygments_lexer": "ipython3",
   "version": "3.10.11"
  }
 },
 "nbformat": 4,
 "nbformat_minor": 5
}
