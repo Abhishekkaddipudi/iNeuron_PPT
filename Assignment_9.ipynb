{
 "cells": [
  {
   "cell_type": "markdown",
   "id": "de461183",
   "metadata": {},
   "source": [
    "<a href=\"https://colab.research.google.com/github/jayant3297/Pre_Placement_Training/blob/main/Assignment13.ipynb\" target=\"_parent\"><img src=\"https://colab.research.google.com/assets/colab-badge.svg\" alt=\"Open In Colab\"/></a>"
   ]
  },
  {
   "cell_type": "markdown",
   "id": "51aaabc7",
   "metadata": {},
   "source": [
    "<aside>\n",
    "\n",
    "💡 **Question 1**\n",
    "\n",
    "Given an integer `n`, return *`true` if it is a power of two. Otherwise, return `false`*.\n",
    "\n",
    "An integer `n` is a power of two, if there exists an integer `x` such that `n == 2x`.\n",
    "\n",
    "**Example 1:**\n",
    "Input: n = 1 \n",
    "\n",
    "Output: true\n",
    "\n",
    "**Example 2:**\n",
    "Input: n = 16 \n",
    "\n",
    "Output: true\n",
    "\n",
    "**Example 3:**\n",
    "Input: n = 3 \n",
    "\n",
    "Output: false\n",
    "\n",
    "</aside>"
   ]
  },
  {
   "cell_type": "code",
   "execution_count": 33,
   "id": "c3b28f0b",
   "metadata": {},
   "outputs": [],
   "source": [
    "def isPowerOfTwo(n):\n",
    "    \"\"\"\n",
    "    Check if the given number is a power of two using recursion.\n",
    "\n",
    "    Args:\n",
    "        n (int): The input number.\n",
    "\n",
    "    Returns:\n",
    "        bool: True if n is a power of two, False otherwise.\n",
    "\n",
    "    \"\"\"\n",
    "\n",
    "    if n == 1:\n",
    "        return True\n",
    "    elif n < 1 or n % 2 != 0:\n",
    "        return False\n",
    "\n",
    "    return isPowerOfTwo(n // 2)\n"
   ]
  },
  {
   "cell_type": "code",
   "execution_count": 34,
   "id": "eaf9e6c3",
   "metadata": {},
   "outputs": [
    {
     "data": {
      "text/plain": [
       "False"
      ]
     },
     "execution_count": 34,
     "metadata": {},
     "output_type": "execute_result"
    }
   ],
   "source": [
    "n = 3\n",
    "isPowerOfTwo(n)"
   ]
  },
  {
   "cell_type": "code",
   "execution_count": 35,
   "id": "7efe671e",
   "metadata": {},
   "outputs": [
    {
     "data": {
      "text/plain": [
       "True"
      ]
     },
     "execution_count": 35,
     "metadata": {},
     "output_type": "execute_result"
    }
   ],
   "source": [
    "n = 16\n",
    "isPowerOfTwo(n)"
   ]
  },
  {
   "cell_type": "markdown",
   "id": "15a9f9c8",
   "metadata": {},
   "source": [
    "<aside>\n",
    "\n",
    "💡 **Question 2**\n",
    "\n",
    "Given a number n, find the sum of the first natural numbers.\n",
    "\n",
    "**Example 1:**\n",
    "\n",
    "Input: n = 3 \n",
    "\n",
    "Output: 6\n",
    "\n",
    "**Example 2:**\n",
    "\n",
    "Input  : 5 \n",
    "\n",
    "Output : 15\n",
    "\n",
    "</aside>"
   ]
  },
  {
   "cell_type": "code",
   "execution_count": 36,
   "id": "cf8f7ade",
   "metadata": {},
   "outputs": [],
   "source": [
    "def sumOfNaturalNumbers(n):\n",
    "    \"\"\"\n",
    "    Find the sum of the first n natural numbers using recursion.\n",
    "\n",
    "    Args:\n",
    "        n (int): The input number.\n",
    "\n",
    "    Returns:\n",
    "        int: The sum of the first n natural numbers.\n",
    "\n",
    "    \"\"\"\n",
    "\n",
    "    if n == 0:\n",
    "        return 0\n",
    "\n",
    "    return n + sumOfNaturalNumbers(n - 1)\n"
   ]
  },
  {
   "cell_type": "code",
   "execution_count": 37,
   "id": "66284608",
   "metadata": {},
   "outputs": [
    {
     "data": {
      "text/plain": [
       "6"
      ]
     },
     "execution_count": 37,
     "metadata": {},
     "output_type": "execute_result"
    }
   ],
   "source": [
    "sumOfNaturalNumbers(3)"
   ]
  },
  {
   "cell_type": "code",
   "execution_count": 38,
   "id": "7fd61790",
   "metadata": {},
   "outputs": [
    {
     "data": {
      "text/plain": [
       "15"
      ]
     },
     "execution_count": 38,
     "metadata": {},
     "output_type": "execute_result"
    }
   ],
   "source": [
    "sumOfNaturalNumbers(5)"
   ]
  },
  {
   "cell_type": "markdown",
   "id": "1ac28c67",
   "metadata": {},
   "source": [
    "<aside>\n",
    "    \n",
    "💡 **Question 3**\n",
    "\n",
    "****Given a positive integer, N. Find the factorial of N.****\n",
    "\n",
    "**Example 1:**\n",
    "\n",
    "Input: N = 5 \n",
    "\n",
    "Output: 120\n",
    "\n",
    "**Example 2:**\n",
    "\n",
    "Input: N = 4\n",
    "\n",
    "Output: 24\n",
    "\n",
    "</aside>"
   ]
  },
  {
   "cell_type": "code",
   "execution_count": 39,
   "id": "7cc58b94",
   "metadata": {},
   "outputs": [],
   "source": [
    "def factorial(n):\n",
    "    \"\"\"\n",
    "    Find the factorial of the given number using recursion.\n",
    "\n",
    "    Args:\n",
    "        n (int): The input number.\n",
    "\n",
    "    Returns:\n",
    "        int: The factorial of n.\n",
    "\n",
    "    \"\"\"\n",
    "\n",
    "    if n == 0:\n",
    "        return 1\n",
    "\n",
    "    return n * factorial(n - 1)\n"
   ]
  },
  {
   "cell_type": "code",
   "execution_count": 11,
   "id": "9eefb403",
   "metadata": {},
   "outputs": [
    {
     "data": {
      "text/plain": [
       "24"
      ]
     },
     "execution_count": 11,
     "metadata": {},
     "output_type": "execute_result"
    }
   ],
   "source": [
    "factorial(4)"
   ]
  },
  {
   "cell_type": "code",
   "execution_count": 12,
   "id": "058db4b6",
   "metadata": {},
   "outputs": [
    {
     "data": {
      "text/plain": [
       "120"
      ]
     },
     "execution_count": 12,
     "metadata": {},
     "output_type": "execute_result"
    }
   ],
   "source": [
    "factorial(5)"
   ]
  },
  {
   "cell_type": "markdown",
   "id": "a0cdeeb2",
   "metadata": {},
   "source": [
    "<aside>\n",
    "\n",
    "💡 **Question 4**\n",
    "\n",
    "Given a number N and a power P, the task is to find the exponent of this number raised to the given power, i.e. N^P.\n",
    "\n",
    "**Example 1 :** \n",
    "\n",
    "Input: N = 5, P = 2\n",
    "\n",
    "Output: 25\n",
    "\n",
    "**Example 2 :**\n",
    "Input: N = 2, P = 5\n",
    "\n",
    "Output: 32\n",
    "\n",
    "</aside>"
   ]
  },
  {
   "cell_type": "code",
   "execution_count": 40,
   "id": "b322571e",
   "metadata": {},
   "outputs": [],
   "source": [
    "def powerOfNumber(N, P):\n",
    "    \"\"\"\n",
    "    Find N raised to the power of P using recursion.\n",
    "\n",
    "    Args:\n",
    "        N (int): The base number.\n",
    "        P (int): The exponent.\n",
    "\n",
    "    Returns:\n",
    "        int: The result of N^P.\n",
    "\n",
    "    \"\"\"\n",
    "\n",
    "    if P == 0:\n",
    "        return 1\n",
    "\n",
    "    return N * powerOfNumber(N, P - 1)\n"
   ]
  },
  {
   "cell_type": "code",
   "execution_count": 41,
   "id": "cb0d77b0",
   "metadata": {},
   "outputs": [
    {
     "data": {
      "text/plain": [
       "25"
      ]
     },
     "execution_count": 41,
     "metadata": {},
     "output_type": "execute_result"
    }
   ],
   "source": [
    "powerOfNumber(5,2)"
   ]
  },
  {
   "cell_type": "code",
   "execution_count": 42,
   "id": "9210ee94",
   "metadata": {},
   "outputs": [
    {
     "data": {
      "text/plain": [
       "32"
      ]
     },
     "execution_count": 42,
     "metadata": {},
     "output_type": "execute_result"
    }
   ],
   "source": [
    "powerOfNumber(2,5)"
   ]
  },
  {
   "cell_type": "markdown",
   "id": "f7c98880",
   "metadata": {},
   "source": [
    "<aside>\n",
    "\n",
    "💡 **Question 5**\n",
    "\n",
    "Given an array of integers **arr**, the task is to find maximum element of that array using recursion.\n",
    "\n",
    "**Example 1:**\n",
    "\n",
    "Input: arr = {1, 4, 3, -5, -4, 8, 6};\n",
    "Output: 8\n",
    "\n",
    "**Example 2:**\n",
    "\n",
    "Input: arr = {1, 4, 45, 6, 10, -8};\n",
    "Output: 45\n",
    "\n",
    "</aside>"
   ]
  },
  {
   "cell_type": "code",
   "execution_count": 43,
   "id": "6e16a81d",
   "metadata": {},
   "outputs": [],
   "source": [
    "def maxElement(arr):\n",
    "    \"\"\"\n",
    "    Find the maximum element in the given array using recursion.\n",
    "\n",
    "    Args:\n",
    "        arr (List[int]): The input array of integers.\n",
    "\n",
    "    Returns:\n",
    "        int: The maximum element in the array.\n",
    "\n",
    "    \"\"\"\n",
    "\n",
    "    if len(arr) == 1:\n",
    "        return arr[0]\n",
    "\n",
    "    return max(arr[0], maxElement(arr[1:]))\n"
   ]
  },
  {
   "cell_type": "code",
   "execution_count": 44,
   "id": "9240ab8c",
   "metadata": {},
   "outputs": [
    {
     "data": {
      "text/plain": [
       "8"
      ]
     },
     "execution_count": 44,
     "metadata": {},
     "output_type": "execute_result"
    }
   ],
   "source": [
    "maxElement([1,4,3,-5,-4,8,6])"
   ]
  },
  {
   "cell_type": "code",
   "execution_count": 45,
   "id": "27cfeb98",
   "metadata": {},
   "outputs": [
    {
     "data": {
      "text/plain": [
       "45"
      ]
     },
     "execution_count": 45,
     "metadata": {},
     "output_type": "execute_result"
    }
   ],
   "source": [
    "maxElement([1,4,45,6,10,-8])"
   ]
  },
  {
   "cell_type": "markdown",
   "id": "0f30cedb",
   "metadata": {},
   "source": [
    "<aside>\n",
    "\n",
    "💡 **Question 6**\n",
    "\n",
    "Given first term (a), common difference (d) and a integer N of the Arithmetic Progression series, the task is to find Nth term of the series.\n",
    "\n",
    "**Example 1:**\n",
    "\n",
    "Input : a = 2 d = 1 N = 5\n",
    "Output : 6\n",
    "The 5th term of the series is : 6\n",
    "\n",
    "**Example 2:**\n",
    "\n",
    "Input : a = 5 d = 2 N = 10\n",
    "Output : 23\n",
    "The 10th term of the series is : 23\n",
    "\n",
    "</aside>"
   ]
  },
  {
   "cell_type": "code",
   "execution_count": 46,
   "id": "b8a991c7",
   "metadata": {},
   "outputs": [],
   "source": [
    "def nthTermOfAP(a, d, N):\n",
    "    \"\"\"\n",
    "    Find the Nth term of an Arithmetic Progression series using recursion.\n",
    "\n",
    "    Args:\n",
    "        a (int): The first term of the series.\n",
    "        d (int): The common difference of the series.\n",
    "        N (int): The integer representing the position of the term.\n",
    "\n",
    "    Returns:\n",
    "        int: The Nth term of the series.\n",
    "\n",
    "    \"\"\"\n",
    "\n",
    "    if N == 1:\n",
    "        return a\n",
    "\n",
    "    return nthTermOfAP(a + d, d, N - 1)\n"
   ]
  },
  {
   "cell_type": "code",
   "execution_count": 47,
   "id": "8bb9ad77",
   "metadata": {},
   "outputs": [
    {
     "data": {
      "text/plain": [
       "6"
      ]
     },
     "execution_count": 47,
     "metadata": {},
     "output_type": "execute_result"
    }
   ],
   "source": [
    "nthTermOfAP(2,1,5)"
   ]
  },
  {
   "cell_type": "code",
   "execution_count": 48,
   "id": "bcf1cb56",
   "metadata": {},
   "outputs": [
    {
     "data": {
      "text/plain": [
       "23"
      ]
     },
     "execution_count": 48,
     "metadata": {},
     "output_type": "execute_result"
    }
   ],
   "source": [
    "nthTermOfAP(5,2,10)"
   ]
  },
  {
   "cell_type": "markdown",
   "id": "f81b23ca",
   "metadata": {},
   "source": [
    "<aside>\n",
    "\n",
    "💡 **Question 7**\n",
    "\n",
    "Given a string S, the task is to write a program to print all permutations of a given string.\n",
    "\n",
    "**Example 1:**\n",
    "\n",
    "***Input:***\n",
    "\n",
    "*S = “ABC”*\n",
    "\n",
    "***Output:***\n",
    "\n",
    "*“ABC”, “ACB”, “BAC”, “BCA”, “CBA”, “CAB”*\n",
    "\n",
    "**Example 2:**\n",
    "\n",
    "***Input:***\n",
    "\n",
    "*S = “XY”*\n",
    "\n",
    "***Output:***\n",
    "\n",
    "*“XY”, “YX”*\n",
    "\n",
    "</aside>"
   ]
  },
  {
   "cell_type": "code",
   "execution_count": 49,
   "id": "819287b5",
   "metadata": {},
   "outputs": [],
   "source": [
    "def permutations(S):\n",
    "    \"\"\"\n",
    "    Find all permutations of a given string using recursion.\n",
    "\n",
    "    Args:\n",
    "        S (str): The input string.\n",
    "\n",
    "    Returns:\n",
    "        List[str]: The list of all permutations.\n",
    "\n",
    "    \"\"\"\n",
    "\n",
    "    if len(S) <= 1:\n",
    "        return [S]\n",
    "\n",
    "    perms = []\n",
    "    for i in range(len(S)):\n",
    "        char = S[i]\n",
    "        remaining = S[:i] + S[i+1:]\n",
    "        for perm in permutations(remaining):\n",
    "            perms.append(char + perm)\n",
    "\n",
    "    return perms\n"
   ]
  },
  {
   "cell_type": "code",
   "execution_count": 50,
   "id": "e8f93104",
   "metadata": {},
   "outputs": [
    {
     "data": {
      "text/plain": [
       "['ABC', 'ACB', 'BAC', 'BCA', 'CAB', 'CBA']"
      ]
     },
     "execution_count": 50,
     "metadata": {},
     "output_type": "execute_result"
    }
   ],
   "source": [
    "permutations(\"ABC\")"
   ]
  },
  {
   "cell_type": "code",
   "execution_count": 51,
   "id": "0294a8b5",
   "metadata": {},
   "outputs": [
    {
     "data": {
      "text/plain": [
       "['XY', 'YX']"
      ]
     },
     "execution_count": 51,
     "metadata": {},
     "output_type": "execute_result"
    }
   ],
   "source": [
    "permutations(\"XY\")"
   ]
  },
  {
   "cell_type": "markdown",
   "id": "c1fa2a33",
   "metadata": {},
   "source": [
    "<aside>\n",
    "\n",
    "💡 **Question 8**\n",
    "\n",
    "Given an array, find a product of all array elements.\n",
    "\n",
    "**Example 1:**\n",
    "\n",
    "Input  : arr[] = {1, 2, 3, 4, 5}\n",
    "Output : 120\n",
    "**Example 2:**\n",
    "\n",
    "Input  : arr[] = {1, 6, 3}\n",
    "Output : 18\n",
    "\n",
    "</aside>"
   ]
  },
  {
   "cell_type": "code",
   "execution_count": 52,
   "id": "d93bd91e",
   "metadata": {},
   "outputs": [],
   "source": [
    "def productOfArray(arr):\n",
    "    \"\"\"\n",
    "    Find the product of all elements in the array using recursion.\n",
    "\n",
    "    Args:\n",
    "        arr (List[int]): The input array.\n",
    "\n",
    "    Returns:\n",
    "        int: The product of all elements in the array.\n",
    "\n",
    "    \"\"\"\n",
    "\n",
    "    if len(arr) == 1:\n",
    "        return arr[0]\n",
    "\n",
    "    return arr[0] * productOfArray(arr[1:])\n"
   ]
  },
  {
   "cell_type": "code",
   "execution_count": 53,
   "id": "f7f23446",
   "metadata": {},
   "outputs": [
    {
     "data": {
      "text/plain": [
       "120"
      ]
     },
     "execution_count": 53,
     "metadata": {},
     "output_type": "execute_result"
    }
   ],
   "source": [
    "productOfArray([1,2,3,4,5])"
   ]
  },
  {
   "cell_type": "code",
   "execution_count": 54,
   "id": "3620a21f",
   "metadata": {},
   "outputs": [
    {
     "data": {
      "text/plain": [
       "18"
      ]
     },
     "execution_count": 54,
     "metadata": {},
     "output_type": "execute_result"
    }
   ],
   "source": [
    "productOfArray([1,6,3])"
   ]
  }
 ],
 "metadata": {
  "kernelspec": {
   "display_name": "Python 3 (ipykernel)",
   "language": "python",
   "name": "python3"
  },
  "language_info": {
   "codemirror_mode": {
    "name": "ipython",
    "version": 3
   },
   "file_extension": ".py",
   "mimetype": "text/x-python",
   "name": "python",
   "nbconvert_exporter": "python",
   "pygments_lexer": "ipython3",
   "version": "3.10.11"
  }
 },
 "nbformat": 4,
 "nbformat_minor": 5
}
