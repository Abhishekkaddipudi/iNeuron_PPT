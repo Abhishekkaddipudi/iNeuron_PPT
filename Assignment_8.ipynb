{
 "cells": [
  {
   "cell_type": "markdown",
   "id": "4c38b8e7",
   "metadata": {},
   "source": [
    "<aside>\n",
    "    \n",
    "    \n",
    "💡 **Question 1**\n",
    "\n",
    "Given two strings s1 and s2, return *the lowest **ASCII** sum of deleted characters to make two strings equal*.\n",
    "\n",
    "**Example 1:**\n",
    "\n",
    "**Input:** s1 = \"sea\", s2 = \"eat\"\n",
    "\n",
    "**Output:** 231\n",
    "\n",
    "**Explanation:** Deleting \"s\" from \"sea\" adds the ASCII value of \"s\" (115) to the sum.\n",
    "\n",
    "Deleting \"t\" from \"eat\" adds 116 to the sum.\n",
    "\n",
    "At the end, both strings are equal, and 115 + 116 = 231 is the minimum sum possible to achieve this.\n",
    "\n",
    "</aside>"
   ]
  },
  {
   "cell_type": "code",
   "execution_count": 4,
   "id": "3bb7c91f",
   "metadata": {},
   "outputs": [],
   "source": [
    "\"\"\"\n",
    "Iterate over s1 and s2 \n",
    "    If the current characters at indices i and j are equal, the lowest sum doesn't change,\n",
    "    so we can simply copy the value from the previous diagonal cell (dp[i - 1][j - 1]).\n",
    "    If the characters are different, we have two options:\n",
    "        Delete the character from s1 by adding its ASCII value to the sum (dp[i - 1][j] + ord(s1[i - 1])).\n",
    "        Delete the character from s2 by adding its ASCII value to the sum (dp[i][j - 1] + ord(s2[j - 1])).\n",
    "        We choose the minimum value among these options and store it in the DP table (dp[i][j]).\n",
    "\n",
    "Finally, the lowest ASCII sum of deleted characters is obtained from dp[m][n], \n",
    "where m and n are the lengths of s1 and s2, respectively.\n",
    "\n",
    "TC : O(m*n)\n",
    "SC : O(m*n)\n",
    "\n",
    "\"\"\"\n",
    "\n",
    "\n",
    "def minimumDeleteSum(s1, s2):\n",
    "    \"\"\"\n",
    "    Returns the lowest ASCII sum of deleted characters to make two strings equal.\n",
    "\n",
    "    Args:\n",
    "        s1 (str): The first string.\n",
    "        s2 (str): The second string.\n",
    "\n",
    "    Returns:\n",
    "        int: The lowest ASCII sum of deleted characters.\n",
    "\n",
    "    \"\"\"\n",
    "\n",
    "    m, n = len(s1), len(s2)\n",
    "\n",
    "    dp = [[0] * (n + 1) for _ in range(m + 1)]\n",
    "\n",
    "    for i in range(1, m + 1):\n",
    "        dp[i][0] = dp[i - 1][0] + ord(s1[i - 1])\n",
    "\n",
    "    for j in range(1, n + 1):\n",
    "        dp[0][j] = dp[0][j - 1] + ord(s2[j - 1])\n",
    "\n",
    "    for i in range(1, m + 1):\n",
    "        for j in range(1, n + 1):\n",
    "            if s1[i - 1] == s2[j - 1]:\n",
    "                dp[i][j] = dp[i - 1][j - 1]\n",
    "            else:\n",
    "                dp[i][j] = min(dp[i - 1][j] + ord(s1[i - 1]), dp[i][j - 1] + ord(s2[j - 1]))\n",
    "\n",
    "    return dp[m][n]"
   ]
  },
  {
   "cell_type": "code",
   "execution_count": 5,
   "id": "c359799b",
   "metadata": {},
   "outputs": [
    {
     "data": {
      "text/plain": [
       "231"
      ]
     },
     "execution_count": 5,
     "metadata": {},
     "output_type": "execute_result"
    }
   ],
   "source": [
    "s1 = \"sea\"\n",
    "s2 = \"eat\"\n",
    "minimumDeleteSum(s1, s2)"
   ]
  },
  {
   "cell_type": "markdown",
   "id": "e6f95d95",
   "metadata": {},
   "source": [
    "<aside>\n",
    "    \n",
    "💡 **Question 2**\n",
    "\n",
    "Given a string s containing only three types of characters: '(', ')' and '*', return true *if* s *is*  **valid***.\n",
    "\n",
    "The following rules define a **valid** string:\n",
    "\n",
    "- Any left parenthesis '(' must have a corresponding right parenthesis ')'.\n",
    "- Any right parenthesis ')' must have a corresponding left parenthesis '('.\n",
    "- Left parenthesis '(' must go before the corresponding right parenthesis ')'.\n",
    "- '*' could be treated as a single right parenthesis ')' or a single left parenthesis '(' or an empty string \"\".\n",
    "\n",
    "**Example 1:**\n",
    "\n",
    "**Input:** s = \"()\"\n",
    "\n",
    "**Output:**\n",
    "\n",
    "true\n",
    "\n",
    "</aside>"
   ]
  },
  {
   "cell_type": "code",
   "execution_count": 14,
   "id": "40cca583",
   "metadata": {},
   "outputs": [],
   "source": [
    "\n",
    "\"\"\"\n",
    "While traversing from left to right:\n",
    "\n",
    "    If a '(' is encountered, the open_count is incremented.\n",
    "    If a '*' is encountered, the asterisk_count is incremented.\n",
    "    If a ')' is encountered, the following checks are performed:\n",
    "        If there is at least one open parenthesis, it can be matched with the current closing parenthesis,\n",
    "        so open_count is decremented.\n",
    "        Otherwise, if there is at least one asterisk, it can be treated as an open parenthesis, \n",
    "        so asterisk_count is decremented.\n",
    "    If both the above conditions fail, the string is invalid, and False is returned.\n",
    "\n",
    "After completing the left-to-right traversal, \n",
    "the counts are reset, and the algorithm performs a right-to-left traversal following the same logic.\n",
    "\n",
    "TC : O(n)\n",
    "SC : O(1)\n",
    "\n",
    "\"\"\"\n",
    "\n",
    "def checkValidString(s):\n",
    "    \"\"\"\n",
    "    Checks if the given string is valid according to the rules.\n",
    "\n",
    "    Args:\n",
    "        s (str): The input string.\n",
    "\n",
    "    Returns:\n",
    "        bool: True if the string is valid, False otherwise.\n",
    "\n",
    "    \"\"\"\n",
    "\n",
    "  \n",
    "    open_count = 0\n",
    "    asterisk_count = 0\n",
    "\n",
    "    for char in s:\n",
    "        if char == '(':\n",
    "            open_count += 1\n",
    "        elif char == '*':\n",
    "            asterisk_count += 1\n",
    "        else:  # char == ')'\n",
    "            if open_count > 0:\n",
    "                open_count -= 1\n",
    "            elif asterisk_count > 0:\n",
    "                asterisk_count -= 1\n",
    "            else:\n",
    "                return False\n",
    "\n",
    "    open_count = 0\n",
    "    asterisk_count = 0\n",
    "\n",
    "    for char in reversed(s):\n",
    "        if char == ')':\n",
    "            open_count += 1\n",
    "        elif char == '*':\n",
    "            asterisk_count += 1\n",
    "        else:  # char == '('\n",
    "            if open_count > 0:\n",
    "                open_count -= 1\n",
    "            elif asterisk_count > 0:\n",
    "                asterisk_count -= 1\n",
    "            else:\n",
    "                return False\n",
    "\n",
    "    return True"
   ]
  },
  {
   "cell_type": "code",
   "execution_count": 13,
   "id": "a9c1431f",
   "metadata": {},
   "outputs": [
    {
     "data": {
      "text/plain": [
       "True"
      ]
     },
     "execution_count": 13,
     "metadata": {},
     "output_type": "execute_result"
    }
   ],
   "source": [
    "s = \"()\"\n",
    "checkValidString(s)"
   ]
  },
  {
   "cell_type": "code",
   "execution_count": 10,
   "id": "722d8636",
   "metadata": {},
   "outputs": [
    {
     "data": {
      "text/plain": [
       "True"
      ]
     },
     "execution_count": 10,
     "metadata": {},
     "output_type": "execute_result"
    }
   ],
   "source": [
    "s = \"(*)\"\n",
    "checkValidString(s)"
   ]
  },
  {
   "cell_type": "code",
   "execution_count": 11,
   "id": "d7c8b0a0",
   "metadata": {},
   "outputs": [
    {
     "data": {
      "text/plain": [
       "True"
      ]
     },
     "execution_count": 11,
     "metadata": {},
     "output_type": "execute_result"
    }
   ],
   "source": [
    "s = \"(*))\"\n",
    "checkValidString(s)"
   ]
  },
  {
   "cell_type": "markdown",
   "id": "3558a9ed",
   "metadata": {},
   "source": [
    "<aside>\n",
    "    \n",
    "💡 **Question 3**\n",
    "\n",
    "Given two strings word1 and word2, return *the minimum number of **steps** required to make* word1 *and* word2 *the same*.\n",
    "\n",
    "In one **step**, you can delete exactly one character in either string.\n",
    "\n",
    "**Example 1:**\n",
    "\n",
    "**Input:** word1 = \"sea\", word2 = \"eat\"\n",
    "\n",
    "**Output:** 2\n",
    "\n",
    "**Explanation:** You need one step to make \"sea\" to \"ea\" and another step to make \"eat\" to \"ea\".\n",
    "\n",
    "</aside>"
   ]
  },
  {
   "cell_type": "code",
   "execution_count": 18,
   "id": "f6b8f988",
   "metadata": {},
   "outputs": [],
   "source": [
    "def minStepsToDelete(word1, word2):\n",
    "    \"\"\"\n",
    "    Returns the minimum number of steps required to make two strings the same.\n",
    "\n",
    "    Args:\n",
    "        word1 (str): The first word.\n",
    "        word2 (str): The second word.\n",
    "\n",
    "    Returns:\n",
    "        int: The minimum number of steps required.\n",
    "\n",
    "    \"\"\"\n",
    "\n",
    "    m, n = len(word1), len(word2)\n",
    "\n",
    "    dp = [[0] * (n + 1) for _ in range(m + 1)]\n",
    "\n",
    "\n",
    "    for i in range(1, m + 1):\n",
    "        dp[i][0] = i\n",
    "\n",
    "    for j in range(1, n + 1):\n",
    "        dp[0][j] = j\n",
    "\n",
    "    for i in range(1, m + 1):\n",
    "        for j in range(1, n + 1):\n",
    "            if word1[i - 1] == word2[j - 1]:\n",
    "                dp[i][j] = dp[i - 1][j - 1]\n",
    "            else:\n",
    "                dp[i][j] = min(dp[i - 1][j], dp[i][j - 1]) + 1\n",
    "\n",
    "    return dp[m][n]"
   ]
  },
  {
   "cell_type": "code",
   "execution_count": 19,
   "id": "dfb806da",
   "metadata": {},
   "outputs": [
    {
     "data": {
      "text/plain": [
       "2"
      ]
     },
     "execution_count": 19,
     "metadata": {},
     "output_type": "execute_result"
    }
   ],
   "source": [
    "word1 = \"sea\"\n",
    "word2 = \"eat\"\n",
    "minStepsToDelete(word1, word2)"
   ]
  },
  {
   "cell_type": "markdown",
   "id": "03e6affd",
   "metadata": {},
   "source": [
    "<aside>\n",
    "    \n",
    "💡 **Question 4**\n",
    "\n",
    "You need to construct a binary tree from a string consisting of parenthesis and integers.\n",
    "\n",
    "The whole input represents a binary tree. It contains an integer followed by zero, one or two pairs of parenthesis. The integer represents the root's value and a pair of parenthesis contains a child binary tree with the same structure.\n",
    "You always start to construct the **left** child node of the parent first if it exists.\n",
    "\n",
    "<img src = \"https://pwskills.notion.site/image/https%3A%2F%2Fs3-us-west-2.amazonaws.com%2Fsecure.notion-static.com%2Fbdbea2d1-34a4-4c4b-a450-ea6db7410c43%2FScreenshot_2023-05-29_010548.png?id=1b3741fb-5b89-45a9-98bd-4c1e9ecac1f2&table=block&spaceId=6fae2e0f-dedc-48e9-bc59-af2654c78209&width=1060&userId=&cache=v2\" height=400px width=400px style=margin:0px>\n",
    "    \n",
    "    \n",
    "**Input:** s = \"4(2(3)(1))(6(5))\"\n",
    "\n",
    "**Output:** [4,2,6,3,1,5]    \n",
    "</aside>"
   ]
  },
  {
   "cell_type": "code",
   "execution_count": 1,
   "id": "3ef29bd0",
   "metadata": {},
   "outputs": [],
   "source": [
    "class TreeNode:\n",
    "    def __init__(self, val=0, left=None, right=None):\n",
    "        self.val = val\n",
    "        self.left = left\n",
    "        self.right = right"
   ]
  },
  {
   "cell_type": "code",
   "execution_count": 29,
   "id": "386ae449",
   "metadata": {},
   "outputs": [],
   "source": [
    "class Solution(object):\n",
    "    def str2tree(self, s):\n",
    "        \"\"\"\n",
    "        :type s: str\n",
    "        :rtype: TreeNode\n",
    "        \"\"\"\n",
    "        if not s or len(s) == 0:\n",
    "            return None\n",
    "        if '(' not in s:\n",
    "            return TreeNode(int(s))\n",
    "        \n",
    "        def paren_pair_idx(s):   \n",
    "            paren_count = 0\n",
    "            for i in range(len(s)):\n",
    "                if s[i] == '(':\n",
    "                    paren_count += 1\n",
    "                elif s[i] == ')':\n",
    "                    paren_count -= 1\n",
    "                if paren_count == 0 and i > s.find('('):\n",
    "                    return (s.find('('), i)\n",
    "                \n",
    "        root = TreeNode(int(s[:s.find('(')]))\n",
    "        (paren_left, paren_right) = paren_pair_idx(s)\n",
    "        root.left = self.str2tree(s[paren_left+1: paren_right])\n",
    "        if paren_right < len(s) - 1:\n",
    "            root.right = self.str2tree(s[paren_right+2:-1])  \n",
    "        else:\n",
    "            root.right = None\n",
    "        return root"
   ]
  },
  {
   "cell_type": "code",
   "execution_count": 30,
   "id": "b941d06e",
   "metadata": {},
   "outputs": [],
   "source": [
    "s=\"4(2(3)(1))(6(5))\"\n",
    "root=constructBinaryTree(s)"
   ]
  },
  {
   "cell_type": "code",
   "execution_count": 41,
   "id": "c0fe67d6",
   "metadata": {},
   "outputs": [
    {
     "name": "stdout",
     "output_type": "stream",
     "text": [
      "4 2 6 3 1 5 "
     ]
    }
   ],
   "source": [
    "from LevelOrder import printCurrentLevel\n",
    "printLevelOrder(root)"
   ]
  },
  {
   "cell_type": "markdown",
   "id": "42ea1bff",
   "metadata": {},
   "source": [
    "<aside>\n",
    "\n",
    "💡 **Question 5**\n",
    "\n",
    "Given an array of characters chars, compress it using the following algorithm:\n",
    "\n",
    "Begin with an empty string s. For each group of **consecutive repeating characters** in chars:\n",
    "\n",
    "- If the group's length is 1, append the character to s.\n",
    "- Otherwise, append the character followed by the group's length.\n",
    "\n",
    "The compressed string s **should not be returned separately**, but instead, be stored **in the input character array chars**. Note that group lengths that are 10 or longer will be split into multiple characters in chars.\n",
    "\n",
    "After you are done **modifying the input array,** return *the new length of the array*.\n",
    "\n",
    "You must write an algorithm that uses only constant extra space.\n",
    "\n",
    "**Example 1:**\n",
    "\n",
    "**Input:** chars = [\"a\",\"a\",\"b\",\"b\",\"c\",\"c\",\"c\"]\n",
    "\n",
    "**Output:** Return 6, and the first 6 characters of the input array should be: [\"a\",\"2\",\"b\",\"2\",\"c\",\"3\"]\n",
    "\n",
    "**Explanation:**\n",
    "\n",
    "The groups are \"aa\", \"bb\", and \"ccc\". This compresses to \"a2b2c3\".\n",
    "\n",
    "</aside>"
   ]
  },
  {
   "cell_type": "code",
   "execution_count": 56,
   "id": "fa016fa5",
   "metadata": {},
   "outputs": [],
   "source": [
    "def compress(chars):\n",
    "    \"\"\"\n",
    "    Compress the given array of characters using the specified algorithm.\n",
    "\n",
    "    Args:\n",
    "        chars (List[str]): The input character array.\n",
    "\n",
    "    Returns:\n",
    "        int: The new length of the compressed array.\n",
    "\n",
    "    \"\"\"\n",
    "\n",
    "    write_idx = 0\n",
    "    read_idx = 0\n",
    "\n",
    "    while read_idx < len(chars):\n",
    "        char = chars[read_idx]\n",
    "        count = 0\n",
    "\n",
    "        while read_idx < len(chars) and chars[read_idx] == char:\n",
    "            read_idx += 1\n",
    "            count += 1\n",
    "\n",
    "        chars[write_idx] = char\n",
    "        write_idx += 1\n",
    "\n",
    "        if count > 1:\n",
    "            count_str = str(count)\n",
    "            for c in count_str:\n",
    "                chars[write_idx] = c\n",
    "                write_idx += 1\n",
    "\n",
    "    return write_idx\n"
   ]
  },
  {
   "cell_type": "code",
   "execution_count": 59,
   "id": "3217445a",
   "metadata": {},
   "outputs": [
    {
     "data": {
      "text/plain": [
       "6"
      ]
     },
     "execution_count": 59,
     "metadata": {},
     "output_type": "execute_result"
    }
   ],
   "source": [
    "chars = [\"a\",\"a\",\"b\",\"b\",\"c\",\"c\",\"c\"]\n",
    "\n",
    "compress(chars)"
   ]
  },
  {
   "cell_type": "markdown",
   "id": "f18a0002",
   "metadata": {},
   "source": [
    "<aside>\n",
    "\n",
    "💡 **Question 6**\n",
    "\n",
    "Given two strings s and p, return *an array of all the start indices of* p*'s anagrams in* s. You may return the answer in **any order**.\n",
    "\n",
    "An **Anagram** is a word or phrase formed by rearranging the letters of a different word or phrase, typically using all the original letters exactly once.\n",
    "\n",
    "**Example 1:**\n",
    "\n",
    "**Input:** s = \"cbaebabacd\", p = \"abc\"\n",
    "\n",
    "**Output:** [0,6]\n",
    "\n",
    "**Explanation:**\n",
    "\n",
    "The substring with start index = 0 is \"cba\", which is an anagram of \"abc\".\n",
    "\n",
    "The substring with start index = 6 is \"bac\", which is an anagram of \"abc\".\n",
    "\n",
    "</aside>"
   ]
  },
  {
   "cell_type": "markdown",
   "id": "97cc433f",
   "metadata": {},
   "source": [
    "Algorithm:\n",
    "\n",
    "    Create an empty dictionary p_counter to store the character frequency of p.\n",
    "    Create an empty dictionary window_counter to represent the current window of characters in s.\n",
    "    Initialize two pointers, left and right, to track the window boundaries. Set them both to 0.\n",
    "    Initialize an empty list result to store the start indices of anagrams.\n",
    "    Calculate the character frequency of p and store it in p_counter.\n",
    "    While the right pointer is less than the length of s:\n",
    "    a. Increment the frequency of the character at the right pointer of s in window_counter.\n",
    "    b. If the size of the window is greater than the size of p, move the left pointer to the right.\n",
    "    - Decrement the frequency of the character at the left pointer of s in window_counter.\n",
    "    - If the frequency becomes 0, remove the character from window_counter.\n",
    "    - Increment the left pointer.\n",
    "    c. If p_counter is equal to window_counter, it means we have found an anagram:\n",
    "    - Add the start index of the window (left pointer) to the result list.\n",
    "    d. Increment the right pointer.\n",
    "    Return the result list containing the start indices of anagrams."
   ]
  },
  {
   "cell_type": "code",
   "execution_count": 60,
   "id": "d51a6c68",
   "metadata": {},
   "outputs": [],
   "source": [
    "def findAnagrams(s, p):\n",
    "    \"\"\"\n",
    "    Find all the start indices of p's anagrams in s.\n",
    "\n",
    "    Args:\n",
    "        s (str): The input string s.\n",
    "        p (str): The input string p.\n",
    "\n",
    "    Returns:\n",
    "        List[int]: The list of start indices.\n",
    "\n",
    "    \"\"\"\n",
    "\n",
    "    p_counter = {}\n",
    "    window_counter = {}\n",
    "    result = []\n",
    "\n",
    "    for char in p:\n",
    "        p_counter[char] = p_counter.get(char, 0) + 1\n",
    "\n",
    "    left = right = 0\n",
    "    while right < len(s):\n",
    "        window_counter[s[right]] = window_counter.get(s[right], 0) + 1\n",
    "\n",
    "        if right - left + 1 > len(p):\n",
    "            window_counter[s[left]] -= 1\n",
    "            if window_counter[s[left]] == 0:\n",
    "                del window_counter[s[left]]\n",
    "            left += 1\n",
    "\n",
    "        if p_counter == window_counter:\n",
    "            result.append(left)\n",
    "\n",
    "        right += 1\n",
    "\n",
    "    return result\n"
   ]
  },
  {
   "cell_type": "code",
   "execution_count": 62,
   "id": "49725d1c",
   "metadata": {},
   "outputs": [
    {
     "data": {
      "text/plain": [
       "[0, 6]"
      ]
     },
     "execution_count": 62,
     "metadata": {},
     "output_type": "execute_result"
    }
   ],
   "source": [
    "s = \"cbaebabacd\"\n",
    "p = \"abc\"\n",
    "result = findAnagrams(s, p)\n",
    "result"
   ]
  },
  {
   "cell_type": "markdown",
   "id": "b24aa589",
   "metadata": {},
   "source": [
    "<aside>\n",
    "\n",
    "💡 **Question 7**\n",
    "\n",
    "Given an encoded string, return its decoded string.\n",
    "\n",
    "The encoding rule is: k[encoded_string], where the encoded_string inside the square brackets is being repeated exactly k times. Note that k is guaranteed to be a positive integer.\n",
    "\n",
    "You may assume that the input string is always valid; there are no extra white spaces, square brackets are well-formed, etc. Furthermore, you may assume that the original data does not contain any digits and that digits are only for those repeat numbers, k. For example, there will not be input like 3a or 2[4].\n",
    "\n",
    "The test cases are generated so that the length of the output will never exceed 105.\n",
    "\n",
    "**Example 1:**\n",
    "\n",
    "**Input:** s = \"3[a]2[bc]\"\n",
    "\n",
    "**Output:** \"aaabcbc\"\n",
    "\n",
    "</aside>"
   ]
  },
  {
   "cell_type": "markdown",
   "id": "b3ee6e67",
   "metadata": {},
   "source": [
    "Algorithm:\n",
    "\n",
    "    Create an empty stack to store the characters.\n",
    "    Initialize an empty string result to store the decoded string.\n",
    "    Iterate through each character c in the input string s:\n",
    "    a. If c is not equal to ']', push it onto the stack.\n",
    "    b. If c is equal to ']', it means we need to decode the characters inside the square brackets:\n",
    "        Pop characters from the stack until we encounter '['.\n",
    "        Construct the encoded string by joining the popped characters in reverse order.\n",
    "        Pop the '[' character from the stack.\n",
    "        Pop characters from the stack until we encounter a digit.\n",
    "        Convert the popped characters to an integer count, which represents the number of times the encoded string should be repeated.\n",
    "        Append count copies of the encoded string to the result.\n",
    "    Return the result, which contains the decoded string."
   ]
  },
  {
   "cell_type": "code",
   "execution_count": 68,
   "id": "d4ada1f3",
   "metadata": {},
   "outputs": [],
   "source": [
    "def decodeString(s):\n",
    "    \"\"\"\n",
    "    Decode the given encoded string.\n",
    "\n",
    "    Args:\n",
    "        s (str): The input encoded string.\n",
    "\n",
    "    Returns:\n",
    "        str: The decoded string.\n",
    "\n",
    "    \"\"\"\n",
    "\n",
    "    stack = []\n",
    "\n",
    "    for c in s:\n",
    "        if c != ']':\n",
    "            stack.append(c)\n",
    "        else:\n",
    "            encoded_string = ''\n",
    "            while stack and stack[-1] != '[':\n",
    "                encoded_string = stack.pop() + encoded_string\n",
    "            stack.pop() \n",
    "            count = ''\n",
    "            while stack and stack[-1].isdigit():\n",
    "                count = stack.pop() + count\n",
    "            count = int(count)\n",
    "            stack.append(encoded_string * count)\n",
    "\n",
    "    return ''.join(stack)\n"
   ]
  },
  {
   "cell_type": "code",
   "execution_count": 72,
   "id": "9112a0ee",
   "metadata": {},
   "outputs": [
    {
     "name": "stdout",
     "output_type": "stream",
     "text": [
      "aaabcbc\n"
     ]
    }
   ],
   "source": [
    "s = \"3[a]2[bc]\"\n",
    "result = decodeString(s)\n",
    "print(result)"
   ]
  },
  {
   "cell_type": "markdown",
   "id": "8103b6bc",
   "metadata": {},
   "source": [
    "<aside>\n",
    "\n",
    "💡 **Question 8**\n",
    "\n",
    "Given two strings s and goal, return true *if you can swap two letters in* s *so the result is equal to* goal*, otherwise, return* false*.*\n",
    "\n",
    "Swapping letters is defined as taking two indices i and j (0-indexed) such that i != j and swapping the characters at s[i] and s[j].\n",
    "\n",
    "- For example, swapping at indices 0 and 2 in \"abcd\" results in \"cbad\".\n",
    "\n",
    "**Example 1:**\n",
    "\n",
    "**Input:** s = \"ab\", goal = \"ba\"\n",
    "\n",
    "**Output:** true\n",
    "\n",
    "**Explanation:** You can swap s[0] = 'a' and s[1] = 'b' to get \"ba\", which is equal to goal.\n",
    "\n",
    "</aside>"
   ]
  },
  {
   "cell_type": "markdown",
   "id": "351346c6",
   "metadata": {},
   "source": [
    "Algorithm:\n",
    "\n",
    "    If the lengths of s and goal are not equal, return False because it's not possible to make them equal by swapping letters.\n",
    "    Initialize two empty lists, mismatch_indices and swapped_chars, to keep track of the indices where s and goal have different characters and the characters that need to be swapped, respectively.\n",
    "    Iterate through each index i from 0 to the length of s:\n",
    "    a. If s[i] is not equal to goal[i], append i to mismatch_indices and s[i] and goal[i] to swapped_chars.\n",
    "    If the length of mismatch_indices is not equal to 2, return False because we can only swap two letters.\n",
    "    If the characters in swapped_chars are not the same but reversed, return True because swapping the characters at the indices given by mismatch_indices will make s equal to goal.\n",
    "    Return False if none of the above conditions are met."
   ]
  },
  {
   "cell_type": "code",
   "execution_count": 70,
   "id": "9af13d84",
   "metadata": {},
   "outputs": [],
   "source": [
    "def canSwapLetters(s, goal):\n",
    "    \"\"\"\n",
    "    Check if you can swap two letters in s to get the goal string.\n",
    "\n",
    "    Args:\n",
    "        s (str): The input string s.\n",
    "        goal (str): The goal string.\n",
    "\n",
    "    Returns:\n",
    "        bool: True if swapping is possible, False otherwise.\n",
    "\n",
    "    \"\"\"\n",
    "\n",
    "    if len(s) != len(goal):\n",
    "        return False\n",
    "\n",
    "    mismatch_indices = []\n",
    "    swapped_chars = []\n",
    "\n",
    "    for i in range(len(s)):\n",
    "        if s[i] != goal[i]:\n",
    "            mismatch_indices.append(i)\n",
    "            swapped_chars.append((s[i], goal[i]))\n",
    "\n",
    "    if len(mismatch_indices) != 2:\n",
    "        return False\n",
    "\n",
    "    return swapped_chars[0] == swapped_chars[1][::-1]\n"
   ]
  },
  {
   "cell_type": "code",
   "execution_count": 71,
   "id": "266fa420",
   "metadata": {},
   "outputs": [
    {
     "name": "stdout",
     "output_type": "stream",
     "text": [
      "True\n"
     ]
    }
   ],
   "source": [
    "s = \"ab\"\n",
    "goal = \"ba\"\n",
    "result = canSwapLetters(s, goal)\n",
    "print(result) "
   ]
  }
 ],
 "metadata": {
  "kernelspec": {
   "display_name": "Python 3 (ipykernel)",
   "language": "python",
   "name": "python3"
  },
  "language_info": {
   "codemirror_mode": {
    "name": "ipython",
    "version": 3
   },
   "file_extension": ".py",
   "mimetype": "text/x-python",
   "name": "python",
   "nbconvert_exporter": "python",
   "pygments_lexer": "ipython3",
   "version": "3.10.11"
  }
 },
 "nbformat": 4,
 "nbformat_minor": 5
}
