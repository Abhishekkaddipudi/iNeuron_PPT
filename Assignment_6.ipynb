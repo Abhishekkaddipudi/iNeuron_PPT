{
 "cells": [
  {
   "cell_type": "markdown",
   "id": "fb28e812",
   "metadata": {},
   "source": [
    "<aside>\n",
    "\n",
    "💡 **Question 1**\n",
    "\n",
    "A permutation perm of n + 1 integers of all the integers in the range [0, n] can be represented as a string s of length n where:\n",
    "\n",
    "- s[i] == 'I' if perm[i] < perm[i + 1], and\n",
    "- s[i] == 'D' if perm[i] > perm[i + 1].\n",
    "\n",
    "Given a string s, reconstruct the permutation perm and return it. If there are multiple valid permutations perm, return **any of them**.\n",
    "\n",
    "**Example 1:**\n",
    "\n",
    "**Input:** s = \"IDID\"\n",
    "\n",
    "**Output:**\n",
    "\n",
    "[0,4,1,3,2]\n",
    "\n",
    "</aside>"
   ]
  },
  {
   "cell_type": "code",
   "execution_count": 55,
   "id": "2f1e3ef1",
   "metadata": {},
   "outputs": [],
   "source": [
    "\"\"\"\n",
    "Algorithm\n",
    "\n",
    "Initialize an empty list called \"perm\" to store the reconstructed permutation.\n",
    "\n",
    "Initialize two variables: \"current\" to keep track of the current number and \n",
    "\"n\" to store the maximum value in the permutation (as the range is [0, n]).\n",
    "\n",
    "Iterate through each character in the given string \"s\":\n",
    "    If the current character is 'I':\n",
    "        Append the \"current\" value to the \"perm\" list.\n",
    "        Increment \"current\" by 1.\n",
    "    If the current character is 'D':\n",
    "        Append the \"n\" value to the \"perm\" list.\n",
    "        Decrement \"n\" by 1.\n",
    "\n",
    "Append the final value of \"current\" to the \"perm\" list.\n",
    "\n",
    "Return the reconstructed permutation \"perm\".\n",
    "\n",
    "TC : O(n)\n",
    "SC : O(n)\n",
    "\n",
    "\"\"\"\n",
    "def reconstructPermutation(s):\n",
    "    \"\"\"\n",
    "    Reconstructs a permutation based on the given string representation.\n",
    "\n",
    "    Args:\n",
    "        s (str): The string representation of the permutation.\n",
    "                 It consists of 'I' and 'D' characters.\n",
    "\n",
    "    Returns:\n",
    "        list: The reconstructed permutation as a list of integers.\n",
    "    \"\"\"\n",
    "\n",
    "    perm = []\n",
    "    current = 0\n",
    "    n = len(s)\n",
    "\n",
    "    for char in s:\n",
    "        if char == 'I':\n",
    "            perm.append(current)\n",
    "            current += 1\n",
    "        elif char == 'D':\n",
    "            perm.append(n)\n",
    "            n -= 1\n",
    "\n",
    "    perm.append(current)\n",
    "    return perm\n"
   ]
  },
  {
   "cell_type": "code",
   "execution_count": 5,
   "id": "7bc064bb",
   "metadata": {},
   "outputs": [
    {
     "data": {
      "text/plain": [
       "[0, 4, 1, 3, 2]"
      ]
     },
     "execution_count": 5,
     "metadata": {},
     "output_type": "execute_result"
    }
   ],
   "source": [
    "s = \"IDID\"\n",
    "reconstructPermutation(s)"
   ]
  },
  {
   "cell_type": "markdown",
   "id": "af2916c7",
   "metadata": {},
   "source": [
    "<aside>\n",
    "\n",
    "💡 **Question 2**\n",
    "\n",
    "You are given an m x n integer matrix matrix with the following two properties:\n",
    "\n",
    "- Each row is sorted in non-decreasing order.\n",
    "- The first integer of each row is greater than the last integer of the previous row.\n",
    "\n",
    "Given an integer target, return true *if* target *is in* matrix *or* false *otherwise*.\n",
    "\n",
    "You must write a solution in O(log(m * n)) time complexity.\n",
    "\n",
    "**Example 1:**\n",
    "<img src=\"https://pwskills.notion.site/image/https%3A%2F%2Fs3-us-west-2.amazonaws.com%2Fsecure.notion-static.com%2Fe4b0271f-15f0-4744-826b-18500ccfcb75%2FScreenshot_2023-05-29_005303.png?id=18335e94-20ec-483d-96ef-563d86305ec3&table=block&spaceId=6fae2e0f-dedc-48e9-bc59-af2654c78209&width=840&userId=&cache=v2\" width=\"500\" height=\"500\">\n",
    "\n",
    "**Input:** matrix = [[1,3,5,7],[10,11,16,20],[23,30,34,60]], target = 3\n",
    "\n",
    "**Output:** true\n",
    "</aside>"
   ]
  },
  {
   "cell_type": "code",
   "execution_count": 56,
   "id": "5d463625",
   "metadata": {},
   "outputs": [],
   "source": [
    "\"\"\"\n",
    "Algorithm\n",
    "\n",
    "Initialize two variables, \"rows\" and \"cols,\" with the number of rows and columns in the matrix, respectively.\n",
    "\n",
    "Set the \"start\" variable to 0 and the \"end\" variable to (rows * cols) - 1, representing the start and \n",
    "end indices of the matrix.\n",
    "\n",
    "While \"start\" is less than or equal to \"end\":\n",
    "    Calculate the \"mid\" index as (start + end) // 2.\n",
    "    Convert the \"mid\" index to the matrix coordinates using \"mid_row\" = mid // cols and \"mid_col\" = mid % cols.\n",
    "    Retrieve the value at the matrix coordinates: \"mid_value\" = matrix[mid_row][mid_col].\n",
    "    If \"mid_value\" is equal to the target:\n",
    "        Return True since the target is found.\n",
    "    If \"mid_value\" is less than the target:\n",
    "        Update \"start\" to \"mid + 1\" to search the upper half of the matrix.\n",
    "    If \"mid_value\" is greater than the target:\n",
    "        Update \"end\" to \"mid - 1\" to search the lower half of the matrix.\n",
    "\n",
    "Return False if the target is not found in the matrix.\n",
    "\n",
    "TC : O(log(m*n))\n",
    "\n",
    "SC : O(1)\n",
    "\"\"\"\n",
    "\n",
    "\n",
    "def searchMatrix(matrix, target):\n",
    "    \"\"\"\n",
    "    Searches for a target integer in the given matrix.\n",
    "\n",
    "    Args:\n",
    "        matrix (List[List[int]]): The input matrix where each row is sorted\n",
    "                                  in non-decreasing order and the first integer\n",
    "                                  of each row is greater than the last integer\n",
    "                                  of the previous row.\n",
    "        target (int): The target integer to search for in the matrix.\n",
    "\n",
    "    Returns:\n",
    "        bool: True if the target is found in the matrix, False otherwise.\n",
    "\n",
    "    \"\"\"\n",
    "\n",
    "    rows = len(matrix)\n",
    "    cols = len(matrix[0])\n",
    "    start = 0\n",
    "    end = rows * cols - 1\n",
    "\n",
    "    while start <= end:\n",
    "        mid = (start + end) // 2\n",
    "        mid_row = mid // cols\n",
    "        mid_col = mid % cols\n",
    "        mid_value = matrix[mid_row][mid_col]\n",
    "\n",
    "        if mid_value == target:\n",
    "            return True\n",
    "        elif mid_value < target:\n",
    "            start = mid + 1\n",
    "        else:\n",
    "            end = mid - 1\n",
    "\n",
    "    return False\n"
   ]
  },
  {
   "cell_type": "code",
   "execution_count": 9,
   "id": "72a23405",
   "metadata": {},
   "outputs": [
    {
     "data": {
      "text/plain": [
       "True"
      ]
     },
     "execution_count": 9,
     "metadata": {},
     "output_type": "execute_result"
    }
   ],
   "source": [
    "matrix = [[1,3,5,7],[10,11,16,20],[23,30,34,60]]\n",
    "target = 3\n",
    "searchMatrix(matrix, target)"
   ]
  },
  {
   "cell_type": "markdown",
   "id": "7ff3a8c9",
   "metadata": {},
   "source": [
    "<aside>\n",
    "    \n",
    "💡 **Question 3**\n",
    "\n",
    "Given an array of integers arr, return *true if and only if it is a valid mountain array*.\n",
    "\n",
    "Recall that arr is a mountain array if and only if:\n",
    "\n",
    "- arr.length >= 3\n",
    "- There exists some i with 0 < i < arr.length - 1 such that:\n",
    "    - arr[0] < arr[1] < ... < arr[i - 1] < arr[i]\n",
    "    - arr[i] > arr[i + 1] > ... > arr[arr.length - 1]\n",
    " <img src=\"https://pwskills.notion.site/image/https%3A%2F%2Fs3-us-west-2.amazonaws.com%2Fsecure.notion-static.com%2F5565e778-ac57-4ced-85a2-ccb13268bdf6%2FScreenshot_2023-05-29_005352.png?id=8965a667-69ac-4fdc-af94-ff9a6a42de08&table=block&spaceId=6fae2e0f-dedc-48e9-bc59-af2654c78209&width=1620&userId=&cache=v2\" width=\"500\" height=\"500\">\n",
    "   \n",
    "**Example 1:**\n",
    "\n",
    "**Input:** arr = [2,1]\n",
    "\n",
    "**Output:**\n",
    "\n",
    "false\n",
    "</aside>"
   ]
  },
  {
   "cell_type": "code",
   "execution_count": 13,
   "id": "a1baf62a",
   "metadata": {},
   "outputs": [],
   "source": [
    "\"\"\"\n",
    "Algorithm\n",
    "\n",
    "Check if the length of the array arr is less than 3. If it is, return False since a valid mountain array must have at least 3 elements.\n",
    "\n",
    "Initialize two pointers, left and right, to track the left and right ends of the potential mountain.\n",
    "\n",
    "Move the left pointer towards the right until arr[left] < arr[left + 1], ensuring the elements are increasing.\n",
    "\n",
    "Move the right pointer towards the left until arr[right] < arr[right - 1], ensuring the elements are decreasing.\n",
    "\n",
    "Check if the left and right pointers meet at the same index i. If they do not, return False since the mountain peak is not found within the array.\n",
    "\n",
    "Check if the mountain peak index i is not the first or last index of the array. If it is, return False since a valid mountain array must have ascending and descending parts.\n",
    "\n",
    "If all conditions are met, return True since the array is a valid mountain array.\n",
    "\n",
    "Tc : O(n)\n",
    "SC : O(1)\n",
    "\n",
    "\"\"\"\n",
    "\n",
    "def validMountainArray(arr):\n",
    "    \"\"\"\n",
    "    Determines if the given array is a valid mountain array.\n",
    "\n",
    "    Args:\n",
    "        arr (List[int]): The input array of integers.\n",
    "\n",
    "    Returns:\n",
    "        bool: True if the array is a valid mountain array, False otherwise.\n",
    "\n",
    "    \"\"\"\n",
    "\n",
    "    if len(arr) < 3:\n",
    "        return False\n",
    "\n",
    "    left = 0\n",
    "    right = len(arr) - 1\n",
    "\n",
    "    while left < len(arr) - 1 and arr[left] < arr[left + 1]:\n",
    "        left += 1\n",
    "\n",
    "    while right > 0 and arr[right] < arr[right - 1]:\n",
    "        right -= 1\n",
    "\n",
    "    if left == right and left != 0 and right != len(arr) - 1:\n",
    "        return True\n",
    "    else:\n",
    "        return False\n"
   ]
  },
  {
   "cell_type": "code",
   "execution_count": 14,
   "id": "c2820466",
   "metadata": {},
   "outputs": [
    {
     "data": {
      "text/plain": [
       "False"
      ]
     },
     "execution_count": 14,
     "metadata": {},
     "output_type": "execute_result"
    }
   ],
   "source": [
    "arr = [2,1]\n",
    "validMountainArray(arr)"
   ]
  },
  {
   "cell_type": "code",
   "execution_count": 16,
   "id": "1ac5254a",
   "metadata": {},
   "outputs": [
    {
     "data": {
      "text/plain": [
       "True"
      ]
     },
     "execution_count": 16,
     "metadata": {},
     "output_type": "execute_result"
    }
   ],
   "source": [
    "arr = [1,3,1]\n",
    "validMountainArray(arr)"
   ]
  },
  {
   "cell_type": "markdown",
   "id": "1df6db7a",
   "metadata": {},
   "source": [
    "<aside>\n",
    "    \n",
    "💡 **Question 4**\n",
    "\n",
    "Given a binary array nums, return *the maximum length of a contiguous subarray with an equal number of* 0 *and* 1.\n",
    "\n",
    "**Example 1:**\n",
    "\n",
    "**Input:** nums = [0,1]\n",
    "\n",
    "**Output:** 2\n",
    "\n",
    "**Explanation:**\n",
    "\n",
    "[0, 1] is the longest contiguous subarray with an equal number of 0 and 1.\n",
    "\n",
    "</aside>"
   ]
  },
  {
   "cell_type": "code",
   "execution_count": 57,
   "id": "f1b80037",
   "metadata": {},
   "outputs": [],
   "source": [
    "\"\"\"\n",
    "Algorithm\n",
    "\n",
    "Initialize a variable max_len to store the maximum length of a contiguous subarray with an equal number of 0s and 1s.\n",
    "\n",
    "Initialize a variable count to keep track of the count of zeros and ones encountered so far. Start with count = 0.\n",
    "\n",
    "Initialize an empty hash map count_map to store the count as the key and the index as the value.\n",
    "\n",
    "Iterate through the binary array nums from left to right:\n",
    "    If the current element is 1, increment count by 1.\n",
    "    If the current element is 0, decrement count by 1.\n",
    "    Check if count exists in count_map. If it does, calculate the length of the subarray as the difference between the current index and the stored index in count_map for count. Update max_len if the current length is greater.\n",
    "    If count does not exist in count_map, store the current index as the value for count in count_map.\n",
    "\n",
    "Return max_len\n",
    "\n",
    "TC : O(n)\n",
    "sc : O(n)\n",
    "\"\"\"\n",
    "\n",
    "def findMaxLength(nums):\n",
    "    \"\"\"\n",
    "    Finds the maximum length of a contiguous subarray with an equal number of 0s and 1s.\n",
    "\n",
    "    Args:\n",
    "        nums (List[int]): The input binary array.\n",
    "\n",
    "    Returns:\n",
    "        int: The maximum length of a contiguous subarray with an equal number of 0s and 1s.\n",
    "\n",
    "    \"\"\"\n",
    "\n",
    "    max_len = 0\n",
    "    count = 0\n",
    "    count_map = {0: -1}\n",
    "\n",
    "    for i in range(len(nums)):\n",
    "        count += 1 if nums[i] == 1 else -1\n",
    "\n",
    "        if count in count_map:\n",
    "            max_len = max(max_len, i - count_map[count])\n",
    "        else:\n",
    "            count_map[count] = i\n",
    "\n",
    "    return max_len\n"
   ]
  },
  {
   "cell_type": "code",
   "execution_count": 23,
   "id": "2e59f940",
   "metadata": {},
   "outputs": [
    {
     "data": {
      "text/plain": [
       "2"
      ]
     },
     "execution_count": 23,
     "metadata": {},
     "output_type": "execute_result"
    }
   ],
   "source": [
    "nums = [0,1,0,0,0,1]\n",
    "findMaxLength(nums)"
   ]
  },
  {
   "cell_type": "code",
   "execution_count": 24,
   "id": "7c07e0e0",
   "metadata": {},
   "outputs": [
    {
     "data": {
      "text/plain": [
       "4"
      ]
     },
     "execution_count": 24,
     "metadata": {},
     "output_type": "execute_result"
    }
   ],
   "source": [
    "nums = [0,1,0,0,1]\n",
    "findMaxLength(nums)"
   ]
  },
  {
   "cell_type": "code",
   "execution_count": 25,
   "id": "16dc232f",
   "metadata": {},
   "outputs": [
    {
     "data": {
      "text/plain": [
       "6"
      ]
     },
     "execution_count": 25,
     "metadata": {},
     "output_type": "execute_result"
    }
   ],
   "source": [
    "nums = [0,1,0,0,0,1,1]\n",
    "findMaxLength(nums)"
   ]
  },
  {
   "cell_type": "markdown",
   "id": "9fef84a7",
   "metadata": {},
   "source": [
    "<aside>\n",
    "\n",
    "💡 **Question 5**\n",
    "\n",
    "The **product sum** of two equal-length arrays a and b is equal to the sum of a[i] * b[i] for all 0 <= i < a.length (**0-indexed**).\n",
    "\n",
    "- For example, if a = [1,2,3,4] and b = [5,2,3,1], the **product sum** would be 1*5 + 2*2 + 3*3 + 4*1 = 22.\n",
    "\n",
    "Given two arrays nums1 and nums2 of length n, return *the **minimum product sum** if you are allowed to **rearrange** the **order** of the elements in* nums1.\n",
    "\n",
    "**Example 1:**\n",
    "\n",
    "**Input:** nums1 = [5,3,4,2], nums2 = [4,2,2,5]\n",
    "\n",
    "**Output:** 40\n",
    "\n",
    "**Explanation:**\n",
    "\n",
    "We can rearrange nums1 to become [3,5,4,2]. The product sum of [3,5,4,2] and [4,2,2,5] is (3)(4) + (5)(2) + (4)(2) + (2)(5) = 40.\n",
    "\n",
    "</aside>"
   ]
  },
  {
   "cell_type": "code",
   "execution_count": 39,
   "id": "007c6b64",
   "metadata": {},
   "outputs": [],
   "source": [
    "\"\"\"\n",
    "Algorithm\n",
    "\n",
    "Sort nums1 and nums2 in non-decreasing order and decreasing order respectively.\n",
    "Initialize product_sum to 0.\n",
    "Iterate i from 0 to n-1 (where n is the length of the arrays):\n",
    "    Calculate the product sum of nums1[i] and nums2[i].\n",
    "Return product_sum\n",
    "\n",
    "TC : O(n log n)\n",
    "Sc : O(1)\n",
    "\n",
    "\"\"\"\n",
    "\n",
    "def minProductSum(nums1, nums2):\n",
    "    \"\"\"\n",
    "    Calculates the minimum product sum of two arrays after rearranging the order of elements in nums1.\n",
    "\n",
    "    Args:\n",
    "        nums1 (List[int]): The first input array.\n",
    "        nums2 (List[int]): The second input array.\n",
    "\n",
    "    Returns:\n",
    "        int: The minimum product sum.\n",
    "\n",
    "    Example:\n",
    "        >>> nums1 = [5, 3, 4, 2]\n",
    "        >>> nums2 = [4, 2, 2, 5]\n",
    "        >>> print(minProductSum(nums1, nums2))\n",
    "        40\n",
    "    \"\"\"\n",
    "\n",
    "    nums1.sort()\n",
    "    nums2.sort(reverse=True)\n",
    "\n",
    "    n = len(nums1)\n",
    "    product_sum =0\n",
    "\n",
    "    for i in range(n):\n",
    "        product_sum += nums1[i] * nums2[i]\n",
    "        \n",
    "\n",
    "    return product_sum\n"
   ]
  },
  {
   "cell_type": "code",
   "execution_count": 40,
   "id": "2ac1df14",
   "metadata": {},
   "outputs": [
    {
     "data": {
      "text/plain": [
       "40"
      ]
     },
     "execution_count": 40,
     "metadata": {},
     "output_type": "execute_result"
    }
   ],
   "source": [
    "nums1 = [5,3,4,2]\n",
    "nums2 = [4,2,2,5]\n",
    "minProductSum(nums1, nums2)"
   ]
  },
  {
   "cell_type": "markdown",
   "id": "be7bb0ad",
   "metadata": {},
   "source": [
    "<aside>\n",
    "\n",
    "💡 **Question 6**\n",
    "\n",
    "An integer array original is transformed into a **doubled** array changed by appending **twice the value** of every element in original, and then randomly **shuffling** the resulting array.\n",
    "\n",
    "Given an array changed, return original *if* changed *is a **doubled** array. If* changed *is not a **doubled** array, return an empty array. The elements in* original *may be returned in **any** order*.\n",
    "\n",
    "**Example 1:**\n",
    "\n",
    "**Input:** changed = [1,3,4,2,6,8]\n",
    "\n",
    "**Output:** [1,3,4]\n",
    "\n",
    "**Explanation:** One possible original array could be [1,3,4]:\n",
    "\n",
    "- Twice the value of 1 is 1 * 2 = 2.\n",
    "- Twice the value of 3 is 3 * 2 = 6.\n",
    "- Twice the value of 4 is 4 * 2 = 8.\n",
    "\n",
    "Other original arrays could be [4,3,1] or [3,1,4].\n",
    "\n",
    "</aside>"
   ]
  },
  {
   "cell_type": "code",
   "execution_count": 51,
   "id": "34b679c2",
   "metadata": {},
   "outputs": [],
   "source": [
    "\"\"\"\n",
    "Algorithm\n",
    "\n",
    "Initialize an empty list called original to store the reconstructed original array.\n",
    "\n",
    "Initialize a defaultdict called count to keep track of the count of each element in the changed array.\n",
    "\n",
    "Iterate through each element num in the changed array and increment its count in the count dictionary.\n",
    "\n",
    "Sort the changed array to process elements in ascending order.\n",
    "\n",
    "For each element num in the sorted changed array, perform the following checks:\n",
    "\n",
    "If the count of num is 0, skip to the next element.\n",
    "If the count of num * 2 is greater than or equal to the count of num, it means the doubled value exists with a sufficient count. In this case, add num to the original array, reduce the count of num * 2 by the count of num, and set the count of num to 0.\n",
    "After processing all elements in the changed array, check if the sum of counts in the count dictionary is 0. If it is, it means all elements passed the checks and the original array can be reconstructed. In this case, return the original array.\n",
    "\n",
    "If the sum of counts in the count dictionary is not 0, it means at least one element did not pass the checks, and the changed array is not a doubled array. Return an empty array.\n",
    "\n",
    "TC :O(n log n)\n",
    "SC : O(n)\n",
    "\n",
    "\"\"\"\n",
    "\n",
    "\n",
    "from collections import defaultdict\n",
    "\n",
    "def find_original_array(changed):\n",
    "    \"\"\"\n",
    "    Find Original Array from Doubled Array.\n",
    "\n",
    "    Given an array changed that is obtained by appending twice the value of every element in the original array and\n",
    "    randomly shuffling the resulting array, this function returns the original array if changed is a doubled array.\n",
    "    If changed is not a doubled array, an empty array is returned. The elements in the original array may be returned\n",
    "    in any order.\n",
    "\n",
    "    Args:\n",
    "        changed (List[int]): The input array.\n",
    "\n",
    "    Returns:\n",
    "        List[int]: The original array, or an empty array if changed is not a doubled array.\n",
    "\n",
    "    \"\"\"\n",
    "    original = []\n",
    "    count = defaultdict(int)\n",
    "\n",
    "    for num in changed:\n",
    "        count[num] += 1\n",
    "\n",
    "    for num in sorted(changed):\n",
    "        if count[num] == 0:\n",
    "            continue\n",
    "\n",
    "        if count[num * 2] >= count[num]:\n",
    "            original.extend([num] * count[num])\n",
    "            count[num * 2] -= count[num]\n",
    "            count[num] = 0\n",
    "\n",
    "    if sum(count.values()) == 0:\n",
    "        return original\n",
    "\n",
    "    return []"
   ]
  },
  {
   "cell_type": "code",
   "execution_count": 43,
   "id": "b37b681a",
   "metadata": {},
   "outputs": [
    {
     "data": {
      "text/plain": [
       "[1, 3, 4]"
      ]
     },
     "execution_count": 43,
     "metadata": {},
     "output_type": "execute_result"
    }
   ],
   "source": [
    "changed = [1,3,4,2,6,8]\n",
    "find_original_array(changed)"
   ]
  },
  {
   "cell_type": "markdown",
   "id": "ca1702af",
   "metadata": {},
   "source": [
    "<aside>\n",
    "    \n",
    "💡 **Question 7**\n",
    "\n",
    "Given a positive integer n, generate an n x n matrix filled with elements from 1 to n2 in spiral order.\n",
    "\n",
    "**Example 1:**\n",
    "    \n",
    " <img src=\"https://pwskills.notion.site/image/https%3A%2F%2Fs3-us-west-2.amazonaws.com%2Fsecure.notion-static.com%2F00c8517f-7682-4e0b-bdd9-ce0e087f3f94%2FScreenshot_2023-05-29_005522.png?id=4c411eff-717a-4ce4-8727-1c101816bbad&table=block&spaceId=6fae2e0f-dedc-48e9-bc59-af2654c78209&width=670&userId=&cache=v2\" width=\"300\" height=\"300\" style=\"margin:0\">\n",
    "\n",
    "**Input:** n = 3\n",
    "\n",
    "**Output:** [[1,2,3],[8,9,4],[7,6,5]]\n",
    "</aside>\n"
   ]
  },
  {
   "cell_type": "code",
   "execution_count": 48,
   "id": "63a2fad1",
   "metadata": {},
   "outputs": [],
   "source": [
    "\"\"\"\n",
    "Alorithm\n",
    "\n",
    "Create an n x n matrix result filled with zeros.\n",
    "\n",
    "Initialize variables row_start, row_end, col_start, and col_end to define the boundaries of the spiral.\n",
    "    row_start represents the starting row index.\n",
    "    row_end represents the ending row index.\n",
    "    col_start represents the starting column index.\n",
    "    col_end represents the ending column index.\n",
    "    Initially, set row_start = 0, row_end = n - 1, col_start = 0, and col_end = n - 1.\n",
    "\n",
    "Initialize a variable num to track the current number to be filled in the matrix, starting from 1.\n",
    "\n",
    "Iterate while row_start <= row_end and col_start <= col_end:\n",
    "    Fill the elements of the top row from col_start to col_end with numbers num to num + col_end - col_start + 1. Increment num accordingly.\n",
    "    Increment row_start to move to the next row.\n",
    "    Fill the elements of the right column from row_start to row_end with numbers num to num + row_end - row_start + 1. Increment num accordingly.\n",
    "    Decrement col_end to move to the previous column.\n",
    "    Fill the elements of the bottom row from col_end to col_start with numbers num to num + col_start - col_end - 1. Increment num accordingly.\n",
    "    Decrement row_end to move to the previous row.\n",
    "    Fill the elements of the left column from row_end to row_start with numbers num to num + row_start - row_end - 1. Increment num accordingly.\n",
    "    Increment col_start to move to the next column.\n",
    "\n",
    "Return the resulting matrix result.\n",
    "\n",
    "TC : O(n^2)\n",
    "SC : O(n^2)\n",
    "\n",
    "\"\"\"\n",
    "\n",
    "\n",
    "def generateMatrix(n):\n",
    "    \"\"\"\n",
    "    Generates an n x n matrix filled with elements from 1 to n^2 in spiral order.\n",
    "\n",
    "    Args:\n",
    "        n (int): The size of the matrix.\n",
    "\n",
    "    Returns:\n",
    "        List[List[int]]: The generated matrix.\n",
    "\n",
    "    \"\"\"\n",
    "\n",
    "    result = [[0] * n for _ in range(n)]\n",
    "    row_start, row_end = 0, n - 1\n",
    "    col_start, col_end = 0, n - 1\n",
    "    num = 1\n",
    "\n",
    "    while row_start <= row_end and col_start <= col_end:\n",
    "        for col in range(col_start, col_end + 1):\n",
    "            result[row_start][col] = num\n",
    "            num += 1\n",
    "        row_start += 1\n",
    "\n",
    "        for row in range(row_start, row_end + 1):\n",
    "            result[row][col_end] = num\n",
    "            num += 1\n",
    "        col_end -= 1\n",
    "\n",
    "        for col in range(col_end, col_start - 1, -1):\n",
    "            result[row_end][col] = num\n",
    "            num += 1\n",
    "        row_end -= 1\n",
    "\n",
    "        for row in range(row_end, row_start - 1, -1):\n",
    "            result[row][col_start] = num\n",
    "            num += 1\n",
    "        col_start += 1\n",
    "\n",
    "    return result\n",
    "\n"
   ]
  },
  {
   "cell_type": "code",
   "execution_count": 49,
   "id": "5bdf0e44",
   "metadata": {},
   "outputs": [
    {
     "data": {
      "text/plain": [
       "[[1, 2, 3], [8, 9, 4], [7, 6, 5]]"
      ]
     },
     "execution_count": 49,
     "metadata": {},
     "output_type": "execute_result"
    }
   ],
   "source": [
    "n = 3\n",
    "generateMatrix(n)"
   ]
  },
  {
   "cell_type": "code",
   "execution_count": 50,
   "id": "7e3b83c8",
   "metadata": {},
   "outputs": [
    {
     "data": {
      "text/plain": [
       "[[1, 2, 3, 4, 5],\n",
       " [16, 17, 18, 19, 6],\n",
       " [15, 24, 25, 20, 7],\n",
       " [14, 23, 22, 21, 8],\n",
       " [13, 12, 11, 10, 9]]"
      ]
     },
     "execution_count": 50,
     "metadata": {},
     "output_type": "execute_result"
    }
   ],
   "source": [
    "n = 5\n",
    "generateMatrix(n)"
   ]
  },
  {
   "cell_type": "markdown",
   "id": "b0b86b7f",
   "metadata": {},
   "source": [
    "<aside>\n",
    "💡 **Question 8**\n",
    "\n",
    "Given two [sparse matrices](https://en.wikipedia.org/wiki/Sparse_matrix) mat1 of size m x k and mat2 of size k x n, return the result of mat1 x mat2. You may assume that multiplication is always possible.\n",
    "\n",
    "**Example 1:**\n",
    " <img src=\"https://pwskills.notion.site/image/https%3A%2F%2Fs3-us-west-2.amazonaws.com%2Fsecure.notion-static.com%2Fdf57e793-12bf-4104-a17b-4e6a88dc7955%2FScreenshot_2023-05-29_005557.png?id=bf7064e0-6a34-4089-bad4-dfd954e546c4&table=block&spaceId=6fae2e0f-dedc-48e9-bc59-af2654c78209&width=1320&userId=&cache=v2\" width=\"500\" height=\"500\">\n",
    "    \n",
    "**Input:** mat1 = [[1,0,0],[-1,0,3]], mat2 = [[7,0,0],[0,0,0],[0,0,1]]\n",
    "\n",
    "**Output:**\n",
    "\n",
    "[[7,0,0],[-7,0,3]]\n",
    "</aside>"
   ]
  },
  {
   "cell_type": "code",
   "execution_count": 53,
   "id": "44fe93bb",
   "metadata": {},
   "outputs": [],
   "source": [
    "\"\"\"\n",
    "Algorithm\n",
    "\n",
    "Create an empty matrix result of size m x n to store the result of the matrix multiplication.\n",
    "\n",
    "Create two dictionaries sparse_mat1 and sparse_mat2 to represent the non-zero elements of mat1 and mat2, respectively. The keys in the dictionaries will be tuples (i, j) representing the row and column indices, and the values will be the corresponding non-zero elements.\n",
    "\n",
    "Iterate through each non-zero element of mat1 and populate sparse_mat1.\n",
    "\n",
    "Iterate through each non-zero element of mat2 and populate sparse_mat2.\n",
    "\n",
    "Iterate through each non-zero element in sparse_mat1:\n",
    "    Extract the row index i1, column index j1, and value val1 of the non-zero element.\n",
    "    Iterate through each non-zero element in sparse_mat2:\n",
    "        Extract the row index i2, column index j2, and value val2 of the non-zero element.\n",
    "        Check if j1 is equal to i2 (column index of mat1 matches the row index of mat2):\n",
    "            If true, multiply val1 with val2 and add the product to the corresponding element in result.\n",
    "\n",
    "Return result.\n",
    "\n",
    "TC : O(m*n)\n",
    "SC : O(m+n)\n",
    "\"\"\"\n",
    "\n",
    "\n",
    "def multiplySparseMatrices(mat1, mat2):\n",
    "    \"\"\"\n",
    "    Optimized approach to multiply two sparse matrices mat1 and mat2.\n",
    "\n",
    "    Args:\n",
    "        mat1 (List[List[int]]): The first input matrix.\n",
    "        mat2 (List[List[int]]): The second input matrix.\n",
    "\n",
    "    Returns:\n",
    "        List[List[int]]: The result of the matrix multiplication.\n",
    "\n",
    "    \"\"\"\n",
    "\n",
    "    m, k = len(mat1), len(mat1[0])\n",
    "    k, n = len(mat2), len(mat2[0])\n",
    "\n",
    "    result = [[0] * n for _ in range(m)]\n",
    "\n",
    "    sparse_mat1 = {}\n",
    "    sparse_mat2 = {}\n",
    "\n",
    "    for i in range(m):\n",
    "        for j in range(k):\n",
    "            if mat1[i][j] != 0:\n",
    "                sparse_mat1[(i, j)] = mat1[i][j]\n",
    "\n",
    "    for i in range(k):\n",
    "        for j in range(n):\n",
    "            if mat2[i][j] != 0:\n",
    "                sparse_mat2[(i, j)] = mat2[i][j]\n",
    "\n",
    "    for (i1, j1), val1 in sparse_mat1.items():\n",
    "        for (i2, j2), val2 in sparse_mat2.items():\n",
    "            if j1 == i2:\n",
    "                result[i1][j2] += val1 * val2\n",
    "\n",
    "    return result\n"
   ]
  },
  {
   "cell_type": "code",
   "execution_count": 54,
   "id": "95887c27",
   "metadata": {},
   "outputs": [
    {
     "data": {
      "text/plain": [
       "[[7, 0, 0], [-7, 0, 3]]"
      ]
     },
     "execution_count": 54,
     "metadata": {},
     "output_type": "execute_result"
    }
   ],
   "source": [
    "mat1 = [[1,0,0],[-1,0,3]]\n",
    "mat2 = [[7,0,0],[0,0,0],[0,0,1]]\n",
    "multiplySparseMatrices(mat1, mat2)"
   ]
  }
 ],
 "metadata": {
  "kernelspec": {
   "display_name": "Python 3 (ipykernel)",
   "language": "python",
   "name": "python3"
  },
  "language_info": {
   "codemirror_mode": {
    "name": "ipython",
    "version": 3
   },
   "file_extension": ".py",
   "mimetype": "text/x-python",
   "name": "python",
   "nbconvert_exporter": "python",
   "pygments_lexer": "ipython3",
   "version": "3.9.12"
  }
 },
 "nbformat": 4,
 "nbformat_minor": 5
}
