{
 "cells": [
  {
   "cell_type": "markdown",
   "metadata": {
    "colab_type": "text",
    "id": "view-in-github"
   },
   "source": [
    "<a href=\"https://colab.research.google.com/github/jayant3297/Pre_Placement_Training/blob/main/Assignment14.ipynb\" target=\"_parent\"><img src=\"https://colab.research.google.com/assets/colab-badge.svg\" alt=\"Open In Colab\"/></a>"
   ]
  },
  {
   "cell_type": "markdown",
   "metadata": {
    "id": "8ikHP2wjkMOs"
   },
   "source": [
    "<aside>\n",
    "\n",
    "💡 **Question 1**\n",
    "\n",
    "Given a linked list of **N** nodes such that it may contain a loop.\n",
    "\n",
    "A loop here means that the last node of the link list is connected to the node at position X(1-based index). If the link list does not have any loop, X=0.\n",
    "\n",
    "Remove the loop from the linked list, if it is present, i.e. unlink the last node which is forming the loop.\n",
    "\n",
    "**Example 1:**\n",
    "\n",
    "</aside>\n",
    "\n",
    "Input:\n",
    "N = 3\n",
    "value[] = {1,3,4}\n",
    "X = 2\n",
    "Output:1\n",
    "Explanation:The link list looks like\n",
    "1 -> 3 -> 4\n",
    "     ^    |\n",
    "     |____|\n",
    "A loop is present. If you remove it\n",
    "successfully, the answer will be 1.\n"
   ]
  },
  {
   "cell_type": "code",
   "execution_count": 36,
   "metadata": {
    "id": "E7VcjeKnkEes"
   },
   "outputs": [],
   "source": [
    "class ListNode:\n",
    "    def __init__(self, val=0, next=None):\n",
    "        self.val = val\n",
    "        self.next = next\n",
    "\n",
    "\n",
    "def detectAndRemoveLoop(head):\n",
    "    if not head or not head.next:\n",
    "        return head\n",
    "\n",
    "    slow = head\n",
    "    fast = head\n",
    "\n",
    "    # Detect the loop using Floyd's Cycle-Finding Algorithm\n",
    "    while fast and fast.next:\n",
    "        slow = slow.next\n",
    "        fast = fast.next.next\n",
    "        if slow == fast:\n",
    "            break\n",
    "\n",
    "    # If there is no loop, return the linked list as is\n",
    "    if fast is None or fast.next is None:\n",
    "        return head\n",
    "\n",
    "    # If the loop starts at the head, find the last node before the head\n",
    "    if slow == head:\n",
    "        while fast.next != head:\n",
    "            fast = fast.next\n",
    "        fast.next = None\n",
    "        return head\n",
    "\n",
    "    # Move the slow pointer to the head\n",
    "    slow = head\n",
    "\n",
    "    # Move slow and fast pointers to find the loop starting point\n",
    "    while slow.next != fast.next:\n",
    "        slow = slow.next\n",
    "        fast = fast.next\n",
    "\n",
    "    # Unlink the last node from the loop\n",
    "    fast.next = None\n",
    "\n",
    "    return head"
   ]
  },
  {
   "cell_type": "code",
   "execution_count": 37,
   "metadata": {
    "colab": {
     "base_uri": "https://localhost:8080/"
    },
    "id": "R4dDQmn8nS7W",
    "outputId": "f90ff5dd-edcf-4a71-cac0-ce837e0a409b"
   },
   "outputs": [
    {
     "name": "stdout",
     "output_type": "stream",
     "text": [
      "1 3 4 2 "
     ]
    }
   ],
   "source": [
    "head = ListNode(1)\n",
    "node2 = ListNode(3)\n",
    "node3 = ListNode(4)\n",
    "node4 = ListNode(2)\n",
    "\n",
    "head.next = node2\n",
    "node2.next = node3\n",
    "node3.next = node4\n",
    "node4.next = head  # Creating a loop\n",
    "\n",
    "X = 2\n",
    "head = detectAndRemoveLoop(head)\n",
    "\n",
    "# Print the resulting linked list\n",
    "while head:\n",
    "    print(head.val, end=\" \")\n",
    "    head = head.next"
   ]
  },
  {
   "cell_type": "markdown",
   "metadata": {
    "id": "aM7VSdyyn6G6"
   },
   "source": [
    "<aside>\n",
    "    \n",
    "💡 **Question 2**\n",
    "\n",
    "A number **N** is represented in Linked List such that each digit corresponds to a node in linked list. You need to add 1 to it.\n",
    "\n",
    "**Example 1:**\n",
    "\n",
    "</aside>\n",
    "Input:\n",
    "LinkedList: 4->5->6\n",
    "Output:457\n",
    "\n",
    "Example 2:\n",
    "Input:\n",
    "LinkedList: 1->2->3\n",
    "Output:124"
   ]
  },
  {
   "cell_type": "code",
   "execution_count": 6,
   "metadata": {
    "id": "uoCq_Uqln2r-"
   },
   "outputs": [],
   "source": [
    "class Node:\n",
    "    def __init__(self, data):\n",
    "        self.data = data\n",
    "        self.next = None\n",
    "\n",
    "def addOne(head):\n",
    "    # Reverse the linked list\n",
    "    prev = None\n",
    "    current = head\n",
    "    while current is not None:\n",
    "        next_node = current.next\n",
    "        current.next = prev\n",
    "        prev = current\n",
    "        current = next_node\n",
    "    head = prev\n",
    "\n",
    "    # Add 1 to the number\n",
    "    carry = 1\n",
    "    current = head\n",
    "    while current is not None:\n",
    "        total = current.data + carry\n",
    "        current.data = total % 10\n",
    "        carry = total // 10\n",
    "        current = current.next\n",
    "\n",
    "    # If there is still a carry, create a new node\n",
    "    if carry != 0:\n",
    "        new_node = Node(carry)\n",
    "        new_node.next = head\n",
    "        head = new_node\n",
    "\n",
    "    # Reverse the linked list again to get the result\n",
    "    prev = None\n",
    "    current = head\n",
    "    while current is not None:\n",
    "        next_node = current.next\n",
    "        current.next = prev\n",
    "        prev = current\n",
    "        current = next_node\n",
    "    head = prev\n",
    "\n",
    "    return head\n"
   ]
  },
  {
   "cell_type": "code",
   "execution_count": 7,
   "metadata": {
    "colab": {
     "base_uri": "https://localhost:8080/"
    },
    "id": "0TOkti1koQWH",
    "outputId": "01f00751-bf98-4858-cc98-ac5c9e1b0bb6"
   },
   "outputs": [
    {
     "name": "stdout",
     "output_type": "stream",
     "text": [
      "457"
     ]
    }
   ],
   "source": [
    "head = Node(4)\n",
    "node1 = Node(5)\n",
    "node2 = Node(6)\n",
    "\n",
    "head.next = node1\n",
    "node1.next = node2\n",
    "\n",
    "# Call the function to add 1 to the number\n",
    "result = addOne(head)\n",
    "\n",
    "# Print the resulting linked list\n",
    "current = result\n",
    "while current is not None:\n",
    "    print(current.data, end='')\n",
    "    current = current.next"
   ]
  },
  {
   "cell_type": "markdown",
   "metadata": {
    "id": "FArfGAcPoaSo"
   },
   "source": [
    "<aside>\n",
    "    \n",
    "💡 **Question 3**\n",
    "\n",
    "Given a Linked List of size N, where every node represents a sub-linked-list and contains two pointers:(i) a **next** pointer to the next node,(ii) a **bottom** pointer to a linked list where this node is head.Each of the sub-linked-list is in sorted order.Flatten the Link List such that all the nodes appear in a single level while maintaining the sorted order. **Note:** The flattened list will be printed using the bottom pointer instead of next pointer.\n",
    "\n",
    "**Example 1:**\n",
    "\n",
    "</aside>\n",
    "Input:\n",
    "5 -> 10 -> 19 -> 28\n",
    "|     |     |     |\n",
    "7     20    22   35\n",
    "|           |     |\n",
    "8          50    40\n",
    "|                 |\n",
    "30               45\n",
    "Output: 5-> 7-> 8- > 10 -> 19-> 20->\n",
    "22-> 28-> 30-> 35-> 40-> 45-> 50.\n",
    "Explanation:\n",
    "The resultant linked lists has every\n",
    "node in a single level.(Note:| represents the bottom pointer.)\n",
    "\n",
    "Example 2\n",
    "\n",
    "Input:\n",
    "5 -> 10 -> 19 -> 28\n",
    "|          |\n",
    "7          22\n",
    "|          |\n",
    "8          50\n",
    "|\n",
    "30\n",
    "Output: 5->7->8->10->19->22->28->30->50\n",
    "Explanation:\n",
    "The resultant linked lists has every\n",
    "node in a single level.\n",
    "\n",
    "(Note: | represents the bottom pointer.)"
   ]
  },
  {
   "cell_type": "code",
   "execution_count": 16,
   "metadata": {
    "id": "nqN9dhDeoUMB"
   },
   "outputs": [],
   "source": [
    "class Node:\n",
    "    def __init__(self, data):\n",
    "        self.data = data\n",
    "        self.next = None\n",
    "        self.bottom = None\n",
    "\n",
    "def merge(a, b):\n",
    "    if a is None:\n",
    "        return b\n",
    "    if b is None:\n",
    "        return a\n",
    "\n",
    "    result = None\n",
    "    if a.data <= b.data:\n",
    "        result = a\n",
    "        result.bottom = merge(a.bottom, b)\n",
    "    else:\n",
    "        result = b\n",
    "        result.bottom = merge(a, b.bottom)\n",
    "\n",
    "    return result\n",
    "\n",
    "def flatten(head):\n",
    "    if head is None or head.next is None:\n",
    "        return head\n",
    "\n",
    "    head.next = flatten(head.next)\n",
    "\n",
    "    head = merge(head, head.next)\n",
    "\n",
    "    return head\n",
    "\n",
    "def printList(head):\n",
    "    current = head\n",
    "    while current is not None:\n",
    "        print(current.data, end=\" \")\n",
    "        current = current.bottom\n",
    "\n",
    "    print()"
   ]
  },
  {
   "cell_type": "code",
   "execution_count": 17,
   "metadata": {
    "colab": {
     "base_uri": "https://localhost:8080/"
    },
    "id": "PFOEb34-o3Pv",
    "outputId": "787e934a-9e84-4121-e08d-39791b938f44"
   },
   "outputs": [
    {
     "name": "stdout",
     "output_type": "stream",
     "text": [
      "5 7 8 10 19 20 28 30 35 40 45 50 \n"
     ]
    }
   ],
   "source": [
    "head = Node(5)\n",
    "head.next = Node(10)\n",
    "head.next.next = Node(19)\n",
    "head.next.next.next = Node(28)\n",
    "\n",
    "head.bottom = Node(7)\n",
    "head.bottom.bottom = Node(8)\n",
    "head.bottom.bottom.bottom = Node(30)\n",
    "\n",
    "head.next.bottom = Node(20)\n",
    "\n",
    "head.next.next.bottom = Node(22)\n",
    "head.next.next.next.bottom = Node(35)\n",
    "\n",
    "head.next.bottom.bottom = Node(50)\n",
    "head.next.next.bottom = Node(40)\n",
    "head.next.next.bottom.bottom = Node(45)\n",
    "\n",
    "# Call the function to flatten the linked list\n",
    "result = flatten(head)\n",
    "\n",
    "# Print the flattened list\n",
    "printList(result)\n"
   ]
  },
  {
   "cell_type": "markdown",
   "metadata": {},
   "source": [
    "<aside>\n",
    "\n",
    "💡 **Question 4**\n",
    "\n",
    "You are given a special linked list with **N** nodes where each node has a next pointer pointing to its next node. You are also given **M** random pointers, where you will be given **M** number of pairs denoting two nodes **a** and **b**  **i.e. a->arb = b** (arb is pointer to random node)**.**\n",
    "\n",
    "Construct a copy of the given list. The copy should consist of exactly **N** new nodes, where each new node has its value set to the value of its corresponding original node. Both the next and random pointer of the new nodes should point to new nodes in the copied list such that the pointers in the original list and copied list represent the same list state. None of the pointers in the new list should point to nodes in the original list.\n",
    "\n",
    "For example, if there are two nodes **X** and **Y** in the original list, where **X.arb** **-->** **Y**, then for the corresponding two nodes **x** and **y** in the copied list, **x.arb --> y.**\n",
    "\n",
    "Return the head of the copied linked list.\n",
    "\n",
    "<img src =\"https://contribute.geeksforgeeks.org/wp-content/uploads/clone.jpg\">\n",
    "\n",
    "**Note** :- The diagram isn't part of any example, it just depicts an example of how the linked list may look like.\n",
    "\n",
    "**Example 1:**\n",
    "\n",
    "```\n",
    "Input:\n",
    "N = 4, M = 2\n",
    "value = {1,2,3,4}\n",
    "pairs = {{1,2},{2,4}}\n",
    "Output:1\n",
    "Explanation:In this test case, there\n",
    "are 4 nodes in linked list.  Among these\n",
    "4 nodes,  2 nodes have arbitrary pointer\n",
    "set, rest two nodes have arbitrary pointer\n",
    "as NULL. Second line tells us the value\n",
    "of four nodes. The third line gives the\n",
    "information about arbitrary pointers.\n",
    "The first node arbitrary pointer is set to\n",
    "node 2.  The second node arbitrary pointer\n",
    "is set to node 4.\n",
    "\n",
    "```\n",
    "\n",
    "**Example 2:**\n",
    "```\n",
    "Input:\n",
    "N = 4, M = 2\n",
    "value[] = {1,3,5,9}\n",
    "pairs[] = {{1,1},{3,4}}\n",
    "Output:1\n",
    "Explanation:In the given testcase ,\n",
    "applying the method as stated in the\n",
    "above example, the output will be 1.\n",
    "```\n",
    "</aside>"
   ]
  },
  {
   "cell_type": "code",
   "execution_count": 9,
   "metadata": {},
   "outputs": [],
   "source": [
    "class Node:\n",
    "    def __init__(self, data):\n",
    "        self.data = data\n",
    "        self.next = None\n",
    "        self.random = None\n",
    "\n",
    "\n",
    "def clone_linked_list(head):\n",
    "    if not head:\n",
    "        return None\n",
    "\n",
    "    # Step 1: Create a copy of each node and insert it between the original nodes\n",
    "    curr = head\n",
    "    while curr:\n",
    "        new_node = Node(curr.data)\n",
    "        new_node.next = curr.next\n",
    "        curr.next = new_node\n",
    "        curr = new_node.next\n",
    "\n",
    "    # Step 2: Update the random pointers of the copied nodes\n",
    "    curr = head\n",
    "    while curr:\n",
    "        if curr.random:\n",
    "            curr.next.random = curr.random.next\n",
    "        curr = curr.next.next\n",
    "\n",
    "    # Step 3: Separate the original and copied lists\n",
    "    original = head\n",
    "    copied = head.next\n",
    "    copied_head = copied\n",
    "\n",
    "    while copied.next:\n",
    "        original.next = original.next.next\n",
    "        copied.next = copied.next.next\n",
    "        original = original.next\n",
    "        copied = copied.next\n",
    "\n",
    "    original.next = None\n",
    "\n",
    "    # Step 4: Return the head of the copied list\n",
    "    return copied_head\n",
    "\n"
   ]
  },
  {
   "cell_type": "code",
   "execution_count": 10,
   "metadata": {},
   "outputs": [
    {
     "name": "stdout",
     "output_type": "stream",
     "text": [
      "Data: 1\n",
      "Random Pointer: 3\n",
      "\n",
      "Data: 2\n",
      "Random Pointer: 4\n",
      "\n",
      "Data: 3\n",
      "Random Pointer: 2\n",
      "\n",
      "Data: 4\n",
      "Random Pointer: 3\n",
      "\n"
     ]
    }
   ],
   "source": [
    "\n",
    "# Example usage:\n",
    "# Create the linked list\n",
    "head = Node(1)\n",
    "node2 = Node(2)\n",
    "node3 = Node(3)\n",
    "node4 = Node(4)\n",
    "\n",
    "head.next = node2\n",
    "node2.next = node3\n",
    "node3.next = node4\n",
    "\n",
    "head.random = node3\n",
    "node2.random = node4\n",
    "node3.random = node2\n",
    "node4.random = node3\n",
    "\n",
    "# Clone the linked list\n",
    "cloned_head = clone_linked_list(head)\n",
    "\n",
    "# Print the cloned list (including the random pointers)\n",
    "current_node = cloned_head\n",
    "while current_node:\n",
    "    print(\"Data:\", current_node.data)\n",
    "    print(\"Random Pointer:\", current_node.random.data if current_node.random else None)\n",
    "    print()\n",
    "    current_node = current_node.next\n"
   ]
  },
  {
   "cell_type": "markdown",
   "metadata": {
    "id": "ybi52rGSqbah"
   },
   "source": [
    "<aside>\n",
    "    \n",
    "💡 **Question 5**\n",
    "\n",
    "Given the `head` of a singly linked list, group all the nodes with odd indices together followed by the nodes with even indices, and return *the reordered list*.\n",
    "\n",
    "The **first** node is considered **odd**, and the **second** node is **even**, and so on.\n",
    "\n",
    "Note that the relative order inside both the even and odd groups should remain as it was in the input.\n",
    "\n",
    "You must solve the problem in `O(1)` extra space complexity and `O(n)` time complexity.\n",
    "\n",
    "**Example 1:**\n",
    "<img src =\" https://pwskills.notion.site/image/https%3A%2F%2Fassets.leetcode.com%2Fuploads%2F2021%2F03%2F10%2Foddeven-linked-list.jpg?id=13e98531-bf7c-461e-ae66-555d769a04ec&table=block&spaceId=6fae2e0f-dedc-48e9-bc59-af2654c78209&width=600&userId=&cache=v2\">\n",
    "</aside>\n",
    "\n",
    "```\n",
    "Input: head = [1,2,3,4,5]\n",
    "Output: [1,3,5,2,4]\n",
    "```\n",
    "**Example 2**\n",
    "\n",
    "<img src = \"https://pwskills.notion.site/image/https%3A%2F%2Fassets.leetcode.com%2Fuploads%2F2021%2F03%2F10%2Foddeven2-linked-list.jpg?id=d65e07e9-88ca-432c-81bd-06b38ccd8cd4&table=block&spaceId=6fae2e0f-dedc-48e9-bc59-af2654c78209&width=1000&userId=&cache=v2\">\n",
    "\n",
    "```\n",
    "Input: head = [2,1,3,5,6,4,7]\n",
    "Output: [2,3,6,7,1,5,4]\n",
    "```"
   ]
  },
  {
   "cell_type": "code",
   "execution_count": 18,
   "metadata": {
    "id": "Bd3Gtqx6o-ub"
   },
   "outputs": [],
   "source": [
    "class ListNode:\n",
    "    def __init__(self, val=0, next=None):\n",
    "        self.val = val\n",
    "        self.next = next\n",
    "\n",
    "def oddEvenList(head):\n",
    "    if not head or not head.next:\n",
    "        return head\n",
    "\n",
    "    odd_head = head\n",
    "    even_head = head.next\n",
    "    even = even_head\n",
    "\n",
    "    while even and even.next:\n",
    "        odd_head.next = even.next\n",
    "        odd_head = odd_head.next\n",
    "        even.next = odd_head.next\n",
    "        even = even.next\n",
    "\n",
    "    odd_head.next = even_head\n",
    "\n",
    "    return head\n"
   ]
  },
  {
   "cell_type": "code",
   "execution_count": 21,
   "metadata": {
    "colab": {
     "base_uri": "https://localhost:8080/"
    },
    "id": "e4cUa452q4U0",
    "outputId": "d0e24f2b-a857-4ed6-e4ea-2ce0bee1bc77"
   },
   "outputs": [
    {
     "name": "stdout",
     "output_type": "stream",
     "text": [
      "1 3 5 2 4 "
     ]
    }
   ],
   "source": [
    "\n",
    "head = ListNode(1)\n",
    "head.next = ListNode(2)\n",
    "head.next.next = ListNode(3)\n",
    "head.next.next.next = ListNode(4)\n",
    "head.next.next.next.next = ListNode(5)\n",
    "\n",
    "# Group the nodes by their indices\n",
    "result = oddEvenList(head)\n",
    "\n",
    "current = result\n",
    "while current:\n",
    "    print(current.val, end=\" \")\n",
    "    current = current.next\n",
    "\n"
   ]
  },
  {
   "cell_type": "markdown",
   "metadata": {
    "id": "jxhywY1OrCQ2"
   },
   "source": [
    "<aside>\n",
    "    \n",
    "💡 **Question 6**\n",
    "\n",
    "Given a singly linked list of size **N**. The task is to **left-shift** the linked list by **k** nodes, where **k** is a given positive integer smaller than or equal to length of the linked list.\n",
    "\n",
    "**Example 1:**\n",
    "\n",
    "\n",
    "```\n",
    "Input:\n",
    "N = 5\n",
    "value[] = {2, 4, 7, 8, 9}\n",
    "k = 3\n",
    "Output:8 9 2 4 7\n",
    "Explanation:Rotate 1:4 -> 7 -> 8 -> 9 -> 2\n",
    "Rotate 2: 7 -> 8 -> 9 -> 2 -> 4\n",
    "Rotate 3: 8 -> 9 -> 2 -> 4 -> 7\n",
    "```"
   ]
  },
  {
   "cell_type": "code",
   "execution_count": 22,
   "metadata": {
    "id": "v_05KbYAq6cD"
   },
   "outputs": [],
   "source": [
    "class ListNode:\n",
    "    def __init__(self, val=0, next=None):\n",
    "        self.val = val\n",
    "        self.next = next\n",
    "\n",
    "def leftShift(head, k):\n",
    "    if not head or not head.next or k == 0:\n",
    "        return head\n",
    "\n",
    "    # Find the length of the linked list\n",
    "    length = 0\n",
    "    current = head\n",
    "    while current:\n",
    "        length += 1\n",
    "        current = current.next\n",
    "\n",
    "    # Adjust k to handle wrap-around rotations\n",
    "    k %= length\n",
    "\n",
    "    if k == 0:\n",
    "        return head\n",
    "\n",
    "    # Find the kth node from the beginning\n",
    "    count = 1\n",
    "    kth_node = head\n",
    "    while count < k:\n",
    "        kth_node = kth_node.next\n",
    "        count += 1\n",
    "\n",
    "    # Set the new head of the modified linked list\n",
    "    new_head = kth_node.next\n",
    "\n",
    "    # Traverse to the end of the linked list\n",
    "    current = new_head\n",
    "    while current.next:\n",
    "        current = current.next\n",
    "\n",
    "    # Connect the end to the original head\n",
    "    current.next = head\n",
    "\n",
    "    # Break the link after the kth node\n",
    "    kth_node.next = None\n",
    "\n",
    "    return new_head\n"
   ]
  },
  {
   "cell_type": "code",
   "execution_count": 24,
   "metadata": {
    "colab": {
     "base_uri": "https://localhost:8080/"
    },
    "id": "APqm5t3krNqi",
    "outputId": "7076058a-8fae-4d9c-9f73-48ee5741029b"
   },
   "outputs": [
    {
     "name": "stdout",
     "output_type": "stream",
     "text": [
      "8 9 2 4 7 "
     ]
    }
   ],
   "source": [
    "\n",
    "head = ListNode(2)\n",
    "head.next = ListNode(4)\n",
    "head.next.next = ListNode(7)\n",
    "head.next.next.next = ListNode(8)\n",
    "head.next.next.next.next = ListNode(9)\n",
    "\n",
    "\n",
    "result = leftShift(head, 3)\n",
    "\n",
    "current = result\n",
    "while current:\n",
    "    print(current.val, end=\" \")\n",
    "    current = current.next\n",
    "\n"
   ]
  },
  {
   "cell_type": "markdown",
   "metadata": {
    "id": "eHAQJeIurY3_"
   },
   "source": [
    "<aside>\n",
    "    \n",
    "💡 **Question 7**\n",
    "\n",
    "You are given the `head` of a linked list with `n` nodes.\n",
    "\n",
    "For each node in the list, find the value of the **next greater node**. That is, for each node, find the value of the first node that is next to it and has a **strictly larger** value than it.\n",
    "\n",
    "Return an integer array `answer` where `answer[i]` is the value of the next greater node of the `ith` node (**1-indexed**). If the `ith` node does not have a next greater node, set `answer[i] = 0`.\n",
    "\n",
    "**Example 1:**\n",
    "\n",
    "</aside>\n",
    "<img src =\" https://pwskills.notion.site/image/https%3A%2F%2Fassets.leetcode.com%2Fuploads%2F2021%2F08%2F05%2Flinkedlistnext1.jpg?id=cae2303b-e908-4f5d-8b20-a4d530752f53&table=block&spaceId=6fae2e0f-dedc-48e9-bc59-af2654c78209&width=610&userId=&cache=v2\">\n",
    "</aside>\n",
    "\n",
    "```\n",
    "Input: head = [2,1,5]\n",
    "Output: [5,5,0]\n",
    "```\n",
    "**Example 2:**\n",
    "\n",
    "\n",
    "<img src =\"https://pwskills.notion.site/image/https%3A%2F%2Fassets.leetcode.com%2Fuploads%2F2021%2F08%2F05%2Flinkedlistnext2.jpg?id=f77103cf-d4e1-4f47-bb0a-247cb26bda15&table=block&spaceId=6fae2e0f-dedc-48e9-bc59-af2654c78209&width=1000&userId=&cache=v2\">\n",
    "\n",
    "```\n",
    "Input: head = [2,7,4,3,5]\n",
    "Output: [7,0,5,5,0]\n",
    "```"
   ]
  },
  {
   "cell_type": "code",
   "execution_count": 25,
   "metadata": {
    "id": "6WS-Usy_rQy9"
   },
   "outputs": [],
   "source": [
    "class ListNode:\n",
    "    def __init__(self, val=0, next=None):\n",
    "        self.val = val\n",
    "        self.next = next\n",
    "\n",
    "def nextGreaterNodes(head):\n",
    "    # Convert the linked list to a list\n",
    "    nodes = []\n",
    "    current = head\n",
    "    while current:\n",
    "        nodes.append(current.val)\n",
    "        current = current.next\n",
    "\n",
    "    n = len(nodes)\n",
    "    stack = []\n",
    "    result = [0] * n\n",
    "\n",
    "    for i in range(n - 1, -1, -1):\n",
    "        while stack and nodes[i] >= stack[-1]:\n",
    "            stack.pop()\n",
    "        if stack:\n",
    "            result[i] = stack[-1]\n",
    "        stack.append(nodes[i])\n",
    "\n",
    "    return result\n"
   ]
  },
  {
   "cell_type": "code",
   "execution_count": 26,
   "metadata": {
    "colab": {
     "base_uri": "https://localhost:8080/"
    },
    "id": "9nydsU9Mrjhx",
    "outputId": "f7a7de97-4949-4812-e61d-6712dcfb44b7"
   },
   "outputs": [
    {
     "name": "stdout",
     "output_type": "stream",
     "text": [
      "[5, 5, 0]\n"
     ]
    }
   ],
   "source": [
    "\n",
    "head = ListNode(2)\n",
    "head.next = ListNode(1)\n",
    "head.next.next = ListNode(5)\n",
    "\n",
    "# Find the next greater nodes\n",
    "result = nextGreaterNodes(head)\n",
    "\n",
    "\n",
    "print(result)\n"
   ]
  },
  {
   "cell_type": "markdown",
   "metadata": {
    "id": "vFFcuoGNrrzt"
   },
   "source": [
    "<aside>\n",
    "    \n",
    "💡 **Question 8**\n",
    "\n",
    "Given the `head` of a linked list, we repeatedly delete consecutive sequences of nodes that sum to `0` until there are no such sequences.\n",
    "\n",
    "After doing so, return the head of the final linked list.  You may return any such answer.\n",
    "\n",
    "(Note that in the examples below, all sequences are serializations of `ListNode` objects.)\n",
    "\n",
    "**Example 1:**\n",
    "\n",
    "</aside>\n",
    "Input: head = [1,2,-3,3,1]\n",
    "Output: [3,1]\n",
    "Note: The answer [1,2,1] would also be accepted.\n"
   ]
  },
  {
   "cell_type": "code",
   "execution_count": 29,
   "metadata": {
    "id": "zFAcW1Asrlsd"
   },
   "outputs": [],
   "source": [
    "class ListNode:\n",
    "    def __init__(self, val=0, next=None):\n",
    "        self.val = val\n",
    "        self.next = next\n",
    "\n",
    "def removeZeroSumSublists(head):\n",
    "    dummy = ListNode(0)\n",
    "    dummy.next = head\n",
    "\n",
    "    # Use a hashmap to store running sums and their corresponding nodes\n",
    "    hashmap = {}\n",
    "    current = dummy\n",
    "    running_sum = 0\n",
    "\n",
    "    while current:\n",
    "        running_sum += current.val\n",
    "\n",
    "        if running_sum == 0:\n",
    "            # If the running sum is 0, remove nodes from the dummy node up to the current node\n",
    "            dummy.next = current.next\n",
    "            hashmap = {}  # Clear the hashmap\n",
    "        elif running_sum in hashmap:\n",
    "            # Remove nodes between the previous occurrence of the running sum and the current node\n",
    "            prev = hashmap[running_sum]\n",
    "            prev.next = current.next\n",
    "\n",
    "            # Remove the running sums from the hashmap\n",
    "            temp = running_sum + prev.next.val\n",
    "            while temp != running_sum:\n",
    "                del hashmap[temp]\n",
    "                prev = prev.next\n",
    "                temp += prev.next.val\n",
    "\n",
    "        else:\n",
    "            hashmap[running_sum] = current\n",
    "\n",
    "        current = current.next\n",
    "\n",
    "    return dummy.next\n"
   ]
  },
  {
   "cell_type": "code",
   "execution_count": 30,
   "metadata": {
    "colab": {
     "base_uri": "https://localhost:8080/"
    },
    "id": "Lv1O83Uqr8Wp",
    "outputId": "f2dffc8e-4431-4685-ce91-90ab223df57d"
   },
   "outputs": [
    {
     "name": "stdout",
     "output_type": "stream",
     "text": [
      "3 1 "
     ]
    }
   ],
   "source": [
    "# Create the linked list: 1 -> 2 -> -3 -> 3 -> 1\n",
    "head = ListNode(1)\n",
    "head.next = ListNode(2)\n",
    "head.next.next = ListNode(-3)\n",
    "head.next.next.next = ListNode(3)\n",
    "head.next.next.next.next = ListNode(1)\n",
    "\n",
    "# Remove consecutive sequences with a sum of 0\n",
    "result = removeZeroSumSublists(head)\n",
    "\n",
    "# Print the result: 3 -> 1\n",
    "while result:\n",
    "    print(result.val, end=' ')\n",
    "    result = result.next\n"
   ]
  },
  {
   "cell_type": "code",
   "execution_count": null,
   "metadata": {
    "id": "vydLZjfer_ck"
   },
   "outputs": [],
   "source": []
  }
 ],
 "metadata": {
  "colab": {
   "authorship_tag": "ABX9TyPUdmgygJ7PNnuyUhmGAxgc",
   "include_colab_link": true,
   "provenance": []
  },
  "kernelspec": {
   "display_name": "Python 3 (ipykernel)",
   "language": "python",
   "name": "python3"
  },
  "language_info": {
   "codemirror_mode": {
    "name": "ipython",
    "version": 3
   },
   "file_extension": ".py",
   "mimetype": "text/x-python",
   "name": "python",
   "nbconvert_exporter": "python",
   "pygments_lexer": "ipython3",
   "version": "3.10.11"
  }
 },
 "nbformat": 4,
 "nbformat_minor": 1
}
