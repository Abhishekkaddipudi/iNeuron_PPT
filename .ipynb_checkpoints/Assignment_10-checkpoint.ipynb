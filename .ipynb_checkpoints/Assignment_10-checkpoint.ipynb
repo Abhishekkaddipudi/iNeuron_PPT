{
 "cells": [
  {
   "cell_type": "markdown",
   "id": "1ab5fb8a",
   "metadata": {},
   "source": [
    "<aside>\n",
    "\n",
    "💡 **Question 1**\n",
    "\n",
    "Given an integer `n`, return *`true` if it is a power of three. Otherwise, return `false`*.\n",
    "\n",
    "An integer `n` is a power of three, if there exists an integer `x` such that `n == 3x`.\n",
    "\n",
    "Input: n = 27\n",
    "Output: true\n",
    "Explanation: 27 = 33\n",
    "    \n",
    "Input: n = 0\n",
    "Output: false\n",
    "Explanation: There is no x where 3x = 0.\n",
    "\n",
    "Input: n = -1\n",
    "Output: false\n",
    "Explanation: There is no x where 3x = (-1).\n",
    "\n",
    "</aside>"
   ]
  },
  {
   "cell_type": "code",
   "execution_count": 2,
   "id": "463e782d",
   "metadata": {},
   "outputs": [],
   "source": [
    "def isPowerOfThree(n):\n",
    "    \"\"\"\n",
    "    Check if the given number is a power of three using recursion.\n",
    "\n",
    "    Args:\n",
    "        n (int): The input number.\n",
    "\n",
    "    Returns:\n",
    "        bool: True if n is a power of three, False otherwise.\n",
    "\n",
    "    \"\"\"\n",
    "\n",
    "    if n == 1:\n",
    "        return True\n",
    "    elif n < 1 or n % 3 != 0:\n",
    "        return False\n",
    "\n",
    "    return isPowerOfThree(n // 3)\n"
   ]
  },
  {
   "cell_type": "code",
   "execution_count": 3,
   "id": "d205e955",
   "metadata": {},
   "outputs": [
    {
     "data": {
      "text/plain": [
       "True"
      ]
     },
     "execution_count": 3,
     "metadata": {},
     "output_type": "execute_result"
    }
   ],
   "source": [
    "isPowerOfThree(27)"
   ]
  },
  {
   "cell_type": "code",
   "execution_count": 4,
   "id": "383129fd",
   "metadata": {},
   "outputs": [
    {
     "data": {
      "text/plain": [
       "False"
      ]
     },
     "execution_count": 4,
     "metadata": {},
     "output_type": "execute_result"
    }
   ],
   "source": [
    "isPowerOfThree(0)"
   ]
  },
  {
   "cell_type": "code",
   "execution_count": 7,
   "id": "fd4dd135",
   "metadata": {},
   "outputs": [
    {
     "data": {
      "text/plain": [
       "False"
      ]
     },
     "execution_count": 7,
     "metadata": {},
     "output_type": "execute_result"
    }
   ],
   "source": [
    "isPowerOfThree(-1)"
   ]
  },
  {
   "cell_type": "markdown",
   "id": "5f1b4908",
   "metadata": {},
   "source": [
    "<aside>\n",
    "    \n",
    "💡 **Question 2**\n",
    "\n",
    "You have a list `arr` of all integers in the range `[1, n]` sorted in a strictly increasing order. Apply the following algorithm on `arr`:\n",
    "\n",
    "- Starting from left to right, remove the first number and every other number afterward until you reach the end of the list.\n",
    "- Repeat the previous step again, but this time from right to left, remove the rightmost number and every other number from the remaining numbers.\n",
    "- Keep repeating the steps again, alternating left to right and right to left, until a single number remains.\n",
    "\n",
    "Given the integer `n`, return *the last number that remains in* `arr`.\n",
    "\n",
    "**Example 1:**\n",
    "\n",
    "```\n",
    "Input: n = 9\n",
    "Output: 6\n",
    "Explanation:\n",
    "arr = [1, 2,3, 4,5, 6,7, 8,9]\n",
    "arr = [2,4, 6,8]\n",
    "arr = [2, 6]\n",
    "arr = [6]\n",
    "\n",
    "```\n",
    "\n",
    "**Example 2:**\n",
    "```\n",
    "Input: n = 1\n",
    "Output: 1\n",
    "```\n",
    "</aside>"
   ]
  },
  {
   "cell_type": "code",
   "execution_count": 8,
   "id": "8468e860",
   "metadata": {},
   "outputs": [],
   "source": [
    "def lastNumberInArr(n):\n",
    "    \"\"\"\n",
    "    Find the last number that remains in the array using recursion.\n",
    "\n",
    "    Args:\n",
    "        n (int): The input number.\n",
    "\n",
    "    Returns:\n",
    "        int: The last number that remains in the array.\n",
    "\n",
    "    \"\"\"\n",
    "\n",
    "    if n == 1:\n",
    "        return 1\n",
    "\n",
    "    if n % 2 == 1:\n",
    "        return lastNumberInArr(n - 1)\n",
    "\n",
    "    return 2 * (n // 2 + 1 - lastNumberInArr(n // 2))\n"
   ]
  },
  {
   "cell_type": "code",
   "execution_count": 11,
   "id": "a052a80a",
   "metadata": {},
   "outputs": [
    {
     "data": {
      "text/plain": [
       "6"
      ]
     },
     "execution_count": 11,
     "metadata": {},
     "output_type": "execute_result"
    }
   ],
   "source": [
    "lastNumberInArr(9)"
   ]
  },
  {
   "cell_type": "code",
   "execution_count": 13,
   "id": "d8354ba2",
   "metadata": {},
   "outputs": [
    {
     "data": {
      "text/plain": [
       "1"
      ]
     },
     "execution_count": 13,
     "metadata": {},
     "output_type": "execute_result"
    }
   ],
   "source": [
    "lastNumberInArr(1)"
   ]
  },
  {
   "cell_type": "markdown",
   "id": "c7329f87",
   "metadata": {},
   "source": [
    "<aside>\n",
    "    \n",
    "💡 **Question 3**\n",
    "\n",
    "****Given a set represented as a string, write a recursive code to print all subsets of it. The subsets can be printed in any order.****\n",
    "\n",
    "**Example 1:**\n",
    "\n",
    "Input :  set = “abc”\n",
    "\n",
    "Output : { “”, “a”, “b”, “c”, “ab”, “ac”, “bc”, “abc”}\n",
    "\n",
    "**Example 2:**\n",
    "\n",
    "Input : set = “abcd”\n",
    "\n",
    "Output : { “”, “a” ,”ab” ,”abc” ,”abcd”, “abd” ,”ac” ,”acd”, “ad” ,”b”, “bc” ,”bcd” ,”bd” ,”c” ,”cd” ,”d” }\n",
    "\n",
    "</aside>"
   ]
  },
  {
   "cell_type": "code",
   "execution_count": 15,
   "id": "ab347a75",
   "metadata": {},
   "outputs": [],
   "source": [
    "def printAllSubsets(set_str):\n",
    "    \"\"\"\n",
    "    Print all subsets of a given set using recursion.\n",
    "\n",
    "    Args:\n",
    "        set_str (str): The input string representing the set.\n",
    "\n",
    "    Returns:\n",
    "        List[str]: The list of all subsets.\n",
    "\n",
    "    \"\"\"\n",
    "\n",
    "    def backtrack(subset, remaining):\n",
    "        if not remaining:\n",
    "            subsets.append(subset)\n",
    "            return\n",
    "\n",
    "        backtrack(subset, remaining[1:])\n",
    "        backtrack(subset + remaining[0], remaining[1:])\n",
    "\n",
    "    subsets = []\n",
    "    backtrack(\"\", set_str)\n",
    "    return subsets\n"
   ]
  },
  {
   "cell_type": "code",
   "execution_count": 16,
   "id": "301a685a",
   "metadata": {},
   "outputs": [
    {
     "data": {
      "text/plain": [
       "['', 'c', 'b', 'bc', 'a', 'ac', 'ab', 'abc']"
      ]
     },
     "execution_count": 16,
     "metadata": {},
     "output_type": "execute_result"
    }
   ],
   "source": [
    "printAllSubsets('abc')"
   ]
  },
  {
   "cell_type": "code",
   "execution_count": 17,
   "id": "6d1fdcc3",
   "metadata": {},
   "outputs": [
    {
     "data": {
      "text/plain": [
       "['',\n",
       " 'd',\n",
       " 'c',\n",
       " 'cd',\n",
       " 'b',\n",
       " 'bd',\n",
       " 'bc',\n",
       " 'bcd',\n",
       " 'a',\n",
       " 'ad',\n",
       " 'ac',\n",
       " 'acd',\n",
       " 'ab',\n",
       " 'abd',\n",
       " 'abc',\n",
       " 'abcd']"
      ]
     },
     "execution_count": 17,
     "metadata": {},
     "output_type": "execute_result"
    }
   ],
   "source": [
    "printAllSubsets('abcd')"
   ]
  },
  {
   "cell_type": "markdown",
   "id": "d41dd930",
   "metadata": {},
   "source": [
    "<aside>\n",
    "    \n",
    "💡 **Question 4**\n",
    "\n",
    "Given a string calculate length of the string using recursion.\n",
    "\n",
    "**Examples:**\n",
    "    \n",
    "Input : str = \"abcd\"\n",
    "Output :4\n",
    "\n",
    "Input : str = \"GEEKSFORGEEKS\"\n",
    "Output :13\n",
    "\n",
    "</aside>"
   ]
  },
  {
   "cell_type": "code",
   "execution_count": 18,
   "id": "1f510a7e",
   "metadata": {},
   "outputs": [],
   "source": [
    "def stringLengthRecursive(string):\n",
    "    \"\"\"\n",
    "    Calculate the length of the string using recursion.\n",
    "\n",
    "    Args:\n",
    "        string (str): The input string.\n",
    "\n",
    "    Returns:\n",
    "        int: The length of the string.\n",
    "\n",
    "    \"\"\"\n",
    "\n",
    "    if not string:\n",
    "        return 0\n",
    "\n",
    "    return 1 + stringLengthRecursive(string[1:])\n"
   ]
  },
  {
   "cell_type": "code",
   "execution_count": 19,
   "id": "f31a8d35",
   "metadata": {},
   "outputs": [
    {
     "data": {
      "text/plain": [
       "4"
      ]
     },
     "execution_count": 19,
     "metadata": {},
     "output_type": "execute_result"
    }
   ],
   "source": [
    "stringLengthRecursive(\"abcd\")"
   ]
  },
  {
   "cell_type": "code",
   "execution_count": 21,
   "id": "fe33c23c",
   "metadata": {},
   "outputs": [
    {
     "data": {
      "text/plain": [
       "13"
      ]
     },
     "execution_count": 21,
     "metadata": {},
     "output_type": "execute_result"
    }
   ],
   "source": [
    "stringLengthRecursive(\"GEEKSFORGEEKS\")"
   ]
  },
  {
   "cell_type": "markdown",
   "id": "8cafa7ea",
   "metadata": {},
   "source": [
    "<aside>\n",
    "\n",
    "💡 **Question 5**\n",
    "\n",
    "We are given a string S, we need to find count of all contiguous substrings starting and ending with same character.\n",
    "\n",
    "**Examples :**\n",
    "    \n",
    "Input  : S = \"abcab\"\n",
    "    \n",
    "Output : 7\n",
    "    \n",
    "There are 15 substrings of \"abcab\"\n",
    "a, ab, abc, abca, abcab, b, bc, bca\n",
    "bcab, c, ca, cab, a, ab, b\n",
    "    \n",
    "Out of the above substrings, there\n",
    "are 7 substrings : a, abca, b, bcab,\n",
    "c, a and b.\n",
    "\n",
    "Input  : S = \"aba\"\n",
    "    \n",
    "Output : 4\n",
    "    \n",
    "The substrings are a, b, a and aba\n",
    "\n",
    "</aside>"
   ]
  },
  {
   "cell_type": "code",
   "execution_count": 30,
   "id": "1c8660af",
   "metadata": {},
   "outputs": [],
   "source": [
    "def countSubstrings(S, start, end):\n",
    "    \"\"\"\n",
    "    Count the number of contiguous substrings starting and ending with the same character using recursion.\n",
    "\n",
    "    Args:\n",
    "        S (str): The input string.\n",
    "        start (int): The start index of the current substring.\n",
    "        end (int): The end index of the current substring.\n",
    "\n",
    "    Returns:\n",
    "        int: The count of contiguous substrings.\n",
    "\n",
    "    \"\"\"\n",
    "\n",
    "    if start > end:\n",
    "        return 0\n",
    "\n",
    "    count = 0\n",
    "    if S[start] == S[end]:\n",
    "        count += 1\n",
    "\n",
    "    count += countSubstrings(S, start + 1, end)\n",
    "    count += countSubstrings(S, start, end - 1)\n",
    "    count -= countSubstrings(S, start + 1, end - 1)\n",
    "\n",
    "    return count\n",
    "\n"
   ]
  },
  {
   "cell_type": "code",
   "execution_count": 62,
   "id": "a9e11011",
   "metadata": {},
   "outputs": [
    {
     "name": "stdout",
     "output_type": "stream",
     "text": [
      "7\n"
     ]
    }
   ],
   "source": [
    "S = \"abcab\"\n",
    "print(countSubstrings(S, 0, len(S) - 1)) "
   ]
  },
  {
   "cell_type": "code",
   "execution_count": 63,
   "id": "c75f498f",
   "metadata": {},
   "outputs": [
    {
     "name": "stdout",
     "output_type": "stream",
     "text": [
      "4\n"
     ]
    }
   ],
   "source": [
    "S = \"aba\"\n",
    "print(countSubstrings(S, 0, len(S) - 1))  # Output: 4"
   ]
  },
  {
   "cell_type": "markdown",
   "id": "58c01f51",
   "metadata": {},
   "source": [
    "<aside>\n",
    "\n",
    "💡 **Question 6**\n",
    "\n",
    "The [tower of Hanoi](https://en.wikipedia.org/wiki/Tower_of_Hanoi) is a famous puzzle where we have three rods and **N** disks. The objective of the puzzle is to move the entire stack to another rod. You are given the number of discs **N**. Initially, these discs are in the rod 1. You need to print all the steps of discs movement so that all the discs reach the 3rd rod. Also, you need to find the total moves.\n",
    "\n",
    "**Note:** The discs are arranged such that the **top disc is numbered 1** and the **bottom-most disc is numbered N**. Also, all the discs have **different sizes** and a bigger disc **cannot** be put on the top of a smaller disc. Refer the provided link to get a better clarity about the puzzle.\n",
    "    \n",
    "    \n",
    "**Example 1:**\n",
    "\n",
    "```\n",
    "Input:\n",
    "N = 2\n",
    "Output:\n",
    "move disk 1 from rod 1 to rod 2\n",
    "move disk 2 from rod 1 to rod 3\n",
    "move disk 1 from rod 2 to rod 3\n",
    "3\n",
    "Explanation:For N=2 , steps will be\n",
    "as follows in the example and total\n",
    "3 steps will be taken.\n",
    "```\n",
    "\n",
    "**Example 2:**\n",
    "```\n",
    "Input:\n",
    "N = 3\n",
    "Output:\n",
    "move disk 1 from rod 1 to rod 3\n",
    "move disk 2 from rod 1 to rod 2\n",
    "move disk 1 from rod 3 to rod 2\n",
    "move disk 3 from rod 1 to rod 3\n",
    "move disk 1 from rod 2 to rod 1\n",
    "move disk 2 from rod 2 to rod 3\n",
    "move disk 1 from rod 1 to rod 3\n",
    "7\n",
    "Explanation:For N=3 , steps will be\n",
    "as follows in the example and total\n",
    "7 steps will be taken\n",
    "```\n",
    "</aside>"
   ]
  },
  {
   "cell_type": "code",
   "execution_count": 39,
   "id": "934ac34b",
   "metadata": {},
   "outputs": [],
   "source": [
    "def towerOfHanoi(N, from_rod='rod1', to_rod='rod3', aux_rod='rod2'):\n",
    "    \"\"\"\n",
    "    Print the steps to solve the Tower of Hanoi puzzle using recursion.\n",
    "\n",
    "    Args:\n",
    "        N (int): The number of discs.\n",
    "        from_rod (str): The source rod.\n",
    "        to_rod (str): The destination rod.\n",
    "        aux_rod (str): The auxiliary rod.\n",
    "\n",
    "    Returns:\n",
    "        int: The total number of moves.\n",
    "\n",
    "    \"\"\"\n",
    "\n",
    "    if N == 1:\n",
    "        print(f\"Move disk 1 from rod {from_rod} to rod {to_rod}\")\n",
    "        return 1\n",
    "\n",
    "    moves1 = towerOfHanoi(N - 1, from_rod, aux_rod, to_rod)\n",
    "    print(f\"Move disk {N} from rod {from_rod} to rod {to_rod}\")\n",
    "    moves2 = towerOfHanoi(N - 1, aux_rod, to_rod, from_rod)\n",
    "\n",
    "    return moves1 + 1 + moves2\n",
    "\n"
   ]
  },
  {
   "cell_type": "code",
   "execution_count": 40,
   "id": "a312d6a8",
   "metadata": {},
   "outputs": [
    {
     "name": "stdout",
     "output_type": "stream",
     "text": [
      "Move disk 1 from rod rod1 to rod rod2\n",
      "Move disk 2 from rod rod1 to rod rod3\n",
      "Move disk 1 from rod rod2 to rod rod3\n",
      "Total moves: 3\n"
     ]
    }
   ],
   "source": [
    "N = 2\n",
    "total_moves = towerOfHanoi(N)\n",
    "print(f\"Total moves: {total_moves}\")"
   ]
  },
  {
   "cell_type": "code",
   "execution_count": 41,
   "id": "79a98a26",
   "metadata": {},
   "outputs": [
    {
     "name": "stdout",
     "output_type": "stream",
     "text": [
      "Move disk 1 from rod rod1 to rod rod3\n",
      "Move disk 2 from rod rod1 to rod rod2\n",
      "Move disk 1 from rod rod3 to rod rod2\n",
      "Move disk 3 from rod rod1 to rod rod3\n",
      "Move disk 1 from rod rod2 to rod rod1\n",
      "Move disk 2 from rod rod2 to rod rod3\n",
      "Move disk 1 from rod rod1 to rod rod3\n",
      "Total moves: 7\n"
     ]
    }
   ],
   "source": [
    "N = 3\n",
    "total_moves = towerOfHanoi(N)\n",
    "print(f\"Total moves: {total_moves}\")"
   ]
  },
  {
   "cell_type": "markdown",
   "id": "8d96611c",
   "metadata": {},
   "source": [
    "<aside>\n",
    "\n",
    "💡 **Question 7**\n",
    "\n",
    "Given a string **str**, the task is to print all the permutations of **str**. A **permutation** is an arrangement of all or part of a set of objects, with regard to the order of the arrangement. For instance, the words ‘bat’ and ‘tab’ represents two distinct permutation (or arrangements) of a similar three letter word.\n",
    "\n",
    "**Examples:**\n",
    "\n",
    " Input: str = “cd”\n",
    " \n",
    " \n",
    " **Output:** cd dc\n",
    " \n",
    " **Input:** str = “abb”\n",
    " \n",
    " **Output:** abb abb bab bba bab bba\n",
    " \n",
    "</aside>"
   ]
  },
  {
   "cell_type": "code",
   "execution_count": 56,
   "id": "072254d0",
   "metadata": {},
   "outputs": [],
   "source": [
    "def permuteString(str, left, right):\n",
    "    \"\"\"\n",
    "    Print all permutations of a given string using recursion.\n",
    "\n",
    "    Args:\n",
    "        str (str): The input string.\n",
    "        left (int): The left index of the current substring.\n",
    "        right (int): The right index of the current substring.\n",
    "\n",
    "    \"\"\"\n",
    "\n",
    "    if left == right:\n",
    "        print(str)\n",
    "\n",
    "    for i in range(left, right + 1):\n",
    "        # Swap characters at indices left and i\n",
    "        str = swapChars(str, left, i)\n",
    "        # Recursively permute the remaining characters\n",
    "        permuteString(str, left + 1, right)\n",
    "        # Backtrack by swapping back the characters at indices left and i\n",
    "        str = swapChars(str, left, i)\n",
    "\n",
    "def swapChars(str, i, j):\n",
    "    # Helper function to swap characters at indices i and j in a string\n",
    "    str_list = list(str)\n",
    "    str_list[i], str_list[j] = str_list[j], str_list[i]\n",
    "    return ''.join(str_list)\n"
   ]
  },
  {
   "cell_type": "code",
   "execution_count": 57,
   "id": "10dcbd17",
   "metadata": {},
   "outputs": [
    {
     "name": "stdout",
     "output_type": "stream",
     "text": [
      "cd\n",
      "dc\n"
     ]
    }
   ],
   "source": [
    "\n",
    "str = \"cd\"\n",
    "permuteString(str, 0, len(str) - 1)\n",
    "\n"
   ]
  },
  {
   "cell_type": "code",
   "execution_count": 58,
   "id": "e80017ea",
   "metadata": {},
   "outputs": [
    {
     "name": "stdout",
     "output_type": "stream",
     "text": [
      "abb\n",
      "abb\n",
      "bab\n",
      "bba\n",
      "bba\n",
      "bab\n"
     ]
    }
   ],
   "source": [
    "str = \"abb\"\n",
    "permuteString(str, 0, len(str) - 1)\n"
   ]
  },
  {
   "cell_type": "markdown",
   "id": "d304cb3d",
   "metadata": {},
   "source": [
    "<aside>\n",
    "💡 **Question 8**\n",
    "\n",
    "Given a string, count total number of consonants in it. A consonant is an English alphabet character that is not vowel (a, e, i, o and u). Examples of constants are b, c, d, f, and g.\n",
    "\n",
    "**Examples :**\n",
    "```\n",
    "Input : abc de\n",
    "Output : 3\n",
    "There are three consonants b, c and d.\n",
    "\n",
    "Input : geeksforgeeks portal\n",
    "Output : 12\n",
    "```\n",
    "</aside>"
   ]
  },
  {
   "cell_type": "code",
   "execution_count": 59,
   "id": "d231665f",
   "metadata": {},
   "outputs": [],
   "source": [
    "def countConsonants(str, index):\n",
    "    \"\"\"\n",
    "    Count the total number of consonants in a given string using recursion.\n",
    "\n",
    "    Args:\n",
    "        str (str): The input string.\n",
    "        index (int): The current index in the string.\n",
    "\n",
    "    Returns:\n",
    "        int: The count of consonants.\n",
    "\n",
    "    \"\"\"\n",
    "\n",
    "    if index == len(str):\n",
    "        return 0\n",
    "\n",
    "    count = 0\n",
    "    if isConsonant(str[index]):\n",
    "        count += 1\n",
    "\n",
    "    count += countConsonants(str, index + 1)\n",
    "\n",
    "    return count\n",
    "\n",
    "def isConsonant(char):\n",
    "    \"\"\"\n",
    "    Check if a character is a consonant.\n",
    "\n",
    "    Args:\n",
    "        char (str): The character.\n",
    "\n",
    "    Returns:\n",
    "        bool: True if the character is a consonant, False otherwise.\n",
    "\n",
    "    \"\"\"\n",
    "\n",
    "    vowels = ['a', 'e', 'i', 'o', 'u']\n",
    "    if char.isalpha() and char.lower() not in vowels:\n",
    "        return True\n",
    "    return False\n",
    "\n"
   ]
  },
  {
   "cell_type": "code",
   "execution_count": 60,
   "id": "05e87f49",
   "metadata": {},
   "outputs": [
    {
     "name": "stdout",
     "output_type": "stream",
     "text": [
      "3\n"
     ]
    }
   ],
   "source": [
    "# Test the function\n",
    "str = \"abc de\"\n",
    "print(countConsonants(str, 0))  # Output: 3\n",
    "\n"
   ]
  },
  {
   "cell_type": "code",
   "execution_count": 61,
   "id": "f54e44ec",
   "metadata": {},
   "outputs": [
    {
     "name": "stdout",
     "output_type": "stream",
     "text": [
      "12\n"
     ]
    }
   ],
   "source": [
    "str = \"geeksforgeeks portal\"\n",
    "print(countConsonants(str, 0))  # Output: 12\n"
   ]
  }
 ],
 "metadata": {
  "kernelspec": {
   "display_name": "Python 3 (ipykernel)",
   "language": "python",
   "name": "python3"
  },
  "language_info": {
   "codemirror_mode": {
    "name": "ipython",
    "version": 3
   },
   "file_extension": ".py",
   "mimetype": "text/x-python",
   "name": "python",
   "nbconvert_exporter": "python",
   "pygments_lexer": "ipython3",
   "version": "3.10.11"
  }
 },
 "nbformat": 4,
 "nbformat_minor": 5
}
