{
 "cells": [
  {
   "cell_type": "markdown",
   "id": "10f15e5f",
   "metadata": {},
   "source": [
    "<aside>\n",
    "    \n",
    "💡 **Question 1**\n",
    "\n",
    "Given two strings s and t, *determine if they are isomorphic*.\n",
    "\n",
    "Two strings s and t are isomorphic if the characters in s can be replaced to get t.\n",
    "\n",
    "All occurrences of a character must be replaced with another character while preserving the order of characters. No two characters may map to the same character, but a character may map to itself.\n",
    "\n",
    "**Example 1:**\n",
    "\n",
    "**Input:** s = \"egg\", t = \"add\"\n",
    "\n",
    "**Output:** true\n",
    "\n",
    "</aside>"
   ]
  },
  {
   "cell_type": "code",
   "execution_count": 1,
   "id": "626a1bf4",
   "metadata": {},
   "outputs": [],
   "source": [
    "\"\"\"\n",
    "Algorithm:\n",
    "\n",
    "Check if the lengths of the two strings, s and t, are equal. If not, return False since isomorphic strings must have the same length.\n",
    "\n",
    "Create an empty dictionary char_map to store the mapping of characters from s to t.\n",
    "\n",
    "Create an empty set used_chars to keep track of the characters that have already been mapped to.\n",
    "\n",
    "Iterate over the characters of s and t simultaneously using a loop.\n",
    "\n",
    "For each character, check if it already exists in char_map. If it does, make sure the corresponding mapped character in char_map is the same as the character in t. If not, return False since the characters are not isomorphic.\n",
    "\n",
    "If the character doesn't exist in char_map, check if the corresponding character in t has already been used as a mapping for another character in s. If it has, return False since a character cannot map to multiple characters. Otherwise, add the mapping to char_map and mark the character in t as used by adding it to used_chars.\n",
    "\n",
    "If the loop completes without returning False, it means the strings are isomorphic. Return True.\n",
    "\n",
    "\n",
    "TC : O(n)\n",
    "SC : O(n)\n",
    "\"\"\"\n",
    "\n",
    "\n",
    "def isIsomorphic(s: str, t: str) -> bool:\n",
    "    \"\"\"\n",
    "    Check if two strings are isomorphic.\n",
    "    \n",
    "    Args:\n",
    "        s: The first string.\n",
    "        t: The second string.\n",
    "    \n",
    "    Returns:\n",
    "        True if the strings are isomorphic, False otherwise.\n",
    "    \"\"\"\n",
    "    if len(s) != len(t):\n",
    "        return False\n",
    "    \n",
    "    char_map = {}\n",
    "    used_chars = set()\n",
    "    \n",
    "    for i in range(len(s)):\n",
    "        if s[i] in char_map:\n",
    "            if char_map[s[i]] != t[i]:\n",
    "                return False\n",
    "        else:\n",
    "            if t[i] in used_chars:\n",
    "                return False\n",
    "            char_map[s[i]] = t[i]\n",
    "            used_chars.add(t[i])\n",
    "    \n",
    "    return True\n"
   ]
  },
  {
   "cell_type": "code",
   "execution_count": 2,
   "id": "81c77af0",
   "metadata": {},
   "outputs": [
    {
     "data": {
      "text/plain": [
       "True"
      ]
     },
     "execution_count": 2,
     "metadata": {},
     "output_type": "execute_result"
    }
   ],
   "source": [
    "s = \"egg\"\n",
    "t = \"add\"\n",
    "isIsomorphic(s,t)"
   ]
  },
  {
   "cell_type": "markdown",
   "id": "86bb5a79",
   "metadata": {},
   "source": [
    "<aside>\n",
    "\n",
    "💡 **Question 2**\n",
    "\n",
    "Given a string num which represents an integer, return true *if* num *is a **strobogrammatic number***.\n",
    "\n",
    "A **strobogrammatic number** is a number that looks the same when rotated 180 degrees (looked at upside down).\n",
    "\n",
    "**Example 1:**\n",
    "\n",
    "**Input:** num = \"69\"\n",
    "\n",
    "**Output:**\n",
    "\n",
    "true\n",
    "\n",
    "</aside>"
   ]
  },
  {
   "cell_type": "code",
   "execution_count": 4,
   "id": "63a2f619",
   "metadata": {},
   "outputs": [],
   "source": [
    "\"\"\"\n",
    "Algorithm:\n",
    "\n",
    "Create a dictionary strobogrammatic_nums to store the mapping of strobogrammatic digits. The digits '0', '1', '8' remain the same, while '6' maps to '9' and '9' maps to '6'.\n",
    "Initialize two pointers, left and right, to the start and end of the number string, respectively.\n",
    "Iterate until left is less than or equal to right.\n",
    "Check if the character at index left is not a valid strobogrammatic digit or if the corresponding character at index right is not the expected mapping. If either condition fails, return False since the number is not strobogrammatic.\n",
    "Increment left and decrement right to move closer towards the center of the number string.\n",
    "If the loop completes without returning False, it means the number is strobogrammatic. Return True.\n",
    "\n",
    "TC : O(n)\n",
    "SC : O(n)\n",
    "\n",
    "\"\"\"\n",
    "def isStrobogrammatic(num: str) -> bool:\n",
    "    \"\"\"\n",
    "    Check if a number is strobogrammatic.\n",
    "    \n",
    "    Args:\n",
    "        num: The input number as a string.\n",
    "    \n",
    "    Returns:\n",
    "        True if the number is strobogrammatic, False otherwise.\n",
    "    \"\"\"\n",
    "    strobogrammatic_nums = {'0': '0', '1': '1', '6': '9', '8': '8', '9': '6'}\n",
    "    \n",
    "    left = 0\n",
    "    right = len(num) - 1\n",
    "    \n",
    "    while left <= right:\n",
    "        if num[left] not in strobogrammatic_nums or num[right] != strobogrammatic_nums[num[left]]:\n",
    "            return False\n",
    "        left += 1\n",
    "        right -= 1\n",
    "    \n",
    "    return True\n"
   ]
  },
  {
   "cell_type": "code",
   "execution_count": 6,
   "id": "01c20c8a",
   "metadata": {},
   "outputs": [
    {
     "data": {
      "text/plain": [
       "True"
      ]
     },
     "execution_count": 6,
     "metadata": {},
     "output_type": "execute_result"
    }
   ],
   "source": [
    "num = \"69\"\n",
    "isStrobogrammatic(num)"
   ]
  },
  {
   "cell_type": "markdown",
   "id": "13e613e2",
   "metadata": {},
   "source": [
    "<aside>\n",
    "\n",
    "💡 **Question 3**\n",
    "\n",
    "Given two non-negative integers, num1 and num2 represented as string, return *the sum of* num1 *and* num2 *as a string*.\n",
    "\n",
    "You must solve the problem without using any built-in library for handling large integers (such as BigInteger). You must also not convert the inputs to integers directly.\n",
    "\n",
    "**Example 1:**\n",
    "\n",
    "**Input:** num1 = \"11\", num2 = \"123\"\n",
    "\n",
    "**Output:**\n",
    "\n",
    "\"134\"\n",
    "\n",
    "</aside>"
   ]
  },
  {
   "cell_type": "code",
   "execution_count": 9,
   "id": "04c2ac6b",
   "metadata": {},
   "outputs": [],
   "source": [
    "\n",
    "\"\"\"\n",
    "Algorithm:\n",
    "\n",
    "Initialize two pointers, i and j, to the end of num1 and num2 respectively.\n",
    "Initialize a variable carry to 0 to store the carry value during addition.\n",
    "Initialize an empty list result to store the digits of the sum in reverse order.\n",
    "Iterate until both i and j are greater than or equal to 0 or there is a carry value.\n",
    "For each iteration, calculate the sum of the digits at positions i and j, along with the carry value.\n",
    "If i is still within the bounds of num1, add the corresponding digit to the sum and decrement i.\n",
    "If j is still within the bounds of num2, add the corresponding digit to the sum and decrement j.\n",
    "Append the last digit of the sum (obtained by modulo 10) to the result list, and update the carry value by dividing the sum by 10.\n",
    "After the loop completes, if there is still a non-zero carry value, append it to the result list.\n",
    "Reverse the result list and join the digits to form the final sum as a string.\n",
    "Return the final sum.\n",
    "\n",
    "TC : O(n)\n",
    "SC : O(n)\n",
    "\n",
    "\"\"\"\n",
    "\n",
    "def addStrings(num1: str, num2: str) -> str:\n",
    "    \"\"\"\n",
    "    Add two non-negative integers represented as strings.\n",
    "    \n",
    "    Args:\n",
    "        num1: The first number as a string.\n",
    "        num2: The second number as a string.\n",
    "    \n",
    "    Returns:\n",
    "        The sum of num1 and num2 as a string.\n",
    "    \"\"\"\n",
    "    i = len(num1) - 1\n",
    "    j = len(num2) - 1\n",
    "    carry = 0\n",
    "    result = []\n",
    "    \n",
    "    while i >= 0 or j >= 0 or carry > 0:\n",
    "        digit_sum = carry\n",
    "        \n",
    "        if i >= 0:\n",
    "            digit_sum += int(num1[i])\n",
    "            i -= 1\n",
    "        \n",
    "        if j >= 0:\n",
    "            digit_sum += int(num2[j])\n",
    "            j -= 1\n",
    "        \n",
    "        result.append(str(digit_sum % 10))\n",
    "        carry = digit_sum // 10\n",
    "    \n",
    "    return ''.join(result[::-1])\n"
   ]
  },
  {
   "cell_type": "markdown",
   "id": "d689d9fa",
   "metadata": {},
   "source": [
    "<aside>\n",
    "\n",
    "💡 **Question 4**\n",
    "\n",
    "Given a string s, reverse the order of characters in each word within a sentence while still preserving whitespace and initial word order.\n",
    "\n",
    "**Example 1:**\n",
    "\n",
    "**Input:** s = \"Let's take LeetCode contest\"\n",
    "\n",
    "**Output:** \"s'teL ekat edoCteeL tsetnoc\"\n",
    "\n",
    "</aside>"
   ]
  },
  {
   "cell_type": "code",
   "execution_count": 11,
   "id": "32f270e7",
   "metadata": {},
   "outputs": [],
   "source": [
    "\"\"\"\n",
    "Algorithm:\n",
    "\n",
    "Split the input string s into a list of words using the split() method, which separates words based on whitespace.\n",
    "Create a new list reversed_words to store the reversed words.\n",
    "Iterate over each word in the words list using a list comprehension.\n",
    "For each word, use the slice notation [::-1] to reverse the order of characters.\n",
    "Append the reversed word to the reversed_words list.\n",
    "Join the reversed words in the reversed_words list using the join() method, with a whitespace separator.\n",
    "Return the resulting string with reversed words.\n",
    "\n",
    "TC : O(n)\n",
    "SC : O(1)\n",
    "\n",
    "\"\"\"\n",
    "\n",
    "def reverseWords(s: str) -> str:\n",
    "    \"\"\"\n",
    "    Reverse the order of characters in each word within a sentence.\n",
    "    \n",
    "    Args:\n",
    "        s: The input string.\n",
    "    \n",
    "    Returns:\n",
    "        The string with reversed words.\n",
    "    \"\"\"\n",
    "    words = s.split()\n",
    "    reversed_words = [word[::-1] for word in words]\n",
    "    \n",
    "    return ' '.join(reversed_words)\n"
   ]
  },
  {
   "cell_type": "code",
   "execution_count": 12,
   "id": "25b892bf",
   "metadata": {},
   "outputs": [
    {
     "data": {
      "text/plain": [
       "\"s'teL ekat edoCteeL tsetnoc\""
      ]
     },
     "execution_count": 12,
     "metadata": {},
     "output_type": "execute_result"
    }
   ],
   "source": [
    "s = \"Let's take LeetCode contest\"\n",
    "reverseWords(s)"
   ]
  },
  {
   "cell_type": "markdown",
   "id": "786ab042",
   "metadata": {},
   "source": [
    "<aside>\n",
    "\n",
    "💡 **Question 5**\n",
    "\n",
    "Given a string s and an integer k, reverse the first k characters for every 2k characters counting from the start of the string.\n",
    "\n",
    "If there are fewer than k characters left, reverse all of them. If there are less than 2k but greater than or equal to k characters, then reverse the first k characters and leave the other as original.\n",
    "\n",
    "**Example 1:**\n",
    "\n",
    "**Input:** s = \"abcdefg\", k = 2\n",
    "\n",
    "**Output:**\n",
    "\n",
    "\"bacdfeg\"\n",
    "\n",
    "</aside>"
   ]
  },
  {
   "cell_type": "code",
   "execution_count": 14,
   "id": "3ede688d",
   "metadata": {},
   "outputs": [],
   "source": [
    "\"\"\"\n",
    "Algorithm:\n",
    "\n",
    "Initialize an empty string result to store the final string.\n",
    "Initialize a boolean variable reverse to True, which determines whether the next substring of length k should be reversed or not.\n",
    "Iterate over the input string s in steps of k, using the range function.\n",
    "For each iteration, extract a substring of length k starting from the current index i.\n",
    "If reverse is True, reverse the substring using the slice notation [::-1] and append it to the result string.\n",
    "If reverse is False, append the substring as it is to the result string.\n",
    "Toggle the value of reverse by using the not operator, which alternates the reversal behavior for every 2k characters.\n",
    "After the loop completes, the result string will contain the reversed substrings according to the given conditions.\n",
    "Return the result string.\n",
    "\n",
    "TC : O(n/k)\n",
    "SC : O(1)\n",
    "\n",
    "\"\"\"\n",
    "\n",
    "def reverseStr(s: str, k: int) -> str:\n",
    "    \"\"\"\n",
    "    Reverse the first k characters for every 2k characters in a string.\n",
    "    \n",
    "    Args:\n",
    "        s: The input string.\n",
    "        k: The number of characters to reverse.\n",
    "    \n",
    "    Returns:\n",
    "        The string with reversed substrings.\n",
    "    \"\"\"\n",
    "    result = ''\n",
    "    reverse = True\n",
    "    \n",
    "    for i in range(0, len(s), k):\n",
    "        if reverse:\n",
    "            result += s[i:i+k][::-1]\n",
    "        else:\n",
    "            result += s[i:i+k]\n",
    "        \n",
    "        reverse = not reverse\n",
    "    \n",
    "    return result\n"
   ]
  },
  {
   "cell_type": "code",
   "execution_count": 15,
   "id": "6eb54d58",
   "metadata": {},
   "outputs": [
    {
     "data": {
      "text/plain": [
       "'bacdfeg'"
      ]
     },
     "execution_count": 15,
     "metadata": {},
     "output_type": "execute_result"
    }
   ],
   "source": [
    "s = \"abcdefg\"\n",
    "k = 2\n",
    "\n",
    "reverseStr(s,k)\n"
   ]
  },
  {
   "cell_type": "markdown",
   "id": "178632c7",
   "metadata": {},
   "source": [
    "<aside>\n",
    "\n",
    "💡 **Question 6**\n",
    "\n",
    "Given two strings s and goal, return true *if and only if* s *can become* goal *after some number of **shifts** on* s.\n",
    "\n",
    "A **shift** on s consists of moving the leftmost character of s to the rightmost position.\n",
    "\n",
    "- For example, if s = \"abcde\", then it will be \"bcdea\" after one shift.\n",
    "\n",
    "**Example 1:**\n",
    "\n",
    "**Input:** s = \"abcde\", goal = \"cdeab\"\n",
    "\n",
    "**Output:**\n",
    "\n",
    "true\n",
    "\n",
    "</aside>"
   ]
  },
  {
   "cell_type": "code",
   "execution_count": 32,
   "id": "bb085c56",
   "metadata": {},
   "outputs": [],
   "source": [
    "\"\"\"\n",
    "Algorithm:\n",
    "\n",
    "Check if the lengths of the two strings, s and goal, are equal. If not, return False since s cannot become goal through shifts if they have different lengths.\n",
    "Use the in operator to check if goal is a substring of the concatenated string (s + s).\n",
    "If goal is a substring of (s + s), it means that s can be obtained by performing some number of shifts on s, resulting in goal. Return True.\n",
    "If goal is not a substring of (s + s), return False.\n",
    "\n",
    "TC : O(n)\n",
    "SC : O(1)\n",
    "\"\"\"\n",
    "\n",
    "def rotateString(s: str, goal: str) -> bool:\n",
    "    \"\"\"\n",
    "    Check if s can become goal after some number of shifts on s.\n",
    "    \n",
    "    Args:\n",
    "        s: The original string.\n",
    "        goal: The target string.\n",
    "    \n",
    "    Returns:\n",
    "        True if s can become goal after some number of shifts, False otherwise.\n",
    "    \"\"\"\n",
    "    if len(s) != len(goal):\n",
    "        return False\n",
    "    \n",
    "    return goal in (s + s)\n"
   ]
  },
  {
   "cell_type": "code",
   "execution_count": 20,
   "id": "e7a8a13c",
   "metadata": {},
   "outputs": [
    {
     "data": {
      "text/plain": [
       "True"
      ]
     },
     "execution_count": 20,
     "metadata": {},
     "output_type": "execute_result"
    }
   ],
   "source": [
    "s = \"abcde\"\n",
    "goal = \"cdeab\"\n",
    "rotateString(s,goal)"
   ]
  },
  {
   "cell_type": "markdown",
   "id": "628718d4",
   "metadata": {},
   "source": [
    "<aside>\n",
    "\n",
    "💡 **Question 7**\n",
    "\n",
    "Given two strings s and t, return true *if they are equal when both are typed into empty text editors*. '#' means a backspace character.\n",
    "\n",
    "Note that after backspacing an empty text, the text will continue empty.\n",
    "\n",
    "**Example 1:**\n",
    "\n",
    "**Input:** s = \"ab#c\", t = \"ad#c\"\n",
    "\n",
    "**Output:** true\n",
    "\n",
    "**Explanation:**\n",
    "\n",
    "Both s and t become \"ac\".\n",
    "\n",
    "</aside>"
   ]
  },
  {
   "cell_type": "code",
   "execution_count": 27,
   "id": "ca1323ea",
   "metadata": {},
   "outputs": [],
   "source": [
    "\"\"\"\n",
    "Algorithm:\n",
    "\n",
    "Define a helper function processString() to process a given string by considering backspaces.\n",
    "Initialize an empty stack to store the characters of the string.\n",
    "Iterate over each character in the string s or t.\n",
    "If the character is not a backspace ('#'), push it onto the stack.\n",
    "If the character is a backspace ('#') and the stack is not empty, pop the topmost character from the stack.\n",
    "After processing both strings, obtain the processed strings by joining the characters in the stack.\n",
    "Compare the processed strings obtained from s and t.\n",
    "If the processed strings are equal, return True.\n",
    "If the processed strings are not equal, return False.\n",
    "\n",
    "TC : O(n)\n",
    "SC : O(n)\n",
    "\"\"\"\n",
    "\n",
    "def backspaceCompare(s: str, t: str) -> bool:\n",
    "    \"\"\"\n",
    "    Check if two strings are equal when typed into empty text editors.\n",
    "    \n",
    "    Args:\n",
    "        s: The first string.\n",
    "        t: The second string.\n",
    "    \n",
    "    Returns:\n",
    "        True if the strings are equal, False otherwise.\n",
    "    \"\"\"\n",
    "\n",
    "    \n",
    "    return processString(s) == processString(t)\n",
    "def processString(string: str) -> str:\n",
    "    \"\"\"\n",
    "    Process the given string by considering backspaces.\n",
    "\n",
    "    Args:\n",
    "        string: The input string.\n",
    "\n",
    "    Returns:\n",
    "        The processed string after considering backspaces.\n",
    "    \"\"\"\n",
    "    stack = []\n",
    "\n",
    "    for char in string:\n",
    "        if char != '#':\n",
    "            stack.append(char)\n",
    "        elif stack:\n",
    "            stack.pop()\n",
    "\n",
    "    return ''.join(stack)\n"
   ]
  },
  {
   "cell_type": "code",
   "execution_count": 28,
   "id": "f4f59213",
   "metadata": {},
   "outputs": [
    {
     "data": {
      "text/plain": [
       "True"
      ]
     },
     "execution_count": 28,
     "metadata": {},
     "output_type": "execute_result"
    }
   ],
   "source": [
    "s = \"ab#c\"\n",
    "t = \"ad#c\"\n",
    "backspaceCompare(s,t)"
   ]
  },
  {
   "cell_type": "markdown",
   "id": "ef87cc9b",
   "metadata": {},
   "source": [
    "<aside>\n",
    "    \n",
    "💡 **Question 8**\n",
    "\n",
    "You are given an array coordinates, coordinates[i] = [x, y], where [x, y] represents the coordinate of a point. Check if these points make a straight line in the XY plane.\n",
    "\n",
    "**Example 1:**\n",
    "\n",
    "    \n",
    "<img src = \"https://pwskills.notion.site/image/https%3A%2F%2Fs3-us-west-2.amazonaws.com%2Fsecure.notion-static.com%2F012b0a97-4e4b-49b6-bc95-0531fc712978%2FScreenshot_2023-05-29_010117.png?id=8a930c97-96e8-422d-a84b-5b7553bf198e&table=block&spaceId=6fae2e0f-dedc-48e9-bc59-af2654c78209&width=930&userId=&cache=v2\" width=\"300\" height=\"300\">\n",
    "\n",
    "**Input:** coordinates = [[1,2],[2,3],[3,4],[4,5],[5,6],[6,7]]\n",
    "\n",
    "**Output:** true\n",
    "</aside>"
   ]
  },
  {
   "cell_type": "code",
   "execution_count": 30,
   "id": "ab52c97e",
   "metadata": {},
   "outputs": [],
   "source": [
    "\n",
    "\"\"\"\n",
    "Algorithm:\n",
    "\n",
    "If the number of points in the coordinates list is less than or equal to 2, return True since any two points form a straight line.\n",
    "Take the first two points (x0, y0 and x1, y1) from the coordinates list.\n",
    "Iterate over the remaining points in the coordinates list, starting from the third point.\n",
    "For each point (x, y), calculate the cross product between the vectors (x1 - x0, y1 - y0) and (x - x1, y - y1).\n",
    "If the cross product is not zero, it means that the points do not lie on the same straight line. Return False.\n",
    "If all the cross products are zero, return True, indicating that the points make a straight line.\n",
    "\n",
    "\n",
    "TC : O(n)\n",
    "SC :O(1)\n",
    "\n",
    "\"\"\"\n",
    "\n",
    "\n",
    "def checkStraightLine(coordinates):\n",
    "    \"\"\"\n",
    "    Check if the given points make a straight line in the XY plane.\n",
    "    \n",
    "    Args:\n",
    "        coordinates: List of coordinates representing the points.\n",
    "    \n",
    "    Returns:\n",
    "        True if the points make a straight line, False otherwise.\n",
    "    \"\"\"\n",
    "    if len(coordinates) <= 2:\n",
    "        return True\n",
    "    \n",
    "    x0, y0 = coordinates[0]\n",
    "    x1, y1 = coordinates[1]\n",
    "    \n",
    "    for i in range(2, len(coordinates)):\n",
    "        x, y = coordinates[i]\n",
    "        if (x1 - x0) * (y - y1) != (x - x1) * (y1 - y0):\n",
    "            return False\n",
    "    \n",
    "    return True\n"
   ]
  },
  {
   "cell_type": "code",
   "execution_count": 31,
   "id": "db9ea718",
   "metadata": {},
   "outputs": [
    {
     "data": {
      "text/plain": [
       "True"
      ]
     },
     "execution_count": 31,
     "metadata": {},
     "output_type": "execute_result"
    }
   ],
   "source": [
    "coordinates = [[1,2],[2,3],[3,4],[4,5],[5,6],[6,7]]\n",
    "checkStraightLine(coordinates)"
   ]
  }
 ],
 "metadata": {
  "kernelspec": {
   "display_name": "Python 3 (ipykernel)",
   "language": "python",
   "name": "python3"
  },
  "language_info": {
   "codemirror_mode": {
    "name": "ipython",
    "version": 3
   },
   "file_extension": ".py",
   "mimetype": "text/x-python",
   "name": "python",
   "nbconvert_exporter": "python",
   "pygments_lexer": "ipython3",
   "version": "3.9.12"
  }
 },
 "nbformat": 4,
 "nbformat_minor": 5
}
