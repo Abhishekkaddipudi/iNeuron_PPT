{
 "cells": [
  {
   "cell_type": "markdown",
   "id": "c7a1d8e0",
   "metadata": {},
   "source": [
    "<aside>\n",
    "💡 **Q1.** Given an array of integers nums and an integer target, return indices of the two numbers such that they add up to target.\n",
    "\n",
    "You may assume that each input would have exactly one solution, and you may not use the same element twice.\n",
    "\n",
    "You can return the answer in any order.\n",
    "\n",
    "**Example:**\n",
    "Input: nums = [2,7,11,15], target = 9\n",
    "Output0 [0,1]\n",
    "\n",
    "**Explanation:** Because nums[0] + nums[1] == 9, we return [0, 1]\n",
    "\n",
    "</aside>"
   ]
  },
  {
   "cell_type": "code",
   "execution_count": 11,
   "id": "7625693c",
   "metadata": {},
   "outputs": [
    {
     "data": {
      "text/plain": [
       "[0, 1]"
      ]
     },
     "execution_count": 11,
     "metadata": {},
     "output_type": "execute_result"
    }
   ],
   "source": [
    "#Brute Force\n",
    "\n",
    "\"\"\"\n",
    "Algorithm:\n",
    "\n",
    "\n",
    "1. iterate over nums using two nested loops\n",
    "2. check if both element are not equal and the sum of two elements is equal to target\n",
    "3. return index of element which add up to target else return -1\n",
    "\n",
    "\n",
    "TC : O(n^2)\n",
    "SC : O(1)\n",
    "\"\"\"\n",
    "\n",
    "def dice(nums:list,target:int)->list:\n",
    "    \"\"\"\n",
    "    Arguments:\n",
    "            nums: list of numsay\n",
    "            \n",
    "            target: target sum\n",
    "            \n",
    "            returns index of integers that add up to target\n",
    "    \n",
    "    \"\"\"\n",
    "    for i in range(len(nums)):\n",
    "        for j in range(i,len(nums)):\n",
    "            if i!=j and nums[i]+nums[j] == target:\n",
    "                return [i,j]\n",
    "                \n",
    "nums = [2,7,11,15]\n",
    "target = 9\n",
    "dice(nums,target)               \n",
    "                \n",
    "    "
   ]
  },
  {
   "cell_type": "code",
   "execution_count": 12,
   "id": "89f4b487",
   "metadata": {},
   "outputs": [
    {
     "data": {
      "text/plain": [
       "[0, 1]"
      ]
     },
     "execution_count": 12,
     "metadata": {},
     "output_type": "execute_result"
    }
   ],
   "source": [
    "\"\"\"\n",
    "Algorithm:\n",
    "1. create a hashmap for array elements\n",
    "2. calculate the difference\n",
    "3. insert elements into hashmap on the go search if difference is present in the hashmap\n",
    "4. return the index which is stored in hashmap values\n",
    "\n",
    "TC: O(n)\n",
    "SC: O(n)\n",
    "\"\"\"\n",
    "def dice(nums:list,target:int)->list:\n",
    "    \"\"\"\n",
    "    Arguments:\n",
    "            nums: list of array\n",
    "            \n",
    "            target: target sum\n",
    "            \n",
    "            returns index of integers that add up to target\n",
    "    \n",
    "    \"\"\"\n",
    "    hashmap={}\n",
    "    for i in range(len(nums)):\n",
    "        complement = target - nums[i]\n",
    "        if complement in hashmap:\n",
    "            return [hashmap[complement],i ]\n",
    "        hashmap[nums[i]] = i\n",
    "        \n",
    "nums = [2,7,11,15]\n",
    "target = 9\n",
    "dice(nums,target)"
   ]
  },
  {
   "cell_type": "markdown",
   "id": "f36ee77b",
   "metadata": {},
   "source": [
    "<aside>\n",
    "💡 **Q2.** Given an integer array nums and an integer val, remove all occurrences of val in nums in-place. The order of the elements may be changed. Then return the number of elements in nums which are not equal to val.\n",
    "\n",
    "Consider the number of elements in nums which are not equal to val be k, to get accepted, you need to do the following things:\n",
    "\n",
    "- Change the array nums such that the first k elements of nums contain the elements which are not equal to val. The remaining elements of nums are not important as well as the size of nums.\n",
    "- Return k.\n",
    "\n",
    "**Example :**\n",
    "Input: nums = [3,2,2,3], val = 3\n",
    "Output: 2, nums = [2,2,_*,_*]\n",
    "\n",
    "**Explanation:** Your function should return k = 2, with the first two elements of nums being 2. It does not matter what you leave beyond the returned k (hence they are underscores)\n",
    "\n",
    "</aside>"
   ]
  },
  {
   "cell_type": "code",
   "execution_count": 14,
   "id": "4492d56d",
   "metadata": {},
   "outputs": [
    {
     "name": "stdout",
     "output_type": "stream",
     "text": [
      "2 [2, 2]\n"
     ]
    }
   ],
   "source": [
    "\"\"\"\n",
    "Algorithm:\n",
    "1. initialize m,n with first and last index \n",
    "2. iterate over nums if value equal to val is found pop the element\n",
    "3. decreament n\n",
    "4. if value is not found increament m\n",
    "\n",
    "TC: O(n)\n",
    "SC: O(1)\n",
    "\"\"\"\n",
    "\n",
    "\n",
    "def RmElement(nums:list,val:int)->int: \n",
    "    \n",
    "    \"\"\"    \n",
    "    Arguments:\n",
    "            arr: list of array\n",
    "            \n",
    "            val: value to be removed\n",
    "            \n",
    "            returns length of nums after deletion of val\n",
    "    \n",
    "    \n",
    "    \"\"\"\n",
    "    m,n=0,len(nums)\n",
    "    while m<n:\n",
    "        if nums[m]==val:\n",
    "            nums.pop(m)\n",
    "            n-=1\n",
    "        else:\n",
    "            m+=1\n",
    "\n",
    "    return len(nums)\n",
    "nums = [3,2,2,3]\n",
    "val = 3\n",
    "print(RmElement(nums,val),nums)"
   ]
  },
  {
   "cell_type": "markdown",
   "id": "12985446",
   "metadata": {},
   "source": [
    "<aside>\n",
    "💡 **Q3.** Given a sorted array of distinct integers and a target value, return the index if the target is found. If not, return the index where it would be if it were inserted in order.\n",
    "\n",
    "You must write an algorithm with O(log n) runtime complexity.\n",
    "\n",
    "**Example 1:**\n",
    "Input: nums = [1,3,5,6], target = 5\n",
    "\n",
    "Output: 2\n",
    "\n",
    "</aside>"
   ]
  },
  {
   "cell_type": "code",
   "execution_count": 38,
   "id": "235acb05",
   "metadata": {},
   "outputs": [],
   "source": [
    "\"\"\"\n",
    "Algorithm :\n",
    "1. Compare the middle element of the search space with the key. \n",
    "2. If the key is found at middle element, the process is terminated.\n",
    "3. If the key is not found at middle element, choose which half will be used as the next search space.\n",
    "    1. If the key is smaller than the middle element, then the left side is used for next search.\n",
    "    2. If the key is larger than the middle element, then the right side is used for next search.\n",
    "4. if no key is found then return low\n",
    "\n",
    "TC: Binarysearch O(logn)\n",
    "SC: O(1)\n",
    "\"\"\"\n",
    "\n",
    "def BinarySearch(nums:list,target:int)->int:\n",
    "    \n",
    "    \"\"\"\n",
    "    Arguments:\n",
    "            nums: list of array\n",
    "            \n",
    "            target: target value to be searched\n",
    "            \n",
    "            returns index of elemnet found else returns correct position of element\n",
    "    \"\"\"\n",
    "    \n",
    "    low=0\n",
    "    high=len(nums)-1\n",
    "    while low<=high:\n",
    "        mid=(high+low)//2\n",
    "        if nums[mid]==target:\n",
    "            return mid\n",
    "        elif target>nums[mid]:\n",
    "            low=mid+1\n",
    "        elif target<nums[mid]:\n",
    "            high=mid-1\n",
    "    return low\n",
    "            "
   ]
  },
  {
   "cell_type": "code",
   "execution_count": 39,
   "id": "7ab0c19a",
   "metadata": {},
   "outputs": [
    {
     "data": {
      "text/plain": [
       "2"
      ]
     },
     "execution_count": 39,
     "metadata": {},
     "output_type": "execute_result"
    }
   ],
   "source": [
    "nums = [1,3,5,6]\n",
    "target = 5\n",
    "BinarySearch(nums,target)"
   ]
  },
  {
   "cell_type": "code",
   "execution_count": 40,
   "id": "da5665d5",
   "metadata": {},
   "outputs": [
    {
     "data": {
      "text/plain": [
       "4"
      ]
     },
     "execution_count": 40,
     "metadata": {},
     "output_type": "execute_result"
    }
   ],
   "source": [
    "nums = [1,3,5,6]\n",
    "target = 7\n",
    "BinarySearch(nums,target)"
   ]
  },
  {
   "cell_type": "markdown",
   "id": "f1e595a8",
   "metadata": {},
   "source": [
    "<aside>\n",
    "💡 **Q4.** You are given a large integer represented as an integer array digits, where each digits[i] is the ith digit of the integer. The digits are ordered from most significant to least significant in left-to-right order. The large integer does not contain any leading 0's.\n",
    "\n",
    "Increment the large integer by one and return the resulting array of digits.\n",
    "\n",
    "**Example 1:**\n",
    "Input: digits = [1,2,3]\n",
    "Output: [1,2,4]\n",
    "\n",
    "**Explanation:** The array represents the integer 123.\n",
    "\n",
    "Incrementing by one gives 123 + 1 = 124.\n",
    "Thus, the result should be [1,2,4].\n",
    "\n",
    "</aside>"
   ]
  },
  {
   "cell_type": "code",
   "execution_count": 57,
   "id": "8fbee146",
   "metadata": {},
   "outputs": [],
   "source": [
    "\"\"\"\n",
    "Algorithm:\n",
    "\n",
    "    1. Start by defining a function named \"increment\" that takes a list of digits as input.\n",
    "    2. Initialize a variable \"lIndex\" to store the index of the last digit in the list (length of the list minus one).\n",
    "    3. Initialize a variable \"carry\" to 1, indicating that there is a carry initially.\n",
    "    4. Enter a while loop that continues until the carry becomes 0.\n",
    "    5. Within the loop, check if the digit at index \"lIndex\" is less than 9.\n",
    "        * If true, increment the digit by 1 and set the carry to 0.\n",
    "        * If false, set the digit at index \"lIndex\" to 0 and decrement \"lIndex\" by 1.\n",
    "    6. After the else statement, check if \"lIndex\" is -1.\n",
    "        * If true, insert 1 at the beginning of the list to account for an additional digit, set carry to 0, and \n",
    "        exit the loop.\n",
    "    7. Return the modified list of digits.\n",
    "TC: O(n)\n",
    "SC: O(1)\n",
    "\"\"\"\n",
    "\n",
    "def increament(digits:list)->list:\n",
    "    \n",
    "    \n",
    "    \"\"\"\n",
    "    This function incearments the last index of digits by 1\n",
    "    \n",
    "    returns the modified list\n",
    "    \"\"\"\n",
    "    lIndex=len(digits)-1\n",
    "    carry=1\n",
    "    while carry:\n",
    "        if digits[lIndex]<9:\n",
    "            digits[lIndex]+=1\n",
    "            carry=0\n",
    "        else:\n",
    "            digits[lIndex]=0\n",
    "            lIndex-=1\n",
    "            if lIndex==-1:\n",
    "                digits.insert(0,1)\n",
    "                carry=0\n",
    "    return digits\n",
    "        "
   ]
  },
  {
   "cell_type": "code",
   "execution_count": 58,
   "id": "23e9e1a7",
   "metadata": {},
   "outputs": [
    {
     "data": {
      "text/plain": [
       "[1, 0, 0, 0, 0, 0]"
      ]
     },
     "execution_count": 58,
     "metadata": {},
     "output_type": "execute_result"
    }
   ],
   "source": [
    "digits = [9,9,9,9,9]\n",
    "increament(digits)"
   ]
  },
  {
   "cell_type": "code",
   "execution_count": 59,
   "id": "49255f85",
   "metadata": {},
   "outputs": [
    {
     "data": {
      "text/plain": [
       "[1, 2, 3, 5]"
      ]
     },
     "execution_count": 59,
     "metadata": {},
     "output_type": "execute_result"
    }
   ],
   "source": [
    "digits = [1,2,3,4]\n",
    "increament(digits)"
   ]
  },
  {
   "cell_type": "markdown",
   "id": "3b7630f8",
   "metadata": {},
   "source": [
    "<aside>\n",
    "💡 **Q5.** You are given two integer arrays nums1 and nums2, sorted in non-decreasing order, and two integers m and n, representing the number of elements in nums1 and nums2 respectively.\n",
    "\n",
    "Merge nums1 and nums2 into a single array sorted in non-decreasing order.\n",
    "\n",
    "The final sorted array should not be returned by the function, but instead be stored inside the array nums1. To accommodate this, nums1 has a length of m + n, where the first m elements denote the elements that should be merged, and the last n elements are set to 0 and should be ignored. nums2 has a length of n.\n",
    "\n",
    "**Example 1:**\n",
    "Input: nums1 = [1,2,3,0,0,0], m = 3, nums2 = [2,5,6], n = 3\n",
    "Output: [1,2,2,3,5,6]\n",
    "\n",
    "**Explanation:** The arrays we are merging are [1,2,3] and [2,5,6].\n",
    "The result of the merge is [1,2,2,3,5,6] with the underlined elements coming from nums1.\n",
    "\n",
    "</aside>"
   ]
  },
  {
   "cell_type": "code",
   "execution_count": 69,
   "id": "53d2f4cc",
   "metadata": {},
   "outputs": [],
   "source": [
    "\"\"\"\n",
    "Algorithm:\n",
    "1. Create a new list \"Dnums1\" by slicing \"nums1\" from index 0 to index \"m\" (exclusive).\n",
    "2. Initialize variables: \"p\" to 0 (pointer for the merged list), \"p1\" to 0 (pointer for \"Dnums1\"), and \"p2\" to 0 (pointer for \"nums2\").\n",
    "3. Enter a while loop that continues until the pointer \"p\" reaches the sum of \"m\" and \"n\" (i.e., \"m+n\").\n",
    "4. Within the loop, check two conditions:\n",
    "\n",
    "   * If \"p2\" is greater than or equal to \"n\" (indicating we have traversed all elements in \"nums2\") or (\"p1\" is less than \"m\" and the value at \"Dnums1[p1]\" is less than the value at \"nums2[p2]\"), do the following:\n",
    "        Assign the value at \"Dnums1[p1]\" to \"nums1[p]\".\n",
    "        Increment \"p1\" by 1.\n",
    "   * If the above condition is not true, do the following:\n",
    "        Assign the value at \"nums2[p2]\" to \"nums1[p]\".\n",
    "        Increment \"p2\" by 1.\n",
    "     Increment \"p\" by 1.\n",
    "\n",
    "5. Return the modified \"nums1\" list.\n",
    "\n",
    "TC : O(nlogn)\n",
    "SC : O(log n)\n",
    "\n",
    "\"\"\"\n",
    "\n",
    "\n",
    "def MergeSorted(nums1:list,m:int,nums2:list,n:int)->list:\n",
    "    \n",
    "    \"\"\"\n",
    "    This funciton merges two sorted list\n",
    "    Arguments:\n",
    "            nums1,nums2: Sorted list to merge\n",
    "            m : elements in nums1 to be merged\n",
    "            n : elements in nums2 to be merged\n",
    "    \n",
    "    \n",
    "    \"\"\"\n",
    "    \n",
    "    Dnums1=nums1[:m]\n",
    "    p=0\n",
    "    p1,p2=0,0\n",
    "    while p<m+n:\n",
    "        if p2>=n or (p1<m and Dnums1[p1]<nums2[p2]):\n",
    "            nums1[p]=Dnums1[p1]\n",
    "            p1+=1\n",
    "        else:\n",
    "            nums1[p]=nums2[p2]\n",
    "            p2+=1\n",
    "        p+=1\n",
    "    return nums1"
   ]
  },
  {
   "cell_type": "code",
   "execution_count": 70,
   "id": "ab1fb1e1",
   "metadata": {},
   "outputs": [
    {
     "data": {
      "text/plain": [
       "[1, 2, 2, 3, 5, 6]"
      ]
     },
     "execution_count": 70,
     "metadata": {},
     "output_type": "execute_result"
    }
   ],
   "source": [
    "nums1 = [1,2,3,0,0,0]\n",
    "m = 3\n",
    "nums2 = [2,5,6]\n",
    "n = 3 \n",
    "MergeSorted(nums1,m,nums2,n)"
   ]
  },
  {
   "cell_type": "markdown",
   "id": "2a79dd75",
   "metadata": {},
   "source": [
    "<aside>\n",
    "💡 **Q6.** Given an integer array nums, return true if any value appears at least twice in the array, and return false if every element is distinct.\n",
    "\n",
    "**Example 1:**\n",
    "Input: nums = [1,2,3,1]\n",
    "\n",
    "Output: true\n",
    "\n",
    "</aside>"
   ]
  },
  {
   "cell_type": "code",
   "execution_count": 94,
   "id": "b196b85e",
   "metadata": {},
   "outputs": [],
   "source": [
    "\"\"\"\n",
    "Algorithm:\n",
    "\n",
    "1. Create an empty hash map (dictionary) named hashmap.\n",
    "2. Iterate over each element, i, in the nums list.\n",
    "3. Within the loop, check if i already exists as a key in the hashmap.\n",
    "\n",
    "   * If true, return True indicating that a duplicate element has been found.\n",
    "   * If false, add i as a key to the hashmap with a value of 1.\n",
    "\n",
    "4. If the loop completes without finding any duplicates, return False.\n",
    "\n",
    "\n",
    "TC: O(n)\n",
    "SC: O(n)\n",
    "\"\"\"\n",
    "\n",
    "def isDuplicate(nums:list)->bool:\n",
    "    \"\"\"\n",
    "    This function returns true if a duplicate element is present in nums\n",
    "    \n",
    "    \"\"\"\n",
    "    hashmap={}\n",
    "    for i in nums:\n",
    "        if i in hashmap:\n",
    "            return True\n",
    "        else:\n",
    "            hashmap[i]=1\n",
    "    return False"
   ]
  },
  {
   "cell_type": "code",
   "execution_count": 95,
   "id": "a77b08eb",
   "metadata": {},
   "outputs": [
    {
     "data": {
      "text/plain": [
       "True"
      ]
     },
     "execution_count": 95,
     "metadata": {},
     "output_type": "execute_result"
    }
   ],
   "source": [
    "nums = [1,2,3,1]\n",
    "isDuplicate(nums)"
   ]
  },
  {
   "cell_type": "code",
   "execution_count": 96,
   "id": "e8acb542",
   "metadata": {},
   "outputs": [
    {
     "data": {
      "text/plain": [
       "False"
      ]
     },
     "execution_count": 96,
     "metadata": {},
     "output_type": "execute_result"
    }
   ],
   "source": [
    "nums = [1,2,3,4]\n",
    "isDuplicate(nums)"
   ]
  },
  {
   "cell_type": "markdown",
   "id": "c04fa61f",
   "metadata": {},
   "source": [
    "<aside>\n",
    "💡 **Q7.** Given an integer array nums, move all 0's to the end of it while maintaining the relative order of the nonzero elements.\n",
    "\n",
    "Note that you must do this in-place without making a copy of the array.\n",
    "\n",
    "**Example 1:**\n",
    "Input: nums = [0,1,0,3,12]\n",
    "Output: [1,3,12,0,0]\n",
    "\n",
    "</aside>"
   ]
  },
  {
   "cell_type": "code",
   "execution_count": 97,
   "id": "e4408748",
   "metadata": {},
   "outputs": [],
   "source": [
    "\"\"\"\n",
    "Algorithm:\n",
    "\n",
    "1. Initialize two pointers, low and high, with low set to 0 and high set to the index of the last element in nums.\n",
    "2. Enter a while loop that continues as long as low is less than or equal to high.\n",
    "3. Within the loop, check the following conditions:\n",
    "\n",
    "   * If the element at index high is 0, decrement high by 1. This ensures that the zeros remain at the end of the list.\n",
    "   * Else, if the element at index low is 0, do the following:\n",
    "        Append 0 to the end of the list using nums.append(0).\n",
    "        Remove the 0 at index low using nums.pop(low).\n",
    "        This effectively moves the 0 from the current position to the end of the list.\n",
    "   * If none of the above conditions are met, increment low by 1 to move to the next element.\n",
    "\n",
    "4. Once the loop completes, return the modified nums list.\n",
    "\n",
    "TC: O(n)\n",
    "SC: O(1)\n",
    "\"\"\"\n",
    "\n",
    "def MoveZeros(nums:list)->list:\n",
    "    \"\"\"\n",
    "    This function moves zeros in nums to end of list\n",
    "    \"\"\"\n",
    "    low=0\n",
    "    high=len(nums)-1\n",
    "    while low<=high:\n",
    "        if nums[high]==0:\n",
    "            high-=1\n",
    "        elif nums[low]==0:\n",
    "            nums.append(0)\n",
    "            nums.pop(low)\n",
    "        else:\n",
    "            low+=1\n",
    "            "
   ]
  },
  {
   "cell_type": "code",
   "execution_count": 90,
   "id": "b8082bd3",
   "metadata": {},
   "outputs": [
    {
     "name": "stdout",
     "output_type": "stream",
     "text": [
      "[1, 3, 12, 0, 0]\n"
     ]
    }
   ],
   "source": [
    "nums=[0,1,0,3,12]\n",
    "MoveZeros(nums)\n",
    "print(nums)"
   ]
  },
  {
   "cell_type": "code",
   "execution_count": 93,
   "id": "60b31c40",
   "metadata": {},
   "outputs": [
    {
     "name": "stdout",
     "output_type": "stream",
     "text": [
      "[1, 2, 3, 4, 5, 0, 0, 0, 0, 0, 0, 0, 0, 0]\n"
     ]
    }
   ],
   "source": [
    "nums=[0,0,0,0,0,0,0,1,2,0,3,4,5,0]\n",
    "MoveZeros(nums)\n",
    "print(nums)"
   ]
  },
  {
   "cell_type": "markdown",
   "id": "c8aed6c2",
   "metadata": {},
   "source": [
    "<aside>\n",
    "💡 **Q8.** You have a set of integers s, which originally contains all the numbers from 1 to n. Unfortunately, due to some error, one of the numbers in s got duplicated to another number in the set, which results in repetition of one number and loss of another number.\n",
    "\n",
    "You are given an integer array nums representing the data status of this set after the error.\n",
    "\n",
    "Find the number that occurs twice and the number that is missing and return them in the form of an array.\n",
    "\n",
    "**Example 1:**\n",
    "Input: nums = [1,2,2,4]\n",
    "Output: [2,3]\n",
    "\n",
    "</aside>"
   ]
  },
  {
   "cell_type": "code",
   "execution_count": 108,
   "id": "89b81221",
   "metadata": {},
   "outputs": [],
   "source": [
    "\"\"\"\n",
    "Algorithm:\n",
    "\n",
    "    1. Calculate the length of the nums list and store it in a variable named length.\n",
    "    2. Calculate the sum of all the numbers in the nums list and store it in a variable named nsum.\n",
    "    3. Create a set from the nums list to get the unique numbers and calculate their sum. Store this sum in a variable named missing.\n",
    "    4. Calculate the correct sum of numbers from 1 to length (inclusive) using the formula correctsum = length * (length + 1) // 2.\n",
    "    5. Subtract the missing sum from the nsum sum to find the duplicated number and store it in a variable.\n",
    "    6. Subtract the missing sum from the correctsum to find the missing number and store it in a variable.\n",
    "    7. Return a list containing the duplicated number and the missing number.\n",
    "\n",
    "TC : O(n) - sum function takes O(n)\n",
    "SC : O(n) - We are creating Hashset\n",
    "\"\"\"\n",
    "\n",
    "def duplicated(nums:list)->list:\n",
    "    \n",
    "    \"\"\"\n",
    "    This function returns list of 2 integers [duplicate integer,missing integer]\n",
    "    \"\"\"\n",
    "    \n",
    "        length=len(nums)\n",
    "        nsum=sum(nums)\n",
    "        missing=sum(set(nums))\n",
    "        correctsum=length*(length+1)//2\n",
    "        return [nsum-missing,correctsum-missing]"
   ]
  },
  {
   "cell_type": "code",
   "execution_count": 109,
   "id": "90c04c88",
   "metadata": {},
   "outputs": [
    {
     "data": {
      "text/plain": [
       "[2, 3]"
      ]
     },
     "execution_count": 109,
     "metadata": {},
     "output_type": "execute_result"
    }
   ],
   "source": [
    "nums = [1,2,2,4]\n",
    "duplicated(nums)"
   ]
  }
 ],
 "metadata": {
  "kernelspec": {
   "display_name": "Python 3 (ipykernel)",
   "language": "python",
   "name": "python3"
  },
  "language_info": {
   "codemirror_mode": {
    "name": "ipython",
    "version": 3
   },
   "file_extension": ".py",
   "mimetype": "text/x-python",
   "name": "python",
   "nbconvert_exporter": "python",
   "pygments_lexer": "ipython3",
   "version": "3.9.12"
  }
 },
 "nbformat": 4,
 "nbformat_minor": 5
}
