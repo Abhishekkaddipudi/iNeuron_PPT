{
 "cells": [
  {
   "cell_type": "markdown",
   "id": "6663c751",
   "metadata": {},
   "source": [
    "<aside>\n",
    "💡 **Question 1**\n",
    "Given an integer array nums of length n and an integer target, find three integers\n",
    "in nums such that the sum is closest to the target.\n",
    "Return the sum of the three integers.\n",
    "\n",
    "You may assume that each input would have exactly one solution.\n",
    "\n",
    "**Example 1:**\n",
    "Input: nums = [-1,2,1,-4], target = 1\n",
    "Output: 2\n",
    "\n",
    "**Explanation:** The sum that is closest to the target is 2. (-1 + 2 + 1 = 2).\n",
    "\n",
    "</aside>"
   ]
  },
  {
   "cell_type": "code",
   "execution_count": 9,
   "id": "e6bd4a8e",
   "metadata": {},
   "outputs": [],
   "source": [
    "\"\"\"\n",
    "Algorithm:\n",
    "\n",
    "1. sort the array \n",
    "2. for every element apply two to corresponding elements\n",
    "3. check if difference between the sum of three elements and target is lowest or not \n",
    "4. return the lowest difference sum\n",
    "\n",
    "TC : O(n^2)\n",
    "SC : o(1)\n",
    "\n",
    "\"\"\"\n",
    "\n",
    "\n",
    "def closestSum(nums:list,target:int)->int:\n",
    "    \n",
    "    \"\"\"\n",
    "    returns three sum closest to the target\n",
    "    \"\"\"\n",
    "    nums.sort()\n",
    "    ans,cdiff,pdiff=0,0,100000\n",
    "    for n,i in enumerate(nums):\n",
    "        low,high=n+1,len(nums)-1\n",
    "        if(n>0 and i==nums[n-1]): continue\n",
    "        while(low<high):\n",
    "                summ=i+nums[low]+nums[high]\n",
    "                cdiff=abs(summ-target)\n",
    "                if pdiff>cdiff:\n",
    "                    ans=summ\n",
    "                    pdiff=cdiff\n",
    "                if(summ==target): return target\n",
    "                elif(summ<target):  \n",
    "                    low+=1\n",
    "                else:\n",
    "                    high-=1\n",
    "    return ans\n"
   ]
  },
  {
   "cell_type": "code",
   "execution_count": 10,
   "id": "7400e3e9",
   "metadata": {},
   "outputs": [
    {
     "data": {
      "text/plain": [
       "2"
      ]
     },
     "execution_count": 10,
     "metadata": {},
     "output_type": "execute_result"
    }
   ],
   "source": [
    "nums=[1,1,1,0]\n",
    "target=1\n",
    "closestSum(nums,target)"
   ]
  },
  {
   "cell_type": "markdown",
   "id": "94c26aed",
   "metadata": {},
   "source": [
    "\n",
    "<aside>\n",
    "💡 **Question 2**\n",
    "Given an array nums of n integers, return an array of all the unique quadruplets\n",
    "[nums[a], nums[b], nums[c], nums[d]] such that:\n",
    "    \n",
    "           ● 0 <= a, b, c, d < n\n",
    "    \n",
    "           ● a, b, c, and d are distinct.\n",
    "    \n",
    "           ● nums[a] + nums[b] + nums[c] + nums[d] == target\n",
    "\n",
    "You may return the answer in any order.\n",
    "\n",
    "**Example 1:**\n",
    "Input: nums = [1,0,-1,0,-2,2], target = 0\n",
    "Output: [[-2,-1,1,2],[-2,0,0,2],[-1,0,0,1]]\n",
    "\n",
    "</aside>\n"
   ]
  },
  {
   "cell_type": "code",
   "execution_count": 6,
   "id": "79593b90",
   "metadata": {},
   "outputs": [],
   "source": [
    "\n",
    "\"\"\"\n",
    "ALgorithm:\n",
    "\n",
    "1. Sort the input array `nums` in ascending order.\n",
    "2. Iterate through the array from index 0 to `len(nums) - 4` (using variable `a`).\n",
    "   - If `a` is greater than 0 and `nums[a]` is equal to `nums[a - 1]`, continue to the next iteration to avoid duplicate quadruplets.\n",
    "   - Iterate through the array from the last index (`len(nums) - 1`) to `a + 1` in reverse order (using variable `d`).\n",
    "     - If `d` is less than `len(nums) - 1` and `nums[d]` is equal to `nums[d + 1]`, continue to the next iteration to avoid duplicate quadruplets.\n",
    "     - Initialize two pointers `b` and `c` to `a + 1` and `d - 1` respectively.\n",
    "     - While `b` is less than `c`, do the following:\n",
    "       - Calculate the sum of the four elements `nums[a]`, `nums[b]`, `nums[c]`, and `nums[d]` and store it in variable `pair`.\n",
    "       - If `pair` is greater than the target, decrement `c` by 1.\n",
    "       - If `pair` is less than the target, increment `b` by 1.\n",
    "       - If `pair` is equal to the target, add the quadruplet `[nums[a], nums[b], nums[c], nums[d]]` to `res`.\n",
    "         - Increment `b` by 1.\n",
    "         - While `nums[b]` is equal to `nums[b - 1]` and `b` is less than `c`, increment `b` by 1 to avoid duplicate quadruplets.\n",
    "3. Return the list `res` containing the unique quadruplets.\n",
    "\n",
    "\n",
    "\n",
    "\"\"\"\n",
    "\n",
    "def fourSum(nums: list, target: int) ->list:\n",
    "    \n",
    "    \"\"\"\n",
    "    Finds unique quadruplets in the array that sum up to the target.\n",
    "\n",
    "    Args:\n",
    "        nums (List[int]): The input array of integers.\n",
    "        target (int): The target sum.\n",
    "\n",
    "    Returns:\n",
    "        List[List[int]]: The list of unique quadruplets.\n",
    "    TC : O(n^3)\n",
    "    SC : O(n)\n",
    "    \"\"\"\n",
    "    nums.sort()\n",
    "    res = []\n",
    "    for a in range(0, len(nums) - 3):\n",
    "        if (a > 0 and nums[a] == nums[a - 1]):\n",
    "            continue\n",
    "\n",
    "        for d in range(len(nums) - 1, -1, -1):\n",
    "            if (d < len(nums) - 1 and nums[d] == nums[d + 1]):\n",
    "                continue\n",
    "\n",
    "            b,c = a + 1,d - 1\n",
    "            while(b < c):\n",
    "                pair = nums[a] + nums[b] + nums[c] + nums[d]\n",
    "                if (pair > target):\n",
    "                    c -= 1\n",
    "                elif(pair < target):\n",
    "                    b += 1\n",
    "\n",
    "                else:\n",
    "                    res.append([nums[a],nums[b], nums[c], nums[d]])\n",
    "                    b += 1\n",
    "                    while (nums[b] == nums[b - 1] and b < c):\n",
    "                        b += 1\n",
    "\n",
    "    return res\n",
    "\n"
   ]
  },
  {
   "cell_type": "code",
   "execution_count": 7,
   "id": "262e62ad",
   "metadata": {},
   "outputs": [
    {
     "data": {
      "text/plain": [
       "[[-2, -1, 1, 2], [-2, 0, 0, 2], [-1, 0, 0, 1]]"
      ]
     },
     "execution_count": 7,
     "metadata": {},
     "output_type": "execute_result"
    }
   ],
   "source": [
    "nums = [1,0,-1,0,-2,2]\n",
    "target=0\n",
    "fourSum(nums,target)"
   ]
  },
  {
   "cell_type": "markdown",
   "id": "f2e14ca5",
   "metadata": {},
   "source": [
    "\n",
    "<aside>\n",
    "💡 **Question 3**\n",
    "A permutation of an array of integers is an arrangement of its members into a\n",
    "sequence or linear order.\n",
    "\n",
    "For example, for arr = [1,2,3], the following are all the permutations of arr:\n",
    "[1,2,3], [1,3,2], [2, 1, 3], [2, 3, 1], [3,1,2], [3,2,1].\n",
    "\n",
    "The next permutation of an array of integers is the next lexicographically greater\n",
    "permutation of its integer. More formally, if all the permutations of the array are\n",
    "sorted in one container according to their lexicographical order, then the next\n",
    "permutation of that array is the permutation that follows it in the sorted container.\n",
    "\n",
    "If such an arrangement is not possible, the array must be rearranged as the\n",
    "lowest possible order (i.e., sorted in ascending order).\n",
    "\n",
    "● For example, the next permutation of arr = [1,2,3] is [1,3,2].\n",
    "● Similarly, the next permutation of arr = [2,3,1] is [3,1,2].\n",
    "● While the next permutation of arr = [3,2,1] is [1,2,3] because [3,2,1] does not\n",
    "have a lexicographical larger rearrangement.\n",
    "\n",
    "Given an array of integers nums, find the next permutation of nums.\n",
    "The replacement must be in place and use only constant extra memory.\n",
    "\n",
    "**Example 1:**\n",
    "Input: nums = [1,2,3]\n",
    "Output: [1,3,2]\n",
    "\n",
    "</aside>"
   ]
  },
  {
   "cell_type": "code",
   "execution_count": 8,
   "id": "7494e78d",
   "metadata": {},
   "outputs": [],
   "source": [
    "\"\"\"\n",
    "Algorithm:\n",
    "\n",
    "    Find the first decreasing element nums[i] from the right in the array.\n",
    "    If such an element is found, find the next greater element nums[j] from the right that is greater than nums[i].\n",
    "    Swap nums[i] and nums[j].\n",
    "    Reverse the suffix of the array from index i+1 to the end.\n",
    "    Return the modified array.\n",
    "    \n",
    "    TC : O(n)\n",
    "    SC : O(1)\n",
    "\n",
    "\"\"\"\n",
    "\n",
    "\n",
    "\n",
    "\n",
    "def nextPermutation(nums):\n",
    "    \"\"\"\n",
    "    Find the next lexicographically greater permutation of an array of integers.\n",
    "\n",
    "    Args:\n",
    "        nums (List[int]): The input array of integers.\n",
    "\n",
    "    Returns:\n",
    "        List[int]: The next permutation of the input array.\n",
    "\n",
    "    \"\"\"\n",
    "    i = len(nums) - 2\n",
    "    while i >= 0 and nums[i] >= nums[i+1]:\n",
    "        i -= 1\n",
    "\n",
    "    if i >= 0:\n",
    " \n",
    "        j = len(nums) - 1\n",
    "        while j >= 0 and nums[j] <= nums[i]:\n",
    "            j -= 1\n",
    "\n",
    "        nums[i], nums[j] = nums[j], nums[i]\n",
    "\n",
    "    left, right = i + 1, len(nums) - 1\n",
    "    while left < right:\n",
    "        nums[left], nums[right] = nums[right], nums[left]\n",
    "        left += 1\n",
    "        right -= 1\n",
    "\n",
    "    return nums"
   ]
  },
  {
   "cell_type": "code",
   "execution_count": 26,
   "id": "0f48ac47",
   "metadata": {},
   "outputs": [
    {
     "data": {
      "text/plain": [
       "[1, 3, 2]"
      ]
     },
     "execution_count": 26,
     "metadata": {},
     "output_type": "execute_result"
    }
   ],
   "source": [
    "nums = [1,2,3] \n",
    "nextPermutation(nums)"
   ]
  },
  {
   "cell_type": "markdown",
   "id": "4de96998",
   "metadata": {},
   "source": [
    "\n",
    "<aside>\n",
    "💡 **Question 4**\n",
    "Given a sorted array of distinct integers and a target value, return the index if the\n",
    "target is found. If not, return the index where it would be if it were inserted in\n",
    "order.\n",
    "\n",
    "You must write an algorithm with O(log n) runtime complexity.\n",
    "\n",
    "**Example 1:**\n",
    "Input: nums = [1,3,5,6], target = 5\n",
    "Output: 2\n",
    "\n",
    "</aside>"
   ]
  },
  {
   "cell_type": "code",
   "execution_count": 10,
   "id": "6e66d96b",
   "metadata": {},
   "outputs": [],
   "source": [
    "\"\"\"\n",
    "Algorithm:\n",
    "\n",
    "    Initialize left and right pointers to the start and end of the array, respectively.\n",
    "    While left <= right, calculate the middle index mid.\n",
    "    If the element at mid is equal to the target, return mid.\n",
    "    If the element at mid is less than the target, update the left pointer to mid + 1.\n",
    "    If the element at mid is greater than the target, update the right pointer to mid - 1.\n",
    "    If the target is not found, return the left pointer, which indicates the index where the target should be inserted.\n",
    "    \n",
    "    TC : O(log n)\n",
    "    SC : O(1)\n",
    "\"\"\"\n",
    "\n",
    "def searchInsert(nums, target):\n",
    "    \"\"\"\n",
    "    Find the index where the target value should be inserted in a sorted array.\n",
    "\n",
    "    Args:\n",
    "        nums (List[int]): The input sorted array of integers.\n",
    "        target (int): The target value to be searched or inserted.\n",
    "\n",
    "    Returns:\n",
    "        int: The index where the target value should be inserted.\n",
    "\n",
    "    \"\"\"\n",
    "    left, right = 0, len(nums) - 1\n",
    "    while left <= right:\n",
    "        mid = left + (right - left) // 2\n",
    "        if nums[mid] == target:\n",
    "            return mid\n",
    "        elif nums[mid] < target:\n",
    "            left = mid + 1\n",
    "        else:\n",
    "            right = mid - 1\n",
    "    return left"
   ]
  },
  {
   "cell_type": "code",
   "execution_count": 25,
   "id": "3f20c395",
   "metadata": {},
   "outputs": [
    {
     "data": {
      "text/plain": [
       "2"
      ]
     },
     "execution_count": 25,
     "metadata": {},
     "output_type": "execute_result"
    }
   ],
   "source": [
    "nums = [1,3,5,6]\n",
    "target = 5\n",
    "searchInsert(nums,target)"
   ]
  },
  {
   "cell_type": "markdown",
   "id": "3f4fbda9",
   "metadata": {},
   "source": [
    "\n",
    "\n",
    "<aside>\n",
    "💡 **Question 5**\n",
    "You are given a large integer represented as an integer array digits, where each\n",
    "digits[i] is the ith digit of the integer. The digits are ordered from most significant\n",
    "to least significant in left-to-right order. The large integer does not contain any\n",
    "leading 0's.\n",
    "\n",
    "Increment the large integer by one and return the resulting array of digits.\n",
    "\n",
    "**Example 1:**\n",
    "Input: digits = [1,2,3]\n",
    "Output: [1,2,4]\n",
    "\n",
    "**Explanation:** The array represents the integer 123.\n",
    "Incrementing by one gives 123 + 1 = 124.\n",
    "Thus, the result should be [1,2,4].\n",
    "\n",
    "</aside>\n"
   ]
  },
  {
   "cell_type": "code",
   "execution_count": 11,
   "id": "4e7e7fdc",
   "metadata": {},
   "outputs": [],
   "source": [
    "\"\"\"\n",
    "\n",
    "Algorithm:\n",
    "\n",
    "    Start iterating from the last digit of the array.\n",
    "    If the current digit is less than 9, increment it by 1 and return the modified array.\n",
    "    If the current digit is 9, set it to 0 and continue to the next digit.\n",
    "    If all digits are 9, add an extra digit 1 at the front of the array and return the modified array.\n",
    "    \n",
    "    TC : O(n)\n",
    "    SC : O(1)\n",
    "\n",
    "\"\"\"\n",
    "\n",
    "\n",
    "\n",
    "def plusOne(digits):\n",
    "    \"\"\"\n",
    "    Increment a large integer represented as an array of digits by one.\n",
    "\n",
    "    Args:\n",
    "        digits (List[int]): The input array representing the large integer.\n",
    "\n",
    "    Returns:\n",
    "        List[int]: The resulting array after incrementing the large integer.\n",
    "\n",
    "    \"\"\"\n",
    "    n = len(digits)\n",
    "    for i in range(n - 1, -1, -1):\n",
    "        if digits[i] < 9:\n",
    "            digits[i] += 1\n",
    "            return digits\n",
    "        else:\n",
    "            digits[i] = 0\n",
    "    return [1] + digits"
   ]
  },
  {
   "cell_type": "code",
   "execution_count": 24,
   "id": "52abad73",
   "metadata": {},
   "outputs": [
    {
     "data": {
      "text/plain": [
       "[1, 2, 4]"
      ]
     },
     "execution_count": 24,
     "metadata": {},
     "output_type": "execute_result"
    }
   ],
   "source": [
    "digits = [1,2,3]\n",
    "plusOne(digits)"
   ]
  },
  {
   "cell_type": "markdown",
   "id": "147a6c0b",
   "metadata": {},
   "source": [
    "\n",
    "<aside>\n",
    "💡 **Question 6**\n",
    "Given a non-empty array of integers nums, every element appears twice except\n",
    "for one. Find that single one.\n",
    "\n",
    "You must implement a solution with a linear runtime complexity and use only\n",
    "constant extra space.\n",
    "\n",
    "**Example 1:**\n",
    "Input: nums = [2,2,1]\n",
    "Output: 1\n",
    "\n",
    "</aside>"
   ]
  },
  {
   "cell_type": "code",
   "execution_count": 12,
   "id": "5f4f1ba4",
   "metadata": {},
   "outputs": [],
   "source": [
    "\n",
    "\"\"\"\n",
    "Algorithm:\n",
    "\n",
    "    Initialize a variable result to 0.\n",
    "    Iterate through each element num in the array.\n",
    "    Perform bitwise XOR operation of result with num.\n",
    "    Return the final value of result, which will be the single number.\n",
    "    \n",
    "    TC : O(n)\n",
    "    Sc : O(1)\n",
    "\n",
    "\"\"\"\n",
    "\n",
    "\n",
    "def singleNumber(nums):\n",
    "    \"\"\"\n",
    "    Find the single number in an array where every element appears twice except for one.\n",
    "\n",
    "    Args:\n",
    "        nums (List[int]): The input array of integers.\n",
    "\n",
    "    Returns:\n",
    "        int: The single number in the array.\n",
    "\n",
    "    \"\"\"\n",
    "    result = 0\n",
    "    for num in nums:\n",
    "        result ^= num\n",
    "    return result"
   ]
  },
  {
   "cell_type": "code",
   "execution_count": 23,
   "id": "58f90e89",
   "metadata": {},
   "outputs": [
    {
     "data": {
      "text/plain": [
       "1"
      ]
     },
     "execution_count": 23,
     "metadata": {},
     "output_type": "execute_result"
    }
   ],
   "source": [
    "nums = [2,2,1]\n",
    "singleNumber(nums)"
   ]
  },
  {
   "cell_type": "markdown",
   "id": "d5f87383",
   "metadata": {},
   "source": [
    "<aside>\n",
    "💡 **Question 7**\n",
    "You are given an inclusive range [lower, upper] and a sorted unique integer array\n",
    "nums, where all elements are within the inclusive range.\n",
    "\n",
    "A number x is considered missing if x is in the range [lower, upper] and x is not in\n",
    "nums.\n",
    "\n",
    "Return the shortest sorted list of ranges that exactly covers all the missing\n",
    "numbers. That is, no element of nums is included in any of the ranges, and each\n",
    "missing number is covered by one of the ranges.\n",
    "\n",
    "**Example 1:**\n",
    "Input: nums = [0,1,3,50,75], lower = 0, upper = 99\n",
    "Output: [[2,2],[4,49],[51,74],[76,99]]\n",
    "\n",
    "**Explanation:** The ranges are:\n",
    "[2,2]\n",
    "[4,49]\n",
    "[51,74]\n",
    "[76,99]\n",
    "\n",
    "</aside>"
   ]
  },
  {
   "cell_type": "code",
   "execution_count": 21,
   "id": "7567b5f1",
   "metadata": {},
   "outputs": [],
   "source": [
    "\n",
    "\"\"\"\n",
    "Algorithm:\n",
    "\n",
    "    Define a helper function formatRange to format the missing range.\n",
    "    Initialize an empty list result to store the missing ranges.\n",
    "    Initialize a variable prev to lower - 1 to keep track of the previous number.\n",
    "    Iterate through the numbers in nums along with an extra number upper + 1.\n",
    "    Calculate the current number curr from nums if i is within the range, otherwise set curr to upper + 1.\n",
    "    If the difference between curr and prev is greater than or equal to 2, add the formatted missing range to result.\n",
    "    Update prev to curr.\n",
    "    Return the result list of missing ranges.\n",
    "    \n",
    "    \n",
    "    TC : O(n)\n",
    "    SC : O(n)\n",
    "\n",
    "\"\"\"\n",
    "def formatRange(start, end):\n",
    "    if start == end:\n",
    "        return [start,start]\n",
    "    else:\n",
    "        return [start,end]\n",
    "\n",
    "\n",
    "def findMissingRanges(nums, lower, upper):\n",
    "    \"\"\"\n",
    "    Find the shortest sorted list of ranges that covers all the missing numbers in the given range.\n",
    "\n",
    "    Args:\n",
    "        nums (List[int]): The input array of sorted unique integers.\n",
    "        lower (int): The lower bound of the range.\n",
    "        upper (int): The upper bound of the range.\n",
    "\n",
    "    Returns:\n",
    "        List[str]: The list of missing ranges.\n",
    "\n",
    "    \"\"\"\n",
    "\n",
    "    result = []\n",
    "    prev = lower - 1\n",
    "\n",
    "    for i in range(len(nums) + 1):\n",
    "        curr = nums[i] if i < len(nums) else upper + 1\n",
    "        if curr - prev >= 2:\n",
    "            result.append(formatRange(prev + 1, curr - 1))\n",
    "        prev = curr\n",
    "\n",
    "    return result"
   ]
  },
  {
   "cell_type": "code",
   "execution_count": 22,
   "id": "2c0ca833",
   "metadata": {},
   "outputs": [
    {
     "data": {
      "text/plain": [
       "[[2, 2], [4, 49], [51, 74], [76, 99]]"
      ]
     },
     "execution_count": 22,
     "metadata": {},
     "output_type": "execute_result"
    }
   ],
   "source": [
    "nums = [0,1,3,50,75]\n",
    "lower = 0 \n",
    "upper = 99\n",
    "findMissingRanges(nums,lower,upper)"
   ]
  },
  {
   "cell_type": "markdown",
   "id": "2c333387",
   "metadata": {},
   "source": [
    "\n",
    "\n",
    "\n",
    "\n",
    "\n",
    "\n",
    "<aside>\n",
    "💡 **Question 8**\n",
    "Given an array of meeting time intervals where intervals[i] = [starti, endi],\n",
    "determine if a person could attend all meetings.\n",
    "\n",
    "**Example 1:**\n",
    "Input: intervals = [[0,30],[5,10],[15,20]]\n",
    "Output: false\n",
    "\n",
    "</aside>"
   ]
  },
  {
   "cell_type": "code",
   "execution_count": 14,
   "id": "d9c5132b",
   "metadata": {},
   "outputs": [],
   "source": [
    "\"\"\"\n",
    "Algorithm:\n",
    "\n",
    "    Sort the meeting intervals based on the start time.\n",
    "    Iterate through the sorted intervals starting from the second interval.\n",
    "    If the start time of the current interval is less than the end time of the previous interval, return False (overlapping meetings).\n",
    "    If all intervals are checked and no overlaps are found, return True (person can attend all meetings).\n",
    "\n",
    "\n",
    "TC : O(n logn)\n",
    "SC : O(1)\n",
    "\"\"\"\n",
    "\n",
    "\n",
    "def canAttendMeetings(intervals):\n",
    "    \"\"\"\n",
    "    Determine if a person could attend all meetings based on the given intervals.\n",
    "\n",
    "    Args:\n",
    "        intervals (List[List[int]]): The input list of meeting time intervals.\n",
    "\n",
    "    Returns:\n",
    "        bool: True if the person can attend all meetings, False otherwise.\n",
    "\n",
    "    \"\"\"\n",
    "    intervals.sort(key=lambda x: x[0])  \n",
    "\n",
    "    for i in range(1, len(intervals)):\n",
    "        if intervals[i][0] < intervals[i-1][1]:\n",
    "            return False\n",
    "\n",
    "    return True\n"
   ]
  },
  {
   "cell_type": "code",
   "execution_count": 15,
   "id": "14c4e91f",
   "metadata": {},
   "outputs": [
    {
     "data": {
      "text/plain": [
       "False"
      ]
     },
     "execution_count": 15,
     "metadata": {},
     "output_type": "execute_result"
    }
   ],
   "source": [
    "intervals = [[0,30],[5,10],[15,20]]\n",
    "canAttendMeetings(intervals)"
   ]
  }
 ],
 "metadata": {
  "kernelspec": {
   "display_name": "Python 3 (ipykernel)",
   "language": "python",
   "name": "python3"
  },
  "language_info": {
   "codemirror_mode": {
    "name": "ipython",
    "version": 3
   },
   "file_extension": ".py",
   "mimetype": "text/x-python",
   "name": "python",
   "nbconvert_exporter": "python",
   "pygments_lexer": "ipython3",
   "version": "3.9.12"
  }
 },
 "nbformat": 4,
 "nbformat_minor": 5
}
