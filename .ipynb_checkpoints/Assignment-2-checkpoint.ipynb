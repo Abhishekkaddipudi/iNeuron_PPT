{
 "cells": [
  {
   "cell_type": "markdown",
   "id": "76e0a359",
   "metadata": {},
   "source": [
    "<aside>\n",
    "💡 **Question 1**\n",
    "Given an integer array nums of 2n integers, group these integers into n pairs (a1, b1), (a2, b2),..., (an, bn) such that the sum of min(ai, bi) for all i is maximized. Return the maximized sum.\n",
    "\n",
    "**Example 1:**\n",
    "Input: nums = [1,4,3,2]\n",
    "Output: 4\n",
    "\n",
    "**Explanation:** All possible pairings (ignoring the ordering of elements) are:\n",
    "\n",
    "1. (1, 4), (2, 3) -> min(1, 4) + min(2, 3) = 1 + 2 = 3\n",
    "2. (1, 3), (2, 4) -> min(1, 3) + min(2, 4) = 1 + 2 = 3\n",
    "3. (1, 2), (3, 4) -> min(1, 2) + min(3, 4) = 1 + 3 = 4\n",
    "So the maximum possible sum is 4\n",
    "</aside>"
   ]
  },
  {
   "cell_type": "code",
   "execution_count": 40,
   "id": "fd30f638",
   "metadata": {},
   "outputs": [],
   "source": [
    "\"\"\"\n",
    "Algorithm:\n",
    "\n",
    "1. Sort the array \n",
    "\n",
    "2. find sum of elements in odd indexes\n",
    "* observation - min value in pair are all the element in odd indexes\n",
    "\n",
    "TC: O(nlog n)- sorting array\n",
    "SC: O(1)\n",
    "\"\"\"\n",
    "def pairsum(nums:list)->int:\n",
    "    \"\"\"\n",
    "    \n",
    "    This function returns sum of elements in odd place of sorted array\n",
    "    ex: [1,2,3,5]=sum of 1,3 = 4\n",
    "    \n",
    "    \"\"\"\n",
    "    return sum(sorted(nums)[::2])"
   ]
  },
  {
   "cell_type": "code",
   "execution_count": 41,
   "id": "b25435b9",
   "metadata": {},
   "outputs": [
    {
     "data": {
      "text/plain": [
       "4"
      ]
     },
     "execution_count": 41,
     "metadata": {},
     "output_type": "execute_result"
    }
   ],
   "source": [
    "pairsum([1,4,3,2])"
   ]
  },
  {
   "cell_type": "markdown",
   "id": "4ecbd13d",
   "metadata": {},
   "source": [
    "<aside>\n",
    "💡 **Question 2**\n",
    "Alice has n candies, where the ith candy is of type candyType[i]. Alice noticed that she started to gain weight, so she visited a doctor. \n",
    "\n",
    "The doctor advised Alice to only eat n / 2 of the candies she has (n is always even). Alice likes her candies very much, and she wants to eat the maximum number of different types of candies while still following the doctor's advice. \n",
    "\n",
    "Given the integer array candyType of length n, return the maximum number of different types of candies she can eat if she only eats n / 2 of them.\n",
    "\n",
    "**Example 1:**\n",
    "Input: candyType = [1,1,2,2,3,3]\n",
    "Output: 3\n",
    "\n",
    "**Explanation**: Alice can only eat 6 / 2 = 3 candies. Since there are only 3 types, she can eat one of each type.\n",
    "\n",
    "</aside>"
   ]
  },
  {
   "cell_type": "code",
   "execution_count": 42,
   "id": "41dec6fb",
   "metadata": {},
   "outputs": [],
   "source": [
    "\"\"\"\n",
    "Algorithm:\n",
    "1. calculate half of toal candies\n",
    "2. calculate total unique candies using hashset\n",
    "3. return minimum among them\n",
    "\n",
    "\n",
    "TC: O(n)\n",
    "SC: O(n) - set\n",
    "\n",
    "\"\"\"\n",
    "\n",
    "\n",
    "def Candies(candyType:list)->int:\n",
    "    \n",
    "    \"\"\"\n",
    "    This function returns minimum between half of list length and len of unique elements in set\n",
    "    \"\"\"\n",
    "    return min(len(candyType)//2,len(set(candyType)))"
   ]
  },
  {
   "cell_type": "code",
   "execution_count": 43,
   "id": "afde03f0",
   "metadata": {},
   "outputs": [
    {
     "data": {
      "text/plain": [
       "3"
      ]
     },
     "execution_count": 43,
     "metadata": {},
     "output_type": "execute_result"
    }
   ],
   "source": [
    "candyType=[1,1,2,2,3,3]\n",
    "Candies(candyType)"
   ]
  },
  {
   "cell_type": "code",
   "execution_count": 38,
   "id": "eaea4ddb",
   "metadata": {},
   "outputs": [
    {
     "data": {
      "text/plain": [
       "1"
      ]
     },
     "execution_count": 38,
     "metadata": {},
     "output_type": "execute_result"
    }
   ],
   "source": [
    "candyType=[6,6,6,6]\n",
    "Candies(candyType)"
   ]
  },
  {
   "cell_type": "code",
   "execution_count": 39,
   "id": "da79b8af",
   "metadata": {},
   "outputs": [
    {
     "data": {
      "text/plain": [
       "4"
      ]
     },
     "execution_count": 39,
     "metadata": {},
     "output_type": "execute_result"
    }
   ],
   "source": [
    "candyType=[2,121,2,12,1,21,23,6,1]\n",
    "Candies(candyType)"
   ]
  },
  {
   "cell_type": "markdown",
   "id": "38fab026",
   "metadata": {},
   "source": [
    "<aside>\n",
    "💡 **Question 3**\n",
    "We define a harmonious array as an array where the difference between its maximum value\n",
    "and its minimum value is exactly 1.\n",
    "\n",
    "Given an integer array nums, return the length of its longest harmonious subsequence\n",
    "among all its possible subsequences.\n",
    "\n",
    "A subsequence of an array is a sequence that can be derived from the array by deleting some or no elements without changing the order of the remaining elements.\n",
    "\n",
    "**Example 1:**\n",
    "Input: nums = [1,3,2,2,5,2,3,7]\n",
    "Output: 5\n",
    "\n",
    "**Explanation:** The longest harmonious subsequence is [3,2,2,2,3].\n",
    "\n",
    "</aside>\n"
   ]
  },
  {
   "cell_type": "code",
   "execution_count": 66,
   "id": "0b6dae2d",
   "metadata": {},
   "outputs": [],
   "source": [
    "\"\"\"\n",
    "Algorithm:\n",
    "\n",
    "1. Create an empty hash map (dictionary).\n",
    "2. Initialize a variable maxi to 0, which will store the maximum length of the harmonious subsequence.\n",
    "3. Iterate over each element, i, in the nums list.\n",
    "4. Within the loop, check if i already exists as a key in the hashmap.\n",
    "\n",
    "    * If true, increment the count for that key in hashmap by 1.\n",
    "    * If false, add i as a key to the hashmap with a value of 1.\n",
    "\n",
    "5. After populating the hashmap, iterate over each key, i, in hashmap.\n",
    "6. Within this second loop, check if i + 1 exists as a key in hashmap.\n",
    "\n",
    "   * If true, calculate the sum of the counts for keys i and i + 1 in hashmap.\n",
    "   * Update maxi with the maximum of maxi and the sum calculated in the previous step.\n",
    "\n",
    "7. Finally, return the value of maxi, which represents the length of the longest harmonious subsequence.\n",
    "\n",
    "\"\"\"\n",
    "\n",
    "\n",
    "def harmonious(nums:list)->int:\n",
    "    \n",
    "    \"\"\"\n",
    "    This function returns len of largest harmonious subsequence\n",
    "   \n",
    "   \n",
    "    \"\"\"\n",
    "    hashmap={}\n",
    "    maxi=0\n",
    "    for i in nums:\n",
    "        if i in hashmap:\n",
    "            hashmap[i]+=1\n",
    "        else:\n",
    "            hashmap[i]=1\n",
    "    for i in hashmap:\n",
    "        if i+1 in hashmap:\n",
    "            maxsum=max(maxi,hashmap[i]+hashmap[i+1])\n",
    "    return maxsum\n",
    "    \n"
   ]
  },
  {
   "cell_type": "code",
   "execution_count": 67,
   "id": "c65621e7",
   "metadata": {},
   "outputs": [
    {
     "data": {
      "text/plain": [
       "5"
      ]
     },
     "execution_count": 67,
     "metadata": {},
     "output_type": "execute_result"
    }
   ],
   "source": [
    "nums = [1,3,2,2,5,2,3,7]\n",
    "harmonious(nums)"
   ]
  },
  {
   "cell_type": "markdown",
   "id": "552f85d8",
   "metadata": {},
   "source": [
    "<aside>\n",
    "💡 **Question 4**\n",
    "You have a long flowerbed in which some of the plots are planted, and some are not.\n",
    "However, flowers cannot be planted in adjacent plots.\n",
    "Given an integer array flowerbed containing 0's and 1's, where 0 means empty and 1 means not empty, and an integer n, return true if n new flowers can be planted in the flowerbed without violating the no-adjacent-flowers rule and false otherwise.\n",
    "\n",
    "**Example 1:**\n",
    "Input: flowerbed = [1,0,0,0,1], n = 1\n",
    "Output: true\n",
    "\n",
    "</aside>\n"
   ]
  },
  {
   "cell_type": "code",
   "execution_count": 2,
   "id": "02413c3a",
   "metadata": {},
   "outputs": [],
   "source": [
    "\"\"\"\n",
    "Algorithm:\n",
    "\n",
    "1. iterate over flowerbed using for loop\n",
    "2. if we found 0 , increament the count of beds\n",
    "3. if we found 1, add it to beds count if we have three consecutive 0's \n",
    "4. add remaining counts to beds\n",
    "\n",
    "TC : O(n)\n",
    "SC : 0(1)\n",
    "\"\"\"\n",
    "\n",
    "\n",
    "def Flowers(flowerbed:list,n:int)->int:\n",
    "    \n",
    "    \"\"\"\n",
    "    Argument:\n",
    "        flowerbed : list of flowers arranged \n",
    "        n : integer number of plants to be planted\n",
    "    returns true if number of n flowers can be planted following no-adjacent-rule\n",
    "    \"\"\"\n",
    "    count=1\n",
    "    b=0\n",
    "    for bed in flowerbed:\n",
    "        if not bed:\n",
    "            count+=1     \n",
    "        else:\n",
    "            b+=(count-1)//2\n",
    "            count=0\n",
    "            \n",
    "    b+=count//2\n",
    "    return (b>=n)"
   ]
  },
  {
   "cell_type": "markdown",
   "id": "4f3442bc",
   "metadata": {},
   "source": [
    " 💡 **Question 5** Given an integer array nums, find three numbers whose product is maximum and return the maximum product.\n",
    "\n",
    "Example 1: Input: nums = [1,2,3] Output: 6\n"
   ]
  },
  {
   "cell_type": "code",
   "execution_count": 6,
   "id": "a13fb03c",
   "metadata": {},
   "outputs": [
    {
     "data": {
      "text/plain": [
       "6"
      ]
     },
     "execution_count": 6,
     "metadata": {},
     "output_type": "execute_result"
    }
   ],
   "source": [
    "\"\"\"\n",
    "Algorithm:\n",
    "\n",
    "1. implement heapq for nums and find 3 largest nums\n",
    "2. find max of product between 3 largest elements and product of 2 smallest and largest element in case -ve numbers\n",
    "3. return max product\n",
    "\n",
    "TC : o(n * log (3))=> o(n)\n",
    "\n",
    "SC : o(n)\n",
    "\"\"\"\n",
    "\n",
    "\n",
    "import heapq\n",
    "def threeProduct(nums:list)->int:\n",
    "    \"\"\"\n",
    "    \n",
    "    Returns the max product of three numbers\n",
    "    \"\"\"\n",
    "    pos=heapq.nlargest(3,nums)\n",
    "    neg=heapq.nsmallest(2,nums)\n",
    "    return max(neg[0]*neg[1]*pos[0],pos[0]*pos[1]*pos[2]) \n",
    "            \n",
    "nums=[1,2,3]\n",
    "threeProduct(nums)"
   ]
  },
  {
   "cell_type": "markdown",
   "id": "97cc0701",
   "metadata": {},
   "source": [
    "\n",
    "<aside>\n",
    "💡 **Question 6** \n",
    "Given an array of integers nums which is sorted in ascending order, and an integer target,\n",
    "write a function to search target in nums. If target exists, then return its index. Otherwise,\n",
    "return -1.\n",
    "\n",
    "You must write an algorithm with O(log n) runtime complexity.\n",
    "\n",
    "Input: nums = [-1,0,3,5,9,12], target = 9\n",
    "Output: 4\n",
    "\n",
    "**Explanation:** 9 exists in nums and its index is 4\n",
    "\n",
    "</aside>"
   ]
  },
  {
   "cell_type": "code",
   "execution_count": 16,
   "id": "137df903",
   "metadata": {},
   "outputs": [
    {
     "data": {
      "text/plain": [
       "4"
      ]
     },
     "execution_count": 16,
     "metadata": {},
     "output_type": "execute_result"
    }
   ],
   "source": [
    "\n",
    "\"\"\"\n",
    "   1. Compare the middle element of the search space with the key. \n",
    "   2. If the key is found at middle element, the process is terminated.\n",
    "   3.If the key is not found at middle element, choose which half will be used as the next search space.\n",
    "        *If the key is smaller than the middle element, then the left side is used for next search.\n",
    "        *If the key is larger than the middle element, then the right side is used for next search.\n",
    "   4. continue until the key is found or the total search space is exhausted.\n",
    "\n",
    "\n",
    "TC : O(log n)\n",
    "SC : O(1)\n",
    "\"\"\"\n",
    "def binarySearch(nums:list, target:int)->int:\n",
    "\n",
    "    \"\"\"\n",
    "    return index of target element if not found returns -1\n",
    "    \"\"\"\n",
    "    low=0\n",
    "    high=len(nums)-1\n",
    "    while low <= high:\n",
    "\n",
    "        mid = low + (high - low)//2\n",
    "\n",
    "        if nums[mid] == target:\n",
    "            return mid\n",
    "\n",
    "        elif nums[mid] < target:\n",
    "            low = mid + 1\n",
    "\n",
    "        else:\n",
    "            high = mid - 1\n",
    "\n",
    "    return -1\n",
    "nums = [-1,0,3,5,9,12]\n",
    "target = 9\n",
    "binarySearch(nums,target)"
   ]
  },
  {
   "cell_type": "markdown",
   "id": "61ba34f4",
   "metadata": {},
   "source": [
    "\n",
    "<aside>\n",
    "💡 **Question 7**\n",
    "An array is monotonic if it is either monotone increasing or monotone decreasing.\n",
    "\n",
    "An array nums is monotone increasing if for all i <= j, nums[i] <= nums[j]. An array nums is\n",
    "monotone decreasing if for all i <= j, nums[i] >= nums[j].\n",
    "\n",
    "Given an integer array nums, return true if the given array is monotonic, or false otherwise.\n",
    "\n",
    "**Example 1:**\n",
    "Input: nums = [1,2,2,3]\n",
    "Output: true\n",
    "\n",
    "</aside>\n"
   ]
  },
  {
   "cell_type": "code",
   "execution_count": 29,
   "id": "27461860",
   "metadata": {},
   "outputs": [
    {
     "data": {
      "text/plain": [
       "True"
      ]
     },
     "execution_count": 29,
     "metadata": {},
     "output_type": "execute_result"
    }
   ],
   "source": [
    "#brute force\n",
    "\"\"\"\n",
    "\n",
    "Algorithm:\n",
    "1. check if array sorted or reverse sorted and return\n",
    "\n",
    "\n",
    "TC : o(n log n)\n",
    "SC : o(n)\n",
    "\n",
    "\"\"\"\n",
    "def is_monotonic(nums:list)->bool:\n",
    "    \"\"\"\n",
    "    returns if array is monotonic or not\n",
    "    \"\"\"\n",
    "    return nums==sorted(nums) or nums==sorted(nums,reverse=True)\n",
    "nums = [1,2,2,3]\n",
    "is_monotonic(nums)"
   ]
  },
  {
   "cell_type": "code",
   "execution_count": 22,
   "id": "c865c91f",
   "metadata": {},
   "outputs": [
    {
     "data": {
      "text/plain": [
       "True"
      ]
     },
     "execution_count": 22,
     "metadata": {},
     "output_type": "execute_result"
    }
   ],
   "source": [
    "\"\"\"\n",
    "Algorithm:\n",
    "\n",
    "1. iterate over nums array \n",
    "2. subtract curr element and previous element\n",
    "3. the subtracted value will be negative in case current element is smaller then previous element\n",
    "4. positive in case current element is greater then previous element\n",
    "5. if direction changes returns false\n",
    "6. return True if direction doesn't changes\n",
    "\n",
    "TC : o(n)\n",
    "SC : o(1)\n",
    "\n",
    "\"\"\"\n",
    "\n",
    "def is_monotonic(nums:list)->bool:\n",
    "    \"\"\"\n",
    "    returns if numsay is monotonic or not\n",
    "    \"\"\"\n",
    "    if len(nums) <= 2:\n",
    "        return True\n",
    "    direction = nums[1] - nums[0]\n",
    "    for i in range(2, len(nums)):\n",
    "        if direction == 0:\n",
    "            direction = nums[i] - nums[i - 1]\n",
    "            continue\n",
    "        if (direction > 0 and nums[i] < nums[i - 1]) or (direction < 0 and nums[i] > nums[i - 1]):\n",
    "            return False\n",
    "    return True\n",
    "nums = [1,2,2,3]\n",
    "is_monotonic(nums)"
   ]
  },
  {
   "cell_type": "markdown",
   "id": "e6adba28",
   "metadata": {},
   "source": [
    "\n",
    "\n",
    "<aside>\n",
    "💡 **Question 8**\n",
    "You are given an integer array nums and an integer k.\n",
    "\n",
    "In one operation, you can choose any index i where 0 <= i < nums.length and change nums[i] to nums[i] + x where x is an integer from the range [-k, k]. You can apply this operation at most once for each index i.\n",
    "\n",
    "The score of nums is the difference between the maximum and minimum elements in nums.\n",
    "\n",
    "Return the minimum score of nums after applying the mentioned operation at most once for each index in it.\n",
    "\n",
    "**Example 1:**\n",
    "Input: nums = [1], k = 0\n",
    "Output: 0\n",
    "\n",
    "**Explanation:** The score is max(nums) - min(nums) = 1 - 1 = 0.\n",
    "\n",
    "</aside>"
   ]
  },
  {
   "cell_type": "code",
   "execution_count": 27,
   "id": "6f6a6fb4",
   "metadata": {},
   "outputs": [
    {
     "data": {
      "text/plain": [
       "0"
      ]
     },
     "execution_count": 27,
     "metadata": {},
     "output_type": "execute_result"
    }
   ],
   "source": [
    "\"\"\"\n",
    "Algorithm:\n",
    "\n",
    "1. if len of array ==1 return 0\n",
    "2. return max of 0 and max(num)-min(num)-2*k\n",
    "    here - \n",
    "    max of 0 and max(num)-min(num)-2*k is to ensure the result is always positive\n",
    "    and 2*k is maximum reduction to both max and min of array\n",
    "the solution calculates the initial score of the array, subtracts the maximum possible reduction in the score, \n",
    "and returns the non-negative minimum score.\n",
    "\n",
    "TC : o(n)\n",
    "SC : o(1)\n",
    "    \n",
    "\n",
    "\"\"\"\n",
    "\n",
    "\n",
    "def score(nums:list,k:int)->int:\n",
    "    \n",
    "    \"\"\"\n",
    "    Return the minimum score of nums after applying the operation max(nums)-min(nums)-reduction\n",
    "    \n",
    "    \"\"\"\n",
    "    if len(nums)==1:\n",
    "        return 0\n",
    "    else:\n",
    "        return max(0,max(nums)-min(nums)-2*k)\n",
    "nums=[1]\n",
    "k=0\n",
    "score(nums,k)"
   ]
  },
  {
   "cell_type": "code",
   "execution_count": 28,
   "id": "7c1ba488",
   "metadata": {},
   "outputs": [
    {
     "data": {
      "text/plain": [
       "6"
      ]
     },
     "execution_count": 28,
     "metadata": {},
     "output_type": "execute_result"
    }
   ],
   "source": [
    "nums = [0,10]\n",
    "k = 2\n",
    "score(nums,k)"
   ]
  },
  {
   "cell_type": "code",
   "execution_count": null,
   "id": "e441a159",
   "metadata": {},
   "outputs": [],
   "source": []
  }
 ],
 "metadata": {
  "kernelspec": {
   "display_name": "Python 3 (ipykernel)",
   "language": "python",
   "name": "python3"
  },
  "language_info": {
   "codemirror_mode": {
    "name": "ipython",
    "version": 3
   },
   "file_extension": ".py",
   "mimetype": "text/x-python",
   "name": "python",
   "nbconvert_exporter": "python",
   "pygments_lexer": "ipython3",
   "version": "3.9.12"
  }
 },
 "nbformat": 4,
 "nbformat_minor": 5
}
