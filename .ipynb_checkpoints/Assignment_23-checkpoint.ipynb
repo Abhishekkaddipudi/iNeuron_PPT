{
 "cells": [
  {
   "cell_type": "markdown",
   "metadata": {
    "colab_type": "text",
    "id": "view-in-github"
   },
   "source": [
    "<a href=\"https://colab.research.google.com/github/jayant3297/Pre_Placement_Training/blob/main/Assignment23.ipynb\" target=\"_parent\"><img src=\"https://colab.research.google.com/assets/colab-badge.svg\" alt=\"Open In Colab\"/></a>"
   ]
  },
  {
   "cell_type": "markdown",
   "metadata": {
    "id": "iy1CNFFDW98E"
   },
   "source": [
    "<aside>\n",
    "💡 Question-1:\n",
    "\n",
    "Given preorder of a binary tree, calculate its **[depth(or height)](https://www.geeksforgeeks.org/write-a-c-program-to-find-the-maximum-depth-or-height-of-a-tree/)** [starting from depth 0]. The preorder is given as a string with two possible characters.\n",
    "\n",
    "1. ‘l’ denotes the leaf\n",
    "2. ‘n’ denotes internal node\n",
    "\n",
    "The given tree can be seen as a full binary tree where every node has 0 or two children. The two children of a node can ‘n’ or ‘l’ or mix of both.\n",
    "\n",
    "**Examples :**\n",
    "\n",
    "```\n",
    "Input  : nlnll\n",
    "Output : 2\n",
    "```\n",
    "    \n",
    "<img src=\"https://pwskills.notion.site/image/https%3A%2F%2Fmedia.geeksforgeeks.org%2Fwp-content%2Fuploads%2Fbtree1.png?id=b9cd6bb1-1a24-45cf-a2ec-d9a665b7fd24&table=block&spaceId=6fae2e0f-dedc-48e9-bc59-af2654c78209&width=580&userId=&cache=v2\">\n",
    "    \n",
    "```\n",
    "    \n",
    " Input  : nlnnlll\n",
    "Output : 3\n",
    " ```\n",
    "    \n",
    " <img src =\"https://pwskills.notion.site/image/https%3A%2F%2Fmedia.geeksforgeeks.org%2Fwp-content%2Fuploads%2Fdia2.png?id=604e28b1-a250-4e4f-9416-91e5c4545e60&table=block&spaceId=6fae2e0f-dedc-48e9-bc59-af2654c78209&width=580&userId=&cache=v2\">\n",
    "</aside>"
   ]
  },
  {
   "cell_type": "code",
   "execution_count": 9,
   "metadata": {
    "id": "hJQKIhLQWwW6"
   },
   "outputs": [],
   "source": [
    "def calculateDepth(preorder):\n",
    "    depth = 0\n",
    "    max_depth = 0\n",
    "\n",
    "    for ch in preorder:\n",
    "        if ch == 'n':\n",
    "            depth += 1\n",
    "        elif ch == 'l':\n",
    "            max_depth = max(max_depth, depth)\n",
    "            depth = 0\n",
    "\n",
    "    return max_depth"
   ]
  },
  {
   "cell_type": "code",
   "execution_count": 10,
   "metadata": {
    "colab": {
     "base_uri": "https://localhost:8080/"
    },
    "id": "_XC3PgfqXI72",
    "outputId": "b349ce9c-b6fc-49e6-f9f1-a200eb22de9e"
   },
   "outputs": [
    {
     "name": "stdout",
     "output_type": "stream",
     "text": [
      "Input:  nlnll\n",
      "Output: 1\n"
     ]
    }
   ],
   "source": [
    "preorder = 'nlnll'\n",
    "print(\"Input: \", preorder)\n",
    "print(\"Output:\", calculateDepth(preorder))"
   ]
  },
  {
   "cell_type": "markdown",
   "metadata": {
    "id": "QhT4eiNHYgir"
   },
   "source": [
    "<aside>\n",
    "💡 Question-2:\n",
    "\n",
    "Given a Binary tree, the task is to print the **left view** of the Binary Tree. The left view of a Binary Tree is a set of leftmost nodes for every level.\n",
    "\n",
    "**Examples:**\n",
    "\n",
    "***Input:***\n",
    "\n",
    "            4\n",
    "\n",
    "          /   \\\n",
    "\n",
    "        5     2\n",
    "\n",
    "             /   \\\n",
    "\n",
    "            3     1\n",
    "\n",
    "           /  \\\n",
    "\n",
    "          6    7\n",
    "\n",
    "***Output:** 4 5 3 6*\n",
    "    \n",
    "***Explination***\n",
    "\n",
    "<img src =\"https://pwskills.notion.site/image/https%3A%2F%2Fmedia.geeksforgeeks.org%2Fwp-content%2Fcdn-uploads%2Fleft-view.png?id=f7c11345-294e-45c8-99b2-eb1553a0c93d&table=block&spaceId=6fae2e0f-dedc-48e9-bc59-af2654c78209&width=380&userId=&cache=v2\">\n",
    "</aside>"
   ]
  },
  {
   "cell_type": "code",
   "execution_count": 11,
   "metadata": {
    "id": "RfiArRVWXM4B"
   },
   "outputs": [],
   "source": [
    "from collections import deque\n",
    "\n",
    "# Definition of a binary tree node\n",
    "class TreeNode:\n",
    "    def __init__(self, val):\n",
    "        self.val = val\n",
    "        self.left = None\n",
    "        self.right = None\n",
    "\n",
    "def leftView(root):\n",
    "    if not root:\n",
    "        return\n",
    "\n",
    "    queue = deque()\n",
    "    queue.append(root)\n",
    "\n",
    "    while queue:\n",
    "        size = len(queue)\n",
    "        is_leftmost = True\n",
    "\n",
    "        for i in range(size):\n",
    "            node = queue.popleft()\n",
    "\n",
    "            if is_leftmost:\n",
    "                print(node.val, end=' ')\n",
    "                is_leftmost = False\n",
    "\n",
    "            if node.left:\n",
    "                queue.append(node.left)\n",
    "            if node.right:\n",
    "                queue.append(node.right)\n",
    "\n",
    "    print()\n",
    "\n"
   ]
  },
  {
   "cell_type": "code",
   "execution_count": 12,
   "metadata": {
    "colab": {
     "base_uri": "https://localhost:8080/"
    },
    "id": "UIbwDoUbYv9X",
    "outputId": "0de67cba-dbec-4585-97b3-bd148d133d3b"
   },
   "outputs": [
    {
     "name": "stdout",
     "output_type": "stream",
     "text": [
      "Left view:\n",
      "4 5 3 6 \n"
     ]
    }
   ],
   "source": [
    "root = TreeNode(4)\n",
    "root.left = TreeNode(5)\n",
    "root.right = TreeNode(2)\n",
    "root.right.left = TreeNode(3)\n",
    "root.right.right = TreeNode(1)\n",
    "root.right.left.left = TreeNode(6)\n",
    "root.right.left.right = TreeNode(7)\n",
    "\n",
    "\n",
    "print(\"Left view:\")\n",
    "leftView(root)"
   ]
  },
  {
   "cell_type": "markdown",
   "metadata": {
    "id": "yM4Mr9f4Y80d"
   },
   "source": [
    "<aside>\n",
    "💡 Question-3:\n",
    "\n",
    "Given a Binary Tree, print the Right view of it.\n",
    "\n",
    "The right view of a Binary Tree is a set of nodes visible when the tree is visited from the Right side.\n",
    "\n",
    "**Examples:**\n",
    "\n",
    "**Input:**\n",
    "\n",
    "         1\n",
    "\n",
    "      /     \\\n",
    "\n",
    "   2         3\n",
    "\n",
    "/   \\       /  \\\n",
    "\n",
    "4     5   6    7\n",
    "\n",
    "             \\\n",
    "\n",
    "               8\n",
    "\n",
    "**Output**:\n",
    "\n",
    "Right view of the tree is 1 3 7 8\n",
    "\n",
    "</aside>"
   ]
  },
  {
   "cell_type": "code",
   "execution_count": 13,
   "metadata": {
    "id": "-vrKv8P4Y2TG"
   },
   "outputs": [],
   "source": [
    "from collections import deque\n",
    "\n",
    "# Definition of a binary tree node\n",
    "class TreeNode:\n",
    "    def __init__(self, val):\n",
    "        self.val = val\n",
    "        self.left = None\n",
    "        self.right = None\n",
    "\n",
    "def rightView(root):\n",
    "    if not root:\n",
    "        return\n",
    "\n",
    "    queue = deque()\n",
    "    queue.append(root)\n",
    "\n",
    "    while queue:\n",
    "        size = len(queue)\n",
    "        rightmost = None\n",
    "\n",
    "        for i in range(size):\n",
    "            node = queue.popleft()\n",
    "\n",
    "            if i == size - 1:\n",
    "                rightmost = node.val\n",
    "\n",
    "            if node.left:\n",
    "                queue.append(node.left)\n",
    "            if node.right:\n",
    "                queue.append(node.right)\n",
    "\n",
    "        if rightmost is not None:\n",
    "            print(rightmost, end=' ')\n",
    "\n",
    "    print()"
   ]
  },
  {
   "cell_type": "code",
   "execution_count": 14,
   "metadata": {
    "colab": {
     "base_uri": "https://localhost:8080/"
    },
    "id": "t9JpNdURZL_p",
    "outputId": "8757deb2-e11c-48e5-f044-7ccdd4b1f48b"
   },
   "outputs": [
    {
     "name": "stdout",
     "output_type": "stream",
     "text": [
      "Right view:\n",
      "1 3 7 8 \n"
     ]
    }
   ],
   "source": [
    "root = TreeNode(1)\n",
    "root.left = TreeNode(2)\n",
    "root.right = TreeNode(3)\n",
    "root.left.left = TreeNode(4)\n",
    "root.left.right = TreeNode(5)\n",
    "root.right.left = TreeNode(6)\n",
    "root.right.right = TreeNode(7)\n",
    "root.right.right.right = TreeNode(8)\n",
    "\n",
    "\n",
    "print(\"Right view:\")\n",
    "rightView(root)"
   ]
  },
  {
   "cell_type": "markdown",
   "metadata": {
    "id": "U4oZLlgaZbJa"
   },
   "source": [
    "<aside>\n",
    "💡 Question-4:\n",
    "\n",
    "Given a Binary Tree, The task is to print the **bottom view** from left to right. A node **x** is there in output if x is the bottommost node at its horizontal distance. The horizontal distance of the left child of a node x is equal to a horizontal distance of x minus 1, and that of a right child is the horizontal distance of x plus 1.\n",
    "\n",
    "**Examples:**\n",
    "\n",
    "**Input:**\n",
    "\n",
    "             20\n",
    "\n",
    "           /     \\\n",
    "\n",
    "        8         22\n",
    "\n",
    "    /      \\         \\\n",
    "\n",
    "5         3        25\n",
    "\n",
    "        /    \\\n",
    "\n",
    "   10       14\n",
    "\n",
    "**Output:** 5, 10, 3, 14, 25.\n",
    "\n",
    "</aside>"
   ]
  },
  {
   "cell_type": "code",
   "execution_count": 17,
   "metadata": {
    "id": "1qn3nwT2ZQJS"
   },
   "outputs": [],
   "source": [
    "from collections import deque\n",
    "\n",
    "class TreeNode:\n",
    "    def __init__(self, val):\n",
    "        self.val = val\n",
    "        self.left = None\n",
    "        self.right = None\n",
    "\n",
    "def bottomView(root):\n",
    "    if not root:\n",
    "        return\n",
    "\n",
    "\n",
    "    horizontal_distance = {}\n",
    "\n",
    "    queue = deque()\n",
    "    queue.append((root, 0))\n",
    "\n",
    "    while queue:\n",
    "        node, hd = queue.popleft()\n",
    "\n",
    "\n",
    "        horizontal_distance[hd] = node.val\n",
    "\n",
    "        if node.left:\n",
    "            queue.append((node.left, hd - 1))\n",
    "        if node.right:\n",
    "            queue.append((node.right, hd + 1))\n",
    "\n",
    "    # Sort the dictionary by horizontal distance\n",
    "    sorted_hd = sorted(horizontal_distance.keys())\n",
    "\n",
    "    # Print the values of the nodes in the bottom view\n",
    "    print(\"Bottom view:\")\n",
    "    for hd in sorted_hd:\n",
    "        print(horizontal_distance[hd], end=' ')\n",
    "\n",
    "    print()"
   ]
  },
  {
   "cell_type": "code",
   "execution_count": 16,
   "metadata": {
    "colab": {
     "base_uri": "https://localhost:8080/"
    },
    "id": "Ik3kmMFZZ6sM",
    "outputId": "2ac6bcd3-28eb-454f-d209-0ef7089da46c"
   },
   "outputs": [
    {
     "name": "stdout",
     "output_type": "stream",
     "text": [
      "Bottom view:\n",
      "5 10 3 14 25 \n"
     ]
    }
   ],
   "source": [
    "root = TreeNode(20)\n",
    "root.left = TreeNode(8)\n",
    "root.right = TreeNode(22)\n",
    "root.left.left = TreeNode(5)\n",
    "root.left.right = TreeNode(3)\n",
    "root.right.right = TreeNode(25)\n",
    "root.left.right.left = TreeNode(10)\n",
    "root.left.right.right = TreeNode(14)\n",
    "\n",
    "# Print the bottom view of the binary tree\n",
    "bottomView(root)"
   ]
  }
 ],
 "metadata": {
  "colab": {
   "authorship_tag": "ABX9TyOp7sttIVfcu2o93bRAT64x",
   "include_colab_link": true,
   "provenance": []
  },
  "kernelspec": {
   "display_name": "Python 3 (ipykernel)",
   "language": "python",
   "name": "python3"
  },
  "language_info": {
   "codemirror_mode": {
    "name": "ipython",
    "version": 3
   },
   "file_extension": ".py",
   "mimetype": "text/x-python",
   "name": "python",
   "nbconvert_exporter": "python",
   "pygments_lexer": "ipython3",
   "version": "3.10.11"
  }
 },
 "nbformat": 4,
 "nbformat_minor": 1
}
