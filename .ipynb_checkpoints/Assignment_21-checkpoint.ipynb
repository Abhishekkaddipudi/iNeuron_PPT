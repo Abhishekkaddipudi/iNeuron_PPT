{
 "cells": [
  {
   "cell_type": "markdown",
   "metadata": {
    "colab_type": "text",
    "id": "view-in-github"
   },
   "source": [
    "<a href=\"https://colab.research.google.com/github/jayant3297/Pre_Placement_Training/blob/main/Assignment21.ipynb\" target=\"_parent\"><img src=\"https://colab.research.google.com/assets/colab-badge.svg\" alt=\"Open In Colab\"/></a>"
   ]
  },
  {
   "cell_type": "markdown",
   "metadata": {
    "id": "XkawgDKptXxB"
   },
   "source": [
    "<aside>\n",
    "💡 Question-1\n",
    "\n",
    "You are given a binary tree. The binary tree is represented using the TreeNode class. Each TreeNode has an integer value and left and right children, represented using the TreeNode class itself. Convert this binary tree into a binary search tree.\n",
    "\n",
    "Input:\n",
    "\n",
    "        10\n",
    "\n",
    "       /   \\\n",
    "\n",
    "     2      7\n",
    "\n",
    "   /   \\\n",
    "\n",
    " 8      4\n",
    "\n",
    "Output:\n",
    "\n",
    "        8\n",
    "\n",
    "      /   \\\n",
    "\n",
    "    4     10\n",
    "\n",
    "  /   \\\n",
    "\n",
    "2      7\n",
    "\n",
    "</aside>"
   ]
  },
  {
   "cell_type": "code",
   "execution_count": 22,
   "metadata": {
    "colab": {
     "base_uri": "https://localhost:8080/"
    },
    "id": "Pwn1gIWHtQ7S",
    "outputId": "9f8cb4f5-0dbd-4b45-c6fb-17f49023349b"
   },
   "outputs": [],
   "source": [
    "class TreeNode:\n",
    "    def __init__(self, val):\n",
    "        self.val = val\n",
    "        self.left = None\n",
    "        self.right = None\n",
    "\n",
    "\n",
    "def convert_binary_tree_to_bst(root):\n",
    "    def inorder_traversal(node):\n",
    "        nonlocal index\n",
    "\n",
    "        if node is None:\n",
    "            return\n",
    "\n",
    "        inorder_traversal(node.left)\n",
    "        node.val = sorted_values[index]\n",
    "        index += 1\n",
    "        inorder_traversal(node.right)\n",
    "\n",
    "    def get_sorted_values(node):\n",
    "        if node is None:\n",
    "            return []\n",
    "\n",
    "        return get_sorted_values(node.left) + [node.val] + get_sorted_values(node.right)\n",
    "\n",
    "    sorted_values = get_sorted_values(root)\n",
    "    sorted_values.sort()\n",
    "    index = 0\n",
    "    inorder_traversal(root)\n",
    "\n",
    "    return root\n",
    "\n",
    "\n",
    "def print_binary_tree(root):\n",
    "    def get_tree_string(node, level=0):\n",
    "        if node is None:\n",
    "            return \"\"\n",
    "\n",
    "        tree_str = \"\"\n",
    "\n",
    "        # Add right subtree\n",
    "        tree_str += get_tree_string(node.right, level + 1)\n",
    "\n",
    "        # Add current node\n",
    "        tree_str += \"    \" * level\n",
    "        tree_str += str(node.val) + \"\\n\"\n",
    "\n",
    "        # Add left subtree\n",
    "        tree_str += get_tree_string(node.left, level + 1)\n",
    "\n",
    "        return tree_str\n",
    "\n",
    "    print(get_tree_string(root))\n"
   ]
  },
  {
   "cell_type": "code",
   "execution_count": 23,
   "metadata": {},
   "outputs": [
    {
     "name": "stdout",
     "output_type": "stream",
     "text": [
      "Binary Search Tree:\n",
      "    10\n",
      "8\n",
      "        7\n",
      "    4\n",
      "        2\n",
      "\n"
     ]
    }
   ],
   "source": [
    "# Example usage:\n",
    "# Constructing the binary tree\n",
    "root = TreeNode(10)\n",
    "root.left = TreeNode(2)\n",
    "root.right = TreeNode(7)\n",
    "root.left.left = TreeNode(8)\n",
    "root.left.right = TreeNode(4)\n",
    "\n",
    "# Convert the binary tree to a binary search tree\n",
    "converted_root = convert_binary_tree_to_bst(root)\n",
    "\n",
    "# Print the binary search tree in tree structure\n",
    "print(\"Binary Search Tree:\")\n",
    "print_binary_tree(converted_root)\n"
   ]
  },
  {
   "cell_type": "markdown",
   "metadata": {
    "id": "SVgzjhVytqNe"
   },
   "source": [
    "<aside>\n",
    "    \n",
    "💡 Question-2:\n",
    "\n",
    "Given a Binary Search Tree with all unique values and two keys. Find the distance between two nodes in BST. The given keys always exist in BST.\n",
    "\n",
    "Example:\n",
    "<img src =\"https://pwskills.notion.site/image/https%3A%2F%2Fs3-us-west-2.amazonaws.com%2Fsecure.notion-static.com%2Ff2455039-7e12-43fc-a7d3-b5be24931c1c%2F1.png?id=d4bc1913-d662-4c2d-a70e-d9eb224f4f9e&table=block&spaceId=6fae2e0f-dedc-48e9-bc59-af2654c78209&width=650&userId=&cache=v2\">\n",
    "Consider the following BST:\n",
    "\n",
    "</aside>\n",
    "\n",
    "**Input-1:**\n",
    "\n",
    "n = 9\n",
    "\n",
    "values = [8, 3, 1, 6, 4, 7, 10, 14,13]\n",
    "\n",
    "node-1 = 6\n",
    "\n",
    "node-2 = 14\n",
    "\n",
    "**Output-1:**\n",
    "\n",
    "The distance between the two keys = 4\n",
    "\n",
    "**Input-2:**\n",
    "\n",
    "n = 9\n",
    "\n",
    "values = [8, 3, 1, 6, 4, 7, 10, 14,13]\n",
    "\n",
    "node-1 = 3\n",
    "\n",
    "node-2 = 4\n",
    "\n",
    "**Output-2:**\n",
    "\n",
    "The distance between the two keys = 2"
   ]
  },
  {
   "cell_type": "code",
   "execution_count": 1,
   "metadata": {
    "id": "gEmZhHQdthM9"
   },
   "outputs": [],
   "source": [
    "class TreeNode:\n",
    "    def __init__(self, val):\n",
    "        self.val = val\n",
    "        self.left = None\n",
    "        self.right = None\n",
    "\n",
    "def findLCA(root, node1, node2):\n",
    "    if root.val > node1.val and root.val > node2.val:\n",
    "        return findLCA(root.left, node1, node2)\n",
    "    elif root.val < node1.val and root.val < node2.val:\n",
    "        return findLCA(root.right, node1, node2)\n",
    "    else:\n",
    "        return root\n",
    "\n",
    "def findDistance(root, target):\n",
    "    if root.val == target.val:\n",
    "        return 0\n",
    "    elif root.val > target.val:\n",
    "        return 1 + findDistance(root.left, target)\n",
    "    else:\n",
    "        return 1 + findDistance(root.right, target)\n",
    "\n",
    "def findNode(root, value):\n",
    "    if root is None or root.val == value:\n",
    "        return root\n",
    "    elif root.val > value:\n",
    "        return findNode(root.left, value)\n",
    "    else:\n",
    "        return findNode(root.right, value)\n",
    "\n",
    "def findDistanceBetweenNodes(root, value1, value2):\n",
    "    node1 = findNode(root, value1)\n",
    "    node2 = findNode(root, value2)\n",
    "\n",
    "    lca = findLCA(root, node1, node2)\n",
    "    distance1 = findDistance(lca, node1)\n",
    "    distance2 = findDistance(lca, node2)\n",
    "\n",
    "    return distance1 + distance2\n"
   ]
  },
  {
   "cell_type": "code",
   "execution_count": 2,
   "metadata": {
    "colab": {
     "base_uri": "https://localhost:8080/"
    },
    "id": "QwHGpWJ5uBGi",
    "outputId": "453f43ef-123b-4409-c783-1efbf2d98b17"
   },
   "outputs": [
    {
     "name": "stdout",
     "output_type": "stream",
     "text": [
      "\n",
      "The distance between the two keys = 4\n"
     ]
    }
   ],
   "source": [
    "root = TreeNode(8)\n",
    "root.left = TreeNode(3)\n",
    "root.right = TreeNode(10)\n",
    "root.left.left = TreeNode(1)\n",
    "root.left.right = TreeNode(6)\n",
    "root.left.right.left = TreeNode(4)\n",
    "root.left.right.right = TreeNode(7)\n",
    "root.right.right = TreeNode(14)\n",
    "root.right.right.left = TreeNode(13)\n",
    "\n",
    "values = [8, 3, 1, 6, 4, 7, 10, 14, 13]\n",
    "value1 = 6\n",
    "value2 = 14\n",
    "distance = findDistanceBetweenNodes(root, value1, value2)\n",
    "print()\n",
    "print(\"The distance between the two keys =\", distance)"
   ]
  },
  {
   "cell_type": "code",
   "execution_count": 3,
   "metadata": {
    "colab": {
     "base_uri": "https://localhost:8080/"
    },
    "id": "wS_T29Z1uGqw",
    "outputId": "59ece69c-8e04-46ae-ccf8-25b99d140b8b"
   },
   "outputs": [
    {
     "name": "stdout",
     "output_type": "stream",
     "text": [
      "\n",
      "Output 2:\n",
      "The distance between the two keys = 2\n"
     ]
    }
   ],
   "source": [
    "value1 = 3\n",
    "value2 = 4\n",
    "distance = findDistanceBetweenNodes(root, value1, value2)\n",
    "print(\"\\nOutput 2:\")\n",
    "print(\"The distance between the two keys =\", distance)"
   ]
  },
  {
   "cell_type": "markdown",
   "metadata": {
    "id": "g49m5SoXuQtZ"
   },
   "source": [
    "<aside>\n",
    "    \n",
    "***💡 Question-3:***\n",
    "\n",
    "Write a program to convert a binary tree to a doubly linked list.\n",
    "\n",
    "Input:\n",
    "\n",
    "        10\n",
    "\n",
    "       /   \\\n",
    "\n",
    "     5     20\n",
    "\n",
    "           /   \\\n",
    "\n",
    "        30     35\n",
    "\n",
    "Output:\n",
    "\n",
    "5 10 30 20 35\n",
    "\n",
    "</aside>"
   ]
  },
  {
   "cell_type": "code",
   "execution_count": 9,
   "metadata": {
    "id": "jYF8O4nBuMSD"
   },
   "outputs": [],
   "source": [
    "class Node:\n",
    "    def __init__(self, val):\n",
    "        self.val = val\n",
    "        self.left = None\n",
    "        self.right = None\n",
    "\n",
    "\n",
    "def convert_binary_tree_to_dll(root):\n",
    "    def inorder_traversal(node):\n",
    "        nonlocal prev\n",
    "\n",
    "        if node is None:\n",
    "            return\n",
    "\n",
    "        inorder_traversal(node.left)\n",
    "\n",
    "        if prev:\n",
    "            prev.right = node\n",
    "            node.left = prev\n",
    "\n",
    "        prev = node\n",
    "\n",
    "        inorder_traversal(node.right)\n",
    "\n",
    "    if root is None:\n",
    "        return None\n",
    "\n",
    "    prev = None\n",
    "    inorder_traversal(root)\n",
    "\n",
    "    while prev.left:\n",
    "        prev = prev.left\n",
    "\n",
    "    return prev\n",
    "\n",
    "\n",
    "# Utility function to print the doubly linked list\n",
    "def print_doubly_linked_list(head):\n",
    "    current = head\n",
    "\n",
    "    while current:\n",
    "        print(current.val, end=\" \")\n",
    "        current = current.right\n",
    "\n",
    "    print()\n",
    "\n"
   ]
  },
  {
   "cell_type": "code",
   "execution_count": 10,
   "metadata": {
    "colab": {
     "base_uri": "https://localhost:8080/"
    },
    "id": "HfH6xL8VubO-",
    "outputId": "a4be89b6-2f5c-440c-8e17-5896d451d681"
   },
   "outputs": [
    {
     "name": "stdout",
     "output_type": "stream",
     "text": [
      "Doubly Linked List:\n",
      "5 10 30 20 35 \n"
     ]
    }
   ],
   "source": [
    "\n",
    "root = Node(10)\n",
    "root.left = Node(5)\n",
    "root.right = Node(20)\n",
    "root.right.left = Node(30)\n",
    "root.right.right = Node(35)\n",
    "\n",
    "# Convert binary tree to doubly linked list\n",
    "head = convert_binary_tree_to_dll(root)\n",
    "\n",
    "# Print the doubly linked list\n",
    "print(\"Doubly Linked List:\")\n",
    "print_doubly_linked_list(head)\n"
   ]
  },
  {
   "cell_type": "markdown",
   "metadata": {
    "id": "Gy15Eavmuk1-"
   },
   "source": [
    "<aside>\n",
    "    \n",
    "***💡 Question-4:***\n",
    "\n",
    "Write a program to connect nodes at the same level.\n",
    "\n",
    "Input:\n",
    "\n",
    "        1\n",
    "\n",
    "      /   \\\n",
    "\n",
    "    2      3\n",
    "\n",
    "  /   \\   /   \\\n",
    "\n",
    "4     5 6    7\n",
    "\n",
    "Output:\n",
    "\n",
    "1 → -1\n",
    "\n",
    "2 → 3\n",
    "\n",
    "3 → -1\n",
    "\n",
    "4 → 5\n",
    "\n",
    "5 → 6\n",
    "\n",
    "6 → 7\n",
    "\n",
    "7 → -1\n",
    "\n",
    "</aside>"
   ]
  },
  {
   "cell_type": "code",
   "execution_count": 7,
   "metadata": {
    "id": "PX0YBUSjueAl"
   },
   "outputs": [],
   "source": [
    "class Node:\n",
    "    def __init__(self, val):\n",
    "        self.val = val\n",
    "        self.left = None\n",
    "        self.right = None\n",
    "        self.next = None\n",
    "\n",
    "\n",
    "def connect_nodes_at_same_level(root):\n",
    "    if not root:\n",
    "        return root\n",
    "\n",
    "    queue = [root]\n",
    "\n",
    "    while queue:\n",
    "        size = len(queue)\n",
    "        prev = None\n",
    "\n",
    "        for _ in range(size):\n",
    "            current = queue.pop(0)\n",
    "\n",
    "            if prev:\n",
    "                prev.next = current\n",
    "\n",
    "            prev = current\n",
    "\n",
    "            if current.left:\n",
    "                queue.append(current.left)\n",
    "            if current.right:\n",
    "                queue.append(current.right)\n",
    "\n",
    "    return root\n",
    "\n",
    "\n",
    "# Utility function to print the connections\n",
    "def print_connections(root):\n",
    "    current = root\n",
    "\n",
    "    while current:\n",
    "        temp = current\n",
    "        while temp:\n",
    "            print(temp.val, end=\" → \")\n",
    "            temp = temp.next\n",
    "        print(\"-1\")\n",
    "        current = current.left\n",
    "\n",
    "\n"
   ]
  },
  {
   "cell_type": "code",
   "execution_count": 8,
   "metadata": {
    "colab": {
     "base_uri": "https://localhost:8080/"
    },
    "id": "aMp5ORLDutE8",
    "outputId": "dbed7c0e-3d26-405c-a3b1-fe75227c2ac2"
   },
   "outputs": [
    {
     "name": "stdout",
     "output_type": "stream",
     "text": [
      "Node connections at the same level:\n",
      "1 → -1\n",
      "2 → 3 → -1\n",
      "4 → 5 → 6 → 7 → -1\n"
     ]
    }
   ],
   "source": [
    "# Example usage:\n",
    "# Constructing the binary tree\n",
    "root = Node(1)\n",
    "root.left = Node(2)\n",
    "root.right = Node(3)\n",
    "root.left.left = Node(4)\n",
    "root.left.right = Node(5)\n",
    "root.right.left = Node(6)\n",
    "root.right.right = Node(7)\n",
    "\n",
    "# Connect nodes at the same level\n",
    "connect_nodes_at_same_level(root)\n",
    "\n",
    "# Print the connections\n",
    "print(\"Node connections at the same level:\")\n",
    "print_connections(root)"
   ]
  }
 ],
 "metadata": {
  "colab": {
   "authorship_tag": "ABX9TyPGwZT6MMtubewPLD0loz+R",
   "include_colab_link": true,
   "provenance": []
  },
  "kernelspec": {
   "display_name": "Python 3 (ipykernel)",
   "language": "python",
   "name": "python3"
  },
  "language_info": {
   "codemirror_mode": {
    "name": "ipython",
    "version": 3
   },
   "file_extension": ".py",
   "mimetype": "text/x-python",
   "name": "python",
   "nbconvert_exporter": "python",
   "pygments_lexer": "ipython3",
   "version": "3.10.11"
  }
 },
 "nbformat": 4,
 "nbformat_minor": 1
}
