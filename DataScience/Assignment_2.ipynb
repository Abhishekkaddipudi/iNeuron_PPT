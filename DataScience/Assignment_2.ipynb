{
 "cells": [
  {
   "cell_type": "markdown",
   "id": "4c99ff97",
   "metadata": {},
   "source": [
    "<h2>1. Scenario: A company wants to analyze the sales performance of its products in different regions. They have collected the following data:\n",
    "    \n",
    "    \n",
    "   Region A: [10, 15, 12, 8, 14]\n",
    "    \n",
    "   Region B: [18, 20, 16, 22, 25]\n",
    "    \n",
    "   Calculate the mean sales for each region.</h2>\n"
   ]
  },
  {
   "cell_type": "code",
   "execution_count": 25,
   "id": "b381e8ae",
   "metadata": {},
   "outputs": [
    {
     "name": "stdout",
     "output_type": "stream",
     "text": [
      "Mean sales for Region A: 11.8\n",
      "Mean sales for Region B: 20.2\n"
     ]
    }
   ],
   "source": [
    "def calculate_mean(sales_data):\n",
    "    total_sales = sum(sales_data)\n",
    "    num_sales = len(sales_data)\n",
    "    mean_sales = total_sales / num_sales\n",
    "    return mean_sales\n",
    "\n",
    "# Sales data for Region A\n",
    "region_a_sales = [10, 15, 12, 8, 14]\n",
    "mean_a = calculate_mean(region_a_sales)\n",
    "\n",
    "# Sales data for Region B\n",
    "region_b_sales = [18, 20, 16, 22, 25]\n",
    "mean_b = calculate_mean(region_b_sales)\n",
    "\n",
    "# Output the mean sales for each region\n",
    "print(\"Mean sales for Region A:\", mean_a)\n",
    "print(\"Mean sales for Region B:\", mean_b)\n"
   ]
  },
  {
   "cell_type": "markdown",
   "id": "5001a4f7",
   "metadata": {},
   "source": [
    "<h2>2. Scenario: A survey is conducted to measure customer satisfaction on a scale of 1 to 5. The data collected is as follows:\n",
    "    \n",
    "   [4, 5, 2, 3, 5, 4, 3, 2, 4, 5]\n",
    "    \n",
    "   Calculate the mode of the survey responses.</h2>"
   ]
  },
  {
   "cell_type": "code",
   "execution_count": 24,
   "id": "f63b06b9",
   "metadata": {},
   "outputs": [
    {
     "name": "stdout",
     "output_type": "stream",
     "text": [
      "Mode of the survey responses: 4\n"
     ]
    }
   ],
   "source": [
    "import statistics\n",
    "\n",
    "survey_responses = [4, 5, 2, 3, 5, 4, 3, 2, 4, 5]\n",
    "mode = statistics.mode(survey_responses)\n",
    "\n",
    "# Output the mode of the survey responses\n",
    "print(\"Mode of the survey responses:\", mode)\n"
   ]
  },
  {
   "cell_type": "markdown",
   "id": "bda41623",
   "metadata": {},
   "source": [
    "<h2>3. Scenario: A company wants to compare the salaries of two departments. The salary data for Department A and Department B are as follows:\n",
    "    \n",
    "   Department A: [5000, 6000, 5500, 7000]\n",
    "    \n",
    "   Department B: [4500, 5500, 5800, 6000, 5200]\n",
    "    \n",
    "   Calculate the median salary for each department.</h2>\n"
   ]
  },
  {
   "cell_type": "code",
   "execution_count": 26,
   "id": "4bfaca32",
   "metadata": {},
   "outputs": [
    {
     "name": "stdout",
     "output_type": "stream",
     "text": [
      "Median salary for Department A: 5750.0\n",
      "Median salary for Department B: 5500\n"
     ]
    }
   ],
   "source": [
    "def calculate_median(salary_list):\n",
    "    sorted_salaries = sorted(salary_list)\n",
    "    n = len(sorted_salaries)\n",
    "    if n % 2 == 0:\n",
    "        middle_1 = sorted_salaries[n // 2 - 1]\n",
    "        middle_2 = sorted_salaries[n // 2]\n",
    "        median = (middle_1 + middle_2) / 2\n",
    "    else:\n",
    "        median = sorted_salaries[n // 2]\n",
    "    return median\n",
    "\n",
    "# Salary data for Department A\n",
    "department_a_salaries = [5000, 6000, 5500, 7000]\n",
    "median_a = calculate_median(department_a_salaries)\n",
    "\n",
    "# Salary data for Department B\n",
    "department_b_salaries = [4500, 5500, 5800, 6000, 5200]\n",
    "median_b = calculate_median(department_b_salaries)\n",
    "\n",
    "# Output the median salaries for each department\n",
    "print(\"Median salary for Department A:\", median_a)\n",
    "print(\"Median salary for Department B:\", median_b)\n"
   ]
  },
  {
   "cell_type": "markdown",
   "id": "13a3f023",
   "metadata": {},
   "source": [
    "<h2>4. Scenario: A data analyst wants to determine the variability in the daily stock prices of a company. The data collected is as follows:\n",
    "   [25.5, 24.8, 26.1, 25.3, 24.9]\n",
    "   Calculate the range of the stock prices.\n",
    "</h2>"
   ]
  },
  {
   "cell_type": "code",
   "execution_count": 31,
   "id": "2d1ad4c5",
   "metadata": {},
   "outputs": [
    {
     "name": "stdout",
     "output_type": "stream",
     "text": [
      "Range of the stock prices: 1.30\n"
     ]
    }
   ],
   "source": [
    "stock_prices = [25.5, 24.8, 26.1, 25.3, 24.9]\n",
    "price_range = max(stock_prices) - min(stock_prices)\n",
    "\n",
    "# Output the range of the stock prices\n",
    "print(f\"Range of the stock prices: {price_range:.2f}\")\n"
   ]
  },
  {
   "cell_type": "markdown",
   "id": "07a13bd2",
   "metadata": {},
   "source": [
    "<h2>5. Scenario: A study is conducted to compare the performance of two different teaching methods. The test scores of the students in each group are as follows:\n",
    "   \n",
    "Group A: [85, 90, 92, 88, 91]\n",
    "   \n",
    "Group B: [82, 88, 90, 86, 87]\n",
    "   \n",
    "Perform a t-test to determine if there is a significant difference in the mean scores between the two groups.</h2>"
   ]
  },
  {
   "cell_type": "code",
   "execution_count": 33,
   "id": "652caa75",
   "metadata": {},
   "outputs": [
    {
     "name": "stdout",
     "output_type": "stream",
     "text": [
      "t-statistic: 1.4312528946642733\n",
      "p-value: 0.19023970239078333\n"
     ]
    }
   ],
   "source": [
    "import scipy.stats as stats\n",
    "\n",
    "group_a_scores = [85, 90, 92, 88, 91]\n",
    "group_b_scores = [82, 88, 90, 86, 87]\n",
    "\n",
    "# Perform independent t-test\n",
    "t_statistic, p_value = stats.ttest_ind(group_a_scores, group_b_scores)\n",
    "\n",
    "# Output the t-statistic and p-value\n",
    "print(\"t-statistic:\", t_statistic)\n",
    "print(\"p-value:\", p_value)\n"
   ]
  },
  {
   "cell_type": "markdown",
   "id": "bbe51414",
   "metadata": {},
   "source": [
    "<h2>6. Scenario: A company wants to analyze the relationship between advertising expenditure and sales. The data collected is as follows:\n",
    "   \n",
    "Advertising Expenditure (in thousands): [10, 15, 12, 8, 14]\n",
    "   \n",
    "Sales (in thousands): [25, 30, 28, 20, 26]\n",
    "   \n",
    "Calculate the correlation coefficient between advertising expenditure and sales.\n",
    "</h2>"
   ]
  },
  {
   "cell_type": "code",
   "execution_count": 34,
   "id": "7e475c2a",
   "metadata": {},
   "outputs": [
    {
     "name": "stdout",
     "output_type": "stream",
     "text": [
      "Correlation coefficient: 0.8757511375750132\n"
     ]
    }
   ],
   "source": [
    "import numpy as np\n",
    "\n",
    "advertising_expenditure = [10, 15, 12, 8, 14]\n",
    "sales = [25, 30, 28, 20, 26]\n",
    "\n",
    "# Calculate the correlation coefficient\n",
    "correlation_coefficient = np.corrcoef(advertising_expenditure, sales)[0, 1]\n",
    "\n",
    "# Output the correlation coefficient\n",
    "print(\"Correlation coefficient:\", correlation_coefficient)\n"
   ]
  },
  {
   "cell_type": "markdown",
   "id": "0e845b89",
   "metadata": {},
   "source": [
    "<h2>\n",
    "7. Scenario: A survey is conducted to measure the heights of a group of people. The data collected is as follows:\n",
    "   [160, 170, 165, 155, 175, 180, 170]\n",
    "   Calculate the standard deviation of the heights.\n",
    "    \n",
    "</h2>"
   ]
  },
  {
   "cell_type": "code",
   "execution_count": 36,
   "id": "d24c7e54",
   "metadata": {},
   "outputs": [
    {
     "name": "stdout",
     "output_type": "stream",
     "text": [
      "Standard deviation of the heights: 7.953949089757174\n"
     ]
    }
   ],
   "source": [
    "import math\n",
    "\n",
    "heights = [160, 170, 165, 155, 175, 180, 170]\n",
    "\n",
    "# Calculate the mean of the heights\n",
    "mean_height = sum(heights) / len(heights)\n",
    "\n",
    "# Calculate the squared differences from the mean\n",
    "squared_diff = [(height - mean_height) ** 2 for height in heights]\n",
    "\n",
    "# Calculate the mean squared difference\n",
    "mean_squared_diff = sum(squared_diff) / len(heights)\n",
    "\n",
    "# Calculate the standard deviation\n",
    "std_deviation = math.sqrt(mean_squared_diff)\n",
    "\n",
    "# Output the standard deviation\n",
    "print(\"Standard deviation of the heights:\", std_deviation)\n"
   ]
  },
  {
   "cell_type": "markdown",
   "id": "d45a862b",
   "metadata": {},
   "source": [
    "<h2>8. Scenario: A company wants to analyze the relationship between employee tenure and job satisfaction. The data collected is as follows:\n",
    "   \n",
    "\n",
    "Employee Tenure (in years): [2, 3, 5, 4, 6, 2, 4]\n",
    "\n",
    "Job Satisfaction (on a scale of 1 to 10): [7, 8, 6, 9, 5, 7, 6]\n",
    "   \n",
    "Perform a linear regression analysis to predict job satisfaction based on employee tenure.\n",
    "</h2>"
   ]
  },
  {
   "cell_type": "code",
   "execution_count": 38,
   "id": "a9103f60",
   "metadata": {},
   "outputs": [
    {
     "name": "stdout",
     "output_type": "stream",
     "text": [
      "Coefficient: -0.4680851063829787\n",
      "Intercept: 8.595744680851062\n"
     ]
    }
   ],
   "source": [
    "import numpy as np\n",
    "from sklearn.linear_model import LinearRegression\n",
    "\n",
    "employee_tenure = np.array([2, 3, 5, 4, 6, 2, 4]).reshape(-1, 1)\n",
    "job_satisfaction = np.array([7, 8, 6, 9, 5, 7, 6])\n",
    "\n",
    "# Create a linear regression model and fit the data\n",
    "regression_model = LinearRegression()\n",
    "regression_model.fit(employee_tenure, job_satisfaction)\n",
    "\n",
    "# Extract the coefficient and intercept from the model\n",
    "coefficient = regression_model.coef_[0]\n",
    "intercept = regression_model.intercept_\n",
    "\n",
    "# Output the coefficient and intercept\n",
    "print(\"Coefficient:\", coefficient)\n",
    "print(\"Intercept:\", intercept)\n"
   ]
  },
  {
   "cell_type": "markdown",
   "id": "aed80896",
   "metadata": {},
   "source": [
    "<h2>9. Scenario: A study is conducted to compare the effectiveness of two different medications. The recovery times of the patients in each group are as follows:\n",
    "\n",
    "Medication A: [10, 12, 14, 11, 13]\n",
    "   \n",
    "\n",
    "Medication B: [15, 17, 16, 14, 18]\n",
    "\n",
    "\n",
    "Perform an analysis of variance (ANOVA) to determine if there is a significant difference in the mean recovery times between the two medications.\n",
    "</h2>"
   ]
  },
  {
   "cell_type": "code",
   "execution_count": 40,
   "id": "f045b683",
   "metadata": {},
   "outputs": [
    {
     "name": "stdout",
     "output_type": "stream",
     "text": [
      "F-statistic: 16.0\n",
      "p-value: 0.003949772803445326\n"
     ]
    }
   ],
   "source": [
    "import scipy.stats as stats\n",
    "\n",
    "medication_a_recovery_times = [10, 12, 14, 11, 13]\n",
    "medication_b_recovery_times = [15, 17, 16, 14, 18]\n",
    "\n",
    "# Perform one-way ANOVA test\n",
    "f_statistic, p_value = stats.f_oneway(medication_a_recovery_times, medication_b_recovery_times)\n",
    "\n",
    "# Output the F-statistic and p-value\n",
    "print(\"F-statistic:\", f_statistic)\n",
    "print(\"p-value:\", p_value)\n"
   ]
  },
  {
   "cell_type": "markdown",
   "id": "6d423b83",
   "metadata": {},
   "source": [
    "<h2>10. Scenario: A company wants to analyze customer feedback ratings on a scale of 1 to 10. The data collected is\n",
    "\n",
    " as follows:\n",
    "    [8, 9, 7, 6, 8, 10, 9, 8, 7, 8]\n",
    "    Calculate the 75th percentile of the feedback ratings.\n",
    "</h2>"
   ]
  },
  {
   "cell_type": "code",
   "execution_count": 42,
   "id": "02c23b98",
   "metadata": {},
   "outputs": [
    {
     "name": "stdout",
     "output_type": "stream",
     "text": [
      "75th percentile of the feedback ratings: 8.75\n"
     ]
    }
   ],
   "source": [
    "import numpy as np\n",
    "\n",
    "feedback_ratings = [8, 9, 7, 6, 8, 10, 9, 8, 7, 8]\n",
    "\n",
    "# Calculate the 75th percentile\n",
    "percentile_75 = np.percentile(feedback_ratings, 75)\n",
    "\n",
    "# Output the 75th percentile\n",
    "print(\"75th percentile of the feedback ratings:\", percentile_75)\n"
   ]
  },
  {
   "cell_type": "markdown",
   "id": "66e85f66",
   "metadata": {},
   "source": [
    "<h2>11. Scenario: A quality control department wants to test the weight consistency of a product. The weights of a sample of products are as follows:\n",
    "    [10.2, 9.8, 10.0, 10.5, 10.3, 10.1]\n",
    "    Perform a hypothesis test to determine if the mean weight differs significantly from 10 grams.\n",
    "</h2>"
   ]
  },
  {
   "cell_type": "code",
   "execution_count": 43,
   "id": "e9039abb",
   "metadata": {},
   "outputs": [
    {
     "name": "stdout",
     "output_type": "stream",
     "text": [
      "t-statistic: 1.5126584522688367\n",
      "p-value: 0.19077595151110102\n"
     ]
    }
   ],
   "source": [
    "import scipy.stats as stats\n",
    "\n",
    "weights = [10.2, 9.8, 10.0, 10.5, 10.3, 10.1]\n",
    "population_mean = 10\n",
    "\n",
    "# Perform one-sample t-test\n",
    "t_statistic, p_value = stats.ttest_1samp(weights, population_mean)\n",
    "\n",
    "# Output the t-statistic and p-value\n",
    "print(\"t-statistic:\", t_statistic)\n",
    "print(\"p-value:\", p_value)\n"
   ]
  },
  {
   "cell_type": "markdown",
   "id": "4afa73a4",
   "metadata": {},
   "source": [
    "<h2>12. Scenario: A company wants to analyze the click-through rates of two different website designs. The number of clicks for each design is as follows:\n",
    "    \n",
    "Design A: [100, 120, 110, 90, 95]\n",
    "\n",
    "Design B: [80, 85, 90, 95, 100]\n",
    "  \n",
    "Perform a chi-square test to determine if there is a significant difference in the click-through rates between the two designs.\n",
    "</h2>"
   ]
  },
  {
   "cell_type": "code",
   "execution_count": 44,
   "id": "fb47c168",
   "metadata": {},
   "outputs": [
    {
     "name": "stdout",
     "output_type": "stream",
     "text": [
      "Chi-square statistic: 6.110658166925435\n",
      "p-value: 0.19103526314060296\n"
     ]
    }
   ],
   "source": [
    "import numpy as np\n",
    "import scipy.stats as stats\n",
    "\n",
    "design_a_clicks = [100, 120, 110, 90, 95]\n",
    "design_b_clicks = [80, 85, 90, 95, 100]\n",
    "\n",
    "# Create the observed frequency table\n",
    "observed_frequencies = np.array([design_a_clicks, design_b_clicks])\n",
    "\n",
    "# Perform chi-square test for independence\n",
    "chi2_statistic, p_value, _, _ = stats.chi2_contingency(observed_frequencies)\n",
    "\n",
    "# Output the chi-square statistic and p-value\n",
    "print(\"Chi-square statistic:\", chi2_statistic)\n",
    "print(\"p-value:\", p_value)\n"
   ]
  },
  {
   "cell_type": "markdown",
   "id": "2efb811a",
   "metadata": {},
   "source": [
    "<h2>13. Scenario: A survey is conducted to measure customer satisfaction with a product on a scale of 1 to 10. The data collected is as follows:\n",
    "    [7, 9, 6, 8, 10, 7, 8, 9, 7, 8]\n",
    "    Calculate the 95% confidence interval for the population mean satisfaction score.\n",
    "</h2>"
   ]
  },
  {
   "cell_type": "code",
   "execution_count": 45,
   "id": "6cfabdc8",
   "metadata": {},
   "outputs": [
    {
     "name": "stdout",
     "output_type": "stream",
     "text": [
      "95% Confidence Interval: (7.043561120599888, 8.756438879400113)\n"
     ]
    }
   ],
   "source": [
    "import numpy as np\n",
    "import scipy.stats as stats\n",
    "\n",
    "satisfaction_scores = [7, 9, 6, 8, 10, 7, 8, 9, 7, 8]\n",
    "\n",
    "# Calculate the sample mean\n",
    "sample_mean = np.mean(satisfaction_scores)\n",
    "\n",
    "# Calculate the standard deviation of the sample\n",
    "sample_std = np.std(satisfaction_scores, ddof=1)\n",
    "\n",
    "# Calculate the critical value for a 95% confidence level\n",
    "critical_value = stats.t.ppf(0.975, df=len(satisfaction_scores)-1)\n",
    "\n",
    "# Calculate the margin of error\n",
    "margin_of_error = critical_value * (sample_std / np.sqrt(len(satisfaction_scores)))\n",
    "\n",
    "# Calculate the lower and upper bounds of the confidence interval\n",
    "lower_bound = sample_mean - margin_of_error\n",
    "upper_bound = sample_mean + margin_of_error\n",
    "\n",
    "# Output the confidence interval\n",
    "print(\"95% Confidence Interval:\", (lower_bound, upper_bound))\n"
   ]
  },
  {
   "cell_type": "markdown",
   "id": "e4226d68",
   "metadata": {},
   "source": [
    "<h2>\n",
    "14. Scenario: A company wants to analyze the effect of temperature on product performance. The data collected is as follows:\n",
    "    \n",
    "    Temperature (in degrees Celsius): [20, 22, 23, 19, 21]\n",
    "    \n",
    "    Performance (on a scale of 1 to 10): [8, 7, 9, 6, 8]\n",
    "    \n",
    "    Perform a simple linear regression to predict performance based on temperature.\n",
    "\n",
    "</h2>"
   ]
  },
  {
   "cell_type": "code",
   "execution_count": 46,
   "id": "66908088",
   "metadata": {},
   "outputs": [
    {
     "name": "stdout",
     "output_type": "stream",
     "text": [
      "Coefficient: 0.4999999999999999\n",
      "Intercept: -2.8999999999999986\n"
     ]
    }
   ],
   "source": [
    "import numpy as np\n",
    "from sklearn.linear_model import LinearRegression\n",
    "\n",
    "temperature = np.array([20, 22, 23, 19, 21]).reshape(-1, 1)\n",
    "performance = np.array([8, 7, 9, 6, 8])\n",
    "\n",
    "# Create a linear regression model and fit the data\n",
    "regression_model = LinearRegression()\n",
    "regression_model.fit(temperature, performance)\n",
    "\n",
    "# Extract the coefficient and intercept from the model\n",
    "coefficient = regression_model.coef_[0]\n",
    "intercept = regression_model.intercept_\n",
    "\n",
    "# Output the coefficient and intercept\n",
    "print(\"Coefficient:\", coefficient)\n",
    "print(\"Intercept:\", intercept)\n"
   ]
  },
  {
   "cell_type": "markdown",
   "id": "67e4ca8e",
   "metadata": {},
   "source": [
    "<h2>15. Scenario: A study is conducted to compare the preferences of two groups of participants. The preferences are measured on a Likert scale from 1 to 5. The data collected is as follows:\n",
    "    \n",
    "    Group A: [4, 3, 5, 2, 4]\n",
    "    \n",
    "    Group B: [3, 2, 4, 3, 3]\n",
    "    \n",
    "    Perform a Mann-Whitney U test to determine if there is a significant difference in the median preferences between the two groups.\n",
    "</h2>"
   ]
  },
  {
   "cell_type": "code",
   "execution_count": 48,
   "id": "48ea335e",
   "metadata": {},
   "outputs": [
    {
     "name": "stdout",
     "output_type": "stream",
     "text": [
      "Mann-Whitney U statistic: 17.0\n",
      "p-value: 0.380836480306712\n"
     ]
    }
   ],
   "source": [
    "import scipy.stats as stats\n",
    "\n",
    "group_a_preferences = [4, 3, 5, 2, 4]\n",
    "group_b_preferences = [3, 2, 4, 3, 3]\n",
    "\n",
    "# Perform Mann-Whitney U test\n",
    "u_statistic, p_value = stats.mannwhitneyu(group_a_preferences, group_b_preferences)\n",
    "\n",
    "# Output the U statistic and p-value\n",
    "print(\"Mann-Whitney U statistic:\", u_statistic)\n",
    "print(\"p-value:\", p_value)\n"
   ]
  },
  {
   "cell_type": "markdown",
   "id": "67fe0761",
   "metadata": {},
   "source": [
    "<h2>\n",
    "\n",
    "16. Scenario: A company wants to analyze the distribution of customer ages. The data collected is as follows:\n",
    "\n",
    "        [25, 30, 35, 40, 45, 50, 55, 60, 65, 70]\n",
    "    Calculate the interquartile range (IQR) of the ages.\n",
    "</h2>"
   ]
  },
  {
   "cell_type": "code",
   "execution_count": 51,
   "id": "74172231",
   "metadata": {},
   "outputs": [
    {
     "name": "stdout",
     "output_type": "stream",
     "text": [
      "Interquartile Range (IQR) of the ages: 22.5\n"
     ]
    }
   ],
   "source": [
    "import numpy as np\n",
    "\n",
    "ages = [25, 30, 35, 40, 45, 50, 55, 60, 65, 70]\n",
    "\n",
    "# Calculate the first quartile (Q1)\n",
    "q1 = np.percentile(ages, 25)\n",
    "\n",
    "# Calculate the third quartile (Q3)\n",
    "q3 = np.percentile(ages, 75)\n",
    "\n",
    "# Calculate the interquartile range (IQR)\n",
    "iqr = q3 - q1\n",
    "\n",
    "# Output the IQR\n",
    "print(\"Interquartile Range (IQR) of the ages:\", iqr)\n"
   ]
  },
  {
   "cell_type": "markdown",
   "id": "fd76b5aa",
   "metadata": {},
   "source": [
    "<h2>\n",
    "\n",
    "17. Scenario: A study is conducted to compare the performance of three different machine learning algorithms. The accuracy scores for each algorithm are as follows:\n",
    "\n",
    "    Algorithm A: [0.85, 0.80, 0.82, 0.87, 0.83]\n",
    "    \n",
    "    Algorithm B: [0.78, 0.82, 0.84, 0.80, 0.79]\n",
    "    \n",
    "    Algorithm C: [0.90, 0.88, 0.89, 0.86, 0.87]\n",
    "    \n",
    "    Perform a Kruskal-Wallis test to determine if there is a significant difference in the median accuracy scores between the algorithms.\n",
    "</h2>"
   ]
  },
  {
   "cell_type": "code",
   "execution_count": 52,
   "id": "5d02a71d",
   "metadata": {},
   "outputs": [
    {
     "name": "stdout",
     "output_type": "stream",
     "text": [
      "Kruskal-Wallis H statistic: 9.696947935368053\n",
      "p-value: 0.007840333026249539\n"
     ]
    }
   ],
   "source": [
    "import scipy.stats as stats\n",
    "\n",
    "algorithm_a_scores = [0.85, 0.80, 0.82, 0.87, 0.83]\n",
    "algorithm_b_scores = [0.78, 0.82, 0.84, 0.80, 0.79]\n",
    "algorithm_c_scores = [0.90, 0.88, 0.89, 0.86, 0.87]\n",
    "\n",
    "# Perform Kruskal-Wallis test\n",
    "h_statistic, p_value = stats.kruskal(algorithm_a_scores, algorithm_b_scores, algorithm_c_scores)\n",
    "\n",
    "# Output the H statistic and p-value\n",
    "print(\"Kruskal-Wallis H statistic:\", h_statistic)\n",
    "print(\"p-value:\", p_value)\n"
   ]
  },
  {
   "cell_type": "markdown",
   "id": "d100667b",
   "metadata": {},
   "source": [
    "<h2>\n",
    "18. Scenario: A company wants to analyze the effect of price on sales. The data collected is as follows:\n",
    "\n",
    "    Price (in dollars): [10, 15, 12, 8, 14]\n",
    "    \n",
    "    Sales: [100, 80, 90, 110, 95]\n",
    "    \n",
    "Perform a simple linear regression to predict sales based on price.\n",
    "</h2>"
   ]
  },
  {
   "cell_type": "code",
   "execution_count": 62,
   "id": "866cc0e1",
   "metadata": {},
   "outputs": [
    {
     "data": {
      "text/html": [
       "<style>#sk-container-id-2 {color: black;background-color: white;}#sk-container-id-2 pre{padding: 0;}#sk-container-id-2 div.sk-toggleable {background-color: white;}#sk-container-id-2 label.sk-toggleable__label {cursor: pointer;display: block;width: 100%;margin-bottom: 0;padding: 0.3em;box-sizing: border-box;text-align: center;}#sk-container-id-2 label.sk-toggleable__label-arrow:before {content: \"▸\";float: left;margin-right: 0.25em;color: #696969;}#sk-container-id-2 label.sk-toggleable__label-arrow:hover:before {color: black;}#sk-container-id-2 div.sk-estimator:hover label.sk-toggleable__label-arrow:before {color: black;}#sk-container-id-2 div.sk-toggleable__content {max-height: 0;max-width: 0;overflow: hidden;text-align: left;background-color: #f0f8ff;}#sk-container-id-2 div.sk-toggleable__content pre {margin: 0.2em;color: black;border-radius: 0.25em;background-color: #f0f8ff;}#sk-container-id-2 input.sk-toggleable__control:checked~div.sk-toggleable__content {max-height: 200px;max-width: 100%;overflow: auto;}#sk-container-id-2 input.sk-toggleable__control:checked~label.sk-toggleable__label-arrow:before {content: \"▾\";}#sk-container-id-2 div.sk-estimator input.sk-toggleable__control:checked~label.sk-toggleable__label {background-color: #d4ebff;}#sk-container-id-2 div.sk-label input.sk-toggleable__control:checked~label.sk-toggleable__label {background-color: #d4ebff;}#sk-container-id-2 input.sk-hidden--visually {border: 0;clip: rect(1px 1px 1px 1px);clip: rect(1px, 1px, 1px, 1px);height: 1px;margin: -1px;overflow: hidden;padding: 0;position: absolute;width: 1px;}#sk-container-id-2 div.sk-estimator {font-family: monospace;background-color: #f0f8ff;border: 1px dotted black;border-radius: 0.25em;box-sizing: border-box;margin-bottom: 0.5em;}#sk-container-id-2 div.sk-estimator:hover {background-color: #d4ebff;}#sk-container-id-2 div.sk-parallel-item::after {content: \"\";width: 100%;border-bottom: 1px solid gray;flex-grow: 1;}#sk-container-id-2 div.sk-label:hover label.sk-toggleable__label {background-color: #d4ebff;}#sk-container-id-2 div.sk-serial::before {content: \"\";position: absolute;border-left: 1px solid gray;box-sizing: border-box;top: 0;bottom: 0;left: 50%;z-index: 0;}#sk-container-id-2 div.sk-serial {display: flex;flex-direction: column;align-items: center;background-color: white;padding-right: 0.2em;padding-left: 0.2em;position: relative;}#sk-container-id-2 div.sk-item {position: relative;z-index: 1;}#sk-container-id-2 div.sk-parallel {display: flex;align-items: stretch;justify-content: center;background-color: white;position: relative;}#sk-container-id-2 div.sk-item::before, #sk-container-id-2 div.sk-parallel-item::before {content: \"\";position: absolute;border-left: 1px solid gray;box-sizing: border-box;top: 0;bottom: 0;left: 50%;z-index: -1;}#sk-container-id-2 div.sk-parallel-item {display: flex;flex-direction: column;z-index: 1;position: relative;background-color: white;}#sk-container-id-2 div.sk-parallel-item:first-child::after {align-self: flex-end;width: 50%;}#sk-container-id-2 div.sk-parallel-item:last-child::after {align-self: flex-start;width: 50%;}#sk-container-id-2 div.sk-parallel-item:only-child::after {width: 0;}#sk-container-id-2 div.sk-dashed-wrapped {border: 1px dashed gray;margin: 0 0.4em 0.5em 0.4em;box-sizing: border-box;padding-bottom: 0.4em;background-color: white;}#sk-container-id-2 div.sk-label label {font-family: monospace;font-weight: bold;display: inline-block;line-height: 1.2em;}#sk-container-id-2 div.sk-label-container {text-align: center;}#sk-container-id-2 div.sk-container {/* jupyter's `normalize.less` sets `[hidden] { display: none; }` but bootstrap.min.css set `[hidden] { display: none !important; }` so we also need the `!important` here to be able to override the default hidden behavior on the sphinx rendered scikit-learn.org. See: https://github.com/scikit-learn/scikit-learn/issues/21755 */display: inline-block !important;position: relative;}#sk-container-id-2 div.sk-text-repr-fallback {display: none;}</style><div id=\"sk-container-id-2\" class=\"sk-top-container\"><div class=\"sk-text-repr-fallback\"><pre>LinearRegression()</pre><b>In a Jupyter environment, please rerun this cell to show the HTML representation or trust the notebook. <br />On GitHub, the HTML representation is unable to render, please try loading this page with nbviewer.org.</b></div><div class=\"sk-container\" hidden><div class=\"sk-item\"><div class=\"sk-estimator sk-toggleable\"><input class=\"sk-toggleable__control sk-hidden--visually\" id=\"sk-estimator-id-2\" type=\"checkbox\" checked><label for=\"sk-estimator-id-2\" class=\"sk-toggleable__label sk-toggleable__label-arrow\">LinearRegression</label><div class=\"sk-toggleable__content\"><pre>LinearRegression()</pre></div></div></div></div></div>"
      ],
      "text/plain": [
       "LinearRegression()"
      ]
     },
     "execution_count": 62,
     "metadata": {},
     "output_type": "execute_result"
    }
   ],
   "source": [
    "import numpy as np\n",
    "from sklearn.linear_model import LinearRegression\n",
    "\n",
    "price = np.array([10, 15, 12, 8, 14]).reshape(-1, 1)\n",
    "sales = np.array([100, 80, 90, 110, 95])\n",
    "\n",
    "# Create a linear regression model and fit the data\n",
    "regression_model = LinearRegression()\n",
    "regression_model.fit(price, sales)\n",
    "\n"
   ]
  },
  {
   "cell_type": "code",
   "execution_count": 63,
   "id": "9c95c622",
   "metadata": {},
   "outputs": [
    {
     "data": {
      "text/plain": [
       "101.3109756097561"
      ]
     },
     "execution_count": 63,
     "metadata": {},
     "output_type": "execute_result"
    }
   ],
   "source": [
    "regression_model.predict([[10]])[0]"
   ]
  },
  {
   "cell_type": "markdown",
   "id": "b8f05f8d",
   "metadata": {},
   "source": [
    "<h2>19. Scenario: A survey is conducted to measure the satisfaction levels of customers with a new product. The data collected is as follows:\n",
    "    [7, 8, 9, 6, 8, 7, 9, 7, 8, 7]\n",
    "    Calculate the standard error of the mean satisfaction score.\n",
    "</h2>"
   ]
  },
  {
   "cell_type": "code",
   "execution_count": 54,
   "id": "b1af584c",
   "metadata": {},
   "outputs": [
    {
     "name": "stdout",
     "output_type": "stream",
     "text": [
      "Standard Error of the Mean Satisfaction Score: 0.30550504633038933\n"
     ]
    }
   ],
   "source": [
    "import numpy as np\n",
    "\n",
    "satisfaction_scores = [7, 8, 9, 6, 8, 7, 9, 7, 8, 7]\n",
    "\n",
    "# Calculate the standard deviation\n",
    "std_deviation = np.std(satisfaction_scores, ddof=1)\n",
    "\n",
    "# Calculate the standard error\n",
    "standard_error = std_deviation / np.sqrt(len(satisfaction_scores))\n",
    "\n",
    "# Output the standard error\n",
    "print(\"Standard Error of the Mean Satisfaction Score:\", standard_error)\n"
   ]
  },
  {
   "cell_type": "markdown",
   "id": "b22a375c",
   "metadata": {},
   "source": [
    "<h2>20. Scenario: A company wants to analyze the relationship between advertising expenditure and sales. The data collected is as follows:\n",
    "    \n",
    "    Advertising Expenditure (in thousands): [10, 15, 12, 8, 14]\n",
    "    \n",
    "    Sales (in thousands): [25, 30, 28, 20, 26]\n",
    "    \n",
    "    Perform a multiple regression analysis to predict sales based on advertising expenditure.\n",
    "</h2>"
   ]
  },
  {
   "cell_type": "code",
   "execution_count": 56,
   "id": "f4727442",
   "metadata": {},
   "outputs": [
    {
     "data": {
      "text/html": [
       "<style>#sk-container-id-1 {color: black;background-color: white;}#sk-container-id-1 pre{padding: 0;}#sk-container-id-1 div.sk-toggleable {background-color: white;}#sk-container-id-1 label.sk-toggleable__label {cursor: pointer;display: block;width: 100%;margin-bottom: 0;padding: 0.3em;box-sizing: border-box;text-align: center;}#sk-container-id-1 label.sk-toggleable__label-arrow:before {content: \"▸\";float: left;margin-right: 0.25em;color: #696969;}#sk-container-id-1 label.sk-toggleable__label-arrow:hover:before {color: black;}#sk-container-id-1 div.sk-estimator:hover label.sk-toggleable__label-arrow:before {color: black;}#sk-container-id-1 div.sk-toggleable__content {max-height: 0;max-width: 0;overflow: hidden;text-align: left;background-color: #f0f8ff;}#sk-container-id-1 div.sk-toggleable__content pre {margin: 0.2em;color: black;border-radius: 0.25em;background-color: #f0f8ff;}#sk-container-id-1 input.sk-toggleable__control:checked~div.sk-toggleable__content {max-height: 200px;max-width: 100%;overflow: auto;}#sk-container-id-1 input.sk-toggleable__control:checked~label.sk-toggleable__label-arrow:before {content: \"▾\";}#sk-container-id-1 div.sk-estimator input.sk-toggleable__control:checked~label.sk-toggleable__label {background-color: #d4ebff;}#sk-container-id-1 div.sk-label input.sk-toggleable__control:checked~label.sk-toggleable__label {background-color: #d4ebff;}#sk-container-id-1 input.sk-hidden--visually {border: 0;clip: rect(1px 1px 1px 1px);clip: rect(1px, 1px, 1px, 1px);height: 1px;margin: -1px;overflow: hidden;padding: 0;position: absolute;width: 1px;}#sk-container-id-1 div.sk-estimator {font-family: monospace;background-color: #f0f8ff;border: 1px dotted black;border-radius: 0.25em;box-sizing: border-box;margin-bottom: 0.5em;}#sk-container-id-1 div.sk-estimator:hover {background-color: #d4ebff;}#sk-container-id-1 div.sk-parallel-item::after {content: \"\";width: 100%;border-bottom: 1px solid gray;flex-grow: 1;}#sk-container-id-1 div.sk-label:hover label.sk-toggleable__label {background-color: #d4ebff;}#sk-container-id-1 div.sk-serial::before {content: \"\";position: absolute;border-left: 1px solid gray;box-sizing: border-box;top: 0;bottom: 0;left: 50%;z-index: 0;}#sk-container-id-1 div.sk-serial {display: flex;flex-direction: column;align-items: center;background-color: white;padding-right: 0.2em;padding-left: 0.2em;position: relative;}#sk-container-id-1 div.sk-item {position: relative;z-index: 1;}#sk-container-id-1 div.sk-parallel {display: flex;align-items: stretch;justify-content: center;background-color: white;position: relative;}#sk-container-id-1 div.sk-item::before, #sk-container-id-1 div.sk-parallel-item::before {content: \"\";position: absolute;border-left: 1px solid gray;box-sizing: border-box;top: 0;bottom: 0;left: 50%;z-index: -1;}#sk-container-id-1 div.sk-parallel-item {display: flex;flex-direction: column;z-index: 1;position: relative;background-color: white;}#sk-container-id-1 div.sk-parallel-item:first-child::after {align-self: flex-end;width: 50%;}#sk-container-id-1 div.sk-parallel-item:last-child::after {align-self: flex-start;width: 50%;}#sk-container-id-1 div.sk-parallel-item:only-child::after {width: 0;}#sk-container-id-1 div.sk-dashed-wrapped {border: 1px dashed gray;margin: 0 0.4em 0.5em 0.4em;box-sizing: border-box;padding-bottom: 0.4em;background-color: white;}#sk-container-id-1 div.sk-label label {font-family: monospace;font-weight: bold;display: inline-block;line-height: 1.2em;}#sk-container-id-1 div.sk-label-container {text-align: center;}#sk-container-id-1 div.sk-container {/* jupyter's `normalize.less` sets `[hidden] { display: none; }` but bootstrap.min.css set `[hidden] { display: none !important; }` so we also need the `!important` here to be able to override the default hidden behavior on the sphinx rendered scikit-learn.org. See: https://github.com/scikit-learn/scikit-learn/issues/21755 */display: inline-block !important;position: relative;}#sk-container-id-1 div.sk-text-repr-fallback {display: none;}</style><div id=\"sk-container-id-1\" class=\"sk-top-container\"><div class=\"sk-text-repr-fallback\"><pre>LinearRegression()</pre><b>In a Jupyter environment, please rerun this cell to show the HTML representation or trust the notebook. <br />On GitHub, the HTML representation is unable to render, please try loading this page with nbviewer.org.</b></div><div class=\"sk-container\" hidden><div class=\"sk-item\"><div class=\"sk-estimator sk-toggleable\"><input class=\"sk-toggleable__control sk-hidden--visually\" id=\"sk-estimator-id-1\" type=\"checkbox\" checked><label for=\"sk-estimator-id-1\" class=\"sk-toggleable__label sk-toggleable__label-arrow\">LinearRegression</label><div class=\"sk-toggleable__content\"><pre>LinearRegression()</pre></div></div></div></div></div>"
      ],
      "text/plain": [
       "LinearRegression()"
      ]
     },
     "execution_count": 56,
     "metadata": {},
     "output_type": "execute_result"
    }
   ],
   "source": [
    "import numpy as np\n",
    "from sklearn.linear_model import LinearRegression\n",
    "\n",
    "advertising_expenditure = np.array([10, 15, 12, 8, 14]).reshape(-1, 1)\n",
    "sales = np.array([25, 30, 28, 20, 26])\n",
    "\n",
    "# Create a linear regression model and fit the data\n",
    "regression_model = LinearRegression()\n",
    "regression_model.fit(advertising_expenditure, sales)\n",
    "\n"
   ]
  },
  {
   "cell_type": "code",
   "execution_count": 61,
   "id": "c9c7e728",
   "metadata": {},
   "outputs": [
    {
     "data": {
      "text/plain": [
       "23.725609756097562"
      ]
     },
     "execution_count": 61,
     "metadata": {},
     "output_type": "execute_result"
    }
   ],
   "source": [
    "regression_model.predict([[10]])[0]"
   ]
  },
  {
   "cell_type": "code",
   "execution_count": null,
   "id": "42f5a2e1",
   "metadata": {},
   "outputs": [],
   "source": []
  }
 ],
 "metadata": {
  "kernelspec": {
   "display_name": "Python 3 (ipykernel)",
   "language": "python",
   "name": "python3"
  },
  "language_info": {
   "codemirror_mode": {
    "name": "ipython",
    "version": 3
   },
   "file_extension": ".py",
   "mimetype": "text/x-python",
   "name": "python",
   "nbconvert_exporter": "python",
   "pygments_lexer": "ipython3",
   "version": "3.10.11"
  }
 },
 "nbformat": 4,
 "nbformat_minor": 5
}
