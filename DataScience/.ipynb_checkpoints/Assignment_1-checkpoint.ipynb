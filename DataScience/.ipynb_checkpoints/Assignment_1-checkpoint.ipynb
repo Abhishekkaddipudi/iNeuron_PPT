{
 "cells": [
  {
   "cell_type": "markdown",
   "id": "a43e6b50",
   "metadata": {},
   "source": [
    "<h2>1. Write a Python program to reverse a string without using any built-in string reversal functions.</h2>"
   ]
  },
  {
   "cell_type": "code",
   "execution_count": 5,
   "id": "e10951c7",
   "metadata": {},
   "outputs": [
    {
     "data": {
      "text/plain": [
       "'olleH'"
      ]
     },
     "execution_count": 5,
     "metadata": {},
     "output_type": "execute_result"
    }
   ],
   "source": [
    "def reverse_string(string):\n",
    "    reversed_string = \"\"\n",
    "    for i in range(len(string)-1, -1, -1):\n",
    "        reversed_string += string[i]\n",
    "    return reversed_string\n",
    "\n",
    "reverse_string(\"Hello\")"
   ]
  },
  {
   "cell_type": "markdown",
   "id": "7928b3c6",
   "metadata": {},
   "source": [
    "<h2>2. Implement a function to check if a given string is a palindrome.</h2>"
   ]
  },
  {
   "cell_type": "code",
   "execution_count": 6,
   "id": "70b7c517",
   "metadata": {},
   "outputs": [
    {
     "data": {
      "text/plain": [
       "True"
      ]
     },
     "execution_count": 6,
     "metadata": {},
     "output_type": "execute_result"
    }
   ],
   "source": [
    "def is_palindrome(string):\n",
    "    reversed_string = string[::-1]\n",
    "    return string == reversed_string\n",
    "is_palindrome(\"naman\")"
   ]
  },
  {
   "cell_type": "markdown",
   "id": "f8dd1009",
   "metadata": {},
   "source": [
    "<h2>3. Write a program to find the largest element in a given list.</h2>"
   ]
  },
  {
   "cell_type": "code",
   "execution_count": 8,
   "id": "2a5bca2c",
   "metadata": {},
   "outputs": [
    {
     "data": {
      "text/plain": [
       "25"
      ]
     },
     "execution_count": 8,
     "metadata": {},
     "output_type": "execute_result"
    }
   ],
   "source": [
    "def find_largest_element(lst):\n",
    "    largest_element = lst[0]\n",
    "    for num in lst:\n",
    "        if num > largest_element:\n",
    "            largest_element = num\n",
    "    return largest_element\n",
    "\n",
    "\n",
    "numbers = [10, 5, 20, 15, 25]\n",
    "find_largest_element(numbers)\n"
   ]
  },
  {
   "cell_type": "markdown",
   "id": "322efc36",
   "metadata": {},
   "source": [
    "<h2>4. Implement a function to count the occurrence of each element in a list.</h2>"
   ]
  },
  {
   "cell_type": "code",
   "execution_count": 12,
   "id": "9e84838e",
   "metadata": {},
   "outputs": [
    {
     "name": "stdout",
     "output_type": "stream",
     "text": [
      "Occurrences: {1: 2, 2: 2, 3: 2, 4: 3, 5: 1}\n"
     ]
    }
   ],
   "source": [
    "def count_occurrences(lst):\n",
    "    dict1=dict()\n",
    "    for i in lst:\n",
    "        if i in dict1:\n",
    "            dict1[i]+=1\n",
    "        else:\n",
    "            dict1[i]=1\n",
    "    return dict1\n",
    "\n",
    "numbers = [1, 2, 3, 2, 1, 3, 4, 5, 4, 4]\n",
    "occurrences = count_occurrences(numbers)\n",
    "print(\"Occurrences:\", occurrences)\n"
   ]
  },
  {
   "cell_type": "markdown",
   "id": "a1dec6d9",
   "metadata": {},
   "source": [
    "<h2>5. Write a Python program to find the second largest number in a list.</h2>"
   ]
  },
  {
   "cell_type": "code",
   "execution_count": 13,
   "id": "db957a7d",
   "metadata": {},
   "outputs": [
    {
     "name": "stdout",
     "output_type": "stream",
     "text": [
      "Second largest number: 20\n"
     ]
    }
   ],
   "source": [
    "def find_second_largest(lst):\n",
    "    largest = float('-inf')\n",
    "    second_largest = float('-inf')\n",
    "\n",
    "    for num in lst:\n",
    "        if num > largest:\n",
    "            second_largest = largest\n",
    "            largest = num\n",
    "        elif num > second_largest and num != largest:\n",
    "            second_largest = num\n",
    "\n",
    "    return second_largest\n",
    "\n",
    "\n",
    "numbers = [10, 5, 20, 15, 25]\n",
    "second_largest = find_second_largest(numbers)\n",
    "print(\"Second largest number:\", second_largest)\n"
   ]
  },
  {
   "cell_type": "markdown",
   "id": "9684b0cd",
   "metadata": {},
   "source": [
    "<h2>6. Implement a function to remove duplicate elements from a list.</h2>"
   ]
  },
  {
   "cell_type": "code",
   "execution_count": 14,
   "id": "3cf3ecb6",
   "metadata": {},
   "outputs": [
    {
     "name": "stdout",
     "output_type": "stream",
     "text": [
      "List with duplicates removed: [1, 2, 3, 4, 5]\n"
     ]
    }
   ],
   "source": [
    "def remove_duplicates(lst):\n",
    "    return list(set(lst))\n",
    "\n",
    "numbers = [1, 2, 3, 2, 1, 3, 4, 5, 4, 4]\n",
    "unique_numbers = remove_duplicates(numbers)\n",
    "print(\"List with duplicates removed:\", unique_numbers)\n"
   ]
  },
  {
   "cell_type": "markdown",
   "id": "75afe923",
   "metadata": {},
   "source": [
    "<h2>7. Write a program to calculate the factorial of a given number.</h2>"
   ]
  },
  {
   "cell_type": "code",
   "execution_count": 15,
   "id": "08c24566",
   "metadata": {},
   "outputs": [
    {
     "name": "stdout",
     "output_type": "stream",
     "text": [
      "Factorial of 5 is 120\n"
     ]
    }
   ],
   "source": [
    "def factorial(n):\n",
    "    if n == 0:\n",
    "        return 1\n",
    "    result = 1\n",
    "    for i in range(1, n + 1):\n",
    "        result *= i\n",
    "    return result\n",
    "\n",
    "num = 5\n",
    "fact = factorial(num)\n",
    "print(\"Factorial of\", num, \"is\", fact)\n"
   ]
  },
  {
   "cell_type": "markdown",
   "id": "845cfa95",
   "metadata": {},
   "source": [
    "<h2>8. Implement a function to check if a given number is prime.</h2>"
   ]
  },
  {
   "cell_type": "code",
   "execution_count": 16,
   "id": "a33b4b34",
   "metadata": {},
   "outputs": [
    {
     "name": "stdout",
     "output_type": "stream",
     "text": [
      "17 is prime\n"
     ]
    }
   ],
   "source": [
    "def is_prime(n):\n",
    "    if n <= 1:\n",
    "        return False\n",
    "    for i in range(2, int(n**0.5) + 1):\n",
    "        if n % i == 0:\n",
    "            return False\n",
    "    return True\n",
    "\n",
    "\n",
    "num = 17\n",
    "if is_prime(num):\n",
    "    print(num, \"is prime\")\n",
    "else:\n",
    "    print(num, \"is not prime\")\n"
   ]
  },
  {
   "cell_type": "markdown",
   "id": "046fd4ce",
   "metadata": {},
   "source": [
    "<h2>9. Write a Python program to sort a list of integers in ascending order.</h2>"
   ]
  },
  {
   "cell_type": "code",
   "execution_count": 17,
   "id": "2f6b7319",
   "metadata": {},
   "outputs": [
    {
     "name": "stdout",
     "output_type": "stream",
     "text": [
      "Sorted list: [1, 2, 5, 8, 9]\n"
     ]
    }
   ],
   "source": [
    "def sort_list(lst):\n",
    "    return sorted(lst)\n",
    "\n",
    "numbers = [5, 2, 8, 1, 9]\n",
    "sorted_numbers = sort_list(numbers)\n",
    "print(\"Sorted list:\", sorted_numbers)\n"
   ]
  },
  {
   "cell_type": "markdown",
   "id": "bc6480e3",
   "metadata": {},
   "source": [
    "<h2>10. Implement a function to find the sum of all numbers in a list.</h2>"
   ]
  },
  {
   "cell_type": "code",
   "execution_count": 19,
   "id": "55207838",
   "metadata": {},
   "outputs": [
    {
     "name": "stdout",
     "output_type": "stream",
     "text": [
      "Sum of numbers: 15\n"
     ]
    }
   ],
   "source": [
    "def sum_of_numbers(lst):\n",
    "    return sum(lst)\n",
    "\n",
    "numbers = [1, 2, 3, 4, 5]\n",
    "sum_of_all = sum_of_numbers(numbers)\n",
    "print(\"Sum of numbers:\", sum_of_all)\n"
   ]
  },
  {
   "cell_type": "markdown",
   "id": "2c0e175a",
   "metadata": {},
   "source": [
    "<h2>11. Write a program to find the common elements between two lists.</h2>"
   ]
  },
  {
   "cell_type": "code",
   "execution_count": 21,
   "id": "5c2e1082",
   "metadata": {},
   "outputs": [
    {
     "name": "stdout",
     "output_type": "stream",
     "text": [
      "Common elements: [4, 5]\n"
     ]
    }
   ],
   "source": [
    "def find_common_elements(list1, list2):\n",
    "    return list(set(list1) & set(list2))\n",
    "\n",
    "\n",
    "list1 = [1, 2, 3, 4, 5]\n",
    "list2 = [4, 5, 6, 7, 8]\n",
    "common_elements = find_common_elements(list1, list2)\n",
    "print(\"Common elements:\", common_elements)\n"
   ]
  },
  {
   "cell_type": "markdown",
   "id": "87220e2b",
   "metadata": {},
   "source": [
    "<h2>12. Implement a function to check if a given string is an anagram of another string.</h2>"
   ]
  },
  {
   "cell_type": "code",
   "execution_count": 24,
   "id": "c551ceca",
   "metadata": {},
   "outputs": [
    {
     "name": "stdout",
     "output_type": "stream",
     "text": [
      "Anagram\n"
     ]
    }
   ],
   "source": [
    "def is_anagram(str1, str2):\n",
    "    return sorted(str1) == sorted(str2)\n",
    "\n",
    "string1 = \"listen\"\n",
    "string2 = \"silent\"\n",
    "if is_anagram(string1, string2):\n",
    "    print(\"Anagram\")\n",
    "else:\n",
    "    print(\"Not an anagram\")\n"
   ]
  },
  {
   "cell_type": "markdown",
   "id": "5cd4ff13",
   "metadata": {},
   "source": [
    "<h2>13. Write a Python program to generate all permutations of a given string.</h2>"
   ]
  },
  {
   "cell_type": "code",
   "execution_count": 26,
   "id": "9d2f57b5",
   "metadata": {},
   "outputs": [
    {
     "name": "stdout",
     "output_type": "stream",
     "text": [
      "Permutations: ['abc', 'acb', 'bac', 'bca', 'cab', 'cba']\n"
     ]
    }
   ],
   "source": [
    "from itertools import permutations\n",
    "\n",
    "def generate_permutations(string):\n",
    "    perms = [''.join(p) for p in permutations(string)]\n",
    "    return perms\n",
    "\n",
    "input_string = \"abc\"\n",
    "permutations = generate_permutations(input_string)\n",
    "print(\"Permutations:\", permutations)\n"
   ]
  },
  {
   "cell_type": "markdown",
   "id": "1c42c516",
   "metadata": {},
   "source": [
    "<h2>14. Implement a function to calculate the Fibonacci sequence up to a given number of terms.</h2>"
   ]
  },
  {
   "cell_type": "code",
   "execution_count": 27,
   "id": "0e3a1a4a",
   "metadata": {},
   "outputs": [
    {
     "name": "stdout",
     "output_type": "stream",
     "text": [
      "Fibonacci sequence: [0, 1, 1, 2, 3, 5, 8, 13, 21, 34]\n"
     ]
    }
   ],
   "source": [
    "def fibonacci_sequence(n):\n",
    "    sequence = [0, 1]\n",
    "    while len(sequence) < n:\n",
    "        next_num = sequence[-1] + sequence[-2]\n",
    "        sequence.append(next_num)\n",
    "    return sequence\n",
    "\n",
    "# Example usage:\n",
    "terms = 10\n",
    "fib_sequence = fibonacci_sequence(terms)\n",
    "print(\"Fibonacci sequence:\", fib_sequence)\n"
   ]
  },
  {
   "cell_type": "markdown",
   "id": "c67b7863",
   "metadata": {},
   "source": [
    "<h2>15. Write a program to find the median of a list of numbers.</h2>"
   ]
  },
  {
   "cell_type": "code",
   "execution_count": 28,
   "id": "870aa829",
   "metadata": {},
   "outputs": [
    {
     "name": "stdout",
     "output_type": "stream",
     "text": [
      "Median: 3\n"
     ]
    }
   ],
   "source": [
    "def find_median(lst):\n",
    "    sorted_lst = sorted(lst)\n",
    "    n = len(sorted_lst)\n",
    "    if n % 2 == 0:\n",
    "        mid = n // 2\n",
    "        median = (sorted_lst[mid-1] + sorted_lst[mid]) / 2\n",
    "    else:\n",
    "        mid = n // 2\n",
    "        median = sorted_lst[mid]\n",
    "    return median\n",
    "\n",
    "\n",
    "numbers = [3, 1, 4, 2, 5]\n",
    "median = find_median(numbers)\n",
    "print(\"Median:\", median)\n"
   ]
  },
  {
   "cell_type": "markdown",
   "id": "de97bd42",
   "metadata": {},
   "source": [
    "<h2>16. Implement a function to check if a given list is sorted in non-decreasing order.</h2>"
   ]
  },
  {
   "cell_type": "code",
   "execution_count": 29,
   "id": "bad64df7",
   "metadata": {},
   "outputs": [
    {
     "name": "stdout",
     "output_type": "stream",
     "text": [
      "List 1 is sorted\n",
      "List 2 is not sorted\n"
     ]
    }
   ],
   "source": [
    "def is_sorted(lst):\n",
    "    return all(lst[i] <= lst[i+1] for i in range(len(lst)-1))\n",
    "\n",
    "# Example usage:\n",
    "numbers1 = [1, 2, 3, 4, 5]\n",
    "numbers2 = [5, 4, 3, 2, 1]\n",
    "if is_sorted(numbers1):\n",
    "    print(\"List 1 is sorted\")\n",
    "else:\n",
    "    print(\"List 1 is not sorted\")\n",
    "if is_sorted(numbers2):\n",
    "    print(\"List 2 is sorted\")\n",
    "else:\n",
    "    print(\"List 2 is not sorted\")\n"
   ]
  },
  {
   "cell_type": "markdown",
   "id": "cd8467d9",
   "metadata": {},
   "source": [
    "<h2>17. Write a Python program to find the intersection of two lists.</h2>"
   ]
  },
  {
   "cell_type": "code",
   "execution_count": 30,
   "id": "915404f2",
   "metadata": {},
   "outputs": [
    {
     "name": "stdout",
     "output_type": "stream",
     "text": [
      "Intersection: [4, 5]\n"
     ]
    }
   ],
   "source": [
    "def find_intersection(list1, list2):\n",
    "    return list(set(list1) & set(list2))\n",
    "\n",
    "# Example usage:\n",
    "list1 = [1, 2, 3, 4, 5]\n",
    "list2 = [4, 5, 6, 7, 8]\n",
    "intersection = find_intersection(list1, list2)\n",
    "print(\"Intersection:\", intersection)\n"
   ]
  },
  {
   "cell_type": "markdown",
   "id": "604d3d2a",
   "metadata": {},
   "source": [
    "<h2>18. Implement a function to find the maximum subarray sum in a given list.</h2>"
   ]
  },
  {
   "cell_type": "code",
   "execution_count": 31,
   "id": "1c836e9f",
   "metadata": {},
   "outputs": [
    {
     "name": "stdout",
     "output_type": "stream",
     "text": [
      "Maximum subarray sum: 7\n"
     ]
    }
   ],
   "source": [
    "def max_subarray_sum(lst):\n",
    "    max_sum = float('-inf')\n",
    "    curr_sum = 0\n",
    "    for num in lst:\n",
    "        curr_sum = max(num, curr_sum + num)\n",
    "        max_sum = max(max_sum, curr_sum)\n",
    "    return max_sum\n",
    "\n",
    "# Example usage:\n",
    "numbers = [-2, -3, 4, -1, -2, 1, 5, -3]\n",
    "max_sum = max_subarray_sum(numbers)\n",
    "print(\"Maximum subarray sum:\", max_sum)\n"
   ]
  },
  {
   "cell_type": "markdown",
   "id": "cd78b115",
   "metadata": {},
   "source": [
    "<h2>19. Write a program to remove all vowels from a given string.</h2>"
   ]
  },
  {
   "cell_type": "code",
   "execution_count": 32,
   "id": "97bec469",
   "metadata": {},
   "outputs": [
    {
     "name": "stdout",
     "output_type": "stream",
     "text": [
      "String without vowels: Hll, Wrld!\n"
     ]
    }
   ],
   "source": [
    "def remove_vowels(string):\n",
    "    vowels = \"aeiouAEIOU\"\n",
    "    return ''.join(char for char in string if char not in vowels)\n",
    "\n",
    "# Example usage:\n",
    "input_string = \"Hello, World!\"\n",
    "without_vowels = remove_vowels(input_string)\n",
    "print(\"String without vowels:\", without_vowels)\n"
   ]
  },
  {
   "cell_type": "markdown",
   "id": "ce092800",
   "metadata": {},
   "source": [
    "<h2>20. Implement a function to reverse the order of words in a given sentence.</h2>"
   ]
  },
  {
   "cell_type": "code",
   "execution_count": 33,
   "id": "46a6393b",
   "metadata": {},
   "outputs": [
    {
     "name": "stdout",
     "output_type": "stream",
     "text": [
      "Reversed sentence: World! Hello,\n"
     ]
    }
   ],
   "source": [
    "def reverse_words(sentence):\n",
    "    words = sentence.split()\n",
    "    reversed_sentence = ' '.join(words[::-1])\n",
    "    return reversed_sentence\n",
    "\n",
    "# Example usage:\n",
    "input_sentence = \"Hello, World!\"\n",
    "reversed_sentence = reverse_words(input_sentence)\n",
    "print(\"Reversed sentence:\", reversed_sentence)\n"
   ]
  },
  {
   "cell_type": "markdown",
   "id": "467bf8a8",
   "metadata": {},
   "source": [
    "<h2>21. Write a Python program to check if two strings are anagrams of each other.</h2>"
   ]
  },
  {
   "cell_type": "code",
   "execution_count": 34,
   "id": "dc8e2e23",
   "metadata": {},
   "outputs": [
    {
     "name": "stdout",
     "output_type": "stream",
     "text": [
      "Anagrams\n"
     ]
    }
   ],
   "source": [
    "def is_anagram(str1, str2):\n",
    "    str1 = str1.lower().replace(\" \", \"\")\n",
    "    str2 = str2.lower().replace(\" \", \"\")\n",
    "    return sorted(str1) == sorted(str2)\n",
    "\n",
    "# Example usage:\n",
    "string1 = \"listen\"\n",
    "string2 = \"silent\"\n",
    "if is_anagram(string1, string2):\n",
    "    print(\"Anagrams\")\n",
    "else:\n",
    "    print(\"Not anagrams\")\n"
   ]
  },
  {
   "cell_type": "markdown",
   "id": "956ab16e",
   "metadata": {},
   "source": [
    "<h2>22. Implement a function to find the first non-repeating character in a string.</h2>"
   ]
  },
  {
   "cell_type": "code",
   "execution_count": 35,
   "id": "ea7ff764",
   "metadata": {},
   "outputs": [
    {
     "name": "stdout",
     "output_type": "stream",
     "text": [
      "First non-repeating character: c\n"
     ]
    }
   ],
   "source": [
    "from collections import Counter\n",
    "\n",
    "def find_first_non_repeating_char(string):\n",
    "    char_counts = Counter(string)\n",
    "    for char in string:\n",
    "        if char_counts[char] == 1:\n",
    "            return char\n",
    "    return None\n",
    "\n",
    "# Example usage:\n",
    "input_string = \"aabbcde\"\n",
    "first_non_repeating_char = find_first_non_repeating_char(input_string)\n",
    "if first_non_repeating_char:\n",
    "    print(\"First non-repeating character:\", first_non_repeating_char)\n",
    "else:\n",
    "    print(\"No non-repeating characters found\")\n"
   ]
  },
  {
   "cell_type": "markdown",
   "id": "011e2879",
   "metadata": {},
   "source": [
    "<h2>23. Write a program to find the prime factors of a given number.</h2>"
   ]
  },
  {
   "cell_type": "code",
   "execution_count": 36,
   "id": "f17ea678",
   "metadata": {},
   "outputs": [
    {
     "name": "stdout",
     "output_type": "stream",
     "text": [
      "Prime factors of 84 are: [2, 2, 3, 7]\n"
     ]
    }
   ],
   "source": [
    "def prime_factors(n):\n",
    "    factors = []\n",
    "    i = 2\n",
    "    while i * i <= n:\n",
    "        if n % i:\n",
    "            i += 1\n",
    "        else:\n",
    "            n //= i\n",
    "            factors.append(i)\n",
    "    if n > 1:\n",
    "        factors.append(n)\n",
    "    return factors\n",
    "\n",
    "# Example usage:\n",
    "number = 84\n",
    "factors = prime_factors(number)\n",
    "print(\"Prime factors of\", number, \"are:\", factors)\n"
   ]
  },
  {
   "cell_type": "markdown",
   "id": "61adc39b",
   "metadata": {},
   "source": [
    "<h2>24. Implement a function to check if a given number is a power of two.</h2>"
   ]
  },
  {
   "cell_type": "code",
   "execution_count": 37,
   "id": "4f430371",
   "metadata": {},
   "outputs": [
    {
     "name": "stdout",
     "output_type": "stream",
     "text": [
      "16 is a power of two\n"
     ]
    }
   ],
   "source": [
    "def is_power_of_two(n):\n",
    "    if n <= 0:\n",
    "        return False\n",
    "    return n & (n - 1) == 0\n",
    "\n",
    "# Example usage:\n",
    "num = 16\n",
    "if is_power_of_two(num):\n",
    "    print(num, \"is a power of two\")\n",
    "else:\n",
    "    print(num, \"is not a power of two\")\n"
   ]
  },
  {
   "cell_type": "markdown",
   "id": "d7df8c3c",
   "metadata": {},
   "source": [
    "<h2>25. Write a Python program to merge two sorted lists into a single sorted list.</h2>"
   ]
  },
  {
   "cell_type": "code",
   "execution_count": 38,
   "id": "28b49bfe",
   "metadata": {},
   "outputs": [
    {
     "name": "stdout",
     "output_type": "stream",
     "text": [
      "Merged list: [1, 2, 3, 4, 5, 6, 7, 8]\n"
     ]
    }
   ],
   "source": [
    "def merge_sorted_lists(list1, list2):\n",
    "    merged_list = sorted(list1 + list2)\n",
    "    return merged_list\n",
    "\n",
    "# Example usage:\n",
    "list1 = [1, 3, 5, 7]\n",
    "list2 = [2, 4, 6, 8]\n",
    "merged_list = merge_sorted_lists(list1, list2)\n",
    "print(\"Merged list:\", merged_list)\n"
   ]
  },
  {
   "cell_type": "markdown",
   "id": "eaee484c",
   "metadata": {},
   "source": [
    "<h2>26. Implement a function to find the mode of a list of numbers.</h2>"
   ]
  },
  {
   "cell_type": "code",
   "execution_count": 39,
   "id": "fcb56c9d",
   "metadata": {},
   "outputs": [
    {
     "name": "stdout",
     "output_type": "stream",
     "text": [
      "Mode(s): [3]\n"
     ]
    }
   ],
   "source": [
    "from collections import Counter\n",
    "\n",
    "def find_mode(lst):\n",
    "    count = Counter(lst)\n",
    "    max_count = max(count.values())\n",
    "    mode = [num for num, freq in count.items() if freq == max_count]\n",
    "    return mode\n",
    "\n",
    "# Example usage:\n",
    "numbers = [1, 2, 2, 3, 3, 3, 4, 4, 5]\n",
    "mode = find_mode(numbers)\n",
    "print(\"Mode(s):\", mode)\n"
   ]
  },
  {
   "cell_type": "markdown",
   "id": "3cd28220",
   "metadata": {},
   "source": [
    "<h2>27. Write a program to find the greatest common divisor (GCD) of two numbers.</h2>"
   ]
  },
  {
   "cell_type": "code",
   "execution_count": 40,
   "id": "d4412e88",
   "metadata": {},
   "outputs": [
    {
     "name": "stdout",
     "output_type": "stream",
     "text": [
      "Greatest common divisor: 12\n"
     ]
    }
   ],
   "source": [
    "def gcd(a, b):\n",
    "    while b != 0:\n",
    "        a, b = b, a % b\n",
    "    return a\n",
    "\n",
    "# Example usage:\n",
    "num1 = 24\n",
    "num2 = 36\n",
    "greatest_common_divisor = gcd(num1, num2)\n",
    "print(\"Greatest common divisor:\", greatest_common_divisor)\n"
   ]
  },
  {
   "cell_type": "markdown",
   "id": "e28c0365",
   "metadata": {},
   "source": [
    "<h2>28. Implement a function to calculate the square root of a given number.</h2>"
   ]
  },
  {
   "cell_type": "code",
   "execution_count": 41,
   "id": "5ba73b6c",
   "metadata": {},
   "outputs": [
    {
     "name": "stdout",
     "output_type": "stream",
     "text": [
      "Square root of 16 is 4.000000000000051\n"
     ]
    }
   ],
   "source": [
    "def square_root(n):\n",
    "    if n < 0:\n",
    "        return None\n",
    "    guess = n\n",
    "    while abs(guess * guess - n) > 1e-9:\n",
    "        guess = (guess + n / guess) / 2\n",
    "    return guess\n",
    "\n",
    "# Example usage:\n",
    "number = 16\n",
    "sqrt = square_root(number)\n",
    "if sqrt is None:\n",
    "    print(\"Invalid input\")\n",
    "else:\n",
    "    print(\"Square root of\", number, \"is\", sqrt)\n"
   ]
  },
  {
   "cell_type": "markdown",
   "id": "6ae75abe",
   "metadata": {},
   "source": [
    "<h2>29. Write a Python program to check if a given string is a valid palindrome ignoring non-alphanumeric characters.</h2>"
   ]
  },
  {
   "cell_type": "code",
   "execution_count": 42,
   "id": "02f364ab",
   "metadata": {},
   "outputs": [
    {
     "name": "stdout",
     "output_type": "stream",
     "text": [
      "Valid palindrome\n"
     ]
    }
   ],
   "source": [
    "import re\n",
    "\n",
    "def is_valid_palindrome(string):\n",
    "    string = re.sub('[^a-zA-Z0-9]', '', string)\n",
    "    string = string.lower()\n",
    "    return string == string[::-1]\n",
    "\n",
    "# Example usage:\n",
    "input_string = \"A man, a plan, a canal: Panama\"\n",
    "if is_valid_palindrome(input_string):\n",
    "    print(\"Valid palindrome\")\n",
    "else:\n",
    "    print(\"Not a valid palindrome\")\n"
   ]
  },
  {
   "cell_type": "markdown",
   "id": "5243a4c4",
   "metadata": {},
   "source": [
    "<h2>30. Implement a function to find the minimum element in a rotated sorted list.</h2>"
   ]
  },
  {
   "cell_type": "code",
   "execution_count": 43,
   "id": "c318f33d",
   "metadata": {},
   "outputs": [
    {
     "name": "stdout",
     "output_type": "stream",
     "text": [
      "Minimum element: 0\n"
     ]
    }
   ],
   "source": [
    "def find_min_rotated(lst):\n",
    "    left, right = 0, len(lst) - 1\n",
    "    while left < right:\n",
    "        mid = (left + right) // 2\n",
    "        if lst[mid] > lst[right]:\n",
    "            left = mid + 1\n",
    "        else:\n",
    "            right = mid\n",
    "    return lst[left]\n",
    "\n",
    "# Example usage:\n",
    "numbers = [4, 5, 6, 7, 0, 1, 2]\n",
    "min_element = find_min_rotated(numbers)\n",
    "print(\"Minimum element:\", min_element)\n"
   ]
  },
  {
   "cell_type": "markdown",
   "id": "9d4d2e5b",
   "metadata": {},
   "source": [
    "<h2>31. Write a program to find the sum of all even numbers in a list.</h2>"
   ]
  },
  {
   "cell_type": "code",
   "execution_count": 44,
   "id": "087b801b",
   "metadata": {},
   "outputs": [
    {
     "name": "stdout",
     "output_type": "stream",
     "text": [
      "Sum of even numbers: 12\n"
     ]
    }
   ],
   "source": [
    "def sum_of_even_numbers(lst):\n",
    "    return sum(num for num in lst if num % 2 == 0)\n",
    "\n",
    "# Example usage:\n",
    "numbers = [1, 2, 3, 4, 5, 6]\n",
    "sum_even = sum_of_even_numbers(numbers)\n",
    "print(\"Sum of even numbers:\", sum_even)\n"
   ]
  },
  {
   "cell_type": "markdown",
   "id": "8f097d5b",
   "metadata": {},
   "source": [
    "<h2>32. Implement a function to calculate the power of a number using recursion.</h2>"
   ]
  },
  {
   "cell_type": "code",
   "execution_count": 45,
   "id": "3ad538b3",
   "metadata": {},
   "outputs": [
    {
     "name": "stdout",
     "output_type": "stream",
     "text": [
      "2 raised to the power of 3 is 8\n"
     ]
    }
   ],
   "source": [
    "def power(base, exponent):\n",
    "    if exponent == 0:\n",
    "        return 1\n",
    "    if exponent < 0:\n",
    "        return 1 / power(base, -exponent)\n",
    "    return base * power(base, exponent - 1)\n",
    "\n",
    "# Example usage:\n",
    "base = 2\n",
    "exponent = 3\n",
    "result = power(base, exponent)\n",
    "print(base, \"raised to the power of\", exponent, \"is\", result)\n"
   ]
  },
  {
   "cell_type": "markdown",
   "id": "9df7a01e",
   "metadata": {},
   "source": [
    "<h2>33. Write a Python program to remove duplicates from a list while preserving the order.</h2>"
   ]
  },
  {
   "cell_type": "code",
   "execution_count": 46,
   "id": "f2a51ad9",
   "metadata": {},
   "outputs": [
    {
     "name": "stdout",
     "output_type": "stream",
     "text": [
      "List with duplicates removed: [1, 2, 3, 4, 5]\n"
     ]
    }
   ],
   "source": [
    "def remove_duplicates(lst):\n",
    "    seen = set()\n",
    "    return [x for x in lst if not (x in seen or seen.add(x))]\n",
    "\n",
    "# Example usage:\n",
    "numbers = [1, 2, 3, 2, 4, 3, 5, 1]\n",
    "unique_numbers = remove_duplicates(numbers)\n",
    "print(\"List with duplicates removed:\", unique_numbers)\n"
   ]
  },
  {
   "cell_type": "markdown",
   "id": "78e10a16",
   "metadata": {},
   "source": [
    "<h2>34. Implement a function to find the longest common prefix among a list of strings.</h2>"
   ]
  },
  {
   "cell_type": "code",
   "execution_count": 47,
   "id": "ad57ce4d",
   "metadata": {},
   "outputs": [
    {
     "name": "stdout",
     "output_type": "stream",
     "text": [
      "Longest common prefix: fl\n"
     ]
    }
   ],
   "source": [
    "def longest_common_prefix(strings):\n",
    "    if not strings:\n",
    "        return \"\"\n",
    "    min_length = min(len(s) for s in strings)\n",
    "    prefix = \"\"\n",
    "    for i in range(min_length):\n",
    "        if all(s[i] == strings[0][i] for s in strings):\n",
    "            prefix += strings[0][i]\n",
    "        else:\n",
    "            break\n",
    "    return prefix\n",
    "\n",
    "# Example usage:\n",
    "words = [\"flower\", \"flow\", \"flight\"]\n",
    "common_prefix = longest_common_prefix(words)\n",
    "print(\"Longest common prefix:\", common_prefix)\n"
   ]
  },
  {
   "cell_type": "markdown",
   "id": "21618823",
   "metadata": {},
   "source": [
    "<h2>35. Write a program to check if a given number is a perfect square.</h2>"
   ]
  },
  {
   "cell_type": "code",
   "execution_count": 48,
   "id": "ce8316fe",
   "metadata": {},
   "outputs": [
    {
     "name": "stdout",
     "output_type": "stream",
     "text": [
      "25 is a perfect square\n"
     ]
    }
   ],
   "source": [
    "import math\n",
    "\n",
    "def is_perfect_square(num):\n",
    "    if num < 0:\n",
    "        return False\n",
    "    sqrt = math.isqrt(num)\n",
    "    return sqrt * sqrt == num\n",
    "\n",
    "# Example usage:\n",
    "number = 25\n",
    "if is_perfect_square(number):\n",
    "    print(number, \"is a perfect square\")\n",
    "else:\n",
    "    print(number, \"is not a perfect square\")\n"
   ]
  },
  {
   "cell_type": "markdown",
   "id": "666d5ef9",
   "metadata": {},
   "source": [
    "<h2>36. Implement a function to calculate the product of all elements in a list.</h2>"
   ]
  },
  {
   "cell_type": "code",
   "execution_count": 49,
   "id": "72ac1a12",
   "metadata": {},
   "outputs": [
    {
     "name": "stdout",
     "output_type": "stream",
     "text": [
      "Product of elements: 120\n"
     ]
    }
   ],
   "source": [
    "from functools import reduce\n",
    "import operator\n",
    "\n",
    "def product_of_elements(lst):\n",
    "    return reduce(operator.mul, lst, 1)\n",
    "\n",
    "# Example usage:\n",
    "numbers = [1, 2, 3, 4, 5]\n",
    "product = product_of_elements(numbers)\n",
    "print(\"Product of elements:\", product)\n"
   ]
  },
  {
   "cell_type": "markdown",
   "id": "ac73cf84",
   "metadata": {},
   "source": [
    "<h2>37. Write a Python program to reverse the order of words in a sentence while preserving the word order.</h2>"
   ]
  },
  {
   "cell_type": "code",
   "execution_count": 50,
   "id": "61de6ff1",
   "metadata": {},
   "outputs": [
    {
     "name": "stdout",
     "output_type": "stream",
     "text": [
      "Reversed sentence: Python. am I World! Hello\n"
     ]
    }
   ],
   "source": [
    "def reverse_words(sentence):\n",
    "    words = sentence.split()\n",
    "    reversed_sentence = \" \".join(reversed(words))\n",
    "    return reversed_sentence\n",
    "\n",
    "# Example usage:\n",
    "input_sentence = \"Hello World! I am Python.\"\n",
    "reversed_sentence = reverse_words(input_sentence)\n",
    "print(\"Reversed sentence:\", reversed_sentence)\n"
   ]
  },
  {
   "cell_type": "markdown",
   "id": "0e9d393b",
   "metadata": {},
   "source": [
    "<h2>38. Implement a function to find the missing number in a given list of consecutive numbers.</h2>"
   ]
  },
  {
   "cell_type": "code",
   "execution_count": 51,
   "id": "88c95955",
   "metadata": {},
   "outputs": [
    {
     "name": "stdout",
     "output_type": "stream",
     "text": [
      "Missing number: 4\n"
     ]
    }
   ],
   "source": [
    "def find_missing_number(lst):\n",
    "    n = len(lst) + 1\n",
    "    total_sum = (n * (n + 1)) // 2\n",
    "    actual_sum = sum(lst)\n",
    "    missing_number = total_sum - actual_sum\n",
    "    return missing_number\n",
    "\n",
    "# Example usage:\n",
    "numbers = [1, 2, 3, 5, 6]\n",
    "missing = find_missing_number(numbers)\n",
    "print(\"Missing number:\", missing)\n"
   ]
  },
  {
   "cell_type": "markdown",
   "id": "efe47907",
   "metadata": {},
   "source": [
    "<h2>39. Write a program to find the sum of digits of a given number.</h2>"
   ]
  },
  {
   "cell_type": "code",
   "execution_count": 52,
   "id": "15fd0ab5",
   "metadata": {},
   "outputs": [
    {
     "name": "stdout",
     "output_type": "stream",
     "text": [
      "Sum of digits: 15\n"
     ]
    }
   ],
   "source": [
    "def sum_of_digits(num):\n",
    "    return sum(int(digit) for digit in str(num))\n",
    "\n",
    "# Example usage:\n",
    "number = 12345\n",
    "digit_sum = sum_of_digits(number)\n",
    "print(\"Sum of digits:\", digit_sum)\n"
   ]
  },
  {
   "cell_type": "markdown",
   "id": "db56a9b7",
   "metadata": {},
   "source": [
    "<h2>40. Implement a function to check if a given string is a valid palindrome considering case sensitivity.</h2>"
   ]
  },
  {
   "cell_type": "code",
   "execution_count": 53,
   "id": "fd1025be",
   "metadata": {},
   "outputs": [
    {
     "name": "stdout",
     "output_type": "stream",
     "text": [
      "Not a valid palindrome\n"
     ]
    }
   ],
   "source": [
    "def is_valid_palindrome(string):\n",
    "    return string == string[::-1]\n",
    "\n",
    "# Example usage:\n",
    "input_string = \"Racecar\"\n",
    "if is_valid_palindrome(input_string):\n",
    "    print(\"Valid palindrome\")\n",
    "else:\n",
    "    print(\"Not a valid palindrome\")\n"
   ]
  },
  {
   "cell_type": "markdown",
   "id": "48d4e6dd",
   "metadata": {},
   "source": [
    "<h2>41. Write a Python program to find the smallest missing positive integer in a list.</h2>"
   ]
  },
  {
   "cell_type": "code",
   "execution_count": 55,
   "id": "4e953897",
   "metadata": {},
   "outputs": [
    {
     "name": "stdout",
     "output_type": "stream",
     "text": [
      "Smallest missing positive integer: 3\n"
     ]
    }
   ],
   "source": [
    "def find_smallest_missing_positive(lst):\n",
    "    smallest = 1\n",
    "    for num in lst:\n",
    "        if num == smallest:\n",
    "            smallest += 1\n",
    "    return smallest\n",
    "\n",
    "# Example usage:\n",
    "numbers = [1, 2, 4, 5]\n",
    "smallest_missing = find_smallest_missing_positive(numbers)\n",
    "print(\"Smallest missing positive integer:\", smallest_missing)\n"
   ]
  },
  {
   "cell_type": "markdown",
   "id": "7cf069a8",
   "metadata": {},
   "source": [
    "<h2>42. Implement a function to find the longest palindrome substring in a given string.</h2>"
   ]
  },
  {
   "cell_type": "code",
   "execution_count": 56,
   "id": "9b15a42d",
   "metadata": {},
   "outputs": [
    {
     "name": "stdout",
     "output_type": "stream",
     "text": [
      "Longest palindrome substring: bab\n"
     ]
    }
   ],
   "source": [
    "def longest_palindrome_substring(string):\n",
    "    max_length = 0\n",
    "    start_index = 0\n",
    "    for i in range(len(string)):\n",
    "        if i - max_length >= 1 and string[i - max_length - 1:i + 1] == string[i - max_length - 1:i + 1][::-1]:\n",
    "            start_index = i - max_length - 1\n",
    "            max_length += 2\n",
    "            continue\n",
    "        if string[i - max_length:i + 1] == string[i - max_length:i + 1][::-1]:\n",
    "            start_index = i - max_length\n",
    "            max_length += 1\n",
    "    return string[start_index:start_index + max_length]\n",
    "\n",
    "# Example usage:\n",
    "input_string = \"babad\"\n",
    "longest_palindrome = longest_palindrome_substring(input_string)\n",
    "print(\"Longest palindrome substring:\", longest_palindrome)\n"
   ]
  },
  {
   "cell_type": "markdown",
   "id": "af0eaf21",
   "metadata": {},
   "source": [
    "<h2>43. Write a program to find the number of occurrences of a given element in a list.</h2>"
   ]
  },
  {
   "cell_type": "code",
   "execution_count": 57,
   "id": "9aaaf0ff",
   "metadata": {},
   "outputs": [
    {
     "name": "stdout",
     "output_type": "stream",
     "text": [
      "Number of occurrences: 3\n"
     ]
    }
   ],
   "source": [
    "def count_occurrences(lst, element):\n",
    "    return lst.count(element)\n",
    "\n",
    "# Example usage:\n",
    "numbers = [1, 2, 3, 2, 4, 2, 5]\n",
    "count = count_occurrences(numbers, 2)\n",
    "print(\"Number of occurrences:\", count)\n"
   ]
  },
  {
   "cell_type": "markdown",
   "id": "083e9255",
   "metadata": {},
   "source": [
    "<h2>44. Implement a function to check if a given number is a perfect number.</h2>"
   ]
  },
  {
   "cell_type": "code",
   "execution_count": 58,
   "id": "04d27985",
   "metadata": {},
   "outputs": [
    {
     "name": "stdout",
     "output_type": "stream",
     "text": [
      "28 is a perfect number\n"
     ]
    }
   ],
   "source": [
    "def is_perfect_number(num):\n",
    "    if num <= 0:\n",
    "        return False\n",
    "    factors = [1]\n",
    "    for i in range(2, int(num ** 0.5) + 1):\n",
    "        if num % i == 0:\n",
    "            factors.extend([i, num // i])\n",
    "    return sum(factors) == num\n",
    "\n",
    "# Example usage:\n",
    "number = 28\n",
    "if is_perfect_number(number):\n",
    "    print(number, \"is a perfect number\")\n",
    "else:\n",
    "    print(number, \"is not a perfect number\")\n"
   ]
  },
  {
   "cell_type": "markdown",
   "id": "15398e6f",
   "metadata": {},
   "source": [
    "<h2>45. Write a Python program to remove all duplicates from a string.</h2>"
   ]
  },
  {
   "cell_type": "code",
   "execution_count": 59,
   "id": "ecdf87c2",
   "metadata": {},
   "outputs": [
    {
     "name": "stdout",
     "output_type": "stream",
     "text": [
      "String with duplicates removed: Helo Wrd\n"
     ]
    }
   ],
   "source": [
    "def remove_duplicates(string):\n",
    "    unique_chars = []\n",
    "    for char in string:\n",
    "        if char not in unique_chars:\n",
    "            unique_chars.append(char)\n",
    "    return \"\".join(unique_chars)\n",
    "\n",
    "# Example usage:\n",
    "input_string = \"Hello World\"\n",
    "result = remove_duplicates(input_string)\n",
    "print(\"String with duplicates removed:\", result)\n"
   ]
  },
  {
   "cell_type": "markdown",
   "id": "681dfdd3",
   "metadata": {},
   "source": [
    "<h2>46. Implement a function to find the first missing positive</h2>"
   ]
  },
  {
   "cell_type": "code",
   "execution_count": 60,
   "id": "d6ff4eec",
   "metadata": {},
   "outputs": [
    {
     "name": "stdout",
     "output_type": "stream",
     "text": [
      "First missing positive: 2\n"
     ]
    }
   ],
   "source": [
    "def find_first_missing_positive(nums):\n",
    "    n = len(nums)\n",
    "    for i in range(n):\n",
    "        while 0 < nums[i] <= n and nums[i] != nums[nums[i] - 1]:\n",
    "            nums[nums[i] - 1], nums[i] = nums[i], nums[nums[i] - 1]\n",
    "    for i in range(n):\n",
    "        if nums[i] != i + 1:\n",
    "            return i + 1\n",
    "    return n + 1\n",
    "\n",
    "# Example usage:\n",
    "numbers = [3, 4, -1, 1]\n",
    "first_missing_positive = find_first_missing_positive(numbers)\n",
    "print(\"First missing positive:\", first_missing_positive)\n"
   ]
  }
 ],
 "metadata": {
  "kernelspec": {
   "display_name": "Python 3 (ipykernel)",
   "language": "python",
   "name": "python3"
  },
  "language_info": {
   "codemirror_mode": {
    "name": "ipython",
    "version": 3
   },
   "file_extension": ".py",
   "mimetype": "text/x-python",
   "name": "python",
   "nbconvert_exporter": "python",
   "pygments_lexer": "ipython3",
   "version": "3.10.11"
  }
 },
 "nbformat": 4,
 "nbformat_minor": 5
}
