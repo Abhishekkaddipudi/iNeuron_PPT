{
 "cells": [
  {
   "cell_type": "code",
   "execution_count": 2,
   "id": "57e6b0d9",
   "metadata": {},
   "outputs": [
    {
     "name": "stdout",
     "output_type": "stream",
     "text": [
      "<h2></h2>\n",
      "<h2></h2>\n",
      "<h2>1. Write a Python program to reverse a string without using any built-in string reversal functions.</h2>\n",
      "<h2>2. Implement a function to check if a given string is a palindrome.</h2>\n",
      "<h2>3. Write a program to find the largest element in a given list.</h2>\n",
      "<h2>4. Implement a function to count the occurrence of each element in a list.</h2>\n",
      "<h2>5. Write a Python program to find the second largest number in a list.</h2>\n",
      "<h2>6. Implement a function to remove duplicate elements from a list.</h2>\n",
      "<h2>7. Write a program to calculate the factorial of a given number.</h2>\n",
      "<h2>8. Implement a function to check if a given number is prime.</h2>\n",
      "<h2>9. Write a Python program to sort a list of integers in ascending order.</h2>\n",
      "<h2>10. Implement a function to find the sum of all numbers in a list.</h2>\n",
      "<h2>11. Write a program to find the common elements between two lists.</h2>\n",
      "<h2>12. Implement a function to check if a given string is an anagram of another string.</h2>\n",
      "<h2>13. Write a Python program to generate all permutations of a given string.</h2>\n",
      "<h2>14. Implement a function to calculate the Fibonacci sequence up to a given number of terms.</h2>\n",
      "<h2>15. Write a program to find the median of a list of numbers.</h2>\n",
      "<h2>16. Implement a function to check if a given list is sorted in non-decreasing order.</h2>\n",
      "<h2>17. Write a Python program to find the intersection of two lists.</h2>\n",
      "<h2>18. Implement a function to find the maximum subarray sum in a given list.</h2>\n",
      "<h2>19. Write a program to remove all vowels from a given string.</h2>\n",
      "<h2>20. Implement a function to reverse the order of words in a given sentence.</h2>\n",
      "<h2>21. Write a Python program to check if two strings are anagrams of each other.</h2>\n",
      "<h2>22. Implement a function to find the first non-repeating character in a string.</h2>\n",
      "<h2>23. Write a program to find the prime factors of a given number.</h2>\n",
      "<h2>24. Implement a function to check if a given number is a power of two.</h2>\n",
      "<h2>25. Write a Python program to merge two sorted lists into a single sorted list.</h2>\n",
      "<h2>26. Implement a function to find the mode of a list of numbers.</h2>\n",
      "<h2>27. Write a program to find the greatest common divisor (GCD) of two numbers.</h2>\n",
      "<h2>28. Implement a function to calculate the square root of a given number.</h2>\n",
      "<h2>29. Write a Python program to check if a given string is a valid palindrome ignoring non-alphanumeric characters.</h2>\n",
      "<h2>30. Implement a function to find the minimum element in a rotated sorted list.</h2>\n",
      "<h2>31. Write a program to find the sum of all even numbers in a list.</h2>\n",
      "<h2>32. Implement a function to calculate the power of a number using recursion.</h2>\n",
      "<h2>33. Write a Python program to remove duplicates from a list while preserving the order.</h2>\n",
      "<h2>34. Implement a function to find the longest common prefix among a list of strings.</h2>\n",
      "<h2>35. Write a program to check if a given number is a perfect square.</h2>\n",
      "<h2>36. Implement a function to calculate the product of all elements in a list.</h2>\n",
      "<h2>37. Write a Python program to reverse the order of words in a sentence while preserving the word order.</h2>\n",
      "<h2>38. Implement a function to find the missing number in a given list of consecutive numbers.</h2>\n",
      "<h2>39. Write a program to find the sum of digits of a given number.</h2>\n",
      "<h2>40. Implement a function to check if a given string is a valid palindrome considering case sensitivity.</h2>\n",
      "<h2>41. Write a Python program to find the smallest missing positive integer in a list.</h2>\n",
      "<h2>42. Implement a function to find the longest palindrome substring in a given string.</h2>\n",
      "<h2>43. Write a program to find the number of occurrences of a given element in a list.</h2>\n",
      "<h2>44. Implement a function to check if a given number is a perfect number.</h2>\n",
      "<h2>45. Write a Python program to remove all duplicates from a string.</h2>\n",
      "<h2>46. Implement a function to find the first missing positive</h2>\n",
      "<h2></h2>\n"
     ]
    }
   ],
   "source": [
    "from AssignmentReader import readdoc\n",
    "readdoc(\"https://docs.google.com/document/d/1qBk5y6U7opK7gX90wel6D-qsRocu0oUR/edit\").read_with_h2()"
   ]
  },
  {
   "cell_type": "code",
   "execution_count": null,
   "id": "3da27d5e",
   "metadata": {},
   "outputs": [],
   "source": []
  }
 ],
 "metadata": {
  "kernelspec": {
   "display_name": "Python 3 (ipykernel)",
   "language": "python",
   "name": "python3"
  },
  "language_info": {
   "codemirror_mode": {
    "name": "ipython",
    "version": 3
   },
   "file_extension": ".py",
   "mimetype": "text/x-python",
   "name": "python",
   "nbconvert_exporter": "python",
   "pygments_lexer": "ipython3",
   "version": "3.10.11"
  }
 },
 "nbformat": 4,
 "nbformat_minor": 5
}
